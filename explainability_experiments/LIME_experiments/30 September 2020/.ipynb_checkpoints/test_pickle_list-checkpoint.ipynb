{
 "cells": [
  {
   "cell_type": "code",
   "execution_count": 1,
   "metadata": {},
   "outputs": [],
   "source": [
    "import pickle"
   ]
  },
  {
   "cell_type": "code",
   "execution_count": 2,
   "metadata": {},
   "outputs": [],
   "source": [
    "with open('explanation_list', 'rb') as f:\n",
    "    explanations = pickle.load(f)"
   ]
  },
  {
   "cell_type": "code",
   "execution_count": 3,
   "metadata": {},
   "outputs": [
    {
     "data": {
      "text/plain": [
       "[('cases', -0.20405363785689484),\n",
       " ('new', -0.155064717978664),\n",
       " ('deaths', -0.10207417820647408),\n",
       " ('coronavirus', -0.06698967143404387),\n",
       " ('60', 0.05479825610293619),\n",
       " ('buy', 0.037730810152627504),\n",
       " ('stocks', 0.030866492206280807),\n",
       " ('back', 0.02862044153289094),\n",
       " ('portfolio', 0.019228230730050148),\n",
       " ('virus', -0.01764508279082087),\n",
       " ('Reasons', 0.01762324495375404),\n",
       " ('markets', 0.017075460328202865),\n",
       " ('1500', 0.015832371859270025),\n",
       " ('recovered', 0.015536797813199194),\n",
       " ('2700', 0.015119529843808394),\n",
       " ('to', -0.002003116629506429),\n",
       " ('today', 0.0003091368069083442)]"
      ]
     },
     "execution_count": 3,
     "metadata": {},
     "output_type": "execute_result"
    }
   ],
   "source": [
    "explanations[0]"
   ]
  },
  {
   "cell_type": "code",
   "execution_count": null,
   "metadata": {},
   "outputs": [],
   "source": []
  }
 ],
 "metadata": {
  "kernelspec": {
   "display_name": "Python 3",
   "language": "python",
   "name": "python3"
  },
  "language_info": {
   "codemirror_mode": {
    "name": "ipython",
    "version": 3
   },
   "file_extension": ".py",
   "mimetype": "text/x-python",
   "name": "python",
   "nbconvert_exporter": "python",
   "pygments_lexer": "ipython3",
   "version": "3.7.7"
  }
 },
 "nbformat": 4,
 "nbformat_minor": 4
}
