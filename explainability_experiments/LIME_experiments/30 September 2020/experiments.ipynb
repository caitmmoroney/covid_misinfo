{
 "cells": [
  {
   "cell_type": "markdown",
   "metadata": {},
   "source": [
    "# Compare Experiments"
   ]
  },
  {
   "cell_type": "code",
   "execution_count": 1,
   "metadata": {},
   "outputs": [],
   "source": [
    "# load packages\n",
    "import pickle\n",
    "import numpy as np\n",
    "from sklearn.svm import SVC"
   ]
  },
  {
   "cell_type": "markdown",
   "metadata": {},
   "source": [
    "## Train Classifier"
   ]
  },
  {
   "cell_type": "code",
   "execution_count": 2,
   "metadata": {},
   "outputs": [],
   "source": [
    "# load ICA embeddings\n",
    "embedded_tweets = np.load('tweet_embed_250.npy')"
   ]
  },
  {
   "cell_type": "code",
   "execution_count": 3,
   "metadata": {},
   "outputs": [
    {
     "data": {
      "text/plain": [
       "SVC(C=1, probability=True)"
      ]
     },
     "execution_count": 3,
     "metadata": {},
     "output_type": "execute_result"
    }
   ],
   "source": [
    "# instantiate classification algorithm\n",
    "\n",
    "# round 1 winner\n",
    "svc = SVC(C = 1, kernel = 'rbf', probability = True)\n",
    "\n",
    "class1_train_indices = list(range(100))\n",
    "class0_train_indices = list(range(280,380))\n",
    "\n",
    "train_X = embedded_tweets[[class1_train_indices + class0_train_indices],:][0]\n",
    "\n",
    "hundred_ones = [1]*100\n",
    "hundred_zeros = [0]*100\n",
    "train_Y = hundred_ones + hundred_zeros\n",
    "\n",
    "# fit SVC model on training subset of tweet embeddings\n",
    "svc.fit(train_X, train_Y)"
   ]
  },
  {
   "cell_type": "markdown",
   "metadata": {},
   "source": [
    "## Disaggregate correct/incorrect predictions"
   ]
  },
  {
   "cell_type": "code",
   "execution_count": 4,
   "metadata": {},
   "outputs": [],
   "source": [
    "# get test set\n",
    "test_indices = list(range(100,280))\n",
    "test_X = embedded_tweets[[test_indices],:][0]\n",
    "\n",
    "# model predictions for test set\n",
    "y_hat = svc.predict(test_X)"
   ]
  },
  {
   "cell_type": "code",
   "execution_count": 5,
   "metadata": {},
   "outputs": [],
   "source": [
    "# correct or not\n",
    "y_bool = y_hat==1"
   ]
  },
  {
   "cell_type": "markdown",
   "metadata": {},
   "source": [
    "## Load list of explanations"
   ]
  },
  {
   "cell_type": "code",
   "execution_count": 6,
   "metadata": {},
   "outputs": [],
   "source": [
    "# read in explanations list\n",
    "with open('explanation_list', 'rb') as f:\n",
    "    explanations = pickle.load(f)"
   ]
  },
  {
   "cell_type": "code",
   "execution_count": 7,
   "metadata": {},
   "outputs": [
    {
     "data": {
      "text/plain": [
       "[('cases', -0.20405363785689484),\n",
       " ('new', -0.155064717978664),\n",
       " ('deaths', -0.10207417820647408),\n",
       " ('coronavirus', -0.06698967143404387),\n",
       " ('60', 0.05479825610293619),\n",
       " ('buy', 0.037730810152627504),\n",
       " ('stocks', 0.030866492206280807),\n",
       " ('back', 0.02862044153289094),\n",
       " ('portfolio', 0.019228230730050148),\n",
       " ('virus', -0.01764508279082087),\n",
       " ('Reasons', 0.01762324495375404),\n",
       " ('markets', 0.017075460328202865),\n",
       " ('1500', 0.015832371859270025),\n",
       " ('recovered', 0.015536797813199194),\n",
       " ('2700', 0.015119529843808394),\n",
       " ('to', -0.002003116629506429),\n",
       " ('today', 0.0003091368069083442)]"
      ]
     },
     "execution_count": 7,
     "metadata": {},
     "output_type": "execute_result"
    }
   ],
   "source": [
    "explanations[0]"
   ]
  },
  {
   "cell_type": "code",
   "execution_count": 8,
   "metadata": {},
   "outputs": [
    {
     "data": {
      "text/plain": [
       "array([False,  True,  True,  True,  True,  True,  True,  True,  True,\n",
       "        True,  True,  True,  True, False,  True,  True,  True,  True,\n",
       "        True,  True,  True,  True,  True,  True,  True,  True,  True,\n",
       "        True,  True,  True,  True,  True,  True,  True,  True,  True,\n",
       "       False,  True,  True,  True,  True,  True,  True,  True,  True,\n",
       "        True, False,  True,  True,  True,  True,  True,  True,  True,\n",
       "        True,  True,  True,  True,  True,  True,  True,  True,  True,\n",
       "        True,  True,  True,  True,  True,  True,  True,  True,  True,\n",
       "        True,  True,  True,  True,  True,  True,  True,  True,  True,\n",
       "        True,  True,  True,  True,  True,  True,  True,  True,  True,\n",
       "        True,  True,  True, False,  True,  True,  True,  True,  True,\n",
       "        True,  True,  True,  True,  True,  True,  True,  True,  True,\n",
       "        True,  True,  True,  True,  True, False,  True,  True,  True,\n",
       "        True,  True, False,  True,  True, False,  True,  True,  True,\n",
       "        True,  True,  True,  True,  True,  True,  True,  True,  True,\n",
       "        True,  True,  True, False,  True,  True,  True,  True,  True,\n",
       "        True,  True,  True,  True,  True,  True,  True,  True,  True,\n",
       "        True,  True,  True,  True,  True,  True,  True,  True,  True,\n",
       "        True,  True,  True,  True,  True,  True,  True,  True,  True,\n",
       "        True,  True,  True,  True,  True,  True,  True,  True,  True])"
      ]
     },
     "execution_count": 8,
     "metadata": {},
     "output_type": "execute_result"
    }
   ],
   "source": [
    "y_bool"
   ]
  },
  {
   "cell_type": "code",
   "execution_count": 9,
   "metadata": {},
   "outputs": [
    {
     "data": {
      "text/plain": [
       "array([ True, False, False, False, False, False, False, False, False,\n",
       "       False, False, False, False,  True, False, False, False, False,\n",
       "       False, False, False, False, False, False, False, False, False,\n",
       "       False, False, False, False, False, False, False, False, False,\n",
       "        True, False, False, False, False, False, False, False, False,\n",
       "       False,  True, False, False, False, False, False, False, False,\n",
       "       False, False, False, False, False, False, False, False, False,\n",
       "       False, False, False, False, False, False, False, False, False,\n",
       "       False, False, False, False, False, False, False, False, False,\n",
       "       False, False, False, False, False, False, False, False, False,\n",
       "       False, False, False,  True, False, False, False, False, False,\n",
       "       False, False, False, False, False, False, False, False, False,\n",
       "       False, False, False, False, False,  True, False, False, False,\n",
       "       False, False,  True, False, False,  True, False, False, False,\n",
       "       False, False, False, False, False, False, False, False, False,\n",
       "       False, False, False,  True, False, False, False, False, False,\n",
       "       False, False, False, False, False, False, False, False, False,\n",
       "       False, False, False, False, False, False, False, False, False,\n",
       "       False, False, False, False, False, False, False, False, False,\n",
       "       False, False, False, False, False, False, False, False, False])"
      ]
     },
     "execution_count": 9,
     "metadata": {},
     "output_type": "execute_result"
    }
   ],
   "source": [
    "y_boolF = y_bool==False\n",
    "y_boolF"
   ]
  },
  {
   "cell_type": "code",
   "execution_count": 10,
   "metadata": {},
   "outputs": [],
   "source": [
    "# separate by correctness of prediction\n",
    "from itertools import compress\n",
    "correctPred = list(compress(explanations, y_bool))\n",
    "wrongPred = list(compress(explanations, y_boolF))"
   ]
  },
  {
   "cell_type": "code",
   "execution_count": 11,
   "metadata": {},
   "outputs": [
    {
     "data": {
      "text/plain": [
       "[('cases', -0.20405363785689484),\n",
       " ('new', -0.155064717978664),\n",
       " ('deaths', -0.10207417820647408),\n",
       " ('coronavirus', -0.06698967143404387),\n",
       " ('60', 0.05479825610293619),\n",
       " ('buy', 0.037730810152627504),\n",
       " ('stocks', 0.030866492206280807),\n",
       " ('back', 0.02862044153289094),\n",
       " ('portfolio', 0.019228230730050148),\n",
       " ('virus', -0.01764508279082087),\n",
       " ('Reasons', 0.01762324495375404),\n",
       " ('markets', 0.017075460328202865),\n",
       " ('1500', 0.015832371859270025),\n",
       " ('recovered', 0.015536797813199194),\n",
       " ('2700', 0.015119529843808394),\n",
       " ('to', -0.002003116629506429),\n",
       " ('today', 0.0003091368069083442)]"
      ]
     },
     "execution_count": 11,
     "metadata": {},
     "output_type": "execute_result"
    }
   ],
   "source": [
    "wrongPred[0]"
   ]
  },
  {
   "cell_type": "code",
   "execution_count": 12,
   "metadata": {},
   "outputs": [
    {
     "data": {
      "text/plain": [
       "1659"
      ]
     },
     "execution_count": 12,
     "metadata": {},
     "output_type": "execute_result"
    }
   ],
   "source": [
    "# get unique words from all explanations\n",
    "vocab_list = []\n",
    "for subList in explanations:\n",
    "    for el in subList:\n",
    "        if el[0] not in vocab_list:\n",
    "            vocab_list.append(el[0])\n",
    "len(vocab_list)"
   ]
  },
  {
   "cell_type": "code",
   "execution_count": 13,
   "metadata": {},
   "outputs": [
    {
     "data": {
      "text/plain": [
       "1615"
      ]
     },
     "execution_count": 13,
     "metadata": {},
     "output_type": "execute_result"
    }
   ],
   "source": [
    "# unique words from explanations for correctly predicted unreliable tweets\n",
    "vocab_correct = []\n",
    "for subList in correctPred:\n",
    "    for el in subList:\n",
    "        if el[0] not in vocab_correct:\n",
    "            vocab_correct.append(el[0])\n",
    "len(vocab_correct)"
   ]
  },
  {
   "cell_type": "code",
   "execution_count": 14,
   "metadata": {},
   "outputs": [
    {
     "data": {
      "text/plain": [
       "120"
      ]
     },
     "execution_count": 14,
     "metadata": {},
     "output_type": "execute_result"
    }
   ],
   "source": [
    "# unique words from explanations for incorrectly predicted unreliable tweets\n",
    "vocab_wrong = []\n",
    "for subList in wrongPred:\n",
    "    for el in subList:\n",
    "        if el[0] not in vocab_wrong:\n",
    "            vocab_wrong.append(el[0])\n",
    "len(vocab_wrong)"
   ]
  },
  {
   "cell_type": "markdown",
   "metadata": {},
   "source": [
    "## Experiment 1: Table 1 words"
   ]
  },
  {
   "cell_type": "code",
   "execution_count": 15,
   "metadata": {},
   "outputs": [],
   "source": [
    "# define dictionary\n",
    "t1 = [\n",
    "    'blame',\n",
    "    'accuse',\n",
    "    'refuse',\n",
    "    'catastrophe',\n",
    "    'chaos',\n",
    "    'evil',\n",
    "    'fight',\n",
    "    'danger',\n",
    "    'hysteria',\n",
    "    'panic',\n",
    "    'paranoia',\n",
    "    'laugh',\n",
    "    'stupidity',\n",
    "    'hear',\n",
    "    'see',\n",
    "    'feel',\n",
    "    'suppose',\n",
    "    'perceive',\n",
    "    'look',\n",
    "    'appear',\n",
    "    'suggest',\n",
    "    'believe',\n",
    "    'pretend',\n",
    "    'martial',\n",
    "    'kill',\n",
    "    'die',\n",
    "    'weapon',\n",
    "    'weaponizing',\n",
    "    'ussr',\n",
    "    'japan',\n",
    "    'fukushima',\n",
    "    'chernobyl',\n",
    "    'wuhan',\n",
    "    'china',\n",
    "    'foreigners',\n",
    "    'cats',\n",
    "    'dogs',\n",
    "    'i',\n",
    "    'me',\n",
    "    'mine',\n",
    "    'my',\n",
    "    'you',\n",
    "    'your',\n",
    "    'we',\n",
    "    'our',\n",
    "    'propaganda',\n",
    "    'fake',\n",
    "    'conspiracy',\n",
    "    'claim',\n",
    "    'misleading',\n",
    "    'hoax',\n",
    "    'cure',\n",
    "    'breakthrough',\n",
    "    'bitch',\n",
    "    'wtf',\n",
    "    'dogbreath',\n",
    "    'zombie',\n",
    "    'junkies',\n",
    "    'hell',\n",
    "    'screwed',\n",
    "    'secular',\n",
    "    'bible',\n",
    "    'maga',\n",
    "    'magat',\n",
    "    'genetic',\n",
    "    'hillary',\n",
    "    'chinese',\n",
    "    'fundamentalist',\n",
    "    'market',\n",
    "    'communist',\n",
    "    'nazi',\n",
    "    'stock',\n",
    "    'economy',\n",
    "    'money',\n",
    "    'cost',\n",
    "    'costs',\n",
    "    'election',\n",
    "    'campaign',\n",
    "    'presidential',\n",
    "    'impeachment',\n",
    "    'rallies',\n",
    "    'base',\n",
    "    'trump',\n",
    "    'war',\n",
    "    'iran'\n",
    "]"
   ]
  },
  {
   "cell_type": "markdown",
   "metadata": {},
   "source": [
    "### Disaggregated by correctness of prediction"
   ]
  },
  {
   "cell_type": "markdown",
   "metadata": {},
   "source": [
    "#### Correctly predicted"
   ]
  },
  {
   "cell_type": "code",
   "execution_count": 16,
   "metadata": {},
   "outputs": [],
   "source": [
    "# get filtered vocab based on analysis words\n",
    "filtered_vocab = [el for el in vocab_correct if el.lower() in t1]"
   ]
  },
  {
   "cell_type": "code",
   "execution_count": 17,
   "metadata": {},
   "outputs": [],
   "source": [
    "# make dictionary from filtered vocab\n",
    "myDict = dict()\n",
    "\n",
    "for i in range(len(filtered_vocab)):\n",
    "    myDict[filtered_vocab[i]] = i"
   ]
  },
  {
   "cell_type": "code",
   "execution_count": 18,
   "metadata": {},
   "outputs": [],
   "source": [
    "# matrix of class associations of filtered vocab\n",
    "my_matrix = np.zeros((len(correctPred), len(vocab_correct)))\n",
    "\n",
    "for i in range(len(correctPred)):\n",
    "    expl = correctPred[i]\n",
    "    for j in range(len(expl)):\n",
    "        word = expl[j][0]\n",
    "        val = expl[j][1]\n",
    "        \n",
    "        if word in filtered_vocab:\n",
    "            if val > 0:\n",
    "                my_matrix[i, myDict[word]] = 1\n",
    "\n",
    "            if val < 0:\n",
    "                my_matrix[i, myDict[word]] = -1"
   ]
  },
  {
   "cell_type": "code",
   "execution_count": 19,
   "metadata": {},
   "outputs": [],
   "source": [
    "# no penalty\n",
    "tweet_scores = []\n",
    "totalNonZero = 0\n",
    "for row in my_matrix:\n",
    "    rowSum = 0\n",
    "    nonZero = 0\n",
    "    for el in row:\n",
    "        if el > 0:\n",
    "            rowSum += el\n",
    "        if el != 0:\n",
    "            nonZero += 1\n",
    "            totalNonZero += 1\n",
    "    \n",
    "    if nonZero > 0:\n",
    "        score = rowSum/nonZero\n",
    "    else:\n",
    "        score = 0\n",
    "    \n",
    "    tweet_scores.append(score)"
   ]
  },
  {
   "cell_type": "code",
   "execution_count": 20,
   "metadata": {},
   "outputs": [
    {
     "data": {
      "text/plain": [
       "228"
      ]
     },
     "execution_count": 20,
     "metadata": {},
     "output_type": "execute_result"
    }
   ],
   "source": [
    "totalNonZero"
   ]
  },
  {
   "cell_type": "code",
   "execution_count": 21,
   "metadata": {},
   "outputs": [
    {
     "data": {
      "text/plain": [
       "0.5341130604288499"
      ]
     },
     "execution_count": 21,
     "metadata": {},
     "output_type": "execute_result"
    }
   ],
   "source": [
    "np.array(tweet_scores).mean()"
   ]
  },
  {
   "cell_type": "code",
   "execution_count": 22,
   "metadata": {},
   "outputs": [],
   "source": [
    "# penalty for wrong class association of word\n",
    "tweet_scores = []\n",
    "totalNonZero = 0\n",
    "for row in my_matrix:\n",
    "    rowSum = 0\n",
    "    nonZero = 0\n",
    "    for el in row:\n",
    "        rowSum += el\n",
    "        if el != 0:\n",
    "            nonZero += 1\n",
    "            totalNonZero += 1\n",
    "    \n",
    "    if nonZero > 0:\n",
    "        score = rowSum/nonZero\n",
    "    else:\n",
    "        score = 0\n",
    "    \n",
    "    tweet_scores.append(score)"
   ]
  },
  {
   "cell_type": "code",
   "execution_count": 23,
   "metadata": {},
   "outputs": [
    {
     "data": {
      "text/plain": [
       "0.3313840155945419"
      ]
     },
     "execution_count": 23,
     "metadata": {},
     "output_type": "execute_result"
    }
   ],
   "source": [
    "np.array(tweet_scores).mean()"
   ]
  },
  {
   "cell_type": "markdown",
   "metadata": {},
   "source": [
    "#### Incorrectly predicted"
   ]
  },
  {
   "cell_type": "code",
   "execution_count": 24,
   "metadata": {},
   "outputs": [],
   "source": [
    "# get filtered vocab based on analysis words\n",
    "filtered_vocab = [el for el in vocab_wrong if el.lower() in t1]"
   ]
  },
  {
   "cell_type": "code",
   "execution_count": 25,
   "metadata": {},
   "outputs": [],
   "source": [
    "# make dictionary from filtered vocab\n",
    "myDict = dict()\n",
    "\n",
    "for i in range(len(filtered_vocab)):\n",
    "    myDict[filtered_vocab[i]] = i"
   ]
  },
  {
   "cell_type": "code",
   "execution_count": 26,
   "metadata": {},
   "outputs": [],
   "source": [
    "# matrix of class associations of filtered vocab\n",
    "my_matrix = np.zeros((len(wrongPred), len(vocab_wrong)))\n",
    "\n",
    "for i in range(len(wrongPred)):\n",
    "    expl = wrongPred[i]\n",
    "    for j in range(len(expl)):\n",
    "        word = expl[j][0]\n",
    "        val = expl[j][1]\n",
    "        \n",
    "        if word in filtered_vocab:\n",
    "            if val > 0:\n",
    "                my_matrix[i, myDict[word]] = 1\n",
    "\n",
    "            if val < 0:\n",
    "                my_matrix[i, myDict[word]] = -1"
   ]
  },
  {
   "cell_type": "code",
   "execution_count": 27,
   "metadata": {},
   "outputs": [],
   "source": [
    "# no penalty\n",
    "tweet_scores = []\n",
    "totalNonZero = 0\n",
    "for row in my_matrix:\n",
    "    rowSum = 0\n",
    "    nonZero = 0\n",
    "    for el in row:\n",
    "        if el > 0:\n",
    "            rowSum += el\n",
    "        if el != 0:\n",
    "            nonZero += 1\n",
    "            totalNonZero += 1\n",
    "    \n",
    "    if nonZero > 0:\n",
    "        score = rowSum/nonZero\n",
    "    else:\n",
    "        score = 0\n",
    "    \n",
    "    tweet_scores.append(score)"
   ]
  },
  {
   "cell_type": "code",
   "execution_count": 28,
   "metadata": {},
   "outputs": [
    {
     "data": {
      "text/plain": [
       "0.2777777777777778"
      ]
     },
     "execution_count": 28,
     "metadata": {},
     "output_type": "execute_result"
    }
   ],
   "source": [
    "np.array(tweet_scores).mean()"
   ]
  },
  {
   "cell_type": "code",
   "execution_count": 29,
   "metadata": {},
   "outputs": [],
   "source": [
    "# penalty for wrong class association of word\n",
    "tweet_scores = []\n",
    "totalNonZero = 0\n",
    "for row in my_matrix:\n",
    "    rowSum = 0\n",
    "    nonZero = 0\n",
    "    for el in row:\n",
    "        rowSum += el\n",
    "        if el != 0:\n",
    "            nonZero += 1\n",
    "            totalNonZero += 1\n",
    "    \n",
    "    if nonZero > 0:\n",
    "        score = rowSum/nonZero\n",
    "    else:\n",
    "        score = 0\n",
    "    \n",
    "    tweet_scores.append(score)"
   ]
  },
  {
   "cell_type": "code",
   "execution_count": 30,
   "metadata": {},
   "outputs": [
    {
     "data": {
      "text/plain": [
       "0.2222222222222222"
      ]
     },
     "execution_count": 30,
     "metadata": {},
     "output_type": "execute_result"
    }
   ],
   "source": [
    "np.array(tweet_scores).mean()"
   ]
  },
  {
   "cell_type": "markdown",
   "metadata": {},
   "source": [
    "### Aggregated"
   ]
  },
  {
   "cell_type": "code",
   "execution_count": 31,
   "metadata": {},
   "outputs": [],
   "source": [
    "# get filtered vocab based on analysis words\n",
    "filtered_vocab = [el for el in vocab_list if el.lower() in t1]"
   ]
  },
  {
   "cell_type": "code",
   "execution_count": 32,
   "metadata": {},
   "outputs": [
    {
     "data": {
      "text/plain": [
       "['you',\n",
       " 'we',\n",
       " 'Trump',\n",
       " 'You',\n",
       " 'your',\n",
       " 'TRUMP',\n",
       " 'look',\n",
       " 'We',\n",
       " 'My',\n",
       " 'fight',\n",
       " 'evil',\n",
       " 'Iran',\n",
       " 'chaos',\n",
       " 'refuse',\n",
       " 'me',\n",
       " 'Misleading',\n",
       " 'junkies',\n",
       " 'Zombie',\n",
       " 'market',\n",
       " 'Market',\n",
       " 'stock',\n",
       " 'Wuhan',\n",
       " 'China',\n",
       " 'conspiracy',\n",
       " 'panic',\n",
       " 'Hell',\n",
       " 'Stupidity',\n",
       " 'Paranoia',\n",
       " 'hoax',\n",
       " 'weaponizing',\n",
       " 'campaign',\n",
       " 'my',\n",
       " 'I',\n",
       " 'our',\n",
       " 'base',\n",
       " 'rallies',\n",
       " 'screwed',\n",
       " 'weapon',\n",
       " 'Rallies',\n",
       " 'laugh',\n",
       " 'cure',\n",
       " 'DIE',\n",
       " 'Hoax',\n",
       " 'Chinese',\n",
       " 'economy',\n",
       " 'see',\n",
       " 'pretend',\n",
       " 'suggest',\n",
       " 'cost',\n",
       " 'Communist',\n",
       " 'kill',\n",
       " 'hysteria',\n",
       " 'Fake',\n",
       " 'war',\n",
       " 'impeachment',\n",
       " 'Cure',\n",
       " 'Conspiracy',\n",
       " 'FAKE',\n",
       " 'fake',\n",
       " 'STOCK',\n",
       " 'MARKET',\n",
       " 'ECONOMY',\n",
       " 'money',\n",
       " 'Japan',\n",
       " 'Fukushima',\n",
       " 'Chernobyl',\n",
       " 'USSR',\n",
       " 'KILL',\n",
       " 'MY',\n",
       " 'feel',\n",
       " 'believe',\n",
       " 'MAGA',\n",
       " 'Propaganda']"
      ]
     },
     "execution_count": 32,
     "metadata": {},
     "output_type": "execute_result"
    }
   ],
   "source": [
    "filtered_vocab"
   ]
  },
  {
   "cell_type": "code",
   "execution_count": 33,
   "metadata": {},
   "outputs": [
    {
     "data": {
      "text/plain": [
       "73"
      ]
     },
     "execution_count": 33,
     "metadata": {},
     "output_type": "execute_result"
    }
   ],
   "source": [
    "len(filtered_vocab)"
   ]
  },
  {
   "cell_type": "code",
   "execution_count": 34,
   "metadata": {},
   "outputs": [],
   "source": [
    "# make dictionary from filtered vocab\n",
    "myDict = dict()\n",
    "\n",
    "for i in range(len(filtered_vocab)):\n",
    "    myDict[filtered_vocab[i]] = i"
   ]
  },
  {
   "cell_type": "code",
   "execution_count": 35,
   "metadata": {},
   "outputs": [],
   "source": [
    "# matrix of class associations of filtered vocab\n",
    "my_matrix = np.zeros((len(explanations), len(vocab_list)))\n",
    "\n",
    "for i in range(len(explanations)):\n",
    "    expl = explanations[i]\n",
    "    for j in range(len(expl)):\n",
    "        word = expl[j][0]\n",
    "        val = expl[j][1]\n",
    "        \n",
    "        if word in filtered_vocab:\n",
    "            if val > 0:\n",
    "                my_matrix[i, myDict[word]] = 1\n",
    "\n",
    "            if val < 0:\n",
    "                my_matrix[i, myDict[word]] = -1"
   ]
  },
  {
   "cell_type": "code",
   "execution_count": 36,
   "metadata": {},
   "outputs": [],
   "source": [
    "# no penalty\n",
    "tweet_scores = []\n",
    "totalNonZero = 0\n",
    "for row in my_matrix:\n",
    "    rowSum = 0\n",
    "    nonZero = 0\n",
    "    for el in row:\n",
    "        if el > 0:\n",
    "            rowSum += el\n",
    "        if el != 0:\n",
    "            nonZero += 1\n",
    "            totalNonZero += 1\n",
    "    \n",
    "    if nonZero > 0:\n",
    "        score = rowSum/nonZero\n",
    "    else:\n",
    "        score = 0\n",
    "    \n",
    "    tweet_scores.append(score)"
   ]
  },
  {
   "cell_type": "code",
   "execution_count": 37,
   "metadata": {},
   "outputs": [
    {
     "data": {
      "text/plain": [
       "232"
      ]
     },
     "execution_count": 37,
     "metadata": {},
     "output_type": "execute_result"
    }
   ],
   "source": [
    "totalNonZero"
   ]
  },
  {
   "cell_type": "code",
   "execution_count": 38,
   "metadata": {},
   "outputs": [
    {
     "data": {
      "text/plain": [
       "0.5212962962962963"
      ]
     },
     "execution_count": 38,
     "metadata": {},
     "output_type": "execute_result"
    }
   ],
   "source": [
    "np.array(tweet_scores).mean()"
   ]
  },
  {
   "cell_type": "code",
   "execution_count": 39,
   "metadata": {},
   "outputs": [],
   "source": [
    "# penalty for wrong class association of word\n",
    "tweet_scores = []\n",
    "totalNonZero = 0\n",
    "for row in my_matrix:\n",
    "    rowSum = 0\n",
    "    nonZero = 0\n",
    "    for el in row:\n",
    "        rowSum += el\n",
    "        if el != 0:\n",
    "            nonZero += 1\n",
    "            totalNonZero += 1\n",
    "    \n",
    "    if nonZero > 0:\n",
    "        score = rowSum/nonZero\n",
    "    else:\n",
    "        score = 0\n",
    "    \n",
    "    tweet_scores.append(score)"
   ]
  },
  {
   "cell_type": "code",
   "execution_count": 40,
   "metadata": {},
   "outputs": [
    {
     "data": {
      "text/plain": [
       "0.3259259259259259"
      ]
     },
     "execution_count": 40,
     "metadata": {},
     "output_type": "execute_result"
    }
   ],
   "source": [
    "np.array(tweet_scores).mean()"
   ]
  },
  {
   "cell_type": "markdown",
   "metadata": {},
   "source": [
    "## Experiment 2:  Table 1 + manual additions"
   ]
  },
  {
   "cell_type": "code",
   "execution_count": 41,
   "metadata": {},
   "outputs": [],
   "source": [
    "# define dictionary\n",
    "t1PlusManual = [\n",
    "    'blame',\n",
    "    'accuse',\n",
    "    'refuse',\n",
    "    'catastrophe',\n",
    "    'emergency',\n",
    "    'chaos',\n",
    "    'crisis',\n",
    "    'evil',\n",
    "    'fight',\n",
    "    'danger',\n",
    "    'hysteria',\n",
    "    'panic',\n",
    "    'paranoia',\n",
    "    'fear',\n",
    "    'fears',\n",
    "    'laugh',\n",
    "    'stupidity',\n",
    "    'hear',\n",
    "    'see',\n",
    "    'feel',\n",
    "    'suppose',\n",
    "    'perceive',\n",
    "    'look',\n",
    "    'appear',\n",
    "    'suggest',\n",
    "    'believe',\n",
    "    'believed',\n",
    "    'pretend',\n",
    "    'martial',\n",
    "    'kill',\n",
    "    'killing',\n",
    "    'kills',\n",
    "    'killed',\n",
    "    'die',\n",
    "    'death',\n",
    "    'dies',\n",
    "    'dying',\n",
    "    'dead',\n",
    "    'died',\n",
    "    'threat',\n",
    "    'weapon',\n",
    "    'weaponize',\n",
    "    'weaponizing',\n",
    "    'knife',\n",
    "    'ussr',\n",
    "    'japan',\n",
    "    'chernobyl',\n",
    "    'wuhan',\n",
    "    'china',\n",
    "    'foreigners',\n",
    "    'cat',\n",
    "    'cats',\n",
    "    'dog',\n",
    "    'dogs',\n",
    "    'i',\n",
    "    'me',\n",
    "    'mine',\n",
    "    'my',\n",
    "    'you',\n",
    "    'yours',\n",
    "    'your',\n",
    "    'we',\n",
    "    'our',\n",
    "    'propaganda',\n",
    "    'fake',\n",
    "    'conspiracy',\n",
    "    'claim',\n",
    "    'claims',\n",
    "    'claiming',\n",
    "    'claimed',\n",
    "    'misleading',\n",
    "    'hoax',\n",
    "    'cure',\n",
    "    'breakthrough',\n",
    "    'bitch',\n",
    "    'wtf',\n",
    "    'dogbreath',\n",
    "    'zombie',\n",
    "    'junkies',\n",
    "    'hell',\n",
    "    'screwed',\n",
    "    'fuck',\n",
    "    'fucking',\n",
    "    'fucked',\n",
    "    'fuckin',\n",
    "    'wth',\n",
    "    'secular',\n",
    "    'bible',\n",
    "    'maga',\n",
    "    'magat',\n",
    "    'genetic',\n",
    "    'hillary',\n",
    "    'clinton',\n",
    "    'fundamentalist',\n",
    "    'market',\n",
    "    'communist',\n",
    "    'nazi',\n",
    "    'stock',\n",
    "    'bank',\n",
    "    'economy',\n",
    "    'economic',\n",
    "    'money',\n",
    "    'cost',\n",
    "    'costs',\n",
    "    'election',\n",
    "    'campaign',\n",
    "    'presidential',\n",
    "    'impeachment',\n",
    "    'rally',\n",
    "    'rallies',\n",
    "    'base',\n",
    "    'president',\n",
    "    'trump',\n",
    "    'war',\n",
    "    'wwiii',\n",
    "    'asteroid',\n",
    "    'banknotes',\n",
    "    'dangerous',\n",
    "    'invent',\n",
    "    'invented',\n",
    "    'iran',\n",
    "    'lie',\n",
    "    'lies',\n",
    "    'lying',\n",
    "    'lied',\n",
    "    'liar',\n",
    "    'liars',\n",
    "    'lmfao',\n",
    "    'lmfaoooooo',\n",
    "    'misinformation',\n",
    "    'news',\n",
    "    'media',\n",
    "    'financial',\n",
    "    'propagandawars',\n",
    "    'antidote'\n",
    "]"
   ]
  },
  {
   "cell_type": "markdown",
   "metadata": {},
   "source": [
    "### Disaggregated by correctness of prediction"
   ]
  },
  {
   "cell_type": "markdown",
   "metadata": {},
   "source": [
    "#### Correctly predicted"
   ]
  },
  {
   "cell_type": "code",
   "execution_count": 42,
   "metadata": {},
   "outputs": [],
   "source": [
    "# get filtered vocab based on analysis words\n",
    "filtered_vocab = [el for el in vocab_correct if el.lower() in t1PlusManual]"
   ]
  },
  {
   "cell_type": "code",
   "execution_count": 43,
   "metadata": {},
   "outputs": [],
   "source": [
    "# make dictionary from filtered vocab\n",
    "myDict = dict()\n",
    "\n",
    "for i in range(len(filtered_vocab)):\n",
    "    myDict[filtered_vocab[i]] = i"
   ]
  },
  {
   "cell_type": "code",
   "execution_count": 44,
   "metadata": {},
   "outputs": [],
   "source": [
    "# matrix of class associations of filtered vocab\n",
    "my_matrix = np.zeros((len(correctPred), len(vocab_correct)))\n",
    "\n",
    "for i in range(len(correctPred)):\n",
    "    expl = correctPred[i]\n",
    "    for j in range(len(expl)):\n",
    "        word = expl[j][0]\n",
    "        val = expl[j][1]\n",
    "        \n",
    "        if word in filtered_vocab:\n",
    "            if val > 0:\n",
    "                my_matrix[i, myDict[word]] = 1\n",
    "\n",
    "            if val < 0:\n",
    "                my_matrix[i, myDict[word]] = -1"
   ]
  },
  {
   "cell_type": "code",
   "execution_count": 45,
   "metadata": {},
   "outputs": [],
   "source": [
    "# no penalty\n",
    "tweet_scores = []\n",
    "totalNonZero = 0\n",
    "for row in my_matrix:\n",
    "    rowSum = 0\n",
    "    nonZero = 0\n",
    "    for el in row:\n",
    "        if el > 0:\n",
    "            rowSum += el\n",
    "        if el != 0:\n",
    "            nonZero += 1\n",
    "            totalNonZero += 1\n",
    "    \n",
    "    if nonZero > 0:\n",
    "        score = rowSum/nonZero\n",
    "    else:\n",
    "        score = 0\n",
    "    \n",
    "    tweet_scores.append(score)"
   ]
  },
  {
   "cell_type": "code",
   "execution_count": 46,
   "metadata": {},
   "outputs": [
    {
     "data": {
      "text/plain": [
       "331"
      ]
     },
     "execution_count": 46,
     "metadata": {},
     "output_type": "execute_result"
    }
   ],
   "source": [
    "totalNonZero"
   ]
  },
  {
   "cell_type": "code",
   "execution_count": 47,
   "metadata": {},
   "outputs": [
    {
     "data": {
      "text/plain": [
       "0.5933723196881092"
      ]
     },
     "execution_count": 47,
     "metadata": {},
     "output_type": "execute_result"
    }
   ],
   "source": [
    "np.array(tweet_scores).mean()"
   ]
  },
  {
   "cell_type": "code",
   "execution_count": 48,
   "metadata": {},
   "outputs": [],
   "source": [
    "# penalty for wrong class association of word\n",
    "tweet_scores = []\n",
    "totalNonZero = 0\n",
    "for row in my_matrix:\n",
    "    rowSum = 0\n",
    "    nonZero = 0\n",
    "    for el in row:\n",
    "        rowSum += el\n",
    "        if el != 0:\n",
    "            nonZero += 1\n",
    "            totalNonZero += 1\n",
    "    \n",
    "    if nonZero > 0:\n",
    "        score = rowSum/nonZero\n",
    "    else:\n",
    "        score = 0\n",
    "    \n",
    "    tweet_scores.append(score)"
   ]
  },
  {
   "cell_type": "code",
   "execution_count": 49,
   "metadata": {},
   "outputs": [
    {
     "data": {
      "text/plain": [
       "0.35633528265107217"
      ]
     },
     "execution_count": 49,
     "metadata": {},
     "output_type": "execute_result"
    }
   ],
   "source": [
    "np.array(tweet_scores).mean()"
   ]
  },
  {
   "cell_type": "markdown",
   "metadata": {},
   "source": [
    "#### Incorrectly predicted"
   ]
  },
  {
   "cell_type": "code",
   "execution_count": 50,
   "metadata": {},
   "outputs": [],
   "source": [
    "# get filtered vocab based on analysis words\n",
    "filtered_vocab = [el for el in vocab_wrong if el.lower() in t1PlusManual]"
   ]
  },
  {
   "cell_type": "code",
   "execution_count": 51,
   "metadata": {},
   "outputs": [],
   "source": [
    "# make dictionary from filtered vocab\n",
    "myDict = dict()\n",
    "\n",
    "for i in range(len(filtered_vocab)):\n",
    "    myDict[filtered_vocab[i]] = i"
   ]
  },
  {
   "cell_type": "code",
   "execution_count": 52,
   "metadata": {},
   "outputs": [],
   "source": [
    "# matrix of class associations of filtered vocab\n",
    "my_matrix = np.zeros((len(wrongPred), len(vocab_wrong)))\n",
    "\n",
    "for i in range(len(wrongPred)):\n",
    "    expl = wrongPred[i]\n",
    "    for j in range(len(expl)):\n",
    "        word = expl[j][0]\n",
    "        val = expl[j][1]\n",
    "        \n",
    "        if word in filtered_vocab:\n",
    "            if val > 0:\n",
    "                my_matrix[i, myDict[word]] = 1\n",
    "\n",
    "            if val < 0:\n",
    "                my_matrix[i, myDict[word]] = -1"
   ]
  },
  {
   "cell_type": "code",
   "execution_count": 53,
   "metadata": {},
   "outputs": [],
   "source": [
    "# no penalty\n",
    "tweet_scores = []\n",
    "totalNonZero = 0\n",
    "for row in my_matrix:\n",
    "    rowSum = 0\n",
    "    nonZero = 0\n",
    "    for el in row:\n",
    "        if el > 0:\n",
    "            rowSum += el\n",
    "        if el != 0:\n",
    "            nonZero += 1\n",
    "            totalNonZero += 1\n",
    "    \n",
    "    if nonZero > 0:\n",
    "        score = rowSum/nonZero\n",
    "    else:\n",
    "        score = 0\n",
    "    \n",
    "    tweet_scores.append(score)"
   ]
  },
  {
   "cell_type": "code",
   "execution_count": 54,
   "metadata": {},
   "outputs": [
    {
     "data": {
      "text/plain": [
       "0.31481481481481477"
      ]
     },
     "execution_count": 54,
     "metadata": {},
     "output_type": "execute_result"
    }
   ],
   "source": [
    "np.array(tweet_scores).mean()"
   ]
  },
  {
   "cell_type": "code",
   "execution_count": 55,
   "metadata": {},
   "outputs": [],
   "source": [
    "# penalty for wrong class association of word\n",
    "tweet_scores = []\n",
    "totalNonZero = 0\n",
    "for row in my_matrix:\n",
    "    rowSum = 0\n",
    "    nonZero = 0\n",
    "    for el in row:\n",
    "        rowSum += el\n",
    "        if el != 0:\n",
    "            nonZero += 1\n",
    "            totalNonZero += 1\n",
    "    \n",
    "    if nonZero > 0:\n",
    "        score = rowSum/nonZero\n",
    "    else:\n",
    "        score = 0\n",
    "    \n",
    "    tweet_scores.append(score)"
   ]
  },
  {
   "cell_type": "code",
   "execution_count": 56,
   "metadata": {},
   "outputs": [
    {
     "data": {
      "text/plain": [
       "0.07407407407407408"
      ]
     },
     "execution_count": 56,
     "metadata": {},
     "output_type": "execute_result"
    }
   ],
   "source": [
    "np.array(tweet_scores).mean()"
   ]
  },
  {
   "cell_type": "markdown",
   "metadata": {},
   "source": [
    "### Aggregated"
   ]
  },
  {
   "cell_type": "code",
   "execution_count": 57,
   "metadata": {},
   "outputs": [],
   "source": [
    "# get filtered vocab based on analysis words\n",
    "filtered_vocab = [el for el in vocab_list if el.lower() in t1PlusManual]"
   ]
  },
  {
   "cell_type": "code",
   "execution_count": 58,
   "metadata": {},
   "outputs": [
    {
     "data": {
      "text/plain": [
       "['you',\n",
       " 'we',\n",
       " 'Trump',\n",
       " 'President',\n",
       " 'You',\n",
       " 'your',\n",
       " 'TRUMP',\n",
       " 'media',\n",
       " 'look',\n",
       " 'asteroid',\n",
       " 'WWIII',\n",
       " 'dying',\n",
       " 'We',\n",
       " 'BANKNOTES',\n",
       " 'dangerous',\n",
       " 'economic',\n",
       " 'My',\n",
       " 'believed',\n",
       " 'knife',\n",
       " 'fight',\n",
       " 'EMERGENCY',\n",
       " 'NEWS',\n",
       " 'evil',\n",
       " 'invented',\n",
       " 'Iran',\n",
       " 'chaos',\n",
       " 'refuse',\n",
       " 'lying',\n",
       " 'me',\n",
       " 'Misleading',\n",
       " 'junkies',\n",
       " 'Zombie',\n",
       " 'market',\n",
       " 'Market',\n",
       " 'stock',\n",
       " 'claims',\n",
       " 'Wuhan',\n",
       " 'China',\n",
       " 'conspiracy',\n",
       " 'killing',\n",
       " 'lied',\n",
       " 'LMFAOOOOOO',\n",
       " 'threat',\n",
       " 'crisis',\n",
       " 'Bank',\n",
       " 'panic',\n",
       " 'Hell',\n",
       " 'Stupidity',\n",
       " 'Death',\n",
       " 'died',\n",
       " 'Claims',\n",
       " 'Fears',\n",
       " 'Paranoia',\n",
       " 'hoax',\n",
       " 'claiming',\n",
       " 'weaponizing',\n",
       " 'Fear',\n",
       " 'campaign',\n",
       " 'Kills',\n",
       " 'death',\n",
       " 'my',\n",
       " 'fucked',\n",
       " 'I',\n",
       " 'our',\n",
       " 'base',\n",
       " 'rallies',\n",
       " 'emergency',\n",
       " 'screwed',\n",
       " 'weapon',\n",
       " 'Rallies',\n",
       " 'Clinton',\n",
       " 'DEAD',\n",
       " 'laugh',\n",
       " 'cure',\n",
       " 'DIE',\n",
       " 'lie',\n",
       " 'Hoax',\n",
       " 'lies',\n",
       " 'economy',\n",
       " 'dog',\n",
       " 'see',\n",
       " 'news',\n",
       " 'pretend',\n",
       " 'suggest',\n",
       " 'misinformation',\n",
       " 'cost',\n",
       " 'Communist',\n",
       " 'fuckin',\n",
       " 'kill',\n",
       " 'fear',\n",
       " 'financial',\n",
       " 'hysteria',\n",
       " 'fucking',\n",
       " 'kills',\n",
       " 'killed',\n",
       " 'Fake',\n",
       " 'war',\n",
       " 'Killed',\n",
       " 'fears',\n",
       " 'impeachment',\n",
       " 'Cure',\n",
       " 'Conspiracy',\n",
       " 'FAKE',\n",
       " 'fake',\n",
       " 'News',\n",
       " 'STOCK',\n",
       " 'MARKET',\n",
       " 'ECONOMY',\n",
       " 'money',\n",
       " 'LIES',\n",
       " 'LYING',\n",
       " 'Japan',\n",
       " 'Chernobyl',\n",
       " 'USSR',\n",
       " 'KILL',\n",
       " 'DYING',\n",
       " 'MY',\n",
       " 'feel',\n",
       " 'believe',\n",
       " 'Lies',\n",
       " 'MAGA',\n",
       " 'Propaganda',\n",
       " 'Media',\n",
       " 'antidote',\n",
       " 'PropagandaWars']"
      ]
     },
     "execution_count": 58,
     "metadata": {},
     "output_type": "execute_result"
    }
   ],
   "source": [
    "filtered_vocab"
   ]
  },
  {
   "cell_type": "code",
   "execution_count": 59,
   "metadata": {},
   "outputs": [
    {
     "data": {
      "text/plain": [
       "125"
      ]
     },
     "execution_count": 59,
     "metadata": {},
     "output_type": "execute_result"
    }
   ],
   "source": [
    "len(filtered_vocab)"
   ]
  },
  {
   "cell_type": "code",
   "execution_count": 60,
   "metadata": {},
   "outputs": [],
   "source": [
    "# make dictionary from filtered vocab\n",
    "myDict = dict()\n",
    "\n",
    "for i in range(len(filtered_vocab)):\n",
    "    myDict[filtered_vocab[i]] = i"
   ]
  },
  {
   "cell_type": "code",
   "execution_count": 61,
   "metadata": {},
   "outputs": [],
   "source": [
    "# matrix of class associations of filtered vocab\n",
    "my_matrix = np.zeros((len(explanations), len(vocab_list)))\n",
    "\n",
    "for i in range(len(explanations)):\n",
    "    expl = explanations[i]\n",
    "    for j in range(len(expl)):\n",
    "        word = expl[j][0]\n",
    "        val = expl[j][1]\n",
    "        \n",
    "        if word in filtered_vocab:\n",
    "            if val > 0:\n",
    "                my_matrix[i, myDict[word]] = 1\n",
    "\n",
    "            if val < 0:\n",
    "                my_matrix[i, myDict[word]] = -1"
   ]
  },
  {
   "cell_type": "code",
   "execution_count": 62,
   "metadata": {},
   "outputs": [],
   "source": [
    "# no penalty\n",
    "tweet_scores = []\n",
    "totalNonZero = 0\n",
    "for row in my_matrix:\n",
    "    rowSum = 0\n",
    "    nonZero = 0\n",
    "    for el in row:\n",
    "        if el > 0:\n",
    "            rowSum += el\n",
    "        if el != 0:\n",
    "            nonZero += 1\n",
    "            totalNonZero += 1\n",
    "    \n",
    "    if nonZero > 0:\n",
    "        score = rowSum/nonZero\n",
    "    else:\n",
    "        score = 0\n",
    "    \n",
    "    tweet_scores.append(score)"
   ]
  },
  {
   "cell_type": "code",
   "execution_count": 63,
   "metadata": {},
   "outputs": [
    {
     "data": {
      "text/plain": [
       "341"
      ]
     },
     "execution_count": 63,
     "metadata": {},
     "output_type": "execute_result"
    }
   ],
   "source": [
    "totalNonZero"
   ]
  },
  {
   "cell_type": "code",
   "execution_count": 64,
   "metadata": {},
   "outputs": [
    {
     "data": {
      "text/plain": [
       "0.5794444444444445"
      ]
     },
     "execution_count": 64,
     "metadata": {},
     "output_type": "execute_result"
    }
   ],
   "source": [
    "np.array(tweet_scores).mean()"
   ]
  },
  {
   "cell_type": "code",
   "execution_count": 65,
   "metadata": {},
   "outputs": [],
   "source": [
    "# penalty for wrong class association of word\n",
    "tweet_scores = []\n",
    "totalNonZero = 0\n",
    "for row in my_matrix:\n",
    "    rowSum = 0\n",
    "    nonZero = 0\n",
    "    for el in row:\n",
    "        rowSum += el\n",
    "        if el != 0:\n",
    "            nonZero += 1\n",
    "            totalNonZero += 1\n",
    "    \n",
    "    if nonZero > 0:\n",
    "        score = rowSum/nonZero\n",
    "    else:\n",
    "        score = 0\n",
    "    \n",
    "    tweet_scores.append(score)"
   ]
  },
  {
   "cell_type": "code",
   "execution_count": 66,
   "metadata": {},
   "outputs": [
    {
     "data": {
      "text/plain": [
       "0.3422222222222222"
      ]
     },
     "execution_count": 66,
     "metadata": {},
     "output_type": "execute_result"
    }
   ],
   "source": [
    "np.array(tweet_scores).mean()"
   ]
  },
  {
   "cell_type": "markdown",
   "metadata": {},
   "source": [
    "## Experiment 3: Table 1 words + stemming"
   ]
  },
  {
   "cell_type": "code",
   "execution_count": 67,
   "metadata": {},
   "outputs": [],
   "source": [
    "from nltk.stem.porter import *"
   ]
  },
  {
   "cell_type": "code",
   "execution_count": 68,
   "metadata": {},
   "outputs": [],
   "source": [
    "stemmer = PorterStemmer()"
   ]
  },
  {
   "cell_type": "code",
   "execution_count": 69,
   "metadata": {},
   "outputs": [],
   "source": [
    "# define dictionary\n",
    "stems = [stemmer.stem(word) for word in t1PlusManual]\n",
    "stems = list(set(stems))"
   ]
  },
  {
   "cell_type": "code",
   "execution_count": 70,
   "metadata": {},
   "outputs": [
    {
     "data": {
      "text/plain": [
       "['die',\n",
       " 'econom',\n",
       " 'evil',\n",
       " 'secular',\n",
       " 'dog',\n",
       " 'trump',\n",
       " 'screw',\n",
       " 'wuhan',\n",
       " 'claim',\n",
       " 'liar',\n",
       " 'campaign',\n",
       " 'stupid',\n",
       " 'fundamentalist',\n",
       " 'pretend',\n",
       " 'stock',\n",
       " 'money',\n",
       " 'clinton',\n",
       " 'japan',\n",
       " 'fear',\n",
       " 'blame',\n",
       " 'wwiii',\n",
       " 'we',\n",
       " 'mislead',\n",
       " 'invent',\n",
       " 'economi',\n",
       " 'junki',\n",
       " 'breakthrough',\n",
       " 'kill',\n",
       " 'news',\n",
       " 'appear',\n",
       " 'believ',\n",
       " 'hysteria',\n",
       " 'martial',\n",
       " 'panic',\n",
       " 'fuckin',\n",
       " 'hear',\n",
       " 'media',\n",
       " 'threat',\n",
       " 'knife',\n",
       " 'bank',\n",
       " 'paranoia',\n",
       " 'weapon',\n",
       " 'propaganda',\n",
       " 'wtf',\n",
       " 'hell',\n",
       " 'lie',\n",
       " 'feel',\n",
       " 'conspiraci',\n",
       " 'emerg',\n",
       " 'zombi',\n",
       " 'cat',\n",
       " 'maga',\n",
       " 'ralli',\n",
       " 'communist',\n",
       " 'our',\n",
       " 'fight',\n",
       " 'danger',\n",
       " 'fuck',\n",
       " 'propagandawar',\n",
       " 'magat',\n",
       " 'lmfaoooooo',\n",
       " 'misinform',\n",
       " 'lmfao',\n",
       " 'china',\n",
       " 'base',\n",
       " 'i',\n",
       " 'wth',\n",
       " 'hillari',\n",
       " 'you',\n",
       " 'look',\n",
       " 'crisi',\n",
       " 'laugh',\n",
       " 'me',\n",
       " 'ussr',\n",
       " 'bibl',\n",
       " 'iran',\n",
       " 'cost',\n",
       " 'catastroph',\n",
       " 'suggest',\n",
       " 'perceiv',\n",
       " 'dead',\n",
       " 'foreign',\n",
       " 'fake',\n",
       " 'mine',\n",
       " 'my',\n",
       " 'asteroid',\n",
       " 'see',\n",
       " 'dogbreath',\n",
       " 'suppos',\n",
       " 'bitch',\n",
       " 'refus',\n",
       " 'antidot',\n",
       " 'hoax',\n",
       " 'accus',\n",
       " 'chernobyl',\n",
       " 'nazi',\n",
       " 'presidenti',\n",
       " 'genet',\n",
       " 'cure',\n",
       " 'presid',\n",
       " 'market',\n",
       " 'war',\n",
       " 'death',\n",
       " 'your',\n",
       " 'elect',\n",
       " 'banknot',\n",
       " 'chao',\n",
       " 'financi',\n",
       " 'impeach']"
      ]
     },
     "execution_count": 70,
     "metadata": {},
     "output_type": "execute_result"
    }
   ],
   "source": [
    "stems"
   ]
  },
  {
   "cell_type": "markdown",
   "metadata": {},
   "source": [
    "### Disaggregated by correctness of prediction"
   ]
  },
  {
   "cell_type": "markdown",
   "metadata": {},
   "source": [
    "#### Correctly predicted"
   ]
  },
  {
   "cell_type": "code",
   "execution_count": 71,
   "metadata": {},
   "outputs": [],
   "source": [
    "# get filtered vocab based on analysis words\n",
    "filtered_vocab = [el for el in vocab_correct if stemmer.stem(el).lower() in stems]"
   ]
  },
  {
   "cell_type": "code",
   "execution_count": 72,
   "metadata": {},
   "outputs": [],
   "source": [
    "# make dictionary from filtered vocab\n",
    "myDict = dict()\n",
    "\n",
    "for i in range(len(filtered_vocab)):\n",
    "    myDict[filtered_vocab[i]] = i"
   ]
  },
  {
   "cell_type": "code",
   "execution_count": 73,
   "metadata": {},
   "outputs": [],
   "source": [
    "# matrix of class associations of filtered vocab\n",
    "my_matrix = np.zeros((len(correctPred), len(vocab_correct)))\n",
    "\n",
    "for i in range(len(correctPred)):\n",
    "    expl = correctPred[i]\n",
    "    for j in range(len(expl)):\n",
    "        word = expl[j][0]\n",
    "        val = expl[j][1]\n",
    "        \n",
    "        if word in filtered_vocab:\n",
    "            if val > 0:\n",
    "                my_matrix[i, myDict[word]] = 1\n",
    "\n",
    "            if val < 0:\n",
    "                my_matrix[i, myDict[word]] = -1"
   ]
  },
  {
   "cell_type": "code",
   "execution_count": 74,
   "metadata": {},
   "outputs": [],
   "source": [
    "# no penalty\n",
    "tweet_scores = []\n",
    "totalNonZero = 0\n",
    "for row in my_matrix:\n",
    "    rowSum = 0\n",
    "    nonZero = 0\n",
    "    for el in row:\n",
    "        if el > 0:\n",
    "            rowSum += el\n",
    "        if el != 0:\n",
    "            nonZero += 1\n",
    "            totalNonZero += 1\n",
    "    \n",
    "    if nonZero > 0:\n",
    "        score = rowSum/nonZero\n",
    "    else:\n",
    "        score = 0\n",
    "    \n",
    "    tweet_scores.append(score)"
   ]
  },
  {
   "cell_type": "code",
   "execution_count": 75,
   "metadata": {},
   "outputs": [
    {
     "data": {
      "text/plain": [
       "349"
      ]
     },
     "execution_count": 75,
     "metadata": {},
     "output_type": "execute_result"
    }
   ],
   "source": [
    "totalNonZero"
   ]
  },
  {
   "cell_type": "code",
   "execution_count": 76,
   "metadata": {},
   "outputs": [
    {
     "data": {
      "text/plain": [
       "0.618978000556948"
      ]
     },
     "execution_count": 76,
     "metadata": {},
     "output_type": "execute_result"
    }
   ],
   "source": [
    "np.array(tweet_scores).mean()"
   ]
  },
  {
   "cell_type": "code",
   "execution_count": 77,
   "metadata": {},
   "outputs": [],
   "source": [
    "# penalty for wrong class association of word\n",
    "tweet_scores = []\n",
    "totalNonZero = 0\n",
    "for row in my_matrix:\n",
    "    rowSum = 0\n",
    "    nonZero = 0\n",
    "    for el in row:\n",
    "        rowSum += el\n",
    "        if el != 0:\n",
    "            nonZero += 1\n",
    "            totalNonZero += 1\n",
    "    \n",
    "    if nonZero > 0:\n",
    "        score = rowSum/nonZero\n",
    "    else:\n",
    "        score = 0\n",
    "    \n",
    "    tweet_scores.append(score)"
   ]
  },
  {
   "cell_type": "code",
   "execution_count": 78,
   "metadata": {},
   "outputs": [
    {
     "data": {
      "text/plain": [
       "0.37830687830687837"
      ]
     },
     "execution_count": 78,
     "metadata": {},
     "output_type": "execute_result"
    }
   ],
   "source": [
    "np.array(tweet_scores).mean()"
   ]
  },
  {
   "cell_type": "markdown",
   "metadata": {},
   "source": [
    "#### Incorrectly predicted"
   ]
  },
  {
   "cell_type": "code",
   "execution_count": 79,
   "metadata": {},
   "outputs": [],
   "source": [
    "# get filtered vocab based on analysis words\n",
    "filtered_vocab = [el for el in vocab_wrong if stemmer.stem(el).lower() in stems]"
   ]
  },
  {
   "cell_type": "code",
   "execution_count": 80,
   "metadata": {},
   "outputs": [],
   "source": [
    "# make dictionary from filtered vocab\n",
    "myDict = dict()\n",
    "\n",
    "for i in range(len(filtered_vocab)):\n",
    "    myDict[filtered_vocab[i]] = i"
   ]
  },
  {
   "cell_type": "code",
   "execution_count": 81,
   "metadata": {},
   "outputs": [],
   "source": [
    "# matrix of class associations of filtered vocab\n",
    "my_matrix = np.zeros((len(wrongPred), len(vocab_wrong)))\n",
    "\n",
    "for i in range(len(wrongPred)):\n",
    "    expl = wrongPred[i]\n",
    "    for j in range(len(expl)):\n",
    "        word = expl[j][0]\n",
    "        val = expl[j][1]\n",
    "        \n",
    "        if word in filtered_vocab:\n",
    "            if val > 0:\n",
    "                my_matrix[i, myDict[word]] = 1\n",
    "\n",
    "            if val < 0:\n",
    "                my_matrix[i, myDict[word]] = -1"
   ]
  },
  {
   "cell_type": "code",
   "execution_count": 82,
   "metadata": {},
   "outputs": [],
   "source": [
    "# no penalty\n",
    "tweet_scores = []\n",
    "totalNonZero = 0\n",
    "for row in my_matrix:\n",
    "    rowSum = 0\n",
    "    nonZero = 0\n",
    "    for el in row:\n",
    "        if el > 0:\n",
    "            rowSum += el\n",
    "        if el != 0:\n",
    "            nonZero += 1\n",
    "            totalNonZero += 1\n",
    "    \n",
    "    if nonZero > 0:\n",
    "        score = rowSum/nonZero\n",
    "    else:\n",
    "        score = 0\n",
    "    \n",
    "    tweet_scores.append(score)"
   ]
  },
  {
   "cell_type": "code",
   "execution_count": 83,
   "metadata": {},
   "outputs": [
    {
     "data": {
      "text/plain": [
       "0.40740740740740733"
      ]
     },
     "execution_count": 83,
     "metadata": {},
     "output_type": "execute_result"
    }
   ],
   "source": [
    "np.array(tweet_scores).mean()"
   ]
  },
  {
   "cell_type": "code",
   "execution_count": 84,
   "metadata": {},
   "outputs": [],
   "source": [
    "# penalty for wrong class association of word\n",
    "tweet_scores = []\n",
    "totalNonZero = 0\n",
    "for row in my_matrix:\n",
    "    rowSum = 0\n",
    "    nonZero = 0\n",
    "    for el in row:\n",
    "        rowSum += el\n",
    "        if el != 0:\n",
    "            nonZero += 1\n",
    "            totalNonZero += 1\n",
    "    \n",
    "    if nonZero > 0:\n",
    "        score = rowSum/nonZero\n",
    "    else:\n",
    "        score = 0\n",
    "    \n",
    "    tweet_scores.append(score)"
   ]
  },
  {
   "cell_type": "code",
   "execution_count": 85,
   "metadata": {},
   "outputs": [
    {
     "data": {
      "text/plain": [
       "0.14814814814814814"
      ]
     },
     "execution_count": 85,
     "metadata": {},
     "output_type": "execute_result"
    }
   ],
   "source": [
    "np.array(tweet_scores).mean()"
   ]
  },
  {
   "cell_type": "markdown",
   "metadata": {},
   "source": [
    "### Aggregated"
   ]
  },
  {
   "cell_type": "code",
   "execution_count": 86,
   "metadata": {},
   "outputs": [],
   "source": [
    "# get filtered vocab based on analysis words\n",
    "filtered_vocab = [el for el in vocab_list if stemmer.stem(el).lower() in stems]"
   ]
  },
  {
   "cell_type": "code",
   "execution_count": 87,
   "metadata": {},
   "outputs": [
    {
     "data": {
      "text/plain": [
       "['deaths',\n",
       " 'stocks',\n",
       " 'markets',\n",
       " 'you',\n",
       " 'we',\n",
       " 'Trump',\n",
       " 'President',\n",
       " 'You',\n",
       " 'your',\n",
       " 'TRUMP',\n",
       " 'media',\n",
       " 'look',\n",
       " 'asteroid',\n",
       " 'WWIII',\n",
       " 'dying',\n",
       " 'We',\n",
       " 'BANKNOTES',\n",
       " 'dangerous',\n",
       " 'suggests',\n",
       " 'economic',\n",
       " 'My',\n",
       " 'refused',\n",
       " 'believed',\n",
       " 'knife',\n",
       " 'fight',\n",
       " 'EMERGENCY',\n",
       " 'evil',\n",
       " 'invented',\n",
       " 'Iran',\n",
       " 'chaos',\n",
       " 'refuse',\n",
       " 'lying',\n",
       " 'me',\n",
       " 'Misleading',\n",
       " 'junkies',\n",
       " 'Zombie',\n",
       " 'market',\n",
       " 'Market',\n",
       " 'stock',\n",
       " 'Fundamentalists',\n",
       " 'claims',\n",
       " 'Wuhan',\n",
       " 'China',\n",
       " 'conspiracy',\n",
       " 'killing',\n",
       " 'lied',\n",
       " 'LMFAOOOOOO',\n",
       " 'threat',\n",
       " 'crisis',\n",
       " 'Bank',\n",
       " 'panic',\n",
       " 'Hell',\n",
       " 'Stupidity',\n",
       " 'Death',\n",
       " 'died',\n",
       " 'Claims',\n",
       " 'Impeach',\n",
       " 'Fears',\n",
       " 'Paranoia',\n",
       " 'hoax',\n",
       " 'claiming',\n",
       " 'weaponizing',\n",
       " 'Fear',\n",
       " 'campaign',\n",
       " 'Kills',\n",
       " 'death',\n",
       " 'my',\n",
       " 'fucked',\n",
       " 'I',\n",
       " 'refuses',\n",
       " 'our',\n",
       " 'base',\n",
       " 'rallies',\n",
       " 'emergency',\n",
       " 'screwed',\n",
       " 'weapon',\n",
       " 'Rallies',\n",
       " 'Clinton',\n",
       " 'DEAD',\n",
       " 'laugh',\n",
       " 'cure',\n",
       " 'DIE',\n",
       " 'lie',\n",
       " 'Hoax',\n",
       " 'lies',\n",
       " 'economy',\n",
       " 'dog',\n",
       " 'see',\n",
       " 'news',\n",
       " 'pretend',\n",
       " 'foreign',\n",
       " 'suggest',\n",
       " 'misinformation',\n",
       " 'cost',\n",
       " 'looks',\n",
       " 'Communist',\n",
       " 'fuckin',\n",
       " 'kill',\n",
       " 'fear',\n",
       " 'financial',\n",
       " 'Genetically',\n",
       " 'hysteria',\n",
       " 'fucking',\n",
       " 'kills',\n",
       " 'seeing',\n",
       " 'killed',\n",
       " 'Fake',\n",
       " 'war',\n",
       " 'Nazis',\n",
       " 'Killed',\n",
       " 'fears',\n",
       " 'impeachment',\n",
       " 'conspiracies',\n",
       " 'Cure',\n",
       " 'Conspiracy',\n",
       " 'FAKE',\n",
       " 'fake',\n",
       " 'STOCK',\n",
       " 'MARKET',\n",
       " 'ECONOMY',\n",
       " 'Appearing',\n",
       " 'elections',\n",
       " 'money',\n",
       " 'LIES',\n",
       " 'Japan',\n",
       " 'Chernobyl',\n",
       " 'USSR',\n",
       " 'fearful',\n",
       " 'KILL',\n",
       " 'MY',\n",
       " 'fighting',\n",
       " 'feel',\n",
       " 'believe',\n",
       " 'Lies',\n",
       " 'MAGA',\n",
       " 'Propaganda',\n",
       " 'Media',\n",
       " 'stupid',\n",
       " 'antidote',\n",
       " 'PropagandaWars']"
      ]
     },
     "execution_count": 87,
     "metadata": {},
     "output_type": "execute_result"
    }
   ],
   "source": [
    "filtered_vocab"
   ]
  },
  {
   "cell_type": "code",
   "execution_count": 88,
   "metadata": {},
   "outputs": [
    {
     "data": {
      "text/plain": [
       "140"
      ]
     },
     "execution_count": 88,
     "metadata": {},
     "output_type": "execute_result"
    }
   ],
   "source": [
    "len(filtered_vocab)"
   ]
  },
  {
   "cell_type": "code",
   "execution_count": 89,
   "metadata": {},
   "outputs": [],
   "source": [
    "# make dictionary from filtered vocab\n",
    "myDict = dict()\n",
    "\n",
    "for i in range(len(filtered_vocab)):\n",
    "    myDict[filtered_vocab[i]] = i"
   ]
  },
  {
   "cell_type": "code",
   "execution_count": 90,
   "metadata": {},
   "outputs": [],
   "source": [
    "# matrix of class associations of filtered vocab\n",
    "my_matrix = np.zeros((len(explanations), len(vocab_list)))\n",
    "\n",
    "for i in range(len(explanations)):\n",
    "    expl = explanations[i]\n",
    "    for j in range(len(expl)):\n",
    "        word = expl[j][0]\n",
    "        val = expl[j][1]\n",
    "        \n",
    "        if word in filtered_vocab:\n",
    "            if val > 0:\n",
    "                my_matrix[i, myDict[word]] = 1\n",
    "\n",
    "            if val < 0:\n",
    "                my_matrix[i, myDict[word]] = -1"
   ]
  },
  {
   "cell_type": "code",
   "execution_count": 91,
   "metadata": {},
   "outputs": [],
   "source": [
    "# no penalty\n",
    "tweet_scores = []\n",
    "totalNonZero = 0\n",
    "for row in my_matrix:\n",
    "    rowSum = 0\n",
    "    nonZero = 0\n",
    "    for el in row:\n",
    "        if el > 0:\n",
    "            rowSum += el\n",
    "        if el != 0:\n",
    "            nonZero += 1\n",
    "            totalNonZero += 1\n",
    "    \n",
    "    if nonZero > 0:\n",
    "        score = rowSum/nonZero\n",
    "    else:\n",
    "        score = 0\n",
    "    \n",
    "    tweet_scores.append(score)"
   ]
  },
  {
   "cell_type": "code",
   "execution_count": 92,
   "metadata": {},
   "outputs": [
    {
     "data": {
      "text/plain": [
       "365"
      ]
     },
     "execution_count": 92,
     "metadata": {},
     "output_type": "execute_result"
    }
   ],
   "source": [
    "totalNonZero"
   ]
  },
  {
   "cell_type": "code",
   "execution_count": 93,
   "metadata": {},
   "outputs": [
    {
     "data": {
      "text/plain": [
       "0.6083994708994709"
      ]
     },
     "execution_count": 93,
     "metadata": {},
     "output_type": "execute_result"
    }
   ],
   "source": [
    "np.array(tweet_scores).mean()"
   ]
  },
  {
   "cell_type": "code",
   "execution_count": 94,
   "metadata": {},
   "outputs": [],
   "source": [
    "# penalty for wrong class association of word\n",
    "tweet_scores = []\n",
    "totalNonZero = 0\n",
    "for row in my_matrix:\n",
    "    rowSum = 0\n",
    "    nonZero = 0\n",
    "    for el in row:\n",
    "        rowSum += el\n",
    "        if el != 0:\n",
    "            nonZero += 1\n",
    "            totalNonZero += 1\n",
    "    \n",
    "    if nonZero > 0:\n",
    "        score = rowSum/nonZero\n",
    "    else:\n",
    "        score = 0\n",
    "    \n",
    "    tweet_scores.append(score)"
   ]
  },
  {
   "cell_type": "code",
   "execution_count": 95,
   "metadata": {},
   "outputs": [
    {
     "data": {
      "text/plain": [
       "0.3667989417989418"
      ]
     },
     "execution_count": 95,
     "metadata": {},
     "output_type": "execute_result"
    }
   ],
   "source": [
    "np.array(tweet_scores).mean()"
   ]
  },
  {
   "cell_type": "markdown",
   "metadata": {},
   "source": [
    "## Experiment 4: Table 1 words + slang dictionary"
   ]
  },
  {
   "cell_type": "code",
   "execution_count": 96,
   "metadata": {},
   "outputs": [],
   "source": [
    "# define dictionary\n",
    "slang = [\n",
    "    \n",
    "]"
   ]
  },
  {
   "cell_type": "markdown",
   "metadata": {},
   "source": [
    "### Disaggregated by correctness of prediction"
   ]
  },
  {
   "cell_type": "markdown",
   "metadata": {},
   "source": [
    "#### Correctly predicted"
   ]
  },
  {
   "cell_type": "code",
   "execution_count": 97,
   "metadata": {},
   "outputs": [],
   "source": [
    "# get filtered vocab based on analysis words\n",
    "filtered_vocab = [el for el in vocab_correct if el.lower() in slang]"
   ]
  },
  {
   "cell_type": "code",
   "execution_count": 98,
   "metadata": {},
   "outputs": [],
   "source": [
    "# make dictionary from filtered vocab\n",
    "myDict = dict()\n",
    "\n",
    "for i in range(len(filtered_vocab)):\n",
    "    myDict[filtered_vocab[i]] = i"
   ]
  },
  {
   "cell_type": "code",
   "execution_count": 99,
   "metadata": {},
   "outputs": [],
   "source": [
    "# matrix of class associations of filtered vocab\n",
    "my_matrix = np.zeros((len(correctPred), len(vocab_correct)))\n",
    "\n",
    "for i in range(len(correctPred)):\n",
    "    expl = correctPred[i]\n",
    "    for j in range(len(expl)):\n",
    "        word = expl[j][0]\n",
    "        val = expl[j][1]\n",
    "        \n",
    "        if word in filtered_vocab:\n",
    "            if val > 0:\n",
    "                my_matrix[i, myDict[word]] = 1\n",
    "\n",
    "            if val < 0:\n",
    "                my_matrix[i, myDict[word]] = -1"
   ]
  },
  {
   "cell_type": "code",
   "execution_count": 100,
   "metadata": {},
   "outputs": [],
   "source": [
    "# no penalty\n",
    "tweet_scores = []\n",
    "totalNonZero = 0\n",
    "for row in my_matrix:\n",
    "    rowSum = 0\n",
    "    nonZero = 0\n",
    "    for el in row:\n",
    "        if el > 0:\n",
    "            rowSum += el\n",
    "        if el != 0:\n",
    "            nonZero += 1\n",
    "            totalNonZero += 1\n",
    "    \n",
    "    if nonZero > 0:\n",
    "        score = rowSum/nonZero\n",
    "    else:\n",
    "        score = 0\n",
    "    \n",
    "    tweet_scores.append(score)"
   ]
  },
  {
   "cell_type": "code",
   "execution_count": 101,
   "metadata": {},
   "outputs": [
    {
     "data": {
      "text/plain": [
       "0"
      ]
     },
     "execution_count": 101,
     "metadata": {},
     "output_type": "execute_result"
    }
   ],
   "source": [
    "totalNonZero"
   ]
  },
  {
   "cell_type": "code",
   "execution_count": 102,
   "metadata": {},
   "outputs": [
    {
     "data": {
      "text/plain": [
       "0.0"
      ]
     },
     "execution_count": 102,
     "metadata": {},
     "output_type": "execute_result"
    }
   ],
   "source": [
    "np.array(tweet_scores).mean()"
   ]
  },
  {
   "cell_type": "code",
   "execution_count": 103,
   "metadata": {},
   "outputs": [],
   "source": [
    "# penalty for wrong class association of word\n",
    "tweet_scores = []\n",
    "totalNonZero = 0\n",
    "for row in my_matrix:\n",
    "    rowSum = 0\n",
    "    nonZero = 0\n",
    "    for el in row:\n",
    "        rowSum += el\n",
    "        if el != 0:\n",
    "            nonZero += 1\n",
    "            totalNonZero += 1\n",
    "    \n",
    "    if nonZero > 0:\n",
    "        score = rowSum/nonZero\n",
    "    else:\n",
    "        score = 0\n",
    "    \n",
    "    tweet_scores.append(score)"
   ]
  },
  {
   "cell_type": "code",
   "execution_count": 104,
   "metadata": {},
   "outputs": [
    {
     "data": {
      "text/plain": [
       "0.0"
      ]
     },
     "execution_count": 104,
     "metadata": {},
     "output_type": "execute_result"
    }
   ],
   "source": [
    "np.array(tweet_scores).mean()"
   ]
  },
  {
   "cell_type": "markdown",
   "metadata": {},
   "source": [
    "#### Incorrectly predicted"
   ]
  },
  {
   "cell_type": "code",
   "execution_count": 105,
   "metadata": {},
   "outputs": [],
   "source": [
    "# get filtered vocab based on analysis words\n",
    "filtered_vocab = [el for el in vocab_wrong if el.lower() in slang]"
   ]
  },
  {
   "cell_type": "code",
   "execution_count": 106,
   "metadata": {},
   "outputs": [],
   "source": [
    "# make dictionary from filtered vocab\n",
    "myDict = dict()\n",
    "\n",
    "for i in range(len(filtered_vocab)):\n",
    "    myDict[filtered_vocab[i]] = i"
   ]
  },
  {
   "cell_type": "code",
   "execution_count": 107,
   "metadata": {},
   "outputs": [],
   "source": [
    "# matrix of class associations of filtered vocab\n",
    "my_matrix = np.zeros((len(wrongPred), len(vocab_wrong)))\n",
    "\n",
    "for i in range(len(wrongPred)):\n",
    "    expl = wrongPred[i]\n",
    "    for j in range(len(expl)):\n",
    "        word = expl[j][0]\n",
    "        val = expl[j][1]\n",
    "        \n",
    "        if word in filtered_vocab:\n",
    "            if val > 0:\n",
    "                my_matrix[i, myDict[word]] = 1\n",
    "\n",
    "            if val < 0:\n",
    "                my_matrix[i, myDict[word]] = -1"
   ]
  },
  {
   "cell_type": "code",
   "execution_count": 108,
   "metadata": {},
   "outputs": [],
   "source": [
    "# no penalty\n",
    "tweet_scores = []\n",
    "totalNonZero = 0\n",
    "for row in my_matrix:\n",
    "    rowSum = 0\n",
    "    nonZero = 0\n",
    "    for el in row:\n",
    "        if el > 0:\n",
    "            rowSum += el\n",
    "        if el != 0:\n",
    "            nonZero += 1\n",
    "            totalNonZero += 1\n",
    "    \n",
    "    if nonZero > 0:\n",
    "        score = rowSum/nonZero\n",
    "    else:\n",
    "        score = 0\n",
    "    \n",
    "    tweet_scores.append(score)"
   ]
  },
  {
   "cell_type": "code",
   "execution_count": 109,
   "metadata": {},
   "outputs": [
    {
     "data": {
      "text/plain": [
       "0.0"
      ]
     },
     "execution_count": 109,
     "metadata": {},
     "output_type": "execute_result"
    }
   ],
   "source": [
    "np.array(tweet_scores).mean()"
   ]
  },
  {
   "cell_type": "code",
   "execution_count": 110,
   "metadata": {},
   "outputs": [],
   "source": [
    "# penalty for wrong class association of word\n",
    "tweet_scores = []\n",
    "totalNonZero = 0\n",
    "for row in my_matrix:\n",
    "    rowSum = 0\n",
    "    nonZero = 0\n",
    "    for el in row:\n",
    "        rowSum += el\n",
    "        if el != 0:\n",
    "            nonZero += 1\n",
    "            totalNonZero += 1\n",
    "    \n",
    "    if nonZero > 0:\n",
    "        score = rowSum/nonZero\n",
    "    else:\n",
    "        score = 0\n",
    "    \n",
    "    tweet_scores.append(score)"
   ]
  },
  {
   "cell_type": "code",
   "execution_count": 111,
   "metadata": {},
   "outputs": [
    {
     "data": {
      "text/plain": [
       "0.0"
      ]
     },
     "execution_count": 111,
     "metadata": {},
     "output_type": "execute_result"
    }
   ],
   "source": [
    "np.array(tweet_scores).mean()"
   ]
  },
  {
   "cell_type": "markdown",
   "metadata": {},
   "source": [
    "### Aggregated"
   ]
  },
  {
   "cell_type": "code",
   "execution_count": 112,
   "metadata": {},
   "outputs": [],
   "source": [
    "# get filtered vocab based on analysis words\n",
    "filtered_vocab = [el for el in vocab_list if el.lower() in slang]"
   ]
  },
  {
   "cell_type": "code",
   "execution_count": 113,
   "metadata": {},
   "outputs": [],
   "source": [
    "# make dictionary from filtered vocab\n",
    "myDict = dict()\n",
    "\n",
    "for i in range(len(filtered_vocab)):\n",
    "    myDict[filtered_vocab[i]] = i"
   ]
  },
  {
   "cell_type": "code",
   "execution_count": 114,
   "metadata": {},
   "outputs": [],
   "source": [
    "# matrix of class associations of filtered vocab\n",
    "my_matrix = np.zeros((len(explanations), len(vocab_list)))\n",
    "\n",
    "for i in range(len(explanations)):\n",
    "    expl = explanations[i]\n",
    "    for j in range(len(expl)):\n",
    "        word = expl[j][0]\n",
    "        val = expl[j][1]\n",
    "        \n",
    "        if word in filtered_vocab:\n",
    "            if val > 0:\n",
    "                my_matrix[i, myDict[word]] = 1\n",
    "\n",
    "            if val < 0:\n",
    "                my_matrix[i, myDict[word]] = -1"
   ]
  },
  {
   "cell_type": "code",
   "execution_count": 115,
   "metadata": {},
   "outputs": [],
   "source": [
    "# no penalty\n",
    "tweet_scores = []\n",
    "totalNonZero = 0\n",
    "for row in my_matrix:\n",
    "    rowSum = 0\n",
    "    nonZero = 0\n",
    "    for el in row:\n",
    "        if el > 0:\n",
    "            rowSum += el\n",
    "        if el != 0:\n",
    "            nonZero += 1\n",
    "            totalNonZero += 1\n",
    "    \n",
    "    if nonZero > 0:\n",
    "        score = rowSum/nonZero\n",
    "    else:\n",
    "        score = 0\n",
    "    \n",
    "    tweet_scores.append(score)"
   ]
  },
  {
   "cell_type": "code",
   "execution_count": 116,
   "metadata": {},
   "outputs": [
    {
     "data": {
      "text/plain": [
       "0"
      ]
     },
     "execution_count": 116,
     "metadata": {},
     "output_type": "execute_result"
    }
   ],
   "source": [
    "totalNonZero"
   ]
  },
  {
   "cell_type": "code",
   "execution_count": 117,
   "metadata": {},
   "outputs": [
    {
     "data": {
      "text/plain": [
       "0.0"
      ]
     },
     "execution_count": 117,
     "metadata": {},
     "output_type": "execute_result"
    }
   ],
   "source": [
    "np.array(tweet_scores).mean()"
   ]
  },
  {
   "cell_type": "code",
   "execution_count": 118,
   "metadata": {},
   "outputs": [],
   "source": [
    "# penalty for wrong class association of word\n",
    "tweet_scores = []\n",
    "totalNonZero = 0\n",
    "for row in my_matrix:\n",
    "    rowSum = 0\n",
    "    nonZero = 0\n",
    "    for el in row:\n",
    "        rowSum += el\n",
    "        if el != 0:\n",
    "            nonZero += 1\n",
    "            totalNonZero += 1\n",
    "    \n",
    "    if nonZero > 0:\n",
    "        score = rowSum/nonZero\n",
    "    else:\n",
    "        score = 0\n",
    "    \n",
    "    tweet_scores.append(score)"
   ]
  },
  {
   "cell_type": "code",
   "execution_count": 119,
   "metadata": {},
   "outputs": [
    {
     "data": {
      "text/plain": [
       "0.0"
      ]
     },
     "execution_count": 119,
     "metadata": {},
     "output_type": "execute_result"
    }
   ],
   "source": [
    "np.array(tweet_scores).mean()"
   ]
  }
 ],
 "metadata": {
  "kernelspec": {
   "display_name": "Python 3",
   "language": "python",
   "name": "python3"
  },
  "language_info": {
   "codemirror_mode": {
    "name": "ipython",
    "version": 3
   },
   "file_extension": ".py",
   "mimetype": "text/x-python",
   "name": "python",
   "nbconvert_exporter": "python",
   "pygments_lexer": "ipython3",
   "version": "3.7.7"
  }
 },
 "nbformat": 4,
 "nbformat_minor": 4
}
