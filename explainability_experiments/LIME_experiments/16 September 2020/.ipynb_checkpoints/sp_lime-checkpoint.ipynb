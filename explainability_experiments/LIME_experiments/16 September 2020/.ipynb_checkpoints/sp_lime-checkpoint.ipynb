{
 "cells": [
  {
   "cell_type": "code",
   "execution_count": 3,
   "metadata": {},
   "outputs": [],
   "source": [
    "import numpy as np\n",
    "import pandas as pd\n",
    "from nltk import word_tokenize, pos_tag\n",
    "from nltk.corpus import stopwords, wordnet\n",
    "from nltk.tokenize.treebank import TreebankWordDetokenizer\n",
    "from sklearn.base import TransformerMixin\n",
    "from sklearn.decomposition import FastICA#, TruncatedSVD, PCA, NMF\n",
    "from sklearn.preprocessing import StandardScaler\n",
    "import re\n",
    "import matplotlib.pyplot as plt\n",
    "from nltk.stem import WordNetLemmatizer\n",
    "from sklearn.svm import SVC\n",
    "from lime import lime_text\n",
    "from sklearn.pipeline import make_pipeline\n",
    "from lime.lime_text import LimeTextExplainer\n",
    "from lime import submodular_pick"
   ]
  },
  {
   "cell_type": "code",
   "execution_count": 4,
   "metadata": {},
   "outputs": [],
   "source": [
    "tweets = pd.read_csv('COVID19_Dataset-text_labels_only.csv')\n",
    "\n",
    "# to convert contractions picked up by word_tokenize() into full words\n",
    "contractions = {\n",
    "    \"n't\": 'not',\n",
    "    \"'ve\": 'have',\n",
    "    \"'s\": 'is',  # note that this will include possessive nouns\n",
    "    'gonna': 'going to',\n",
    "    'gotta': 'got to',\n",
    "    \"'d\": 'would',\n",
    "    \"'ll\": 'will',\n",
    "    \"'re\": 'are',\n",
    "    \"'m\": 'am',\n",
    "    'wanna': 'want to'\n",
    "}\n",
    "\n",
    "\n",
    "# to convert nltk_pos tags to wordnet-compatible PoS tags\n",
    "def convert_pos_wordnet(tag):\n",
    "    tag_abbr = tag[0].upper()\n",
    "    tag_dict = {\n",
    "        'J': wordnet.ADJ,\n",
    "        'N': wordnet.NOUN,\n",
    "        'V': wordnet.VERB,\n",
    "        'R': wordnet.ADV\n",
    "    }\n",
    "\n",
    "    if tag_abbr in tag_dict:\n",
    "        return tag_dict[tag_abbr]\n",
    "\n",
    "\n",
    "class Text2Embed(TransformerMixin):\n",
    "    \"\"\" Description:\n",
    "        Transformer that takes in a list of strings, calculates the word-context matrix\n",
    "        (with any specified transformations), reduces the dimensionality of these word\n",
    "        embeddings, and then provides the text embeddings of a (new) list of texts\n",
    "        depending on which words in the \"vocab\" occur in the (new) strings.\n",
    "    \"\"\"\n",
    "\n",
    "    # initialize class & private variables\n",
    "    def __init__(self,\n",
    "                 window_size=4,\n",
    "                 remove_stopwords=True,\n",
    "                 add_start_end_tokens=True,\n",
    "                 lowercase=False,\n",
    "                 lemmatize=False,\n",
    "                 pmi=False,\n",
    "                 spmi_k=1,\n",
    "                 laplace_smoothing=0,\n",
    "                 pmi_positive=False,\n",
    "                 sppmi_k=1,\n",
    "                 n_components=250,\n",
    "                 random_state=4):\n",
    "\n",
    "        \"\"\" Params:\n",
    "                window_size: size of +/- context window (default = 4)\n",
    "                remove_stopwords: boolean, whether or not to remove NLTK English stopwords\n",
    "                add_start_end_tokens: boolean, whether or not to append <START> and <END> to the\n",
    "                beginning/end of each document in the corpus (default = True)\n",
    "                lowercase: boolean, whether or not to convert words to all lowercase\n",
    "                lemmatize: boolean, whether or not to lemmatize input text\n",
    "                pmi: boolean, whether or not to compute pointwise mutual information\n",
    "                spmi_k: numeric, shifted pmi value\n",
    "                pmi_positive: boolean, whether or not to compute positive PMI\n",
    "                sppmi_k: numeric, shifted ppmi value\n",
    "                n_components: number of components for PCA/FastICA\n",
    "                random_state: set seed for FastICA\n",
    "        \"\"\"\n",
    "        self.window_size = window_size\n",
    "        self.remove_stopwords = remove_stopwords\n",
    "        self.add_start_end_tokens = add_start_end_tokens\n",
    "        self.lowercase = lowercase\n",
    "        self.lemmatize = lemmatize\n",
    "        self.pmi = pmi\n",
    "        self.spmi_k = spmi_k\n",
    "        self.laplace_smoothing = laplace_smoothing\n",
    "        self.pmi_positive = pmi_positive\n",
    "        self.sppmi_k = sppmi_k\n",
    "        self.corpus = None\n",
    "        self.clean_corpus = None\n",
    "        self.vocabulary = None\n",
    "        self.X = None\n",
    "        self.doc_terms_lists = None\n",
    "        self.ica = FastICA(n_components=n_components, random_state=random_state)\n",
    "        self.scaler = StandardScaler()\n",
    "        self.word_embeddings = None\n",
    "        self.text_embeddings = None\n",
    "\n",
    "    def fit(self, corpus, y=None):\n",
    "\n",
    "        \"\"\" Learn the dictionary of all unique tokens for given corpus. Compute the co-occurrence matrix\n",
    "            for input corpus and window_size, using term dictionary. Reduce dimensionality of embeddings.\n",
    "\n",
    "            Params:\n",
    "                corpus: list of strings\n",
    "\n",
    "            Returns: self\n",
    "        \"\"\"\n",
    "        self.corpus = corpus\n",
    "\n",
    "        term_dict = dict()\n",
    "        k = 0\n",
    "        corpus_words = []\n",
    "        clean_corpus = []\n",
    "        doc_terms_lists = []\n",
    "        detokenizer = TreebankWordDetokenizer()\n",
    "        lemmatizer = WordNetLemmatizer()\n",
    "\n",
    "        for text in corpus:\n",
    "            text = re.sub(r'[_~`@$%^&*[\\]+=\\|}{\\\"\\'<>/]+', '', text)\n",
    "\n",
    "            words = word_tokenize(text)\n",
    "\n",
    "            if self.remove_stopwords:\n",
    "                clean_words = []\n",
    "                for word in words:\n",
    "                    if word.lower() not in set(stopwords.words('english')):\n",
    "                        clean_words.append(word)\n",
    "                words = clean_words\n",
    "\n",
    "            if self.lowercase:\n",
    "                clean_words = []\n",
    "                for word in words:\n",
    "                    clean_words.append(word.lower())\n",
    "\n",
    "                words = clean_words\n",
    "\n",
    "            if self.lemmatize:\n",
    "                clean_words = []\n",
    "                for word in words:\n",
    "                    PoS_tag = pos_tag([word])[0][1]\n",
    "\n",
    "                    # to change contractions to full word form\n",
    "                    if word in contractions:\n",
    "                        word = contractions[word]\n",
    "\n",
    "                    if PoS_tag[0].upper() in 'JNVR':\n",
    "                        word = lemmatizer.lemmatize(word, convert_pos_wordnet(PoS_tag))\n",
    "                    else:\n",
    "                        word = lemmatizer.lemmatize(word)\n",
    "\n",
    "                    clean_words.append(word)\n",
    "\n",
    "                words = clean_words\n",
    "\n",
    "            # detokenize trick taken from this StackOverflow post:\n",
    "            # https://stackoverflow.com/questions/21948019/python-untokenize-a-sentence\n",
    "            # and NLTK treebank documentation:\n",
    "            # https://www.nltk.org/_modules/nltk/tokenize/treebank.html\n",
    "            text = detokenizer.detokenize(words)\n",
    "            clean_corpus.append(text)\n",
    "\n",
    "            [corpus_words.append(word) for word in words]\n",
    "\n",
    "            if self.add_start_end_tokens:\n",
    "                words = ['<START>'] + words + ['<END>']\n",
    "\n",
    "            doc_terms_lists.append(words)\n",
    "\n",
    "        self.clean_corpus = clean_corpus\n",
    "\n",
    "        self.doc_terms_lists = doc_terms_lists\n",
    "\n",
    "        corpus_words = list(set(corpus_words))\n",
    "\n",
    "        if self.add_start_end_tokens:\n",
    "            corpus_words = ['<START>'] + corpus_words + ['<END>']\n",
    "\n",
    "        corpus_words = sorted(corpus_words)\n",
    "\n",
    "        for el in corpus_words:\n",
    "            term_dict[el] = k\n",
    "            k += 1\n",
    "\n",
    "        self.vocabulary = term_dict\n",
    "\n",
    "        num_terms = len(self.vocabulary)\n",
    "        window = self.window_size\n",
    "        X = np.full((num_terms, num_terms), self.laplace_smoothing)\n",
    "\n",
    "        for el in range(len(clean_corpus)):\n",
    "            words = doc_terms_lists[el]\n",
    "\n",
    "            # Construct word-context matrix\n",
    "            for i in range(len(words)):\n",
    "                target = words[i]\n",
    "\n",
    "                # grab index from dictionary\n",
    "                target_dict_index = self.vocabulary[target]\n",
    "\n",
    "                # find left-most and right-most window indices for each target word\n",
    "                left_end_index = max(i - window, 0)\n",
    "                right_end_index = min(i + window, len(words) - 1)\n",
    "\n",
    "                # loop over all words within window\n",
    "                # NOTE: this will include the target word; make sure to skip over it\n",
    "                for j in range(left_end_index, right_end_index + 1):\n",
    "\n",
    "                    # skip \"context word\" where the \"context word\" index is equal to the\n",
    "                    # target word index\n",
    "                    if j != i:\n",
    "                        context_word = words[j]\n",
    "\n",
    "                        # count co-occurrence of target and context words\n",
    "                        X[target_dict_index, self.vocabulary[context_word]] += 1\n",
    "\n",
    "        # if pmi = True, compute pmi matrix from word-context raw frequencies\n",
    "        # more concise code taken from this StackOverflow post:\n",
    "        # https://stackoverflow.com/questions/58701337/how-to-construct-ppmi-matrix-from-a-text-corpus\n",
    "        if self.pmi:\n",
    "            denom = X.sum()\n",
    "            col_sums = X.sum(axis=0)\n",
    "            row_sums = X.sum(axis=1)\n",
    "\n",
    "            expected = np.outer(row_sums, col_sums) / denom\n",
    "\n",
    "            X = X / expected\n",
    "\n",
    "            for i in range(X.shape[0]):\n",
    "                for j in range(X.shape[1]):\n",
    "\n",
    "                    if X[i, j] > 0:\n",
    "                        X[i, j] = np.log(X[i, j]) - np.log(self.spmi_k)\n",
    "\n",
    "                        if self.pmi_positive:\n",
    "                            X[i, j] = max(X[i, j] - np.log(self.sppmi_k), 0)\n",
    "\n",
    "        # note that X is a dense matrix\n",
    "        self.X = X\n",
    "\n",
    "        word_embeddings = self.scaler.fit_transform(self.X)\n",
    "        word_embeddings = self.ica.fit_transform(word_embeddings)\n",
    "\n",
    "        # transformed WordICA embeddings\n",
    "        self.word_embeddings = word_embeddings\n",
    "\n",
    "        return self\n",
    "\n",
    "    def transform(self, new_corpus=None, y=None):\n",
    "\n",
    "        \"\"\" Get text embeddings for given corpus, using term dictionary and word embeddings obtained\n",
    "            with fit method.\n",
    "\n",
    "            Returns: text embeddings (shape: num texts by embedding dimensions)\n",
    "        \"\"\"\n",
    "        lemmatizer = WordNetLemmatizer()\n",
    "        #if type(new_corpus) != list:\n",
    "            #exit()\n",
    "\n",
    "        for k in range(len(new_corpus)):\n",
    "            text = new_corpus[k]\n",
    "            text = re.sub(r'[_~`@$%^&*[\\]+=\\|}{\\\"\\'<>/]+', '', text)\n",
    "            text_vec = np.zeros(self.word_embeddings.shape[1])\n",
    "            words = word_tokenize(text)\n",
    "            tracker = 0  # to track whether we've encountered a word for which we have an embedding (in each tweet)\n",
    "\n",
    "            if self.remove_stopwords:\n",
    "                clean_words = []\n",
    "                for word in words:\n",
    "                    if word.lower() not in set(stopwords.words('english')):\n",
    "                        clean_words.append(word)\n",
    "                words = clean_words\n",
    "\n",
    "            if self.lowercase:\n",
    "                clean_words = []\n",
    "                for word in words:\n",
    "                    clean_words.append(word.lower())\n",
    "\n",
    "                words = clean_words\n",
    "\n",
    "            if self.lemmatize:\n",
    "                clean_words = []\n",
    "                for word in words:\n",
    "                    PoS_tag = pos_tag([word])[0][1]\n",
    "\n",
    "                    # to change contractions to full word form\n",
    "                    if word in contractions:\n",
    "                        word = contractions[word]\n",
    "\n",
    "                    if PoS_tag[0].upper() in 'JNVR':\n",
    "                        word = lemmatizer.lemmatize(word, convert_pos_wordnet(PoS_tag))\n",
    "                    else:\n",
    "                        word = lemmatizer.lemmatize(word)\n",
    "\n",
    "                    clean_words.append(word)\n",
    "\n",
    "                words = clean_words\n",
    "\n",
    "            if self.add_start_end_tokens:\n",
    "                words = ['<START>'] + words + ['<END>']\n",
    "\n",
    "            for i in range(len(words)):\n",
    "                word = words[i]\n",
    "                if word in self.vocabulary:\n",
    "                    word_embed_vec = self.word_embeddings[self.vocabulary[word], :]\n",
    "                    if tracker == 0:\n",
    "                        text_matrix = word_embed_vec\n",
    "                    else:\n",
    "                        text_matrix = np.vstack((text_matrix, word_embed_vec))\n",
    "\n",
    "                    # only increment if we have come across a word in the embeddings dictionary\n",
    "                    tracker += 1\n",
    "\n",
    "            for j in range(len(text_vec)):\n",
    "                text_vec[j] = text_matrix[:, j].mean()\n",
    "\n",
    "            if k == 0:\n",
    "                full_matrix = text_vec\n",
    "            else:\n",
    "                full_matrix = np.vstack((full_matrix, text_vec))\n",
    "\n",
    "        self.text_embeddings = full_matrix\n",
    "\n",
    "        return self.text_embeddings.copy()"
   ]
  },
  {
   "cell_type": "code",
   "execution_count": 5,
   "metadata": {},
   "outputs": [
    {
     "data": {
      "text/plain": [
       "<__main__.Text2Embed at 0x7f91899eb510>"
      ]
     },
     "execution_count": 5,
     "metadata": {},
     "output_type": "execute_result"
    }
   ],
   "source": [
    "# instantiate embedder\n",
    "embedder = Text2Embed(window_size = 15, lowercase = True, lemmatize = True, pmi = True)\n",
    "embedder.fit(tweets['Tweet'])"
   ]
  },
  {
   "cell_type": "code",
   "execution_count": 7,
   "metadata": {},
   "outputs": [],
   "source": [
    "embedded_tweets = embedder.transform(tweets['Tweet'])"
   ]
  },
  {
   "cell_type": "code",
   "execution_count": 8,
   "metadata": {},
   "outputs": [
    {
     "data": {
      "text/plain": [
       "SVC(C=1, probability=True)"
      ]
     },
     "execution_count": 8,
     "metadata": {},
     "output_type": "execute_result"
    }
   ],
   "source": [
    "# instantiate classification algorithm\n",
    "\n",
    "# round 1 winner\n",
    "svc = SVC(C = 1, kernel = 'rbf', probability = True)\n",
    "\n",
    "class1_train_indices = list(range(100))\n",
    "class0_train_indices = list(range(280,380))\n",
    "\n",
    "train_X = embedded_tweets[[class1_train_indices + class0_train_indices],:][0]\n",
    "\n",
    "hundred_ones = [1]*100\n",
    "hundred_zeros = [0]*100\n",
    "train_Y = hundred_ones + hundred_zeros\n",
    "\n",
    "# fit SVC model on training subset of tweet embeddings\n",
    "svc.fit(train_X, train_Y)"
   ]
  },
  {
   "cell_type": "code",
   "execution_count": 37,
   "metadata": {},
   "outputs": [],
   "source": [
    "class1_test_indices = list(range(100,280))\n",
    "class0_test_indices = list(range(380,560))\n",
    "test_X = tweets['Tweet'][class1_test_indices + class0_test_indices]\n",
    "test_X = test_X.reset_index(drop = True)"
   ]
  },
  {
   "cell_type": "code",
   "execution_count": 28,
   "metadata": {},
   "outputs": [],
   "source": [
    "c = make_pipeline(embedder, svc)\n",
    "\n",
    "explainer = LimeTextExplainer(class_names = ['Reliable', 'Unreliable'])\n",
    "\n",
    "# Which tweet(s) to look at:\n",
    "idx = 527\n",
    "exp = explainer.explain_instance(tweets['Tweet'][idx], c.predict_proba, num_features = 6)"
   ]
  },
  {
   "cell_type": "code",
   "execution_count": 29,
   "metadata": {},
   "outputs": [],
   "source": [
    "from lime import submodular_pick"
   ]
  },
  {
   "cell_type": "code",
   "execution_count": 38,
   "metadata": {
    "scrolled": false
   },
   "outputs": [],
   "source": [
    "sp_obj = submodular_pick.SubmodularPick(explainer,\n",
    "                                        test_X,\n",
    "                                        c.predict_proba,\n",
    "                                        sample_size = 50,\n",
    "                                        num_features = 6,\n",
    "                                        num_exps_desired = 5)"
   ]
  },
  {
   "cell_type": "code",
   "execution_count": 39,
   "metadata": {},
   "outputs": [
    {
     "data": {
      "text/plain": [
       "[<Figure size 432x288 with 1 Axes>,\n",
       " <Figure size 432x288 with 1 Axes>,\n",
       " <Figure size 432x288 with 1 Axes>,\n",
       " <Figure size 432x288 with 1 Axes>,\n",
       " <Figure size 432x288 with 1 Axes>]"
      ]
     },
     "execution_count": 39,
     "metadata": {},
     "output_type": "execute_result"
    },
    {
     "data": {
      "image/png": "[encoded data removed]",
      "text/plain": [
       "<Figure size 432x288 with 1 Axes>"
      ]
     },
     "metadata": {
      "needs_background": "light"
     },
     "output_type": "display_data"
    },
    {
     "data": {
      "image/png": "[encoded data removed]",
      "text/plain": [
       "<Figure size 432x288 with 1 Axes>"
      ]
     },
     "metadata": {
      "needs_background": "light"
     },
     "output_type": "display_data"
    },
    {
     "data": {
      "image/png": "[encoded data removed]",
      "text/plain": [
       "<Figure size 432x288 with 1 Axes>"
      ]
     },
     "metadata": {
      "needs_background": "light"
     },
     "output_type": "display_data"
    },
    {
     "data": {
      "image/png": "[encoded data removed]",
      "text/plain": [
       "<Figure size 432x288 with 1 Axes>"
      ]
     },
     "metadata": {
      "needs_background": "light"
     },
     "output_type": "display_data"
    },
    {
     "data": {
      "image/png": "[encoded data removed]",
      "text/plain": [
       "<Figure size 432x288 with 1 Axes>"
      ]
     },
     "metadata": {
      "needs_background": "light"
     },
     "output_type": "display_data"
    }
   ],
   "source": [
    "[exp.as_pyplot_figure(label=exp.available_labels()[0]) for exp in sp_obj.sp_explanations]"
   ]
  },
  {
   "cell_type": "code",
   "execution_count": null,
   "metadata": {},
   "outputs": [],
   "source": []
  }
 ],
 "metadata": {
  "kernelspec": {
   "display_name": "Python 3",
   "language": "python",
   "name": "python3"
  },
  "language_info": {
   "codemirror_mode": {
    "name": "ipython",
    "version": 3
   },
   "file_extension": ".py",
   "mimetype": "text/x-python",
   "name": "python",
   "nbconvert_exporter": "python",
   "pygments_lexer": "ipython3",
   "version": "3.7.7"
  }
 },
 "nbformat": 4,
 "nbformat_minor": 4
}
