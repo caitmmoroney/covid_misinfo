{
 "cells": [
  {
   "cell_type": "code",
   "execution_count": 1,
   "metadata": {},
   "outputs": [],
   "source": [
    "import numpy as np\n",
    "import pandas as pd\n",
    "from sklearn.svm import SVC\n",
    "import joblib"
   ]
  },
  {
   "cell_type": "code",
   "execution_count": 2,
   "metadata": {},
   "outputs": [
    {
     "name": "stdout",
     "output_type": "stream",
     "text": [
      "loaded data file\n"
     ]
    }
   ],
   "source": [
    "tweets = pd.read_excel('COVID19_Dataset-CM-ZB-complete with sources.xlsx')\n",
    "print('loaded data file')"
   ]
  },
  {
   "cell_type": "code",
   "execution_count": 3,
   "metadata": {},
   "outputs": [
    {
     "data": {
      "text/html": [
       "<div>\n",
       "<style scoped>\n",
       "    .dataframe tbody tr th:only-of-type {\n",
       "        vertical-align: middle;\n",
       "    }\n",
       "\n",
       "    .dataframe tbody tr th {\n",
       "        vertical-align: top;\n",
       "    }\n",
       "\n",
       "    .dataframe thead th {\n",
       "        text-align: right;\n",
       "    }\n",
       "</style>\n",
       "<table border=\"1\" class=\"dataframe\">\n",
       "  <thead>\n",
       "    <tr style=\"text-align: right;\">\n",
       "      <th></th>\n",
       "      <th>Is_Unreliable</th>\n",
       "      <th>Category</th>\n",
       "      <th>Tweet</th>\n",
       "    </tr>\n",
       "  </thead>\n",
       "  <tbody>\n",
       "    <tr>\n",
       "      <th>0</th>\n",
       "      <td>1</td>\n",
       "      <td>1, 3, 6, 9</td>\n",
       "      <td>We are living in scary times in Canada. Gov’t ...</td>\n",
       "    </tr>\n",
       "    <tr>\n",
       "      <th>1</th>\n",
       "      <td>1</td>\n",
       "      <td>1, 6, 8, 9</td>\n",
       "      <td>Just as bad in Canada. In fact, our government...</td>\n",
       "    </tr>\n",
       "    <tr>\n",
       "      <th>2</th>\n",
       "      <td>1</td>\n",
       "      <td>1, 4, 9</td>\n",
       "      <td>It was only a matter of time before the mainst...</td>\n",
       "    </tr>\n",
       "    <tr>\n",
       "      <th>3</th>\n",
       "      <td>1</td>\n",
       "      <td>6, 8</td>\n",
       "      <td>Russia's taking no chances: Foreigners infecte...</td>\n",
       "    </tr>\n",
       "    <tr>\n",
       "      <th>4</th>\n",
       "      <td>1</td>\n",
       "      <td>6, 8, 9</td>\n",
       "      <td>Although there is now a presumptive confirmed ...</td>\n",
       "    </tr>\n",
       "  </tbody>\n",
       "</table>\n",
       "</div>"
      ],
      "text/plain": [
       "   Is_Unreliable    Category  \\\n",
       "0              1  1, 3, 6, 9   \n",
       "1              1  1, 6, 8, 9   \n",
       "2              1     1, 4, 9   \n",
       "3              1        6, 8   \n",
       "4              1     6, 8, 9   \n",
       "\n",
       "                                               Tweet  \n",
       "0  We are living in scary times in Canada. Gov’t ...  \n",
       "1  Just as bad in Canada. In fact, our government...  \n",
       "2  It was only a matter of time before the mainst...  \n",
       "3  Russia's taking no chances: Foreigners infecte...  \n",
       "4  Although there is now a presumptive confirmed ...  "
      ]
     },
     "execution_count": 3,
     "metadata": {},
     "output_type": "execute_result"
    }
   ],
   "source": [
    "tweets.head()"
   ]
  },
  {
   "cell_type": "markdown",
   "metadata": {},
   "source": [
    "# ICA"
   ]
  },
  {
   "cell_type": "code",
   "execution_count": 4,
   "metadata": {},
   "outputs": [
    {
     "name": "stdout",
     "output_type": "stream",
     "text": [
      "loaded numpy A embeddings\n"
     ]
    }
   ],
   "source": [
    "# load array of embedded tweets\n",
    "A_embeddings = np.load('tweet_embed_A.npy')\n",
    "print('loaded numpy A embeddings')"
   ]
  },
  {
   "cell_type": "code",
   "execution_count": 5,
   "metadata": {},
   "outputs": [
    {
     "name": "stdout",
     "output_type": "stream",
     "text": [
      "loaded pretrained model\n"
     ]
    }
   ],
   "source": [
    "# load trained classification algorithm\n",
    "svc_ICA = joblib.load('svm_A_Fold 3.pkl')\n",
    "print('loaded pretrained model')"
   ]
  },
  {
   "cell_type": "code",
   "execution_count": 6,
   "metadata": {},
   "outputs": [
    {
     "name": "stdout",
     "output_type": "stream",
     "text": [
      "made class predictions\n"
     ]
    }
   ],
   "source": [
    "# get predictions\n",
    "ICA_predictions = svc_ICA.predict(A_embeddings)\n",
    "print('made class predictions')"
   ]
  },
  {
   "cell_type": "markdown",
   "metadata": {},
   "source": [
    "# BERT"
   ]
  },
  {
   "cell_type": "code",
   "execution_count": 7,
   "metadata": {},
   "outputs": [
    {
     "name": "stdout",
     "output_type": "stream",
     "text": [
      "loaded numpy bert embeddings\n"
     ]
    }
   ],
   "source": [
    "# load array of embedded tweets\n",
    "bert_embeddings = np.load('bert_embeddings.npy')\n",
    "print('loaded numpy bert embeddings')"
   ]
  },
  {
   "cell_type": "code",
   "execution_count": 8,
   "metadata": {},
   "outputs": [
    {
     "name": "stdout",
     "output_type": "stream",
     "text": [
      "loaded pretrained model\n"
     ]
    }
   ],
   "source": [
    "# load trained classification algorithm\n",
    "svc_BERT = joblib.load('svm_bert_Fold 4.pkl')\n",
    "print('loaded pretrained model')"
   ]
  },
  {
   "cell_type": "code",
   "execution_count": 9,
   "metadata": {},
   "outputs": [
    {
     "name": "stdout",
     "output_type": "stream",
     "text": [
      "made class predictions\n"
     ]
    }
   ],
   "source": [
    "# get predictions\n",
    "BERT_predictions = svc_BERT.predict(bert_embeddings)\n",
    "print('made class predictions')"
   ]
  },
  {
   "cell_type": "markdown",
   "metadata": {},
   "source": [
    "# Add predictions to dataframe"
   ]
  },
  {
   "cell_type": "code",
   "execution_count": 10,
   "metadata": {},
   "outputs": [],
   "source": [
    "tweets['BERT_predict'] = BERT_predictions\n",
    "tweets['ICA_predict'] = ICA_predictions"
   ]
  },
  {
   "cell_type": "code",
   "execution_count": 11,
   "metadata": {},
   "outputs": [],
   "source": [
    "example_cases = list()\n",
    "for i in range(tweets.shape[0]):\n",
    "    # if tweet is reliable\n",
    "    if tweets['Is_Unreliable'][i] == 0:\n",
    "        \n",
    "        # if BERT is right\n",
    "        if tweets['BERT_predict'][i] == 0:\n",
    "            # if ICA is right\n",
    "            if tweets['ICA_predict'][i] == 0:\n",
    "                example_cases.append(1)\n",
    "            \n",
    "            # if ICA is wrong   \n",
    "            else:\n",
    "                example_cases.append(3)\n",
    "        \n",
    "        # if BERT is wrong\n",
    "        else:\n",
    "            # if ICA is right\n",
    "            if tweets['ICA_predict'][i] == 0:\n",
    "                example_cases.append(4)\n",
    "            \n",
    "            # if ICA is wrong   \n",
    "            else:\n",
    "                example_cases.append(2)\n",
    "    \n",
    "    #if tweet is unreliable\n",
    "    else:\n",
    "        \n",
    "        # if BERT is right\n",
    "        if tweets['BERT_predict'][i] == 1:\n",
    "            # if ICA is right\n",
    "            if tweets['ICA_predict'][i] == 1:\n",
    "                example_cases.append(5)\n",
    "                \n",
    "            # if ICA is wrong\n",
    "            else:\n",
    "                example_cases.append(7)\n",
    "            \n",
    "        # if BERT is wrong\n",
    "        else:\n",
    "            # if ICA is right\n",
    "            if tweets['ICA_predict'][i] == 1:\n",
    "                example_cases.append(8)\n",
    "            \n",
    "            # if ICA is wrong\n",
    "            else:\n",
    "                example_cases.append(6)\n",
    "                \n",
    "tweets['Example_Case'] = example_cases"
   ]
  },
  {
   "cell_type": "code",
   "execution_count": 12,
   "metadata": {},
   "outputs": [],
   "source": [
    "tweets[['Is_Unreliable',\n",
    "        'BERT_predict',\n",
    "        'ICA_predict',\n",
    "        'Example_Case',\n",
    "        'Tweet',\n",
    "        'Category']].rename(columns = {'Category': 'LitReview_Category'}).to_csv('COVID19_Dataset_with_predictions.csv')"
   ]
  },
  {
   "cell_type": "code",
   "execution_count": null,
   "metadata": {},
   "outputs": [],
   "source": []
  }
 ],
 "metadata": {
  "kernelspec": {
   "display_name": "Python 3",
   "language": "python",
   "name": "python3"
  },
  "language_info": {
   "codemirror_mode": {
    "name": "ipython",
    "version": 3
   },
   "file_extension": ".py",
   "mimetype": "text/x-python",
   "name": "python",
   "nbconvert_exporter": "python",
   "pygments_lexer": "ipython3",
   "version": "3.7.7"
  }
 },
 "nbformat": 4,
 "nbformat_minor": 4
}
