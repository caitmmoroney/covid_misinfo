{
 "cells": [
  {
   "cell_type": "markdown",
   "metadata": {},
   "source": [
    "# One-Class Classification with Tweet Embeddings"
   ]
  },
  {
   "cell_type": "code",
   "execution_count": 1,
   "metadata": {},
   "outputs": [],
   "source": [
    "# import modules\n",
    "import numpy as np\n",
    "import pandas as pd\n",
    "from nltk import word_tokenize, pos_tag\n",
    "from nltk.corpus import stopwords, wordnet\n",
    "from nltk.tokenize.treebank import TreebankWordDetokenizer\n",
    "from sklearn.base import TransformerMixin\n",
    "from sklearn.decomposition import FastICA\n",
    "from sklearn.preprocessing import StandardScaler\n",
    "import re\n",
    "import matplotlib.pyplot as plt\n",
    "from nltk.stem import WordNetLemmatizer"
   ]
  },
  {
   "cell_type": "markdown",
   "metadata": {},
   "source": [
    "## Load data"
   ]
  },
  {
   "cell_type": "code",
   "execution_count": 2,
   "metadata": {},
   "outputs": [],
   "source": [
    "xls = pd.ExcelFile('../../../ForLastExpt.xlsx')"
   ]
  },
  {
   "cell_type": "code",
   "execution_count": 3,
   "metadata": {},
   "outputs": [],
   "source": [
    "class1_train = pd.read_excel(xls, 'Class=1 Training')\n",
    "class1_tune = pd.read_excel(xls, 'Class=1 Validation')\n",
    "class1_test_pt1 = pd.read_excel(xls, 'Class=1 Test Part-1')\n",
    "class1_test_pt2 = pd.read_excel(xls, 'Class=1 Test Part-2')\n",
    "class0_train = pd.read_excel(xls, 'Class=0 Training')\n",
    "class0_tune = pd.read_excel(xls, 'Class=0 Validation')\n",
    "class0_test_pt1 = pd.read_excel(xls, 'Class=0 Test Part-1')\n",
    "class0_test_pt2 = pd.read_excel(xls, 'Class=0 Test Part-2')"
   ]
  },
  {
   "cell_type": "code",
   "execution_count": 4,
   "metadata": {},
   "outputs": [],
   "source": [
    "# create outlier target values\n",
    "\n",
    "# class1_train\n",
    "outlier = []\n",
    "for i in class1_train['Is_Unreliable']:\n",
    "    if i == 0:\n",
    "        i = 1\n",
    "    else:\n",
    "        i = -1\n",
    "    outlier.append(i)\n",
    "class1_train['outlier_target'] = outlier\n",
    "\n",
    "# class1_tune\n",
    "outlier = []\n",
    "for i in class1_tune['Is_Unreliable']:\n",
    "    if i == 0:\n",
    "        i = 1\n",
    "    else:\n",
    "        i = -1\n",
    "    outlier.append(i)\n",
    "class1_tune['outlier_target'] = outlier\n",
    "\n",
    "# class1_test_pt1\n",
    "outlier = []\n",
    "for i in class1_test_pt1['Is_Unreliable']:\n",
    "    if i == 0:\n",
    "        i = 1\n",
    "    else:\n",
    "        i = -1\n",
    "    outlier.append(i)\n",
    "class1_test_pt1['outlier_target'] = outlier\n",
    "\n",
    "# class1_test_pt2\n",
    "outlier = []\n",
    "for i in class1_test_pt2['Is_Unreliable']:\n",
    "    if i == 0:\n",
    "        i = 1\n",
    "    else:\n",
    "        i = -1\n",
    "    outlier.append(i)\n",
    "class1_test_pt2['outlier_target'] = outlier\n",
    "\n",
    "# class0_train\n",
    "outlier = []\n",
    "for i in class0_train['Is_Unreliable']:\n",
    "    if i == 0:\n",
    "        i = 1\n",
    "    else:\n",
    "        i = -1\n",
    "    outlier.append(i)\n",
    "class0_train['outlier_target'] = outlier\n",
    "\n",
    "# class0_tune\n",
    "outlier = []\n",
    "for i in class0_tune['Is_Unreliable']:\n",
    "    if i == 0:\n",
    "        i = 1\n",
    "    else:\n",
    "        i = -1\n",
    "    outlier.append(i)\n",
    "class0_tune['outlier_target'] = outlier\n",
    "\n",
    "# class0_test_pt1\n",
    "outlier = []\n",
    "for i in class0_test_pt1['Is_Unreliable']:\n",
    "    if i == 0:\n",
    "        i = 1\n",
    "    else:\n",
    "        i = -1\n",
    "    outlier.append(i)\n",
    "class0_test_pt1['outlier_target'] = outlier\n",
    "\n",
    "# class0_test_pt2\n",
    "outlier = []\n",
    "for i in class0_test_pt2['Is_Unreliable']:\n",
    "    if i == 0:\n",
    "        i = 1\n",
    "    else:\n",
    "        i = -1\n",
    "    outlier.append(i)\n",
    "class0_test_pt2['outlier_target'] = outlier"
   ]
  },
  {
   "cell_type": "code",
   "execution_count": 5,
   "metadata": {},
   "outputs": [],
   "source": [
    "train_fold1 = class0_train\n",
    "tune_fold1 = pd.concat([class1_tune, class0_tune, class1_train], ignore_index = True)\n",
    "test_fold1 = pd.concat([class1_test_pt1, class1_test_pt2, class0_test_pt1, class0_test_pt2], ignore_index = True)\n",
    "\n",
    "train_fold2 = class0_test_pt1\n",
    "tune_fold2 = pd.concat([class1_test_pt2, class1_test_pt1, class0_test_pt2], ignore_index = True)\n",
    "test_fold2 = pd.concat([class1_tune, class0_tune, class1_train, class0_train], ignore_index = True)"
   ]
  },
  {
   "cell_type": "code",
   "execution_count": 6,
   "metadata": {},
   "outputs": [
    {
     "data": {
      "text/html": [
       "<div>\n",
       "<style scoped>\n",
       "    .dataframe tbody tr th:only-of-type {\n",
       "        vertical-align: middle;\n",
       "    }\n",
       "\n",
       "    .dataframe tbody tr th {\n",
       "        vertical-align: top;\n",
       "    }\n",
       "\n",
       "    .dataframe thead th {\n",
       "        text-align: right;\n",
       "    }\n",
       "</style>\n",
       "<table border=\"1\" class=\"dataframe\">\n",
       "  <thead>\n",
       "    <tr style=\"text-align: right;\">\n",
       "      <th></th>\n",
       "      <th>Is_Unreliable</th>\n",
       "      <th>Category</th>\n",
       "      <th>Tweet</th>\n",
       "      <th>outlier_target</th>\n",
       "    </tr>\n",
       "  </thead>\n",
       "  <tbody>\n",
       "    <tr>\n",
       "      <th>0</th>\n",
       "      <td>1</td>\n",
       "      <td>1, 3, 6, 9</td>\n",
       "      <td>We are living in scary times in Canada. Gov’t ...</td>\n",
       "      <td>-1</td>\n",
       "    </tr>\n",
       "    <tr>\n",
       "      <th>1</th>\n",
       "      <td>1</td>\n",
       "      <td>1, 6, 8, 9</td>\n",
       "      <td>Just as bad in Canada. In fact, our government...</td>\n",
       "      <td>-1</td>\n",
       "    </tr>\n",
       "    <tr>\n",
       "      <th>2</th>\n",
       "      <td>1</td>\n",
       "      <td>1, 4, 9</td>\n",
       "      <td>It was only a matter of time before the mainst...</td>\n",
       "      <td>-1</td>\n",
       "    </tr>\n",
       "    <tr>\n",
       "      <th>3</th>\n",
       "      <td>1</td>\n",
       "      <td>6, 8</td>\n",
       "      <td>Russia's taking no chances: Foreigners infecte...</td>\n",
       "      <td>-1</td>\n",
       "    </tr>\n",
       "    <tr>\n",
       "      <th>4</th>\n",
       "      <td>1</td>\n",
       "      <td>6, 8, 9</td>\n",
       "      <td>Although there is now a presumptive confirmed ...</td>\n",
       "      <td>-1</td>\n",
       "    </tr>\n",
       "    <tr>\n",
       "      <th>...</th>\n",
       "      <td>...</td>\n",
       "      <td>...</td>\n",
       "      <td>...</td>\n",
       "      <td>...</td>\n",
       "    </tr>\n",
       "    <tr>\n",
       "      <th>95</th>\n",
       "      <td>1</td>\n",
       "      <td>11, 10</td>\n",
       "      <td>EOIR has ordered immigration court staff to re...</td>\n",
       "      <td>-1</td>\n",
       "    </tr>\n",
       "    <tr>\n",
       "      <th>96</th>\n",
       "      <td>1</td>\n",
       "      <td>10</td>\n",
       "      <td>President - who said last night that #coronavi...</td>\n",
       "      <td>-1</td>\n",
       "    </tr>\n",
       "    <tr>\n",
       "      <th>97</th>\n",
       "      <td>1</td>\n",
       "      <td>11</td>\n",
       "      <td>Mashhad, NE #Iran Man collapses possibly due t...</td>\n",
       "      <td>-1</td>\n",
       "    </tr>\n",
       "    <tr>\n",
       "      <th>98</th>\n",
       "      <td>1</td>\n",
       "      <td>10, 11</td>\n",
       "      <td>Pence caught in lies about insurance covering ...</td>\n",
       "      <td>-1</td>\n",
       "    </tr>\n",
       "    <tr>\n",
       "      <th>99</th>\n",
       "      <td>1</td>\n",
       "      <td>9, 2, 14</td>\n",
       "      <td>and that's a no from me… Videos show Iranians ...</td>\n",
       "      <td>-1</td>\n",
       "    </tr>\n",
       "  </tbody>\n",
       "</table>\n",
       "<p>100 rows × 4 columns</p>\n",
       "</div>"
      ],
      "text/plain": [
       "    Is_Unreliable    Category  \\\n",
       "0               1  1, 3, 6, 9   \n",
       "1               1  1, 6, 8, 9   \n",
       "2               1     1, 4, 9   \n",
       "3               1        6, 8   \n",
       "4               1     6, 8, 9   \n",
       "..            ...         ...   \n",
       "95              1      11, 10   \n",
       "96              1          10   \n",
       "97              1          11   \n",
       "98              1      10, 11   \n",
       "99              1    9, 2, 14   \n",
       "\n",
       "                                                Tweet  outlier_target  \n",
       "0   We are living in scary times in Canada. Gov’t ...              -1  \n",
       "1   Just as bad in Canada. In fact, our government...              -1  \n",
       "2   It was only a matter of time before the mainst...              -1  \n",
       "3   Russia's taking no chances: Foreigners infecte...              -1  \n",
       "4   Although there is now a presumptive confirmed ...              -1  \n",
       "..                                                ...             ...  \n",
       "95  EOIR has ordered immigration court staff to re...              -1  \n",
       "96  President - who said last night that #coronavi...              -1  \n",
       "97  Mashhad, NE #Iran Man collapses possibly due t...              -1  \n",
       "98  Pence caught in lies about insurance covering ...              -1  \n",
       "99  and that's a no from me… Videos show Iranians ...              -1  \n",
       "\n",
       "[100 rows x 4 columns]"
      ]
     },
     "execution_count": 6,
     "metadata": {},
     "output_type": "execute_result"
    }
   ],
   "source": [
    "class1_train"
   ]
  },
  {
   "cell_type": "markdown",
   "metadata": {},
   "source": [
    "## Derive text vectors from word embeddings"
   ]
  },
  {
   "cell_type": "code",
   "execution_count": 7,
   "metadata": {},
   "outputs": [
    {
     "data": {
      "text/html": [
       "<div>\n",
       "<style scoped>\n",
       "    .dataframe tbody tr th:only-of-type {\n",
       "        vertical-align: middle;\n",
       "    }\n",
       "\n",
       "    .dataframe tbody tr th {\n",
       "        vertical-align: top;\n",
       "    }\n",
       "\n",
       "    .dataframe thead th {\n",
       "        text-align: right;\n",
       "    }\n",
       "</style>\n",
       "<table border=\"1\" class=\"dataframe\">\n",
       "  <thead>\n",
       "    <tr style=\"text-align: right;\">\n",
       "      <th></th>\n",
       "      <th>Comp 1</th>\n",
       "      <th>Comp 2</th>\n",
       "      <th>Comp 3</th>\n",
       "      <th>Comp 4</th>\n",
       "      <th>Comp 5</th>\n",
       "      <th>Comp 6</th>\n",
       "      <th>Comp 7</th>\n",
       "      <th>Comp 8</th>\n",
       "      <th>Comp 9</th>\n",
       "      <th>Comp 10</th>\n",
       "      <th>...</th>\n",
       "      <th>Comp 41</th>\n",
       "      <th>Comp 42</th>\n",
       "      <th>Comp 43</th>\n",
       "      <th>Comp 44</th>\n",
       "      <th>Comp 45</th>\n",
       "      <th>Comp 46</th>\n",
       "      <th>Comp 47</th>\n",
       "      <th>Comp 48</th>\n",
       "      <th>Comp 49</th>\n",
       "      <th>Comp 50</th>\n",
       "    </tr>\n",
       "  </thead>\n",
       "  <tbody>\n",
       "    <tr>\n",
       "      <th>!</th>\n",
       "      <td>-0.012094</td>\n",
       "      <td>0.000935</td>\n",
       "      <td>0.000976</td>\n",
       "      <td>-0.009518</td>\n",
       "      <td>-0.083408</td>\n",
       "      <td>0.012114</td>\n",
       "      <td>-0.030388</td>\n",
       "      <td>0.020018</td>\n",
       "      <td>0.015333</td>\n",
       "      <td>-0.003408</td>\n",
       "      <td>...</td>\n",
       "      <td>-0.028262</td>\n",
       "      <td>0.036965</td>\n",
       "      <td>-0.017945</td>\n",
       "      <td>-0.020004</td>\n",
       "      <td>0.008269</td>\n",
       "      <td>-0.069600</td>\n",
       "      <td>-0.055546</td>\n",
       "      <td>-0.028868</td>\n",
       "      <td>0.008643</td>\n",
       "      <td>-0.048048</td>\n",
       "    </tr>\n",
       "    <tr>\n",
       "      <th>#</th>\n",
       "      <td>0.030090</td>\n",
       "      <td>-0.011546</td>\n",
       "      <td>-0.027933</td>\n",
       "      <td>0.004141</td>\n",
       "      <td>-0.020924</td>\n",
       "      <td>-0.011667</td>\n",
       "      <td>0.028737</td>\n",
       "      <td>0.025169</td>\n",
       "      <td>0.036350</td>\n",
       "      <td>0.117241</td>\n",
       "      <td>...</td>\n",
       "      <td>-0.025798</td>\n",
       "      <td>-0.027569</td>\n",
       "      <td>0.047431</td>\n",
       "      <td>0.084039</td>\n",
       "      <td>0.044840</td>\n",
       "      <td>-0.010098</td>\n",
       "      <td>-0.050790</td>\n",
       "      <td>0.018669</td>\n",
       "      <td>-0.002559</td>\n",
       "      <td>0.039910</td>\n",
       "    </tr>\n",
       "    <tr>\n",
       "      <th>(</th>\n",
       "      <td>-0.017210</td>\n",
       "      <td>0.003451</td>\n",
       "      <td>-0.013769</td>\n",
       "      <td>0.016300</td>\n",
       "      <td>-0.011089</td>\n",
       "      <td>0.059428</td>\n",
       "      <td>0.205738</td>\n",
       "      <td>0.022734</td>\n",
       "      <td>-0.092807</td>\n",
       "      <td>-0.003518</td>\n",
       "      <td>...</td>\n",
       "      <td>0.014060</td>\n",
       "      <td>-0.000427</td>\n",
       "      <td>-0.001940</td>\n",
       "      <td>-0.031249</td>\n",
       "      <td>0.007885</td>\n",
       "      <td>-0.006893</td>\n",
       "      <td>0.013552</td>\n",
       "      <td>-0.103300</td>\n",
       "      <td>0.012017</td>\n",
       "      <td>-0.004168</td>\n",
       "    </tr>\n",
       "    <tr>\n",
       "      <th>)</th>\n",
       "      <td>-0.015370</td>\n",
       "      <td>0.005453</td>\n",
       "      <td>-0.015889</td>\n",
       "      <td>0.016313</td>\n",
       "      <td>-0.010720</td>\n",
       "      <td>0.060504</td>\n",
       "      <td>0.207101</td>\n",
       "      <td>0.022378</td>\n",
       "      <td>-0.093391</td>\n",
       "      <td>-0.001944</td>\n",
       "      <td>...</td>\n",
       "      <td>0.012235</td>\n",
       "      <td>0.000202</td>\n",
       "      <td>-0.003083</td>\n",
       "      <td>-0.031148</td>\n",
       "      <td>0.006398</td>\n",
       "      <td>-0.006262</td>\n",
       "      <td>0.014583</td>\n",
       "      <td>-0.115351</td>\n",
       "      <td>0.009816</td>\n",
       "      <td>-0.012142</td>\n",
       "    </tr>\n",
       "    <tr>\n",
       "      <th>,</th>\n",
       "      <td>0.009391</td>\n",
       "      <td>-0.028855</td>\n",
       "      <td>0.000247</td>\n",
       "      <td>0.023929</td>\n",
       "      <td>-0.018705</td>\n",
       "      <td>-0.001752</td>\n",
       "      <td>-0.002686</td>\n",
       "      <td>0.021136</td>\n",
       "      <td>-0.036904</td>\n",
       "      <td>0.031643</td>\n",
       "      <td>...</td>\n",
       "      <td>0.105091</td>\n",
       "      <td>0.072078</td>\n",
       "      <td>-0.036567</td>\n",
       "      <td>0.075362</td>\n",
       "      <td>0.052916</td>\n",
       "      <td>-0.075958</td>\n",
       "      <td>-0.021310</td>\n",
       "      <td>-0.000011</td>\n",
       "      <td>-0.008623</td>\n",
       "      <td>-0.073998</td>\n",
       "    </tr>\n",
       "    <tr>\n",
       "      <th>...</th>\n",
       "      <td>...</td>\n",
       "      <td>...</td>\n",
       "      <td>...</td>\n",
       "      <td>...</td>\n",
       "      <td>...</td>\n",
       "      <td>...</td>\n",
       "      <td>...</td>\n",
       "      <td>...</td>\n",
       "      <td>...</td>\n",
       "      <td>...</td>\n",
       "      <td>...</td>\n",
       "      <td>...</td>\n",
       "      <td>...</td>\n",
       "      <td>...</td>\n",
       "      <td>...</td>\n",
       "      <td>...</td>\n",
       "      <td>...</td>\n",
       "      <td>...</td>\n",
       "      <td>...</td>\n",
       "      <td>...</td>\n",
       "      <td>...</td>\n",
       "    </tr>\n",
       "    <tr>\n",
       "      <th>‘</th>\n",
       "      <td>-0.091469</td>\n",
       "      <td>-0.038311</td>\n",
       "      <td>-0.017282</td>\n",
       "      <td>0.009905</td>\n",
       "      <td>0.011328</td>\n",
       "      <td>-0.017742</td>\n",
       "      <td>0.040392</td>\n",
       "      <td>-0.018368</td>\n",
       "      <td>0.026076</td>\n",
       "      <td>-0.018067</td>\n",
       "      <td>...</td>\n",
       "      <td>0.004947</td>\n",
       "      <td>-0.021305</td>\n",
       "      <td>-0.020591</td>\n",
       "      <td>0.017108</td>\n",
       "      <td>0.047809</td>\n",
       "      <td>0.010627</td>\n",
       "      <td>0.020588</td>\n",
       "      <td>0.003104</td>\n",
       "      <td>0.014091</td>\n",
       "      <td>-0.015461</td>\n",
       "    </tr>\n",
       "    <tr>\n",
       "      <th>’</th>\n",
       "      <td>-0.007426</td>\n",
       "      <td>-0.033304</td>\n",
       "      <td>0.013391</td>\n",
       "      <td>0.049407</td>\n",
       "      <td>-0.040433</td>\n",
       "      <td>-0.105308</td>\n",
       "      <td>-0.007539</td>\n",
       "      <td>-0.007917</td>\n",
       "      <td>0.023227</td>\n",
       "      <td>0.011218</td>\n",
       "      <td>...</td>\n",
       "      <td>-0.004001</td>\n",
       "      <td>0.021299</td>\n",
       "      <td>-0.044304</td>\n",
       "      <td>0.040301</td>\n",
       "      <td>0.057719</td>\n",
       "      <td>-0.007113</td>\n",
       "      <td>-0.048529</td>\n",
       "      <td>-0.034061</td>\n",
       "      <td>-0.135474</td>\n",
       "      <td>-0.025738</td>\n",
       "    </tr>\n",
       "    <tr>\n",
       "      <th>“</th>\n",
       "      <td>0.009738</td>\n",
       "      <td>-0.022400</td>\n",
       "      <td>-0.024158</td>\n",
       "      <td>0.014539</td>\n",
       "      <td>-0.011919</td>\n",
       "      <td>0.039461</td>\n",
       "      <td>-0.019486</td>\n",
       "      <td>-0.026052</td>\n",
       "      <td>-0.049054</td>\n",
       "      <td>-0.014180</td>\n",
       "      <td>...</td>\n",
       "      <td>0.012043</td>\n",
       "      <td>-0.008504</td>\n",
       "      <td>0.020894</td>\n",
       "      <td>0.004209</td>\n",
       "      <td>0.007849</td>\n",
       "      <td>0.005359</td>\n",
       "      <td>-0.100265</td>\n",
       "      <td>-0.012615</td>\n",
       "      <td>-0.028282</td>\n",
       "      <td>-0.042011</td>\n",
       "    </tr>\n",
       "    <tr>\n",
       "      <th>”</th>\n",
       "      <td>0.005733</td>\n",
       "      <td>-0.021793</td>\n",
       "      <td>-0.021662</td>\n",
       "      <td>0.003647</td>\n",
       "      <td>-0.017282</td>\n",
       "      <td>0.040848</td>\n",
       "      <td>-0.024902</td>\n",
       "      <td>-0.011127</td>\n",
       "      <td>-0.030509</td>\n",
       "      <td>0.000597</td>\n",
       "      <td>...</td>\n",
       "      <td>0.005433</td>\n",
       "      <td>-0.012980</td>\n",
       "      <td>-0.006990</td>\n",
       "      <td>0.009010</td>\n",
       "      <td>-0.000684</td>\n",
       "      <td>0.020456</td>\n",
       "      <td>0.002314</td>\n",
       "      <td>-0.008129</td>\n",
       "      <td>-0.027064</td>\n",
       "      <td>0.014475</td>\n",
       "    </tr>\n",
       "    <tr>\n",
       "      <th>❝real</th>\n",
       "      <td>0.000833</td>\n",
       "      <td>-0.002569</td>\n",
       "      <td>0.009633</td>\n",
       "      <td>-0.003461</td>\n",
       "      <td>0.002183</td>\n",
       "      <td>0.013607</td>\n",
       "      <td>-0.011397</td>\n",
       "      <td>-0.012909</td>\n",
       "      <td>0.003092</td>\n",
       "      <td>-0.006175</td>\n",
       "      <td>...</td>\n",
       "      <td>-0.000243</td>\n",
       "      <td>-0.003712</td>\n",
       "      <td>0.001220</td>\n",
       "      <td>-0.007271</td>\n",
       "      <td>-0.009404</td>\n",
       "      <td>-0.005360</td>\n",
       "      <td>-0.003550</td>\n",
       "      <td>-0.000709</td>\n",
       "      <td>-0.015083</td>\n",
       "      <td>0.010649</td>\n",
       "    </tr>\n",
       "  </tbody>\n",
       "</table>\n",
       "<p>2327 rows × 50 columns</p>\n",
       "</div>"
      ],
      "text/plain": [
       "         Comp 1    Comp 2    Comp 3    Comp 4    Comp 5    Comp 6    Comp 7  \\\n",
       "!     -0.012094  0.000935  0.000976 -0.009518 -0.083408  0.012114 -0.030388   \n",
       "#      0.030090 -0.011546 -0.027933  0.004141 -0.020924 -0.011667  0.028737   \n",
       "(     -0.017210  0.003451 -0.013769  0.016300 -0.011089  0.059428  0.205738   \n",
       ")     -0.015370  0.005453 -0.015889  0.016313 -0.010720  0.060504  0.207101   \n",
       ",      0.009391 -0.028855  0.000247  0.023929 -0.018705 -0.001752 -0.002686   \n",
       "...         ...       ...       ...       ...       ...       ...       ...   \n",
       "‘     -0.091469 -0.038311 -0.017282  0.009905  0.011328 -0.017742  0.040392   \n",
       "’     -0.007426 -0.033304  0.013391  0.049407 -0.040433 -0.105308 -0.007539   \n",
       "“      0.009738 -0.022400 -0.024158  0.014539 -0.011919  0.039461 -0.019486   \n",
       "”      0.005733 -0.021793 -0.021662  0.003647 -0.017282  0.040848 -0.024902   \n",
       "❝real  0.000833 -0.002569  0.009633 -0.003461  0.002183  0.013607 -0.011397   \n",
       "\n",
       "         Comp 8    Comp 9   Comp 10  ...   Comp 41   Comp 42   Comp 43  \\\n",
       "!      0.020018  0.015333 -0.003408  ... -0.028262  0.036965 -0.017945   \n",
       "#      0.025169  0.036350  0.117241  ... -0.025798 -0.027569  0.047431   \n",
       "(      0.022734 -0.092807 -0.003518  ...  0.014060 -0.000427 -0.001940   \n",
       ")      0.022378 -0.093391 -0.001944  ...  0.012235  0.000202 -0.003083   \n",
       ",      0.021136 -0.036904  0.031643  ...  0.105091  0.072078 -0.036567   \n",
       "...         ...       ...       ...  ...       ...       ...       ...   \n",
       "‘     -0.018368  0.026076 -0.018067  ...  0.004947 -0.021305 -0.020591   \n",
       "’     -0.007917  0.023227  0.011218  ... -0.004001  0.021299 -0.044304   \n",
       "“     -0.026052 -0.049054 -0.014180  ...  0.012043 -0.008504  0.020894   \n",
       "”     -0.011127 -0.030509  0.000597  ...  0.005433 -0.012980 -0.006990   \n",
       "❝real -0.012909  0.003092 -0.006175  ... -0.000243 -0.003712  0.001220   \n",
       "\n",
       "        Comp 44   Comp 45   Comp 46   Comp 47   Comp 48   Comp 49   Comp 50  \n",
       "!     -0.020004  0.008269 -0.069600 -0.055546 -0.028868  0.008643 -0.048048  \n",
       "#      0.084039  0.044840 -0.010098 -0.050790  0.018669 -0.002559  0.039910  \n",
       "(     -0.031249  0.007885 -0.006893  0.013552 -0.103300  0.012017 -0.004168  \n",
       ")     -0.031148  0.006398 -0.006262  0.014583 -0.115351  0.009816 -0.012142  \n",
       ",      0.075362  0.052916 -0.075958 -0.021310 -0.000011 -0.008623 -0.073998  \n",
       "...         ...       ...       ...       ...       ...       ...       ...  \n",
       "‘      0.017108  0.047809  0.010627  0.020588  0.003104  0.014091 -0.015461  \n",
       "’      0.040301  0.057719 -0.007113 -0.048529 -0.034061 -0.135474 -0.025738  \n",
       "“      0.004209  0.007849  0.005359 -0.100265 -0.012615 -0.028282 -0.042011  \n",
       "”      0.009010 -0.000684  0.020456  0.002314 -0.008129 -0.027064  0.014475  \n",
       "❝real -0.007271 -0.009404 -0.005360 -0.003550 -0.000709 -0.015083  0.010649  \n",
       "\n",
       "[2327 rows x 50 columns]"
      ]
     },
     "execution_count": 7,
     "metadata": {},
     "output_type": "execute_result"
    }
   ],
   "source": [
    "embeddings = pd.read_csv('word_embed_50.csv', index_col = 0)\n",
    "embeddings"
   ]
  },
  {
   "cell_type": "code",
   "execution_count": 8,
   "metadata": {},
   "outputs": [],
   "source": [
    "# to convert contractions picked up by word_tokenize() into full words\n",
    "contractions = {\n",
    "    \"n't\": 'not',\n",
    "    \"'ve\": 'have',\n",
    "    \"'s\": 'is', # note that this will include possessive nouns\n",
    "    'gonna': 'going to',\n",
    "    'gotta': 'got to',\n",
    "    \"'d\": 'would',\n",
    "    \"'ll\": 'will',\n",
    "    \"'re\": 'are',\n",
    "    \"'m\": 'am',\n",
    "    'wanna': 'want to'\n",
    "}\n",
    "\n",
    "# to convert nltk_pos tags to wordnet-compatible PoS tags\n",
    "def convert_pos_wordnet(tag):\n",
    "    tag_abbr = tag[0].upper()\n",
    "    tag_dict = {\n",
    "        'J': wordnet.ADJ,\n",
    "        'N': wordnet.NOUN,\n",
    "        'V': wordnet.VERB,\n",
    "        'R': wordnet.ADV\n",
    "    }\n",
    "                \n",
    "    if tag_abbr in tag_dict:\n",
    "        return tag_dict[tag_abbr]"
   ]
  },
  {
   "cell_type": "code",
   "execution_count": 9,
   "metadata": {},
   "outputs": [],
   "source": [
    "def get_text_vectors(word_embeddings, # pandas dataframe with row index = vocabulary\n",
    "                     text_list, # list of strings\n",
    "                     remove_stopwords = True,\n",
    "                     lowercase = True,\n",
    "                     lemmatize = True,\n",
    "                     add_start_end_tokens = True):\n",
    "    \n",
    "    lemmatizer = WordNetLemmatizer()\n",
    "    \n",
    "    for k in range(len(text_list)):\n",
    "        text = text_list[k]\n",
    "        text = re.sub(r'[_~`@$%^&*[\\]+=\\|}{\\\"\\'<>/]+', '', text)\n",
    "        text_vec = np.zeros(word_embeddings.shape[1])\n",
    "        words = word_tokenize(text)\n",
    "        tracker = 0 # to track whether we've encountered a word for which we have an embedding (in each tweet)\n",
    "        \n",
    "        if remove_stopwords:\n",
    "            clean_words = []\n",
    "            for word in words:\n",
    "                if word.lower() not in set(stopwords.words('english')):\n",
    "                    clean_words.append(word)\n",
    "            words = clean_words\n",
    "\n",
    "        if lowercase:\n",
    "            clean_words = []\n",
    "            for word in words:\n",
    "                clean_words.append(word.lower())\n",
    "\n",
    "            words = clean_words\n",
    "\n",
    "        if lemmatize:\n",
    "            clean_words = []\n",
    "            for word in words:\n",
    "                PoS_tag = pos_tag([word])[0][1]\n",
    "\n",
    "                # to change contractions to full word form\n",
    "                if word in contractions:\n",
    "                    word = contractions[word]\n",
    "\n",
    "                if PoS_tag[0].upper() in 'JNVR':\n",
    "                    word = lemmatizer.lemmatize(word, convert_pos_wordnet(PoS_tag))\n",
    "                else:\n",
    "                    word = lemmatizer.lemmatize(word)\n",
    "\n",
    "                clean_words.append(word)\n",
    "\n",
    "            words = clean_words\n",
    "\n",
    "        if add_start_end_tokens:\n",
    "            words = ['<START>'] + words + ['<END>']\n",
    "        \n",
    "        for i in range(len(words)):\n",
    "            word = words[i]\n",
    "            if word in word_embeddings.index.tolist():\n",
    "                word_embed_vec = word_embeddings.loc[word].values\n",
    "                if tracker == 0:\n",
    "                    text_matrix = word_embed_vec\n",
    "                else:\n",
    "                    text_matrix = np.vstack((text_matrix, word_embed_vec))\n",
    "                    \n",
    "                # only increment if we have come across a word in the embeddings dictionary\n",
    "                tracker += 1\n",
    "                    \n",
    "        for j in range(len(text_vec)):\n",
    "            text_vec[j] = text_matrix[:,j].mean()\n",
    "            \n",
    "        if k == 0:\n",
    "            full_matrix = text_vec\n",
    "        else:\n",
    "            full_matrix = np.vstack((full_matrix, text_vec))\n",
    "            \n",
    "    return full_matrix"
   ]
  },
  {
   "cell_type": "code",
   "execution_count": 10,
   "metadata": {},
   "outputs": [],
   "source": [
    "train_fold1_X = get_text_vectors(embeddings, train_fold1['Tweet'])\n",
    "train_fold1_y = train_fold1['outlier_target']\n",
    "\n",
    "tune_fold1_X = get_text_vectors(embeddings, tune_fold1['Tweet'])\n",
    "tune_fold1_y = tune_fold1['outlier_target']\n",
    "\n",
    "test_fold1_X = get_text_vectors(embeddings, test_fold1['Tweet'])\n",
    "test_fold1_y = test_fold1['outlier_target']\n",
    "\n",
    "train_fold2_X = get_text_vectors(embeddings, train_fold2['Tweet'])\n",
    "train_fold2_y = train_fold2['outlier_target']\n",
    "\n",
    "tune_fold2_X = get_text_vectors(embeddings, tune_fold2['Tweet'])\n",
    "tune_fold2_y = tune_fold2['outlier_target']\n",
    "\n",
    "test_fold2_X = get_text_vectors(embeddings, test_fold2['Tweet'])\n",
    "test_fold2_y = test_fold2['outlier_target']"
   ]
  },
  {
   "cell_type": "markdown",
   "metadata": {},
   "source": [
    "## Binary classification: two-fold CV"
   ]
  },
  {
   "cell_type": "code",
   "execution_count": 11,
   "metadata": {},
   "outputs": [],
   "source": [
    "from sklearn.svm import OneClassSVM\n",
    "from sklearn.metrics import roc_auc_score, accuracy_score, precision_score, recall_score, f1_score"
   ]
  },
  {
   "cell_type": "code",
   "execution_count": 12,
   "metadata": {},
   "outputs": [],
   "source": [
    "# SVC hyperparams to optimize\n",
    "kernel = ['rbf', 'linear', 'poly', 'sigmoid']"
   ]
  },
  {
   "cell_type": "markdown",
   "metadata": {},
   "source": [
    "### Fold 1"
   ]
  },
  {
   "cell_type": "code",
   "execution_count": 16,
   "metadata": {},
   "outputs": [
    {
     "data": {
      "text/plain": [
       "OneClassSVM(kernel='poly')"
      ]
     },
     "execution_count": 16,
     "metadata": {},
     "output_type": "execute_result"
    }
   ],
   "source": [
    "# training & tuning\n",
    "models = []\n",
    "tune_f1 = []\n",
    "for ker in kernel:\n",
    "    svc = OneClassSVM(kernel = ker)\n",
    "    svc.fit(train_fold1_X, train_fold1_y)\n",
    "    models.append(svc)\n",
    "    tune_predict = svc.predict(tune_fold1_X)\n",
    "    f1 = f1_score(tune_fold1_y, tune_predict, average = 'macro')\n",
    "    tune_f1.append(f1)\n",
    "        \n",
    "opt_model = models[tune_f1.index(max(tune_f1))]\n",
    "opt_model"
   ]
  },
  {
   "cell_type": "code",
   "execution_count": 17,
   "metadata": {},
   "outputs": [
    {
     "data": {
      "text/plain": [
       "[0.572228823629265, 0.7515527950310559, 0.7831727205337287, 0.7458823529411764]"
      ]
     },
     "execution_count": 17,
     "metadata": {},
     "output_type": "execute_result"
    }
   ],
   "source": [
    "tune_f1"
   ]
  },
  {
   "cell_type": "code",
   "execution_count": 23,
   "metadata": {},
   "outputs": [
    {
     "data": {
      "text/plain": [
       "{'auc': [0.7590816326530612],\n",
       " 'accuracy': [0.6571428571428571],\n",
       " 'recall': [0.6571428571428571],\n",
       " 'precision': [0.6925],\n",
       " 'f1': [0.6406417112299465]}"
      ]
     },
     "execution_count": 23,
     "metadata": {},
     "output_type": "execute_result"
    }
   ],
   "source": [
    "# testing\n",
    "test_scores = dict()\n",
    "test_predict = opt_model.predict(test_fold1_X)\n",
    "test_predict_proba = opt_model.decision_function(test_fold1_X)\n",
    "test_scores['auc'] = [roc_auc_score(test_fold1_y, test_predict_proba, average = 'macro')]\n",
    "test_scores['accuracy'] = [accuracy_score(test_fold1_y, test_predict)]\n",
    "test_scores['recall'] = [recall_score(test_fold1_y, test_predict, average = 'macro')]\n",
    "test_scores['precision'] = [precision_score(test_fold1_y, test_predict, average = 'macro')]\n",
    "test_scores['f1'] = [f1_score(test_fold1_y, test_predict, average = 'macro')]\n",
    "test_scores"
   ]
  },
  {
   "cell_type": "markdown",
   "metadata": {},
   "source": [
    "### Fold 2"
   ]
  },
  {
   "cell_type": "code",
   "execution_count": 24,
   "metadata": {},
   "outputs": [
    {
     "data": {
      "text/plain": [
       "OneClassSVM(kernel='linear')"
      ]
     },
     "execution_count": 24,
     "metadata": {},
     "output_type": "execute_result"
    }
   ],
   "source": [
    "# training & tuning\n",
    "models = []\n",
    "tune_f1 = []\n",
    "for ker in kernel:\n",
    "    svc = OneClassSVM(kernel = ker)\n",
    "    svc.fit(train_fold2_X, train_fold2_y)\n",
    "    models.append(svc)\n",
    "    tune_predict = svc.predict(tune_fold2_X)\n",
    "    f1 = f1_score(tune_fold2_y, tune_predict, average = 'macro')\n",
    "    tune_f1.append(f1)\n",
    "        \n",
    "opt_model = models[tune_f1.index(max(tune_f1))]\n",
    "opt_model"
   ]
  },
  {
   "cell_type": "code",
   "execution_count": 25,
   "metadata": {},
   "outputs": [
    {
     "data": {
      "text/plain": [
       "[0.585055021530164, 0.6180555555555556, 0.6145226355894218, 0.6133836093742542]"
      ]
     },
     "execution_count": 25,
     "metadata": {},
     "output_type": "execute_result"
    }
   ],
   "source": [
    "tune_f1"
   ]
  },
  {
   "cell_type": "code",
   "execution_count": 26,
   "metadata": {},
   "outputs": [
    {
     "data": {
      "text/plain": [
       "{'auc': [0.7590816326530612, 0.7688265306122449],\n",
       " 'accuracy': [0.6571428571428571, 0.6785714285714286],\n",
       " 'recall': [0.6571428571428571, 0.6785714285714286],\n",
       " 'precision': [0.6925, 0.698143115942029],\n",
       " 'f1': [0.6406417112299465, 0.6186440677966102]}"
      ]
     },
     "execution_count": 26,
     "metadata": {},
     "output_type": "execute_result"
    }
   ],
   "source": [
    "# testing\n",
    "test_predict = opt_model.predict(test_fold2_X)\n",
    "test_predict_proba = opt_model.decision_function(test_fold2_X)\n",
    "test_scores['auc'].append(roc_auc_score(test_fold2_y, test_predict_proba, average = 'macro'))\n",
    "test_scores['accuracy'].append(accuracy_score(test_fold2_y, test_predict))\n",
    "test_scores['recall'].append(recall_score(test_fold2_y, test_predict, average = 'macro'))\n",
    "test_scores['precision'].append(precision_score(test_fold2_y, test_predict, average = 'macro'))\n",
    "test_scores['f1'].append(f1_score(test_fold2_y, test_predict))\n",
    "test_scores"
   ]
  },
  {
   "cell_type": "markdown",
   "metadata": {},
   "source": [
    "### Average results"
   ]
  },
  {
   "cell_type": "code",
   "execution_count": 27,
   "metadata": {},
   "outputs": [
    {
     "data": {
      "text/plain": [
       "0.7639540816326531"
      ]
     },
     "execution_count": 27,
     "metadata": {},
     "output_type": "execute_result"
    }
   ],
   "source": [
    "sum(test_scores['auc'])/2"
   ]
  },
  {
   "cell_type": "code",
   "execution_count": 28,
   "metadata": {},
   "outputs": [
    {
     "data": {
      "text/plain": [
       "0.6678571428571429"
      ]
     },
     "execution_count": 28,
     "metadata": {},
     "output_type": "execute_result"
    }
   ],
   "source": [
    "sum(test_scores['accuracy'])/2"
   ]
  },
  {
   "cell_type": "code",
   "execution_count": 29,
   "metadata": {},
   "outputs": [
    {
     "data": {
      "text/plain": [
       "0.6678571428571429"
      ]
     },
     "execution_count": 29,
     "metadata": {},
     "output_type": "execute_result"
    }
   ],
   "source": [
    "sum(test_scores['recall'])/2"
   ]
  },
  {
   "cell_type": "code",
   "execution_count": 30,
   "metadata": {},
   "outputs": [
    {
     "data": {
      "text/plain": [
       "0.6953215579710146"
      ]
     },
     "execution_count": 30,
     "metadata": {},
     "output_type": "execute_result"
    }
   ],
   "source": [
    "sum(test_scores['precision'])/2"
   ]
  },
  {
   "cell_type": "code",
   "execution_count": 31,
   "metadata": {},
   "outputs": [
    {
     "data": {
      "text/plain": [
       "0.6296428895132784"
      ]
     },
     "execution_count": 31,
     "metadata": {},
     "output_type": "execute_result"
    }
   ],
   "source": [
    "sum(test_scores['f1'])/2"
   ]
  },
  {
   "cell_type": "code",
   "execution_count": null,
   "metadata": {},
   "outputs": [],
   "source": []
  }
 ],
 "metadata": {
  "kernelspec": {
   "display_name": "Python 3",
   "language": "python",
   "name": "python3"
  },
  "language_info": {
   "codemirror_mode": {
    "name": "ipython",
    "version": 3
   },
   "file_extension": ".py",
   "mimetype": "text/x-python",
   "name": "python",
   "nbconvert_exporter": "python",
   "pygments_lexer": "ipython3",
   "version": "3.7.7"
  }
 },
 "nbformat": 4,
 "nbformat_minor": 4
}
