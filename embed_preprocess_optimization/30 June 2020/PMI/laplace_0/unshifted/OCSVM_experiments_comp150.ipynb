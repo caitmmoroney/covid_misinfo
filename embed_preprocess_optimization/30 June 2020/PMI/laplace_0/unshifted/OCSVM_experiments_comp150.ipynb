{
 "cells": [
  {
   "cell_type": "markdown",
   "metadata": {},
   "source": [
    "# One-Class Classification with Tweet Embeddings"
   ]
  },
  {
   "cell_type": "code",
   "execution_count": 1,
   "metadata": {},
   "outputs": [],
   "source": [
    "# import modules\n",
    "import numpy as np\n",
    "import pandas as pd\n",
    "from nltk import word_tokenize, pos_tag\n",
    "from nltk.corpus import stopwords, wordnet\n",
    "from nltk.tokenize.treebank import TreebankWordDetokenizer\n",
    "from sklearn.base import TransformerMixin\n",
    "from sklearn.decomposition import FastICA\n",
    "from sklearn.preprocessing import StandardScaler\n",
    "import re\n",
    "import matplotlib.pyplot as plt\n",
    "from nltk.stem import WordNetLemmatizer"
   ]
  },
  {
   "cell_type": "markdown",
   "metadata": {},
   "source": [
    "## Load data"
   ]
  },
  {
   "cell_type": "code",
   "execution_count": 2,
   "metadata": {},
   "outputs": [],
   "source": [
    "xls = pd.ExcelFile('../../../ForLastExpt.xlsx')"
   ]
  },
  {
   "cell_type": "code",
   "execution_count": 3,
   "metadata": {},
   "outputs": [],
   "source": [
    "class1_train = pd.read_excel(xls, 'Class=1 Training')\n",
    "class1_tune = pd.read_excel(xls, 'Class=1 Validation')\n",
    "class1_test_pt1 = pd.read_excel(xls, 'Class=1 Test Part-1')\n",
    "class1_test_pt2 = pd.read_excel(xls, 'Class=1 Test Part-2')\n",
    "class0_train = pd.read_excel(xls, 'Class=0 Training')\n",
    "class0_tune = pd.read_excel(xls, 'Class=0 Validation')\n",
    "class0_test_pt1 = pd.read_excel(xls, 'Class=0 Test Part-1')\n",
    "class0_test_pt2 = pd.read_excel(xls, 'Class=0 Test Part-2')"
   ]
  },
  {
   "cell_type": "code",
   "execution_count": 4,
   "metadata": {},
   "outputs": [],
   "source": [
    "# create outlier target values\n",
    "\n",
    "# class1_train\n",
    "outlier = []\n",
    "for i in class1_train['Is_Unreliable']:\n",
    "    if i == 0:\n",
    "        i = 1\n",
    "    else:\n",
    "        i = -1\n",
    "    outlier.append(i)\n",
    "class1_train['outlier_target'] = outlier\n",
    "\n",
    "# class1_tune\n",
    "outlier = []\n",
    "for i in class1_tune['Is_Unreliable']:\n",
    "    if i == 0:\n",
    "        i = 1\n",
    "    else:\n",
    "        i = -1\n",
    "    outlier.append(i)\n",
    "class1_tune['outlier_target'] = outlier\n",
    "\n",
    "# class1_test_pt1\n",
    "outlier = []\n",
    "for i in class1_test_pt1['Is_Unreliable']:\n",
    "    if i == 0:\n",
    "        i = 1\n",
    "    else:\n",
    "        i = -1\n",
    "    outlier.append(i)\n",
    "class1_test_pt1['outlier_target'] = outlier\n",
    "\n",
    "# class1_test_pt2\n",
    "outlier = []\n",
    "for i in class1_test_pt2['Is_Unreliable']:\n",
    "    if i == 0:\n",
    "        i = 1\n",
    "    else:\n",
    "        i = -1\n",
    "    outlier.append(i)\n",
    "class1_test_pt2['outlier_target'] = outlier\n",
    "\n",
    "# class0_train\n",
    "outlier = []\n",
    "for i in class0_train['Is_Unreliable']:\n",
    "    if i == 0:\n",
    "        i = 1\n",
    "    else:\n",
    "        i = -1\n",
    "    outlier.append(i)\n",
    "class0_train['outlier_target'] = outlier\n",
    "\n",
    "# class0_tune\n",
    "outlier = []\n",
    "for i in class0_tune['Is_Unreliable']:\n",
    "    if i == 0:\n",
    "        i = 1\n",
    "    else:\n",
    "        i = -1\n",
    "    outlier.append(i)\n",
    "class0_tune['outlier_target'] = outlier\n",
    "\n",
    "# class0_test_pt1\n",
    "outlier = []\n",
    "for i in class0_test_pt1['Is_Unreliable']:\n",
    "    if i == 0:\n",
    "        i = 1\n",
    "    else:\n",
    "        i = -1\n",
    "    outlier.append(i)\n",
    "class0_test_pt1['outlier_target'] = outlier\n",
    "\n",
    "# class0_test_pt2\n",
    "outlier = []\n",
    "for i in class0_test_pt2['Is_Unreliable']:\n",
    "    if i == 0:\n",
    "        i = 1\n",
    "    else:\n",
    "        i = -1\n",
    "    outlier.append(i)\n",
    "class0_test_pt2['outlier_target'] = outlier"
   ]
  },
  {
   "cell_type": "code",
   "execution_count": 5,
   "metadata": {},
   "outputs": [],
   "source": [
    "train_fold1 = class0_train\n",
    "tune_fold1 = pd.concat([class1_tune, class0_tune, class1_train], ignore_index = True)\n",
    "test_fold1 = pd.concat([class1_test_pt1, class1_test_pt2, class0_test_pt1, class0_test_pt2], ignore_index = True)\n",
    "\n",
    "train_fold2 = class0_test_pt1\n",
    "tune_fold2 = pd.concat([class1_test_pt2, class1_test_pt1, class0_test_pt2], ignore_index = True)\n",
    "test_fold2 = pd.concat([class1_tune, class0_tune, class1_train, class0_train], ignore_index = True)"
   ]
  },
  {
   "cell_type": "code",
   "execution_count": 6,
   "metadata": {},
   "outputs": [
    {
     "data": {
      "text/html": [
       "<div>\n",
       "<style scoped>\n",
       "    .dataframe tbody tr th:only-of-type {\n",
       "        vertical-align: middle;\n",
       "    }\n",
       "\n",
       "    .dataframe tbody tr th {\n",
       "        vertical-align: top;\n",
       "    }\n",
       "\n",
       "    .dataframe thead th {\n",
       "        text-align: right;\n",
       "    }\n",
       "</style>\n",
       "<table border=\"1\" class=\"dataframe\">\n",
       "  <thead>\n",
       "    <tr style=\"text-align: right;\">\n",
       "      <th></th>\n",
       "      <th>Is_Unreliable</th>\n",
       "      <th>Category</th>\n",
       "      <th>Tweet</th>\n",
       "      <th>outlier_target</th>\n",
       "    </tr>\n",
       "  </thead>\n",
       "  <tbody>\n",
       "    <tr>\n",
       "      <th>0</th>\n",
       "      <td>1</td>\n",
       "      <td>1, 3, 6, 9</td>\n",
       "      <td>We are living in scary times in Canada. Gov’t ...</td>\n",
       "      <td>-1</td>\n",
       "    </tr>\n",
       "    <tr>\n",
       "      <th>1</th>\n",
       "      <td>1</td>\n",
       "      <td>1, 6, 8, 9</td>\n",
       "      <td>Just as bad in Canada. In fact, our government...</td>\n",
       "      <td>-1</td>\n",
       "    </tr>\n",
       "    <tr>\n",
       "      <th>2</th>\n",
       "      <td>1</td>\n",
       "      <td>1, 4, 9</td>\n",
       "      <td>It was only a matter of time before the mainst...</td>\n",
       "      <td>-1</td>\n",
       "    </tr>\n",
       "    <tr>\n",
       "      <th>3</th>\n",
       "      <td>1</td>\n",
       "      <td>6, 8</td>\n",
       "      <td>Russia's taking no chances: Foreigners infecte...</td>\n",
       "      <td>-1</td>\n",
       "    </tr>\n",
       "    <tr>\n",
       "      <th>4</th>\n",
       "      <td>1</td>\n",
       "      <td>6, 8, 9</td>\n",
       "      <td>Although there is now a presumptive confirmed ...</td>\n",
       "      <td>-1</td>\n",
       "    </tr>\n",
       "    <tr>\n",
       "      <th>...</th>\n",
       "      <td>...</td>\n",
       "      <td>...</td>\n",
       "      <td>...</td>\n",
       "      <td>...</td>\n",
       "    </tr>\n",
       "    <tr>\n",
       "      <th>95</th>\n",
       "      <td>1</td>\n",
       "      <td>11, 10</td>\n",
       "      <td>EOIR has ordered immigration court staff to re...</td>\n",
       "      <td>-1</td>\n",
       "    </tr>\n",
       "    <tr>\n",
       "      <th>96</th>\n",
       "      <td>1</td>\n",
       "      <td>10</td>\n",
       "      <td>President - who said last night that #coronavi...</td>\n",
       "      <td>-1</td>\n",
       "    </tr>\n",
       "    <tr>\n",
       "      <th>97</th>\n",
       "      <td>1</td>\n",
       "      <td>11</td>\n",
       "      <td>Mashhad, NE #Iran Man collapses possibly due t...</td>\n",
       "      <td>-1</td>\n",
       "    </tr>\n",
       "    <tr>\n",
       "      <th>98</th>\n",
       "      <td>1</td>\n",
       "      <td>10, 11</td>\n",
       "      <td>Pence caught in lies about insurance covering ...</td>\n",
       "      <td>-1</td>\n",
       "    </tr>\n",
       "    <tr>\n",
       "      <th>99</th>\n",
       "      <td>1</td>\n",
       "      <td>9, 2, 14</td>\n",
       "      <td>and that's a no from me… Videos show Iranians ...</td>\n",
       "      <td>-1</td>\n",
       "    </tr>\n",
       "  </tbody>\n",
       "</table>\n",
       "<p>100 rows × 4 columns</p>\n",
       "</div>"
      ],
      "text/plain": [
       "    Is_Unreliable    Category  \\\n",
       "0               1  1, 3, 6, 9   \n",
       "1               1  1, 6, 8, 9   \n",
       "2               1     1, 4, 9   \n",
       "3               1        6, 8   \n",
       "4               1     6, 8, 9   \n",
       "..            ...         ...   \n",
       "95              1      11, 10   \n",
       "96              1          10   \n",
       "97              1          11   \n",
       "98              1      10, 11   \n",
       "99              1    9, 2, 14   \n",
       "\n",
       "                                                Tweet  outlier_target  \n",
       "0   We are living in scary times in Canada. Gov’t ...              -1  \n",
       "1   Just as bad in Canada. In fact, our government...              -1  \n",
       "2   It was only a matter of time before the mainst...              -1  \n",
       "3   Russia's taking no chances: Foreigners infecte...              -1  \n",
       "4   Although there is now a presumptive confirmed ...              -1  \n",
       "..                                                ...             ...  \n",
       "95  EOIR has ordered immigration court staff to re...              -1  \n",
       "96  President - who said last night that #coronavi...              -1  \n",
       "97  Mashhad, NE #Iran Man collapses possibly due t...              -1  \n",
       "98  Pence caught in lies about insurance covering ...              -1  \n",
       "99  and that's a no from me… Videos show Iranians ...              -1  \n",
       "\n",
       "[100 rows x 4 columns]"
      ]
     },
     "execution_count": 6,
     "metadata": {},
     "output_type": "execute_result"
    }
   ],
   "source": [
    "class1_train"
   ]
  },
  {
   "cell_type": "markdown",
   "metadata": {},
   "source": [
    "## Derive text vectors from word embeddings"
   ]
  },
  {
   "cell_type": "code",
   "execution_count": 7,
   "metadata": {},
   "outputs": [
    {
     "data": {
      "text/html": [
       "<div>\n",
       "<style scoped>\n",
       "    .dataframe tbody tr th:only-of-type {\n",
       "        vertical-align: middle;\n",
       "    }\n",
       "\n",
       "    .dataframe tbody tr th {\n",
       "        vertical-align: top;\n",
       "    }\n",
       "\n",
       "    .dataframe thead th {\n",
       "        text-align: right;\n",
       "    }\n",
       "</style>\n",
       "<table border=\"1\" class=\"dataframe\">\n",
       "  <thead>\n",
       "    <tr style=\"text-align: right;\">\n",
       "      <th></th>\n",
       "      <th>Comp 1</th>\n",
       "      <th>Comp 2</th>\n",
       "      <th>Comp 3</th>\n",
       "      <th>Comp 4</th>\n",
       "      <th>Comp 5</th>\n",
       "      <th>Comp 6</th>\n",
       "      <th>Comp 7</th>\n",
       "      <th>Comp 8</th>\n",
       "      <th>Comp 9</th>\n",
       "      <th>Comp 10</th>\n",
       "      <th>...</th>\n",
       "      <th>Comp 141</th>\n",
       "      <th>Comp 142</th>\n",
       "      <th>Comp 143</th>\n",
       "      <th>Comp 144</th>\n",
       "      <th>Comp 145</th>\n",
       "      <th>Comp 146</th>\n",
       "      <th>Comp 147</th>\n",
       "      <th>Comp 148</th>\n",
       "      <th>Comp 149</th>\n",
       "      <th>Comp 150</th>\n",
       "    </tr>\n",
       "  </thead>\n",
       "  <tbody>\n",
       "    <tr>\n",
       "      <th>!</th>\n",
       "      <td>0.007566</td>\n",
       "      <td>-0.020793</td>\n",
       "      <td>-0.003942</td>\n",
       "      <td>0.009696</td>\n",
       "      <td>-0.087629</td>\n",
       "      <td>-0.010378</td>\n",
       "      <td>0.166501</td>\n",
       "      <td>-0.003649</td>\n",
       "      <td>0.009360</td>\n",
       "      <td>-0.091673</td>\n",
       "      <td>...</td>\n",
       "      <td>-0.007170</td>\n",
       "      <td>-0.042429</td>\n",
       "      <td>0.008301</td>\n",
       "      <td>-0.004420</td>\n",
       "      <td>-0.005853</td>\n",
       "      <td>-0.025832</td>\n",
       "      <td>-0.004903</td>\n",
       "      <td>0.040462</td>\n",
       "      <td>-0.016921</td>\n",
       "      <td>-0.052454</td>\n",
       "    </tr>\n",
       "    <tr>\n",
       "      <th>#</th>\n",
       "      <td>-0.027773</td>\n",
       "      <td>0.009234</td>\n",
       "      <td>0.003370</td>\n",
       "      <td>-0.005749</td>\n",
       "      <td>0.014828</td>\n",
       "      <td>0.003797</td>\n",
       "      <td>-0.005177</td>\n",
       "      <td>0.081886</td>\n",
       "      <td>0.004714</td>\n",
       "      <td>-0.028973</td>\n",
       "      <td>...</td>\n",
       "      <td>0.014547</td>\n",
       "      <td>-0.048027</td>\n",
       "      <td>-0.002176</td>\n",
       "      <td>-0.006363</td>\n",
       "      <td>-0.058348</td>\n",
       "      <td>0.007704</td>\n",
       "      <td>0.021230</td>\n",
       "      <td>-0.005131</td>\n",
       "      <td>0.021984</td>\n",
       "      <td>-0.024996</td>\n",
       "    </tr>\n",
       "    <tr>\n",
       "      <th>(</th>\n",
       "      <td>0.002572</td>\n",
       "      <td>-0.010439</td>\n",
       "      <td>-0.005363</td>\n",
       "      <td>-0.001294</td>\n",
       "      <td>-0.033480</td>\n",
       "      <td>-0.007175</td>\n",
       "      <td>-0.019357</td>\n",
       "      <td>-0.003890</td>\n",
       "      <td>0.003273</td>\n",
       "      <td>-0.006273</td>\n",
       "      <td>...</td>\n",
       "      <td>0.008400</td>\n",
       "      <td>-0.007821</td>\n",
       "      <td>-0.017765</td>\n",
       "      <td>-0.026805</td>\n",
       "      <td>-0.001651</td>\n",
       "      <td>0.007308</td>\n",
       "      <td>0.012289</td>\n",
       "      <td>0.003770</td>\n",
       "      <td>-0.015327</td>\n",
       "      <td>-0.003788</td>\n",
       "    </tr>\n",
       "    <tr>\n",
       "      <th>)</th>\n",
       "      <td>0.001966</td>\n",
       "      <td>-0.009681</td>\n",
       "      <td>-0.005803</td>\n",
       "      <td>-0.001835</td>\n",
       "      <td>-0.035473</td>\n",
       "      <td>-0.007572</td>\n",
       "      <td>-0.017426</td>\n",
       "      <td>-0.003412</td>\n",
       "      <td>0.002609</td>\n",
       "      <td>-0.005599</td>\n",
       "      <td>...</td>\n",
       "      <td>0.008634</td>\n",
       "      <td>-0.004598</td>\n",
       "      <td>-0.016598</td>\n",
       "      <td>-0.027041</td>\n",
       "      <td>-0.001539</td>\n",
       "      <td>0.007361</td>\n",
       "      <td>0.013277</td>\n",
       "      <td>0.002614</td>\n",
       "      <td>-0.015602</td>\n",
       "      <td>-0.004053</td>\n",
       "    </tr>\n",
       "    <tr>\n",
       "      <th>,</th>\n",
       "      <td>0.041308</td>\n",
       "      <td>-0.002024</td>\n",
       "      <td>0.064986</td>\n",
       "      <td>-0.034626</td>\n",
       "      <td>-0.013477</td>\n",
       "      <td>-0.082554</td>\n",
       "      <td>-0.000953</td>\n",
       "      <td>0.025784</td>\n",
       "      <td>0.036711</td>\n",
       "      <td>-0.037854</td>\n",
       "      <td>...</td>\n",
       "      <td>-0.041373</td>\n",
       "      <td>-0.019611</td>\n",
       "      <td>-0.037938</td>\n",
       "      <td>0.066940</td>\n",
       "      <td>-0.017248</td>\n",
       "      <td>0.038412</td>\n",
       "      <td>0.016137</td>\n",
       "      <td>0.038610</td>\n",
       "      <td>0.019349</td>\n",
       "      <td>0.005502</td>\n",
       "    </tr>\n",
       "    <tr>\n",
       "      <th>...</th>\n",
       "      <td>...</td>\n",
       "      <td>...</td>\n",
       "      <td>...</td>\n",
       "      <td>...</td>\n",
       "      <td>...</td>\n",
       "      <td>...</td>\n",
       "      <td>...</td>\n",
       "      <td>...</td>\n",
       "      <td>...</td>\n",
       "      <td>...</td>\n",
       "      <td>...</td>\n",
       "      <td>...</td>\n",
       "      <td>...</td>\n",
       "      <td>...</td>\n",
       "      <td>...</td>\n",
       "      <td>...</td>\n",
       "      <td>...</td>\n",
       "      <td>...</td>\n",
       "      <td>...</td>\n",
       "      <td>...</td>\n",
       "      <td>...</td>\n",
       "    </tr>\n",
       "    <tr>\n",
       "      <th>‘</th>\n",
       "      <td>-0.010286</td>\n",
       "      <td>-0.004349</td>\n",
       "      <td>-0.004488</td>\n",
       "      <td>-0.004250</td>\n",
       "      <td>0.052749</td>\n",
       "      <td>-0.022263</td>\n",
       "      <td>0.005821</td>\n",
       "      <td>0.008641</td>\n",
       "      <td>-0.012925</td>\n",
       "      <td>-0.039177</td>\n",
       "      <td>...</td>\n",
       "      <td>-0.030034</td>\n",
       "      <td>0.021322</td>\n",
       "      <td>-0.020181</td>\n",
       "      <td>-0.022382</td>\n",
       "      <td>-0.011236</td>\n",
       "      <td>-0.008548</td>\n",
       "      <td>-0.012283</td>\n",
       "      <td>-0.000855</td>\n",
       "      <td>-0.020855</td>\n",
       "      <td>0.009427</td>\n",
       "    </tr>\n",
       "    <tr>\n",
       "      <th>’</th>\n",
       "      <td>-0.016677</td>\n",
       "      <td>0.023127</td>\n",
       "      <td>-0.030161</td>\n",
       "      <td>-0.008522</td>\n",
       "      <td>-0.075953</td>\n",
       "      <td>0.005547</td>\n",
       "      <td>-0.000124</td>\n",
       "      <td>-0.000527</td>\n",
       "      <td>-0.025005</td>\n",
       "      <td>-0.114617</td>\n",
       "      <td>...</td>\n",
       "      <td>-0.002172</td>\n",
       "      <td>-0.005019</td>\n",
       "      <td>-0.071673</td>\n",
       "      <td>0.009328</td>\n",
       "      <td>0.005476</td>\n",
       "      <td>0.017619</td>\n",
       "      <td>-0.007141</td>\n",
       "      <td>-0.014074</td>\n",
       "      <td>-0.048514</td>\n",
       "      <td>-0.064184</td>\n",
       "    </tr>\n",
       "    <tr>\n",
       "      <th>“</th>\n",
       "      <td>0.003121</td>\n",
       "      <td>0.013691</td>\n",
       "      <td>0.002170</td>\n",
       "      <td>0.002510</td>\n",
       "      <td>-0.082817</td>\n",
       "      <td>0.014008</td>\n",
       "      <td>0.000128</td>\n",
       "      <td>-0.149647</td>\n",
       "      <td>-0.005229</td>\n",
       "      <td>0.102638</td>\n",
       "      <td>...</td>\n",
       "      <td>0.023585</td>\n",
       "      <td>-0.004590</td>\n",
       "      <td>-0.008809</td>\n",
       "      <td>0.007841</td>\n",
       "      <td>-0.000850</td>\n",
       "      <td>-0.004385</td>\n",
       "      <td>-0.051888</td>\n",
       "      <td>0.037123</td>\n",
       "      <td>-0.007611</td>\n",
       "      <td>0.010452</td>\n",
       "    </tr>\n",
       "    <tr>\n",
       "      <th>”</th>\n",
       "      <td>-0.000870</td>\n",
       "      <td>-0.002922</td>\n",
       "      <td>-0.003822</td>\n",
       "      <td>0.002154</td>\n",
       "      <td>-0.063089</td>\n",
       "      <td>0.006624</td>\n",
       "      <td>-0.003883</td>\n",
       "      <td>-0.169095</td>\n",
       "      <td>-0.006157</td>\n",
       "      <td>0.096577</td>\n",
       "      <td>...</td>\n",
       "      <td>0.028698</td>\n",
       "      <td>0.011321</td>\n",
       "      <td>-0.003257</td>\n",
       "      <td>0.001634</td>\n",
       "      <td>-0.008671</td>\n",
       "      <td>-0.000564</td>\n",
       "      <td>-0.071625</td>\n",
       "      <td>0.005545</td>\n",
       "      <td>-0.004277</td>\n",
       "      <td>0.021305</td>\n",
       "    </tr>\n",
       "    <tr>\n",
       "      <th>❝real</th>\n",
       "      <td>-0.000743</td>\n",
       "      <td>0.000938</td>\n",
       "      <td>-0.003688</td>\n",
       "      <td>0.003382</td>\n",
       "      <td>0.000889</td>\n",
       "      <td>0.006386</td>\n",
       "      <td>-0.002658</td>\n",
       "      <td>-0.002214</td>\n",
       "      <td>0.002004</td>\n",
       "      <td>-0.003455</td>\n",
       "      <td>...</td>\n",
       "      <td>0.002338</td>\n",
       "      <td>0.000533</td>\n",
       "      <td>0.003792</td>\n",
       "      <td>0.002117</td>\n",
       "      <td>0.000986</td>\n",
       "      <td>0.005761</td>\n",
       "      <td>0.000392</td>\n",
       "      <td>0.002674</td>\n",
       "      <td>-0.002009</td>\n",
       "      <td>0.001154</td>\n",
       "    </tr>\n",
       "  </tbody>\n",
       "</table>\n",
       "<p>2327 rows × 150 columns</p>\n",
       "</div>"
      ],
      "text/plain": [
       "         Comp 1    Comp 2    Comp 3    Comp 4    Comp 5    Comp 6    Comp 7  \\\n",
       "!      0.007566 -0.020793 -0.003942  0.009696 -0.087629 -0.010378  0.166501   \n",
       "#     -0.027773  0.009234  0.003370 -0.005749  0.014828  0.003797 -0.005177   \n",
       "(      0.002572 -0.010439 -0.005363 -0.001294 -0.033480 -0.007175 -0.019357   \n",
       ")      0.001966 -0.009681 -0.005803 -0.001835 -0.035473 -0.007572 -0.017426   \n",
       ",      0.041308 -0.002024  0.064986 -0.034626 -0.013477 -0.082554 -0.000953   \n",
       "...         ...       ...       ...       ...       ...       ...       ...   \n",
       "‘     -0.010286 -0.004349 -0.004488 -0.004250  0.052749 -0.022263  0.005821   \n",
       "’     -0.016677  0.023127 -0.030161 -0.008522 -0.075953  0.005547 -0.000124   \n",
       "“      0.003121  0.013691  0.002170  0.002510 -0.082817  0.014008  0.000128   \n",
       "”     -0.000870 -0.002922 -0.003822  0.002154 -0.063089  0.006624 -0.003883   \n",
       "❝real -0.000743  0.000938 -0.003688  0.003382  0.000889  0.006386 -0.002658   \n",
       "\n",
       "         Comp 8    Comp 9   Comp 10  ...  Comp 141  Comp 142  Comp 143  \\\n",
       "!     -0.003649  0.009360 -0.091673  ... -0.007170 -0.042429  0.008301   \n",
       "#      0.081886  0.004714 -0.028973  ...  0.014547 -0.048027 -0.002176   \n",
       "(     -0.003890  0.003273 -0.006273  ...  0.008400 -0.007821 -0.017765   \n",
       ")     -0.003412  0.002609 -0.005599  ...  0.008634 -0.004598 -0.016598   \n",
       ",      0.025784  0.036711 -0.037854  ... -0.041373 -0.019611 -0.037938   \n",
       "...         ...       ...       ...  ...       ...       ...       ...   \n",
       "‘      0.008641 -0.012925 -0.039177  ... -0.030034  0.021322 -0.020181   \n",
       "’     -0.000527 -0.025005 -0.114617  ... -0.002172 -0.005019 -0.071673   \n",
       "“     -0.149647 -0.005229  0.102638  ...  0.023585 -0.004590 -0.008809   \n",
       "”     -0.169095 -0.006157  0.096577  ...  0.028698  0.011321 -0.003257   \n",
       "❝real -0.002214  0.002004 -0.003455  ...  0.002338  0.000533  0.003792   \n",
       "\n",
       "       Comp 144  Comp 145  Comp 146  Comp 147  Comp 148  Comp 149  Comp 150  \n",
       "!     -0.004420 -0.005853 -0.025832 -0.004903  0.040462 -0.016921 -0.052454  \n",
       "#     -0.006363 -0.058348  0.007704  0.021230 -0.005131  0.021984 -0.024996  \n",
       "(     -0.026805 -0.001651  0.007308  0.012289  0.003770 -0.015327 -0.003788  \n",
       ")     -0.027041 -0.001539  0.007361  0.013277  0.002614 -0.015602 -0.004053  \n",
       ",      0.066940 -0.017248  0.038412  0.016137  0.038610  0.019349  0.005502  \n",
       "...         ...       ...       ...       ...       ...       ...       ...  \n",
       "‘     -0.022382 -0.011236 -0.008548 -0.012283 -0.000855 -0.020855  0.009427  \n",
       "’      0.009328  0.005476  0.017619 -0.007141 -0.014074 -0.048514 -0.064184  \n",
       "“      0.007841 -0.000850 -0.004385 -0.051888  0.037123 -0.007611  0.010452  \n",
       "”      0.001634 -0.008671 -0.000564 -0.071625  0.005545 -0.004277  0.021305  \n",
       "❝real  0.002117  0.000986  0.005761  0.000392  0.002674 -0.002009  0.001154  \n",
       "\n",
       "[2327 rows x 150 columns]"
      ]
     },
     "execution_count": 7,
     "metadata": {},
     "output_type": "execute_result"
    }
   ],
   "source": [
    "embeddings = pd.read_csv('word_embed_150.csv', index_col = 0)\n",
    "embeddings"
   ]
  },
  {
   "cell_type": "code",
   "execution_count": 8,
   "metadata": {},
   "outputs": [],
   "source": [
    "# to convert contractions picked up by word_tokenize() into full words\n",
    "contractions = {\n",
    "    \"n't\": 'not',\n",
    "    \"'ve\": 'have',\n",
    "    \"'s\": 'is', # note that this will include possessive nouns\n",
    "    'gonna': 'going to',\n",
    "    'gotta': 'got to',\n",
    "    \"'d\": 'would',\n",
    "    \"'ll\": 'will',\n",
    "    \"'re\": 'are',\n",
    "    \"'m\": 'am',\n",
    "    'wanna': 'want to'\n",
    "}\n",
    "\n",
    "# to convert nltk_pos tags to wordnet-compatible PoS tags\n",
    "def convert_pos_wordnet(tag):\n",
    "    tag_abbr = tag[0].upper()\n",
    "    tag_dict = {\n",
    "        'J': wordnet.ADJ,\n",
    "        'N': wordnet.NOUN,\n",
    "        'V': wordnet.VERB,\n",
    "        'R': wordnet.ADV\n",
    "    }\n",
    "                \n",
    "    if tag_abbr in tag_dict:\n",
    "        return tag_dict[tag_abbr]"
   ]
  },
  {
   "cell_type": "code",
   "execution_count": 9,
   "metadata": {},
   "outputs": [],
   "source": [
    "def get_text_vectors(word_embeddings, # pandas dataframe with row index = vocabulary\n",
    "                     text_list, # list of strings\n",
    "                     remove_stopwords = True,\n",
    "                     lowercase = True,\n",
    "                     lemmatize = True,\n",
    "                     add_start_end_tokens = True):\n",
    "    \n",
    "    lemmatizer = WordNetLemmatizer()\n",
    "    \n",
    "    for k in range(len(text_list)):\n",
    "        text = text_list[k]\n",
    "        text = re.sub(r'[_~`@$%^&*[\\]+=\\|}{\\\"\\'<>/]+', '', text)\n",
    "        text_vec = np.zeros(word_embeddings.shape[1])\n",
    "        words = word_tokenize(text)\n",
    "        tracker = 0 # to track whether we've encountered a word for which we have an embedding (in each tweet)\n",
    "        \n",
    "        if remove_stopwords:\n",
    "            clean_words = []\n",
    "            for word in words:\n",
    "                if word.lower() not in set(stopwords.words('english')):\n",
    "                    clean_words.append(word)\n",
    "            words = clean_words\n",
    "\n",
    "        if lowercase:\n",
    "            clean_words = []\n",
    "            for word in words:\n",
    "                clean_words.append(word.lower())\n",
    "\n",
    "            words = clean_words\n",
    "\n",
    "        if lemmatize:\n",
    "            clean_words = []\n",
    "            for word in words:\n",
    "                PoS_tag = pos_tag([word])[0][1]\n",
    "\n",
    "                # to change contractions to full word form\n",
    "                if word in contractions:\n",
    "                    word = contractions[word]\n",
    "\n",
    "                if PoS_tag[0].upper() in 'JNVR':\n",
    "                    word = lemmatizer.lemmatize(word, convert_pos_wordnet(PoS_tag))\n",
    "                else:\n",
    "                    word = lemmatizer.lemmatize(word)\n",
    "\n",
    "                clean_words.append(word)\n",
    "\n",
    "            words = clean_words\n",
    "\n",
    "        if add_start_end_tokens:\n",
    "            words = ['<START>'] + words + ['<END>']\n",
    "        \n",
    "        for i in range(len(words)):\n",
    "            word = words[i]\n",
    "            if word in word_embeddings.index.tolist():\n",
    "                word_embed_vec = word_embeddings.loc[word].values\n",
    "                if tracker == 0:\n",
    "                    text_matrix = word_embed_vec\n",
    "                else:\n",
    "                    text_matrix = np.vstack((text_matrix, word_embed_vec))\n",
    "                    \n",
    "                # only increment if we have come across a word in the embeddings dictionary\n",
    "                tracker += 1\n",
    "                    \n",
    "        for j in range(len(text_vec)):\n",
    "            text_vec[j] = text_matrix[:,j].mean()\n",
    "            \n",
    "        if k == 0:\n",
    "            full_matrix = text_vec\n",
    "        else:\n",
    "            full_matrix = np.vstack((full_matrix, text_vec))\n",
    "            \n",
    "    return full_matrix"
   ]
  },
  {
   "cell_type": "code",
   "execution_count": 10,
   "metadata": {},
   "outputs": [],
   "source": [
    "train_fold1_X = get_text_vectors(embeddings, train_fold1['Tweet'])\n",
    "train_fold1_y = train_fold1['outlier_target']\n",
    "\n",
    "tune_fold1_X = get_text_vectors(embeddings, tune_fold1['Tweet'])\n",
    "tune_fold1_y = tune_fold1['outlier_target']\n",
    "\n",
    "test_fold1_X = get_text_vectors(embeddings, test_fold1['Tweet'])\n",
    "test_fold1_y = test_fold1['outlier_target']\n",
    "\n",
    "train_fold2_X = get_text_vectors(embeddings, train_fold2['Tweet'])\n",
    "train_fold2_y = train_fold2['outlier_target']\n",
    "\n",
    "tune_fold2_X = get_text_vectors(embeddings, tune_fold2['Tweet'])\n",
    "tune_fold2_y = tune_fold2['outlier_target']\n",
    "\n",
    "test_fold2_X = get_text_vectors(embeddings, test_fold2['Tweet'])\n",
    "test_fold2_y = test_fold2['outlier_target']"
   ]
  },
  {
   "cell_type": "markdown",
   "metadata": {},
   "source": [
    "## Binary classification: two-fold CV"
   ]
  },
  {
   "cell_type": "code",
   "execution_count": 11,
   "metadata": {},
   "outputs": [],
   "source": [
    "from sklearn.svm import OneClassSVM\n",
    "from sklearn.metrics import roc_auc_score, accuracy_score, precision_score, recall_score, f1_score"
   ]
  },
  {
   "cell_type": "code",
   "execution_count": 12,
   "metadata": {},
   "outputs": [],
   "source": [
    "# SVC hyperparams to optimize\n",
    "kernel = ['rbf', 'linear', 'poly', 'sigmoid']"
   ]
  },
  {
   "cell_type": "markdown",
   "metadata": {},
   "source": [
    "### Fold 1"
   ]
  },
  {
   "cell_type": "code",
   "execution_count": 13,
   "metadata": {},
   "outputs": [
    {
     "data": {
      "text/plain": [
       "OneClassSVM(kernel='sigmoid')"
      ]
     },
     "execution_count": 13,
     "metadata": {},
     "output_type": "execute_result"
    }
   ],
   "source": [
    "# training & tuning\n",
    "models = []\n",
    "tune_f1 = []\n",
    "for ker in kernel:\n",
    "    svc = OneClassSVM(kernel = ker)\n",
    "    svc.fit(train_fold1_X, train_fold1_y)\n",
    "    models.append(svc)\n",
    "    tune_predict = svc.predict(tune_fold1_X)\n",
    "    f1 = f1_score(tune_fold1_y, tune_predict, average = 'macro')\n",
    "    tune_f1.append(f1)\n",
    "        \n",
    "opt_model = models[tune_f1.index(max(tune_f1))]\n",
    "opt_model"
   ]
  },
  {
   "cell_type": "code",
   "execution_count": 14,
   "metadata": {},
   "outputs": [
    {
     "data": {
      "text/plain": [
       "[0.6351186990404973, 0.7049689440993788, 0.7, 0.7097267017484299]"
      ]
     },
     "execution_count": 14,
     "metadata": {},
     "output_type": "execute_result"
    }
   ],
   "source": [
    "tune_f1"
   ]
  },
  {
   "cell_type": "code",
   "execution_count": 15,
   "metadata": {},
   "outputs": [
    {
     "data": {
      "text/plain": [
       "{'auc': [0.7100510204081633],\n",
       " 'accuracy': [0.625],\n",
       " 'recall': [0.625],\n",
       " 'precision': [0.6621335450995963],\n",
       " 'f1': [0.6022242967893818]}"
      ]
     },
     "execution_count": 15,
     "metadata": {},
     "output_type": "execute_result"
    }
   ],
   "source": [
    "# testing\n",
    "test_scores = dict()\n",
    "test_predict = opt_model.predict(test_fold1_X)\n",
    "test_predict_proba = opt_model.decision_function(test_fold1_X)\n",
    "test_scores['auc'] = [roc_auc_score(test_fold1_y, test_predict_proba, average = 'macro')]\n",
    "test_scores['accuracy'] = [accuracy_score(test_fold1_y, test_predict)]\n",
    "test_scores['recall'] = [recall_score(test_fold1_y, test_predict, average = 'macro')]\n",
    "test_scores['precision'] = [precision_score(test_fold1_y, test_predict, average = 'macro')]\n",
    "test_scores['f1'] = [f1_score(test_fold1_y, test_predict, average = 'macro')]\n",
    "test_scores"
   ]
  },
  {
   "cell_type": "markdown",
   "metadata": {},
   "source": [
    "### Fold 2"
   ]
  },
  {
   "cell_type": "code",
   "execution_count": 16,
   "metadata": {},
   "outputs": [
    {
     "data": {
      "text/plain": [
       "OneClassSVM(kernel='sigmoid')"
      ]
     },
     "execution_count": 16,
     "metadata": {},
     "output_type": "execute_result"
    }
   ],
   "source": [
    "# training & tuning\n",
    "models = []\n",
    "tune_f1 = []\n",
    "for ker in kernel:\n",
    "    svc = OneClassSVM(kernel = ker)\n",
    "    svc.fit(train_fold2_X, train_fold2_y)\n",
    "    models.append(svc)\n",
    "    tune_predict = svc.predict(tune_fold2_X)\n",
    "    f1 = f1_score(tune_fold2_y, tune_predict, average = 'macro')\n",
    "    tune_f1.append(f1)\n",
    "        \n",
    "opt_model = models[tune_f1.index(max(tune_f1))]\n",
    "opt_model"
   ]
  },
  {
   "cell_type": "code",
   "execution_count": 17,
   "metadata": {},
   "outputs": [
    {
     "data": {
      "text/plain": [
       "[0.5581014729950899, 0.564867042707494, 0.5504495504495505, 0.574384236453202]"
      ]
     },
     "execution_count": 17,
     "metadata": {},
     "output_type": "execute_result"
    }
   ],
   "source": [
    "tune_f1"
   ]
  },
  {
   "cell_type": "code",
   "execution_count": 18,
   "metadata": {},
   "outputs": [
    {
     "data": {
      "text/plain": [
       "{'auc': [0.7100510204081633, 0.7494897959183674],\n",
       " 'accuracy': [0.625, 0.6821428571428572],\n",
       " 'recall': [0.625, 0.6821428571428572],\n",
       " 'precision': [0.6621335450995963, 0.7248252408841867],\n",
       " 'f1': [0.6022242967893818, 0.593607305936073]}"
      ]
     },
     "execution_count": 18,
     "metadata": {},
     "output_type": "execute_result"
    }
   ],
   "source": [
    "# testing\n",
    "test_predict = opt_model.predict(test_fold2_X)\n",
    "test_predict_proba = opt_model.decision_function(test_fold2_X)\n",
    "test_scores['auc'].append(roc_auc_score(test_fold2_y, test_predict_proba, average = 'macro'))\n",
    "test_scores['accuracy'].append(accuracy_score(test_fold2_y, test_predict))\n",
    "test_scores['recall'].append(recall_score(test_fold2_y, test_predict, average = 'macro'))\n",
    "test_scores['precision'].append(precision_score(test_fold2_y, test_predict, average = 'macro'))\n",
    "test_scores['f1'].append(f1_score(test_fold2_y, test_predict))\n",
    "test_scores"
   ]
  },
  {
   "cell_type": "markdown",
   "metadata": {},
   "source": [
    "### Average results"
   ]
  },
  {
   "cell_type": "code",
   "execution_count": 19,
   "metadata": {},
   "outputs": [
    {
     "data": {
      "text/plain": [
       "0.7297704081632653"
      ]
     },
     "execution_count": 19,
     "metadata": {},
     "output_type": "execute_result"
    }
   ],
   "source": [
    "sum(test_scores['auc'])/2"
   ]
  },
  {
   "cell_type": "code",
   "execution_count": 20,
   "metadata": {},
   "outputs": [
    {
     "data": {
      "text/plain": [
       "0.6535714285714286"
      ]
     },
     "execution_count": 20,
     "metadata": {},
     "output_type": "execute_result"
    }
   ],
   "source": [
    "sum(test_scores['accuracy'])/2"
   ]
  },
  {
   "cell_type": "code",
   "execution_count": 21,
   "metadata": {},
   "outputs": [
    {
     "data": {
      "text/plain": [
       "0.6535714285714286"
      ]
     },
     "execution_count": 21,
     "metadata": {},
     "output_type": "execute_result"
    }
   ],
   "source": [
    "sum(test_scores['recall'])/2"
   ]
  },
  {
   "cell_type": "code",
   "execution_count": 22,
   "metadata": {},
   "outputs": [
    {
     "data": {
      "text/plain": [
       "0.6934793929918914"
      ]
     },
     "execution_count": 22,
     "metadata": {},
     "output_type": "execute_result"
    }
   ],
   "source": [
    "sum(test_scores['precision'])/2"
   ]
  },
  {
   "cell_type": "code",
   "execution_count": 23,
   "metadata": {},
   "outputs": [
    {
     "data": {
      "text/plain": [
       "0.5979158013627275"
      ]
     },
     "execution_count": 23,
     "metadata": {},
     "output_type": "execute_result"
    }
   ],
   "source": [
    "sum(test_scores['f1'])/2"
   ]
  },
  {
   "cell_type": "code",
   "execution_count": null,
   "metadata": {},
   "outputs": [],
   "source": []
  }
 ],
 "metadata": {
  "kernelspec": {
   "display_name": "Python 3",
   "language": "python",
   "name": "python3"
  },
  "language_info": {
   "codemirror_mode": {
    "name": "ipython",
    "version": 3
   },
   "file_extension": ".py",
   "mimetype": "text/x-python",
   "name": "python",
   "nbconvert_exporter": "python",
   "pygments_lexer": "ipython3",
   "version": "3.7.7"
  }
 },
 "nbformat": 4,
 "nbformat_minor": 4
}
