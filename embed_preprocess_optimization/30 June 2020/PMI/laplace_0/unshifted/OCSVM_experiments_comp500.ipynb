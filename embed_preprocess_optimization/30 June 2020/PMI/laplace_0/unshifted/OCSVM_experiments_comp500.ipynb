{
 "cells": [
  {
   "cell_type": "markdown",
   "metadata": {},
   "source": [
    "# One-Class Classification with Tweet Embeddings"
   ]
  },
  {
   "cell_type": "code",
   "execution_count": 1,
   "metadata": {},
   "outputs": [],
   "source": [
    "# import modules\n",
    "import numpy as np\n",
    "import pandas as pd\n",
    "from nltk import word_tokenize, pos_tag\n",
    "from nltk.corpus import stopwords, wordnet\n",
    "from nltk.tokenize.treebank import TreebankWordDetokenizer\n",
    "from sklearn.base import TransformerMixin\n",
    "from sklearn.decomposition import FastICA\n",
    "from sklearn.preprocessing import StandardScaler\n",
    "import re\n",
    "import matplotlib.pyplot as plt\n",
    "from nltk.stem import WordNetLemmatizer"
   ]
  },
  {
   "cell_type": "markdown",
   "metadata": {},
   "source": [
    "## Load data"
   ]
  },
  {
   "cell_type": "code",
   "execution_count": 2,
   "metadata": {},
   "outputs": [],
   "source": [
    "xls = pd.ExcelFile('../../../ForLastExpt.xlsx')"
   ]
  },
  {
   "cell_type": "code",
   "execution_count": 3,
   "metadata": {},
   "outputs": [],
   "source": [
    "class1_train = pd.read_excel(xls, 'Class=1 Training')\n",
    "class1_tune = pd.read_excel(xls, 'Class=1 Validation')\n",
    "class1_test_pt1 = pd.read_excel(xls, 'Class=1 Test Part-1')\n",
    "class1_test_pt2 = pd.read_excel(xls, 'Class=1 Test Part-2')\n",
    "class0_train = pd.read_excel(xls, 'Class=0 Training')\n",
    "class0_tune = pd.read_excel(xls, 'Class=0 Validation')\n",
    "class0_test_pt1 = pd.read_excel(xls, 'Class=0 Test Part-1')\n",
    "class0_test_pt2 = pd.read_excel(xls, 'Class=0 Test Part-2')"
   ]
  },
  {
   "cell_type": "code",
   "execution_count": 4,
   "metadata": {},
   "outputs": [],
   "source": [
    "# create outlier target values\n",
    "\n",
    "# class1_train\n",
    "outlier = []\n",
    "for i in class1_train['Is_Unreliable']:\n",
    "    if i == 0:\n",
    "        i = 1\n",
    "    else:\n",
    "        i = -1\n",
    "    outlier.append(i)\n",
    "class1_train['outlier_target'] = outlier\n",
    "\n",
    "# class1_tune\n",
    "outlier = []\n",
    "for i in class1_tune['Is_Unreliable']:\n",
    "    if i == 0:\n",
    "        i = 1\n",
    "    else:\n",
    "        i = -1\n",
    "    outlier.append(i)\n",
    "class1_tune['outlier_target'] = outlier\n",
    "\n",
    "# class1_test_pt1\n",
    "outlier = []\n",
    "for i in class1_test_pt1['Is_Unreliable']:\n",
    "    if i == 0:\n",
    "        i = 1\n",
    "    else:\n",
    "        i = -1\n",
    "    outlier.append(i)\n",
    "class1_test_pt1['outlier_target'] = outlier\n",
    "\n",
    "# class1_test_pt2\n",
    "outlier = []\n",
    "for i in class1_test_pt2['Is_Unreliable']:\n",
    "    if i == 0:\n",
    "        i = 1\n",
    "    else:\n",
    "        i = -1\n",
    "    outlier.append(i)\n",
    "class1_test_pt2['outlier_target'] = outlier\n",
    "\n",
    "# class0_train\n",
    "outlier = []\n",
    "for i in class0_train['Is_Unreliable']:\n",
    "    if i == 0:\n",
    "        i = 1\n",
    "    else:\n",
    "        i = -1\n",
    "    outlier.append(i)\n",
    "class0_train['outlier_target'] = outlier\n",
    "\n",
    "# class0_tune\n",
    "outlier = []\n",
    "for i in class0_tune['Is_Unreliable']:\n",
    "    if i == 0:\n",
    "        i = 1\n",
    "    else:\n",
    "        i = -1\n",
    "    outlier.append(i)\n",
    "class0_tune['outlier_target'] = outlier\n",
    "\n",
    "# class0_test_pt1\n",
    "outlier = []\n",
    "for i in class0_test_pt1['Is_Unreliable']:\n",
    "    if i == 0:\n",
    "        i = 1\n",
    "    else:\n",
    "        i = -1\n",
    "    outlier.append(i)\n",
    "class0_test_pt1['outlier_target'] = outlier\n",
    "\n",
    "# class0_test_pt2\n",
    "outlier = []\n",
    "for i in class0_test_pt2['Is_Unreliable']:\n",
    "    if i == 0:\n",
    "        i = 1\n",
    "    else:\n",
    "        i = -1\n",
    "    outlier.append(i)\n",
    "class0_test_pt2['outlier_target'] = outlier"
   ]
  },
  {
   "cell_type": "code",
   "execution_count": 5,
   "metadata": {},
   "outputs": [],
   "source": [
    "train_fold1 = class0_train\n",
    "tune_fold1 = pd.concat([class1_tune, class0_tune, class1_train], ignore_index = True)\n",
    "test_fold1 = pd.concat([class1_test_pt1, class1_test_pt2, class0_test_pt1, class0_test_pt2], ignore_index = True)\n",
    "\n",
    "train_fold2 = class0_test_pt1\n",
    "tune_fold2 = pd.concat([class1_test_pt2, class1_test_pt1, class0_test_pt2], ignore_index = True)\n",
    "test_fold2 = pd.concat([class1_tune, class0_tune, class1_train, class0_train], ignore_index = True)"
   ]
  },
  {
   "cell_type": "code",
   "execution_count": 6,
   "metadata": {},
   "outputs": [
    {
     "data": {
      "text/html": [
       "<div>\n",
       "<style scoped>\n",
       "    .dataframe tbody tr th:only-of-type {\n",
       "        vertical-align: middle;\n",
       "    }\n",
       "\n",
       "    .dataframe tbody tr th {\n",
       "        vertical-align: top;\n",
       "    }\n",
       "\n",
       "    .dataframe thead th {\n",
       "        text-align: right;\n",
       "    }\n",
       "</style>\n",
       "<table border=\"1\" class=\"dataframe\">\n",
       "  <thead>\n",
       "    <tr style=\"text-align: right;\">\n",
       "      <th></th>\n",
       "      <th>Is_Unreliable</th>\n",
       "      <th>Category</th>\n",
       "      <th>Tweet</th>\n",
       "      <th>outlier_target</th>\n",
       "    </tr>\n",
       "  </thead>\n",
       "  <tbody>\n",
       "    <tr>\n",
       "      <th>0</th>\n",
       "      <td>1</td>\n",
       "      <td>1, 3, 6, 9</td>\n",
       "      <td>We are living in scary times in Canada. Gov’t ...</td>\n",
       "      <td>-1</td>\n",
       "    </tr>\n",
       "    <tr>\n",
       "      <th>1</th>\n",
       "      <td>1</td>\n",
       "      <td>1, 6, 8, 9</td>\n",
       "      <td>Just as bad in Canada. In fact, our government...</td>\n",
       "      <td>-1</td>\n",
       "    </tr>\n",
       "    <tr>\n",
       "      <th>2</th>\n",
       "      <td>1</td>\n",
       "      <td>1, 4, 9</td>\n",
       "      <td>It was only a matter of time before the mainst...</td>\n",
       "      <td>-1</td>\n",
       "    </tr>\n",
       "    <tr>\n",
       "      <th>3</th>\n",
       "      <td>1</td>\n",
       "      <td>6, 8</td>\n",
       "      <td>Russia's taking no chances: Foreigners infecte...</td>\n",
       "      <td>-1</td>\n",
       "    </tr>\n",
       "    <tr>\n",
       "      <th>4</th>\n",
       "      <td>1</td>\n",
       "      <td>6, 8, 9</td>\n",
       "      <td>Although there is now a presumptive confirmed ...</td>\n",
       "      <td>-1</td>\n",
       "    </tr>\n",
       "    <tr>\n",
       "      <th>...</th>\n",
       "      <td>...</td>\n",
       "      <td>...</td>\n",
       "      <td>...</td>\n",
       "      <td>...</td>\n",
       "    </tr>\n",
       "    <tr>\n",
       "      <th>95</th>\n",
       "      <td>1</td>\n",
       "      <td>11, 10</td>\n",
       "      <td>EOIR has ordered immigration court staff to re...</td>\n",
       "      <td>-1</td>\n",
       "    </tr>\n",
       "    <tr>\n",
       "      <th>96</th>\n",
       "      <td>1</td>\n",
       "      <td>10</td>\n",
       "      <td>President - who said last night that #coronavi...</td>\n",
       "      <td>-1</td>\n",
       "    </tr>\n",
       "    <tr>\n",
       "      <th>97</th>\n",
       "      <td>1</td>\n",
       "      <td>11</td>\n",
       "      <td>Mashhad, NE #Iran Man collapses possibly due t...</td>\n",
       "      <td>-1</td>\n",
       "    </tr>\n",
       "    <tr>\n",
       "      <th>98</th>\n",
       "      <td>1</td>\n",
       "      <td>10, 11</td>\n",
       "      <td>Pence caught in lies about insurance covering ...</td>\n",
       "      <td>-1</td>\n",
       "    </tr>\n",
       "    <tr>\n",
       "      <th>99</th>\n",
       "      <td>1</td>\n",
       "      <td>9, 2, 14</td>\n",
       "      <td>and that's a no from me… Videos show Iranians ...</td>\n",
       "      <td>-1</td>\n",
       "    </tr>\n",
       "  </tbody>\n",
       "</table>\n",
       "<p>100 rows × 4 columns</p>\n",
       "</div>"
      ],
      "text/plain": [
       "    Is_Unreliable    Category  \\\n",
       "0               1  1, 3, 6, 9   \n",
       "1               1  1, 6, 8, 9   \n",
       "2               1     1, 4, 9   \n",
       "3               1        6, 8   \n",
       "4               1     6, 8, 9   \n",
       "..            ...         ...   \n",
       "95              1      11, 10   \n",
       "96              1          10   \n",
       "97              1          11   \n",
       "98              1      10, 11   \n",
       "99              1    9, 2, 14   \n",
       "\n",
       "                                                Tweet  outlier_target  \n",
       "0   We are living in scary times in Canada. Gov’t ...              -1  \n",
       "1   Just as bad in Canada. In fact, our government...              -1  \n",
       "2   It was only a matter of time before the mainst...              -1  \n",
       "3   Russia's taking no chances: Foreigners infecte...              -1  \n",
       "4   Although there is now a presumptive confirmed ...              -1  \n",
       "..                                                ...             ...  \n",
       "95  EOIR has ordered immigration court staff to re...              -1  \n",
       "96  President - who said last night that #coronavi...              -1  \n",
       "97  Mashhad, NE #Iran Man collapses possibly due t...              -1  \n",
       "98  Pence caught in lies about insurance covering ...              -1  \n",
       "99  and that's a no from me… Videos show Iranians ...              -1  \n",
       "\n",
       "[100 rows x 4 columns]"
      ]
     },
     "execution_count": 6,
     "metadata": {},
     "output_type": "execute_result"
    }
   ],
   "source": [
    "class1_train"
   ]
  },
  {
   "cell_type": "markdown",
   "metadata": {},
   "source": [
    "## Derive text vectors from word embeddings"
   ]
  },
  {
   "cell_type": "code",
   "execution_count": 7,
   "metadata": {},
   "outputs": [
    {
     "data": {
      "text/html": [
       "<div>\n",
       "<style scoped>\n",
       "    .dataframe tbody tr th:only-of-type {\n",
       "        vertical-align: middle;\n",
       "    }\n",
       "\n",
       "    .dataframe tbody tr th {\n",
       "        vertical-align: top;\n",
       "    }\n",
       "\n",
       "    .dataframe thead th {\n",
       "        text-align: right;\n",
       "    }\n",
       "</style>\n",
       "<table border=\"1\" class=\"dataframe\">\n",
       "  <thead>\n",
       "    <tr style=\"text-align: right;\">\n",
       "      <th></th>\n",
       "      <th>Comp 1</th>\n",
       "      <th>Comp 2</th>\n",
       "      <th>Comp 3</th>\n",
       "      <th>Comp 4</th>\n",
       "      <th>Comp 5</th>\n",
       "      <th>Comp 6</th>\n",
       "      <th>Comp 7</th>\n",
       "      <th>Comp 8</th>\n",
       "      <th>Comp 9</th>\n",
       "      <th>Comp 10</th>\n",
       "      <th>...</th>\n",
       "      <th>Comp 491</th>\n",
       "      <th>Comp 492</th>\n",
       "      <th>Comp 493</th>\n",
       "      <th>Comp 494</th>\n",
       "      <th>Comp 495</th>\n",
       "      <th>Comp 496</th>\n",
       "      <th>Comp 497</th>\n",
       "      <th>Comp 498</th>\n",
       "      <th>Comp 499</th>\n",
       "      <th>Comp 500</th>\n",
       "    </tr>\n",
       "  </thead>\n",
       "  <tbody>\n",
       "    <tr>\n",
       "      <th>!</th>\n",
       "      <td>-0.002445</td>\n",
       "      <td>0.009159</td>\n",
       "      <td>0.004795</td>\n",
       "      <td>-0.018603</td>\n",
       "      <td>0.005400</td>\n",
       "      <td>-0.003888</td>\n",
       "      <td>-0.008644</td>\n",
       "      <td>-0.013260</td>\n",
       "      <td>-0.023465</td>\n",
       "      <td>0.003785</td>\n",
       "      <td>...</td>\n",
       "      <td>0.006786</td>\n",
       "      <td>-0.097490</td>\n",
       "      <td>0.026916</td>\n",
       "      <td>0.002518</td>\n",
       "      <td>0.005202</td>\n",
       "      <td>-0.015148</td>\n",
       "      <td>-0.012731</td>\n",
       "      <td>0.000193</td>\n",
       "      <td>-0.023189</td>\n",
       "      <td>-0.015074</td>\n",
       "    </tr>\n",
       "    <tr>\n",
       "      <th>#</th>\n",
       "      <td>0.001323</td>\n",
       "      <td>-0.013805</td>\n",
       "      <td>0.019507</td>\n",
       "      <td>-0.003647</td>\n",
       "      <td>-0.015684</td>\n",
       "      <td>-0.002614</td>\n",
       "      <td>-0.003105</td>\n",
       "      <td>0.022333</td>\n",
       "      <td>0.040944</td>\n",
       "      <td>0.008360</td>\n",
       "      <td>...</td>\n",
       "      <td>-0.084790</td>\n",
       "      <td>0.008607</td>\n",
       "      <td>-0.002623</td>\n",
       "      <td>0.003791</td>\n",
       "      <td>-0.005258</td>\n",
       "      <td>0.048565</td>\n",
       "      <td>0.010139</td>\n",
       "      <td>-0.083814</td>\n",
       "      <td>0.023770</td>\n",
       "      <td>0.015932</td>\n",
       "    </tr>\n",
       "    <tr>\n",
       "      <th>(</th>\n",
       "      <td>-0.000766</td>\n",
       "      <td>-0.002131</td>\n",
       "      <td>0.001162</td>\n",
       "      <td>-0.001840</td>\n",
       "      <td>0.000518</td>\n",
       "      <td>-0.002776</td>\n",
       "      <td>0.000748</td>\n",
       "      <td>-0.006843</td>\n",
       "      <td>-0.001281</td>\n",
       "      <td>0.005484</td>\n",
       "      <td>...</td>\n",
       "      <td>0.003895</td>\n",
       "      <td>-0.000447</td>\n",
       "      <td>0.001618</td>\n",
       "      <td>0.006980</td>\n",
       "      <td>-0.000497</td>\n",
       "      <td>0.003171</td>\n",
       "      <td>-0.005241</td>\n",
       "      <td>0.002066</td>\n",
       "      <td>0.013100</td>\n",
       "      <td>0.002086</td>\n",
       "    </tr>\n",
       "    <tr>\n",
       "      <th>)</th>\n",
       "      <td>-0.000342</td>\n",
       "      <td>-0.001425</td>\n",
       "      <td>0.002255</td>\n",
       "      <td>-0.000580</td>\n",
       "      <td>-0.000688</td>\n",
       "      <td>-0.002130</td>\n",
       "      <td>-0.000360</td>\n",
       "      <td>-0.004394</td>\n",
       "      <td>-0.000817</td>\n",
       "      <td>0.004866</td>\n",
       "      <td>...</td>\n",
       "      <td>-0.001170</td>\n",
       "      <td>0.003189</td>\n",
       "      <td>0.000424</td>\n",
       "      <td>0.006401</td>\n",
       "      <td>-0.000815</td>\n",
       "      <td>-0.008037</td>\n",
       "      <td>-0.002319</td>\n",
       "      <td>0.002666</td>\n",
       "      <td>-0.007344</td>\n",
       "      <td>0.006109</td>\n",
       "    </tr>\n",
       "    <tr>\n",
       "      <th>,</th>\n",
       "      <td>0.000345</td>\n",
       "      <td>-0.031475</td>\n",
       "      <td>-0.005695</td>\n",
       "      <td>-0.002895</td>\n",
       "      <td>0.000669</td>\n",
       "      <td>-0.005995</td>\n",
       "      <td>0.000626</td>\n",
       "      <td>0.005936</td>\n",
       "      <td>-0.022008</td>\n",
       "      <td>0.025221</td>\n",
       "      <td>...</td>\n",
       "      <td>0.070594</td>\n",
       "      <td>-0.007403</td>\n",
       "      <td>-0.025496</td>\n",
       "      <td>-0.001728</td>\n",
       "      <td>-0.009012</td>\n",
       "      <td>0.013035</td>\n",
       "      <td>0.057475</td>\n",
       "      <td>-0.004225</td>\n",
       "      <td>0.022683</td>\n",
       "      <td>0.032053</td>\n",
       "    </tr>\n",
       "    <tr>\n",
       "      <th>...</th>\n",
       "      <td>...</td>\n",
       "      <td>...</td>\n",
       "      <td>...</td>\n",
       "      <td>...</td>\n",
       "      <td>...</td>\n",
       "      <td>...</td>\n",
       "      <td>...</td>\n",
       "      <td>...</td>\n",
       "      <td>...</td>\n",
       "      <td>...</td>\n",
       "      <td>...</td>\n",
       "      <td>...</td>\n",
       "      <td>...</td>\n",
       "      <td>...</td>\n",
       "      <td>...</td>\n",
       "      <td>...</td>\n",
       "      <td>...</td>\n",
       "      <td>...</td>\n",
       "      <td>...</td>\n",
       "      <td>...</td>\n",
       "      <td>...</td>\n",
       "    </tr>\n",
       "    <tr>\n",
       "      <th>‘</th>\n",
       "      <td>-0.005880</td>\n",
       "      <td>-0.004665</td>\n",
       "      <td>-0.214563</td>\n",
       "      <td>-0.011658</td>\n",
       "      <td>-0.005440</td>\n",
       "      <td>-0.004683</td>\n",
       "      <td>-0.007761</td>\n",
       "      <td>0.003650</td>\n",
       "      <td>0.050089</td>\n",
       "      <td>0.002729</td>\n",
       "      <td>...</td>\n",
       "      <td>0.005793</td>\n",
       "      <td>0.004386</td>\n",
       "      <td>-0.046885</td>\n",
       "      <td>0.002524</td>\n",
       "      <td>0.005406</td>\n",
       "      <td>-0.017934</td>\n",
       "      <td>0.006290</td>\n",
       "      <td>0.000401</td>\n",
       "      <td>0.006088</td>\n",
       "      <td>0.001553</td>\n",
       "    </tr>\n",
       "    <tr>\n",
       "      <th>’</th>\n",
       "      <td>-0.002839</td>\n",
       "      <td>-0.025199</td>\n",
       "      <td>-0.017961</td>\n",
       "      <td>0.005492</td>\n",
       "      <td>0.001238</td>\n",
       "      <td>0.011790</td>\n",
       "      <td>-0.002090</td>\n",
       "      <td>-0.010750</td>\n",
       "      <td>0.109708</td>\n",
       "      <td>-0.005302</td>\n",
       "      <td>...</td>\n",
       "      <td>-0.076606</td>\n",
       "      <td>-0.035435</td>\n",
       "      <td>0.019013</td>\n",
       "      <td>0.017229</td>\n",
       "      <td>0.029816</td>\n",
       "      <td>0.049977</td>\n",
       "      <td>-0.025344</td>\n",
       "      <td>0.003653</td>\n",
       "      <td>-0.001604</td>\n",
       "      <td>0.176081</td>\n",
       "    </tr>\n",
       "    <tr>\n",
       "      <th>“</th>\n",
       "      <td>0.000341</td>\n",
       "      <td>0.011505</td>\n",
       "      <td>0.003999</td>\n",
       "      <td>-0.005339</td>\n",
       "      <td>-0.003270</td>\n",
       "      <td>0.003572</td>\n",
       "      <td>0.001421</td>\n",
       "      <td>-0.008352</td>\n",
       "      <td>0.001352</td>\n",
       "      <td>0.003367</td>\n",
       "      <td>...</td>\n",
       "      <td>0.003169</td>\n",
       "      <td>0.011799</td>\n",
       "      <td>-0.004631</td>\n",
       "      <td>-0.002775</td>\n",
       "      <td>-0.002354</td>\n",
       "      <td>-0.005303</td>\n",
       "      <td>-0.004375</td>\n",
       "      <td>0.010388</td>\n",
       "      <td>-0.010847</td>\n",
       "      <td>-0.007249</td>\n",
       "    </tr>\n",
       "    <tr>\n",
       "      <th>”</th>\n",
       "      <td>-0.000290</td>\n",
       "      <td>0.021694</td>\n",
       "      <td>0.006578</td>\n",
       "      <td>-0.004365</td>\n",
       "      <td>0.000902</td>\n",
       "      <td>-0.009067</td>\n",
       "      <td>-0.001975</td>\n",
       "      <td>-0.004271</td>\n",
       "      <td>0.002729</td>\n",
       "      <td>-0.001118</td>\n",
       "      <td>...</td>\n",
       "      <td>-0.001370</td>\n",
       "      <td>-0.004085</td>\n",
       "      <td>-0.009635</td>\n",
       "      <td>-0.002395</td>\n",
       "      <td>-0.001476</td>\n",
       "      <td>-0.007520</td>\n",
       "      <td>0.000675</td>\n",
       "      <td>-0.003917</td>\n",
       "      <td>0.006633</td>\n",
       "      <td>-0.018571</td>\n",
       "    </tr>\n",
       "    <tr>\n",
       "      <th>❝real</th>\n",
       "      <td>0.000979</td>\n",
       "      <td>0.003676</td>\n",
       "      <td>-0.006401</td>\n",
       "      <td>-0.000906</td>\n",
       "      <td>0.001553</td>\n",
       "      <td>-0.000196</td>\n",
       "      <td>0.007788</td>\n",
       "      <td>0.001083</td>\n",
       "      <td>0.015917</td>\n",
       "      <td>0.000111</td>\n",
       "      <td>...</td>\n",
       "      <td>0.004784</td>\n",
       "      <td>-0.003510</td>\n",
       "      <td>0.013881</td>\n",
       "      <td>-0.004745</td>\n",
       "      <td>-0.011022</td>\n",
       "      <td>-0.003898</td>\n",
       "      <td>0.005559</td>\n",
       "      <td>0.003180</td>\n",
       "      <td>-0.020623</td>\n",
       "      <td>0.004057</td>\n",
       "    </tr>\n",
       "  </tbody>\n",
       "</table>\n",
       "<p>2327 rows × 500 columns</p>\n",
       "</div>"
      ],
      "text/plain": [
       "         Comp 1    Comp 2    Comp 3    Comp 4    Comp 5    Comp 6    Comp 7  \\\n",
       "!     -0.002445  0.009159  0.004795 -0.018603  0.005400 -0.003888 -0.008644   \n",
       "#      0.001323 -0.013805  0.019507 -0.003647 -0.015684 -0.002614 -0.003105   \n",
       "(     -0.000766 -0.002131  0.001162 -0.001840  0.000518 -0.002776  0.000748   \n",
       ")     -0.000342 -0.001425  0.002255 -0.000580 -0.000688 -0.002130 -0.000360   \n",
       ",      0.000345 -0.031475 -0.005695 -0.002895  0.000669 -0.005995  0.000626   \n",
       "...         ...       ...       ...       ...       ...       ...       ...   \n",
       "‘     -0.005880 -0.004665 -0.214563 -0.011658 -0.005440 -0.004683 -0.007761   \n",
       "’     -0.002839 -0.025199 -0.017961  0.005492  0.001238  0.011790 -0.002090   \n",
       "“      0.000341  0.011505  0.003999 -0.005339 -0.003270  0.003572  0.001421   \n",
       "”     -0.000290  0.021694  0.006578 -0.004365  0.000902 -0.009067 -0.001975   \n",
       "❝real  0.000979  0.003676 -0.006401 -0.000906  0.001553 -0.000196  0.007788   \n",
       "\n",
       "         Comp 8    Comp 9   Comp 10  ...  Comp 491  Comp 492  Comp 493  \\\n",
       "!     -0.013260 -0.023465  0.003785  ...  0.006786 -0.097490  0.026916   \n",
       "#      0.022333  0.040944  0.008360  ... -0.084790  0.008607 -0.002623   \n",
       "(     -0.006843 -0.001281  0.005484  ...  0.003895 -0.000447  0.001618   \n",
       ")     -0.004394 -0.000817  0.004866  ... -0.001170  0.003189  0.000424   \n",
       ",      0.005936 -0.022008  0.025221  ...  0.070594 -0.007403 -0.025496   \n",
       "...         ...       ...       ...  ...       ...       ...       ...   \n",
       "‘      0.003650  0.050089  0.002729  ...  0.005793  0.004386 -0.046885   \n",
       "’     -0.010750  0.109708 -0.005302  ... -0.076606 -0.035435  0.019013   \n",
       "“     -0.008352  0.001352  0.003367  ...  0.003169  0.011799 -0.004631   \n",
       "”     -0.004271  0.002729 -0.001118  ... -0.001370 -0.004085 -0.009635   \n",
       "❝real  0.001083  0.015917  0.000111  ...  0.004784 -0.003510  0.013881   \n",
       "\n",
       "       Comp 494  Comp 495  Comp 496  Comp 497  Comp 498  Comp 499  Comp 500  \n",
       "!      0.002518  0.005202 -0.015148 -0.012731  0.000193 -0.023189 -0.015074  \n",
       "#      0.003791 -0.005258  0.048565  0.010139 -0.083814  0.023770  0.015932  \n",
       "(      0.006980 -0.000497  0.003171 -0.005241  0.002066  0.013100  0.002086  \n",
       ")      0.006401 -0.000815 -0.008037 -0.002319  0.002666 -0.007344  0.006109  \n",
       ",     -0.001728 -0.009012  0.013035  0.057475 -0.004225  0.022683  0.032053  \n",
       "...         ...       ...       ...       ...       ...       ...       ...  \n",
       "‘      0.002524  0.005406 -0.017934  0.006290  0.000401  0.006088  0.001553  \n",
       "’      0.017229  0.029816  0.049977 -0.025344  0.003653 -0.001604  0.176081  \n",
       "“     -0.002775 -0.002354 -0.005303 -0.004375  0.010388 -0.010847 -0.007249  \n",
       "”     -0.002395 -0.001476 -0.007520  0.000675 -0.003917  0.006633 -0.018571  \n",
       "❝real -0.004745 -0.011022 -0.003898  0.005559  0.003180 -0.020623  0.004057  \n",
       "\n",
       "[2327 rows x 500 columns]"
      ]
     },
     "execution_count": 7,
     "metadata": {},
     "output_type": "execute_result"
    }
   ],
   "source": [
    "embeddings = pd.read_csv('word_embed_500.csv', index_col = 0)\n",
    "embeddings"
   ]
  },
  {
   "cell_type": "code",
   "execution_count": 8,
   "metadata": {},
   "outputs": [],
   "source": [
    "# to convert contractions picked up by word_tokenize() into full words\n",
    "contractions = {\n",
    "    \"n't\": 'not',\n",
    "    \"'ve\": 'have',\n",
    "    \"'s\": 'is', # note that this will include possessive nouns\n",
    "    'gonna': 'going to',\n",
    "    'gotta': 'got to',\n",
    "    \"'d\": 'would',\n",
    "    \"'ll\": 'will',\n",
    "    \"'re\": 'are',\n",
    "    \"'m\": 'am',\n",
    "    'wanna': 'want to'\n",
    "}\n",
    "\n",
    "# to convert nltk_pos tags to wordnet-compatible PoS tags\n",
    "def convert_pos_wordnet(tag):\n",
    "    tag_abbr = tag[0].upper()\n",
    "    tag_dict = {\n",
    "        'J': wordnet.ADJ,\n",
    "        'N': wordnet.NOUN,\n",
    "        'V': wordnet.VERB,\n",
    "        'R': wordnet.ADV\n",
    "    }\n",
    "                \n",
    "    if tag_abbr in tag_dict:\n",
    "        return tag_dict[tag_abbr]"
   ]
  },
  {
   "cell_type": "code",
   "execution_count": 9,
   "metadata": {},
   "outputs": [],
   "source": [
    "def get_text_vectors(word_embeddings, # pandas dataframe with row index = vocabulary\n",
    "                     text_list, # list of strings\n",
    "                     remove_stopwords = True,\n",
    "                     lowercase = True,\n",
    "                     lemmatize = True,\n",
    "                     add_start_end_tokens = True):\n",
    "    \n",
    "    lemmatizer = WordNetLemmatizer()\n",
    "    \n",
    "    for k in range(len(text_list)):\n",
    "        text = text_list[k]\n",
    "        text = re.sub(r'[_~`@$%^&*[\\]+=\\|}{\\\"\\'<>/]+', '', text)\n",
    "        text_vec = np.zeros(word_embeddings.shape[1])\n",
    "        words = word_tokenize(text)\n",
    "        tracker = 0 # to track whether we've encountered a word for which we have an embedding (in each tweet)\n",
    "        \n",
    "        if remove_stopwords:\n",
    "            clean_words = []\n",
    "            for word in words:\n",
    "                if word.lower() not in set(stopwords.words('english')):\n",
    "                    clean_words.append(word)\n",
    "            words = clean_words\n",
    "\n",
    "        if lowercase:\n",
    "            clean_words = []\n",
    "            for word in words:\n",
    "                clean_words.append(word.lower())\n",
    "\n",
    "            words = clean_words\n",
    "\n",
    "        if lemmatize:\n",
    "            clean_words = []\n",
    "            for word in words:\n",
    "                PoS_tag = pos_tag([word])[0][1]\n",
    "\n",
    "                # to change contractions to full word form\n",
    "                if word in contractions:\n",
    "                    word = contractions[word]\n",
    "\n",
    "                if PoS_tag[0].upper() in 'JNVR':\n",
    "                    word = lemmatizer.lemmatize(word, convert_pos_wordnet(PoS_tag))\n",
    "                else:\n",
    "                    word = lemmatizer.lemmatize(word)\n",
    "\n",
    "                clean_words.append(word)\n",
    "\n",
    "            words = clean_words\n",
    "\n",
    "        if add_start_end_tokens:\n",
    "            words = ['<START>'] + words + ['<END>']\n",
    "        \n",
    "        for i in range(len(words)):\n",
    "            word = words[i]\n",
    "            if word in word_embeddings.index.tolist():\n",
    "                word_embed_vec = word_embeddings.loc[word].values\n",
    "                if tracker == 0:\n",
    "                    text_matrix = word_embed_vec\n",
    "                else:\n",
    "                    text_matrix = np.vstack((text_matrix, word_embed_vec))\n",
    "                    \n",
    "                # only increment if we have come across a word in the embeddings dictionary\n",
    "                tracker += 1\n",
    "                    \n",
    "        for j in range(len(text_vec)):\n",
    "            text_vec[j] = text_matrix[:,j].mean()\n",
    "            \n",
    "        if k == 0:\n",
    "            full_matrix = text_vec\n",
    "        else:\n",
    "            full_matrix = np.vstack((full_matrix, text_vec))\n",
    "            \n",
    "    return full_matrix"
   ]
  },
  {
   "cell_type": "code",
   "execution_count": 10,
   "metadata": {},
   "outputs": [],
   "source": [
    "train_fold1_X = get_text_vectors(embeddings, train_fold1['Tweet'])\n",
    "train_fold1_y = train_fold1['outlier_target']\n",
    "\n",
    "tune_fold1_X = get_text_vectors(embeddings, tune_fold1['Tweet'])\n",
    "tune_fold1_y = tune_fold1['outlier_target']\n",
    "\n",
    "test_fold1_X = get_text_vectors(embeddings, test_fold1['Tweet'])\n",
    "test_fold1_y = test_fold1['outlier_target']\n",
    "\n",
    "train_fold2_X = get_text_vectors(embeddings, train_fold2['Tweet'])\n",
    "train_fold2_y = train_fold2['outlier_target']\n",
    "\n",
    "tune_fold2_X = get_text_vectors(embeddings, tune_fold2['Tweet'])\n",
    "tune_fold2_y = tune_fold2['outlier_target']\n",
    "\n",
    "test_fold2_X = get_text_vectors(embeddings, test_fold2['Tweet'])\n",
    "test_fold2_y = test_fold2['outlier_target']"
   ]
  },
  {
   "cell_type": "markdown",
   "metadata": {},
   "source": [
    "## Binary classification: two-fold CV"
   ]
  },
  {
   "cell_type": "code",
   "execution_count": 11,
   "metadata": {},
   "outputs": [],
   "source": [
    "from sklearn.svm import OneClassSVM\n",
    "from sklearn.metrics import roc_auc_score, accuracy_score, precision_score, recall_score, f1_score"
   ]
  },
  {
   "cell_type": "code",
   "execution_count": 12,
   "metadata": {},
   "outputs": [],
   "source": [
    "# SVC hyperparams to optimize\n",
    "kernel = ['rbf', 'linear', 'poly', 'sigmoid']"
   ]
  },
  {
   "cell_type": "markdown",
   "metadata": {},
   "source": [
    "### Fold 1"
   ]
  },
  {
   "cell_type": "code",
   "execution_count": 13,
   "metadata": {},
   "outputs": [
    {
     "data": {
      "text/plain": [
       "OneClassSVM(kernel='linear')"
      ]
     },
     "execution_count": 13,
     "metadata": {},
     "output_type": "execute_result"
    }
   ],
   "source": [
    "# training & tuning\n",
    "models = []\n",
    "tune_f1 = []\n",
    "for ker in kernel:\n",
    "    svc = OneClassSVM(kernel = ker)\n",
    "    svc.fit(train_fold1_X, train_fold1_y)\n",
    "    models.append(svc)\n",
    "    tune_predict = svc.predict(tune_fold1_X)\n",
    "    f1 = f1_score(tune_fold1_y, tune_predict, average = 'macro')\n",
    "    tune_f1.append(f1)\n",
    "        \n",
    "opt_model = models[tune_f1.index(max(tune_f1))]\n",
    "opt_model"
   ]
  },
  {
   "cell_type": "code",
   "execution_count": 14,
   "metadata": {},
   "outputs": [
    {
     "data": {
      "text/plain": [
       "[0.6633465269018312, 0.674118984463812, 0.6296296296296295, 0.6641651809776524]"
      ]
     },
     "execution_count": 14,
     "metadata": {},
     "output_type": "execute_result"
    }
   ],
   "source": [
    "tune_f1"
   ]
  },
  {
   "cell_type": "code",
   "execution_count": 15,
   "metadata": {},
   "outputs": [
    {
     "data": {
      "text/plain": [
       "{'auc': [0.6858163265306122],\n",
       " 'accuracy': [0.6285714285714286],\n",
       " 'recall': [0.6285714285714286],\n",
       " 'precision': [0.6456984273820536],\n",
       " 'f1': [0.6173254835996635]}"
      ]
     },
     "execution_count": 15,
     "metadata": {},
     "output_type": "execute_result"
    }
   ],
   "source": [
    "# testing\n",
    "test_scores = dict()\n",
    "test_predict = opt_model.predict(test_fold1_X)\n",
    "test_predict_proba = opt_model.decision_function(test_fold1_X)\n",
    "test_scores['auc'] = [roc_auc_score(test_fold1_y, test_predict_proba, average = 'macro')]\n",
    "test_scores['accuracy'] = [accuracy_score(test_fold1_y, test_predict)]\n",
    "test_scores['recall'] = [recall_score(test_fold1_y, test_predict, average = 'macro')]\n",
    "test_scores['precision'] = [precision_score(test_fold1_y, test_predict, average = 'macro')]\n",
    "test_scores['f1'] = [f1_score(test_fold1_y, test_predict, average = 'macro')]\n",
    "test_scores"
   ]
  },
  {
   "cell_type": "markdown",
   "metadata": {},
   "source": [
    "### Fold 2"
   ]
  },
  {
   "cell_type": "code",
   "execution_count": 16,
   "metadata": {},
   "outputs": [
    {
     "data": {
      "text/plain": [
       "OneClassSVM(kernel='sigmoid')"
      ]
     },
     "execution_count": 16,
     "metadata": {},
     "output_type": "execute_result"
    }
   ],
   "source": [
    "# training & tuning\n",
    "models = []\n",
    "tune_f1 = []\n",
    "for ker in kernel:\n",
    "    svc = OneClassSVM(kernel = ker)\n",
    "    svc.fit(train_fold2_X, train_fold2_y)\n",
    "    models.append(svc)\n",
    "    tune_predict = svc.predict(tune_fold2_X)\n",
    "    f1 = f1_score(tune_fold2_y, tune_predict, average = 'macro')\n",
    "    tune_f1.append(f1)\n",
    "        \n",
    "opt_model = models[tune_f1.index(max(tune_f1))]\n",
    "opt_model"
   ]
  },
  {
   "cell_type": "code",
   "execution_count": 17,
   "metadata": {},
   "outputs": [
    {
     "data": {
      "text/plain": [
       "[0.47514665020067925, 0.52, 0.48499743232338055, 0.5286195286195287]"
      ]
     },
     "execution_count": 17,
     "metadata": {},
     "output_type": "execute_result"
    }
   ],
   "source": [
    "tune_f1"
   ]
  },
  {
   "cell_type": "code",
   "execution_count": 18,
   "metadata": {},
   "outputs": [
    {
     "data": {
      "text/plain": [
       "{'auc': [0.6858163265306122, 0.6893367346938775],\n",
       " 'accuracy': [0.6285714285714286, 0.6321428571428571],\n",
       " 'recall': [0.6285714285714286, 0.6321428571428571],\n",
       " 'precision': [0.6456984273820536, 0.7217655621200445],\n",
       " 'f1': [0.6173254835996635, 0.46073298429319376]}"
      ]
     },
     "execution_count": 18,
     "metadata": {},
     "output_type": "execute_result"
    }
   ],
   "source": [
    "# testing\n",
    "test_predict = opt_model.predict(test_fold2_X)\n",
    "test_predict_proba = opt_model.decision_function(test_fold2_X)\n",
    "test_scores['auc'].append(roc_auc_score(test_fold2_y, test_predict_proba, average = 'macro'))\n",
    "test_scores['accuracy'].append(accuracy_score(test_fold2_y, test_predict))\n",
    "test_scores['recall'].append(recall_score(test_fold2_y, test_predict, average = 'macro'))\n",
    "test_scores['precision'].append(precision_score(test_fold2_y, test_predict, average = 'macro'))\n",
    "test_scores['f1'].append(f1_score(test_fold2_y, test_predict))\n",
    "test_scores"
   ]
  },
  {
   "cell_type": "markdown",
   "metadata": {},
   "source": [
    "### Average results"
   ]
  },
  {
   "cell_type": "code",
   "execution_count": 19,
   "metadata": {},
   "outputs": [
    {
     "data": {
      "text/plain": [
       "0.6875765306122448"
      ]
     },
     "execution_count": 19,
     "metadata": {},
     "output_type": "execute_result"
    }
   ],
   "source": [
    "sum(test_scores['auc'])/2"
   ]
  },
  {
   "cell_type": "code",
   "execution_count": 20,
   "metadata": {},
   "outputs": [
    {
     "data": {
      "text/plain": [
       "0.6303571428571428"
      ]
     },
     "execution_count": 20,
     "metadata": {},
     "output_type": "execute_result"
    }
   ],
   "source": [
    "sum(test_scores['accuracy'])/2"
   ]
  },
  {
   "cell_type": "code",
   "execution_count": 21,
   "metadata": {},
   "outputs": [
    {
     "data": {
      "text/plain": [
       "0.6303571428571428"
      ]
     },
     "execution_count": 21,
     "metadata": {},
     "output_type": "execute_result"
    }
   ],
   "source": [
    "sum(test_scores['recall'])/2"
   ]
  },
  {
   "cell_type": "code",
   "execution_count": 22,
   "metadata": {},
   "outputs": [
    {
     "data": {
      "text/plain": [
       "0.6837319947510491"
      ]
     },
     "execution_count": 22,
     "metadata": {},
     "output_type": "execute_result"
    }
   ],
   "source": [
    "sum(test_scores['precision'])/2"
   ]
  },
  {
   "cell_type": "code",
   "execution_count": 23,
   "metadata": {},
   "outputs": [
    {
     "data": {
      "text/plain": [
       "0.5390292339464287"
      ]
     },
     "execution_count": 23,
     "metadata": {},
     "output_type": "execute_result"
    }
   ],
   "source": [
    "sum(test_scores['f1'])/2"
   ]
  },
  {
   "cell_type": "code",
   "execution_count": null,
   "metadata": {},
   "outputs": [],
   "source": []
  }
 ],
 "metadata": {
  "kernelspec": {
   "display_name": "Python 3",
   "language": "python",
   "name": "python3"
  },
  "language_info": {
   "codemirror_mode": {
    "name": "ipython",
    "version": 3
   },
   "file_extension": ".py",
   "mimetype": "text/x-python",
   "name": "python",
   "nbconvert_exporter": "python",
   "pygments_lexer": "ipython3",
   "version": "3.7.7"
  }
 },
 "nbformat": 4,
 "nbformat_minor": 4
}
