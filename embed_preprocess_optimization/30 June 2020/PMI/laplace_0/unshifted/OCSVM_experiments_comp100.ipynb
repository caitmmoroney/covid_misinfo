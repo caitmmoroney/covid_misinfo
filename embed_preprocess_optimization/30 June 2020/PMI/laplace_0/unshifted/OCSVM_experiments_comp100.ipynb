{
 "cells": [
  {
   "cell_type": "markdown",
   "metadata": {},
   "source": [
    "# One-Class Classification with Tweet Embeddings"
   ]
  },
  {
   "cell_type": "code",
   "execution_count": 1,
   "metadata": {},
   "outputs": [],
   "source": [
    "# import modules\n",
    "import numpy as np\n",
    "import pandas as pd\n",
    "from nltk import word_tokenize, pos_tag\n",
    "from nltk.corpus import stopwords, wordnet\n",
    "from nltk.tokenize.treebank import TreebankWordDetokenizer\n",
    "from sklearn.base import TransformerMixin\n",
    "from sklearn.decomposition import FastICA\n",
    "from sklearn.preprocessing import StandardScaler\n",
    "import re\n",
    "import matplotlib.pyplot as plt\n",
    "from nltk.stem import WordNetLemmatizer"
   ]
  },
  {
   "cell_type": "markdown",
   "metadata": {},
   "source": [
    "## Load data"
   ]
  },
  {
   "cell_type": "code",
   "execution_count": 2,
   "metadata": {},
   "outputs": [],
   "source": [
    "xls = pd.ExcelFile('../../../ForLastExpt.xlsx')"
   ]
  },
  {
   "cell_type": "code",
   "execution_count": 3,
   "metadata": {},
   "outputs": [],
   "source": [
    "class1_train = pd.read_excel(xls, 'Class=1 Training')\n",
    "class1_tune = pd.read_excel(xls, 'Class=1 Validation')\n",
    "class1_test_pt1 = pd.read_excel(xls, 'Class=1 Test Part-1')\n",
    "class1_test_pt2 = pd.read_excel(xls, 'Class=1 Test Part-2')\n",
    "class0_train = pd.read_excel(xls, 'Class=0 Training')\n",
    "class0_tune = pd.read_excel(xls, 'Class=0 Validation')\n",
    "class0_test_pt1 = pd.read_excel(xls, 'Class=0 Test Part-1')\n",
    "class0_test_pt2 = pd.read_excel(xls, 'Class=0 Test Part-2')"
   ]
  },
  {
   "cell_type": "code",
   "execution_count": 4,
   "metadata": {},
   "outputs": [],
   "source": [
    "# create outlier target values\n",
    "\n",
    "# class1_train\n",
    "outlier = []\n",
    "for i in class1_train['Is_Unreliable']:\n",
    "    if i == 0:\n",
    "        i = 1\n",
    "    else:\n",
    "        i = -1\n",
    "    outlier.append(i)\n",
    "class1_train['outlier_target'] = outlier\n",
    "\n",
    "# class1_tune\n",
    "outlier = []\n",
    "for i in class1_tune['Is_Unreliable']:\n",
    "    if i == 0:\n",
    "        i = 1\n",
    "    else:\n",
    "        i = -1\n",
    "    outlier.append(i)\n",
    "class1_tune['outlier_target'] = outlier\n",
    "\n",
    "# class1_test_pt1\n",
    "outlier = []\n",
    "for i in class1_test_pt1['Is_Unreliable']:\n",
    "    if i == 0:\n",
    "        i = 1\n",
    "    else:\n",
    "        i = -1\n",
    "    outlier.append(i)\n",
    "class1_test_pt1['outlier_target'] = outlier\n",
    "\n",
    "# class1_test_pt2\n",
    "outlier = []\n",
    "for i in class1_test_pt2['Is_Unreliable']:\n",
    "    if i == 0:\n",
    "        i = 1\n",
    "    else:\n",
    "        i = -1\n",
    "    outlier.append(i)\n",
    "class1_test_pt2['outlier_target'] = outlier\n",
    "\n",
    "# class0_train\n",
    "outlier = []\n",
    "for i in class0_train['Is_Unreliable']:\n",
    "    if i == 0:\n",
    "        i = 1\n",
    "    else:\n",
    "        i = -1\n",
    "    outlier.append(i)\n",
    "class0_train['outlier_target'] = outlier\n",
    "\n",
    "# class0_tune\n",
    "outlier = []\n",
    "for i in class0_tune['Is_Unreliable']:\n",
    "    if i == 0:\n",
    "        i = 1\n",
    "    else:\n",
    "        i = -1\n",
    "    outlier.append(i)\n",
    "class0_tune['outlier_target'] = outlier\n",
    "\n",
    "# class0_test_pt1\n",
    "outlier = []\n",
    "for i in class0_test_pt1['Is_Unreliable']:\n",
    "    if i == 0:\n",
    "        i = 1\n",
    "    else:\n",
    "        i = -1\n",
    "    outlier.append(i)\n",
    "class0_test_pt1['outlier_target'] = outlier\n",
    "\n",
    "# class0_test_pt2\n",
    "outlier = []\n",
    "for i in class0_test_pt2['Is_Unreliable']:\n",
    "    if i == 0:\n",
    "        i = 1\n",
    "    else:\n",
    "        i = -1\n",
    "    outlier.append(i)\n",
    "class0_test_pt2['outlier_target'] = outlier"
   ]
  },
  {
   "cell_type": "code",
   "execution_count": 5,
   "metadata": {},
   "outputs": [],
   "source": [
    "train_fold1 = class0_train\n",
    "tune_fold1 = pd.concat([class1_tune, class0_tune, class1_train], ignore_index = True)\n",
    "test_fold1 = pd.concat([class1_test_pt1, class1_test_pt2, class0_test_pt1, class0_test_pt2], ignore_index = True)\n",
    "\n",
    "train_fold2 = class0_test_pt1\n",
    "tune_fold2 = pd.concat([class1_test_pt2, class1_test_pt1, class0_test_pt2], ignore_index = True)\n",
    "test_fold2 = pd.concat([class1_tune, class0_tune, class1_train, class0_train], ignore_index = True)"
   ]
  },
  {
   "cell_type": "code",
   "execution_count": 6,
   "metadata": {},
   "outputs": [
    {
     "data": {
      "text/html": [
       "<div>\n",
       "<style scoped>\n",
       "    .dataframe tbody tr th:only-of-type {\n",
       "        vertical-align: middle;\n",
       "    }\n",
       "\n",
       "    .dataframe tbody tr th {\n",
       "        vertical-align: top;\n",
       "    }\n",
       "\n",
       "    .dataframe thead th {\n",
       "        text-align: right;\n",
       "    }\n",
       "</style>\n",
       "<table border=\"1\" class=\"dataframe\">\n",
       "  <thead>\n",
       "    <tr style=\"text-align: right;\">\n",
       "      <th></th>\n",
       "      <th>Is_Unreliable</th>\n",
       "      <th>Category</th>\n",
       "      <th>Tweet</th>\n",
       "      <th>outlier_target</th>\n",
       "    </tr>\n",
       "  </thead>\n",
       "  <tbody>\n",
       "    <tr>\n",
       "      <th>0</th>\n",
       "      <td>1</td>\n",
       "      <td>1, 3, 6, 9</td>\n",
       "      <td>We are living in scary times in Canada. Gov’t ...</td>\n",
       "      <td>-1</td>\n",
       "    </tr>\n",
       "    <tr>\n",
       "      <th>1</th>\n",
       "      <td>1</td>\n",
       "      <td>1, 6, 8, 9</td>\n",
       "      <td>Just as bad in Canada. In fact, our government...</td>\n",
       "      <td>-1</td>\n",
       "    </tr>\n",
       "    <tr>\n",
       "      <th>2</th>\n",
       "      <td>1</td>\n",
       "      <td>1, 4, 9</td>\n",
       "      <td>It was only a matter of time before the mainst...</td>\n",
       "      <td>-1</td>\n",
       "    </tr>\n",
       "    <tr>\n",
       "      <th>3</th>\n",
       "      <td>1</td>\n",
       "      <td>6, 8</td>\n",
       "      <td>Russia's taking no chances: Foreigners infecte...</td>\n",
       "      <td>-1</td>\n",
       "    </tr>\n",
       "    <tr>\n",
       "      <th>4</th>\n",
       "      <td>1</td>\n",
       "      <td>6, 8, 9</td>\n",
       "      <td>Although there is now a presumptive confirmed ...</td>\n",
       "      <td>-1</td>\n",
       "    </tr>\n",
       "    <tr>\n",
       "      <th>...</th>\n",
       "      <td>...</td>\n",
       "      <td>...</td>\n",
       "      <td>...</td>\n",
       "      <td>...</td>\n",
       "    </tr>\n",
       "    <tr>\n",
       "      <th>95</th>\n",
       "      <td>1</td>\n",
       "      <td>11, 10</td>\n",
       "      <td>EOIR has ordered immigration court staff to re...</td>\n",
       "      <td>-1</td>\n",
       "    </tr>\n",
       "    <tr>\n",
       "      <th>96</th>\n",
       "      <td>1</td>\n",
       "      <td>10</td>\n",
       "      <td>President - who said last night that #coronavi...</td>\n",
       "      <td>-1</td>\n",
       "    </tr>\n",
       "    <tr>\n",
       "      <th>97</th>\n",
       "      <td>1</td>\n",
       "      <td>11</td>\n",
       "      <td>Mashhad, NE #Iran Man collapses possibly due t...</td>\n",
       "      <td>-1</td>\n",
       "    </tr>\n",
       "    <tr>\n",
       "      <th>98</th>\n",
       "      <td>1</td>\n",
       "      <td>10, 11</td>\n",
       "      <td>Pence caught in lies about insurance covering ...</td>\n",
       "      <td>-1</td>\n",
       "    </tr>\n",
       "    <tr>\n",
       "      <th>99</th>\n",
       "      <td>1</td>\n",
       "      <td>9, 2, 14</td>\n",
       "      <td>and that's a no from me… Videos show Iranians ...</td>\n",
       "      <td>-1</td>\n",
       "    </tr>\n",
       "  </tbody>\n",
       "</table>\n",
       "<p>100 rows × 4 columns</p>\n",
       "</div>"
      ],
      "text/plain": [
       "    Is_Unreliable    Category  \\\n",
       "0               1  1, 3, 6, 9   \n",
       "1               1  1, 6, 8, 9   \n",
       "2               1     1, 4, 9   \n",
       "3               1        6, 8   \n",
       "4               1     6, 8, 9   \n",
       "..            ...         ...   \n",
       "95              1      11, 10   \n",
       "96              1          10   \n",
       "97              1          11   \n",
       "98              1      10, 11   \n",
       "99              1    9, 2, 14   \n",
       "\n",
       "                                                Tweet  outlier_target  \n",
       "0   We are living in scary times in Canada. Gov’t ...              -1  \n",
       "1   Just as bad in Canada. In fact, our government...              -1  \n",
       "2   It was only a matter of time before the mainst...              -1  \n",
       "3   Russia's taking no chances: Foreigners infecte...              -1  \n",
       "4   Although there is now a presumptive confirmed ...              -1  \n",
       "..                                                ...             ...  \n",
       "95  EOIR has ordered immigration court staff to re...              -1  \n",
       "96  President - who said last night that #coronavi...              -1  \n",
       "97  Mashhad, NE #Iran Man collapses possibly due t...              -1  \n",
       "98  Pence caught in lies about insurance covering ...              -1  \n",
       "99  and that's a no from me… Videos show Iranians ...              -1  \n",
       "\n",
       "[100 rows x 4 columns]"
      ]
     },
     "execution_count": 6,
     "metadata": {},
     "output_type": "execute_result"
    }
   ],
   "source": [
    "class1_train"
   ]
  },
  {
   "cell_type": "markdown",
   "metadata": {},
   "source": [
    "## Derive text vectors from word embeddings"
   ]
  },
  {
   "cell_type": "code",
   "execution_count": 7,
   "metadata": {},
   "outputs": [
    {
     "data": {
      "text/html": [
       "<div>\n",
       "<style scoped>\n",
       "    .dataframe tbody tr th:only-of-type {\n",
       "        vertical-align: middle;\n",
       "    }\n",
       "\n",
       "    .dataframe tbody tr th {\n",
       "        vertical-align: top;\n",
       "    }\n",
       "\n",
       "    .dataframe thead th {\n",
       "        text-align: right;\n",
       "    }\n",
       "</style>\n",
       "<table border=\"1\" class=\"dataframe\">\n",
       "  <thead>\n",
       "    <tr style=\"text-align: right;\">\n",
       "      <th></th>\n",
       "      <th>Comp 1</th>\n",
       "      <th>Comp 2</th>\n",
       "      <th>Comp 3</th>\n",
       "      <th>Comp 4</th>\n",
       "      <th>Comp 5</th>\n",
       "      <th>Comp 6</th>\n",
       "      <th>Comp 7</th>\n",
       "      <th>Comp 8</th>\n",
       "      <th>Comp 9</th>\n",
       "      <th>Comp 10</th>\n",
       "      <th>...</th>\n",
       "      <th>Comp 91</th>\n",
       "      <th>Comp 92</th>\n",
       "      <th>Comp 93</th>\n",
       "      <th>Comp 94</th>\n",
       "      <th>Comp 95</th>\n",
       "      <th>Comp 96</th>\n",
       "      <th>Comp 97</th>\n",
       "      <th>Comp 98</th>\n",
       "      <th>Comp 99</th>\n",
       "      <th>Comp 100</th>\n",
       "    </tr>\n",
       "  </thead>\n",
       "  <tbody>\n",
       "    <tr>\n",
       "      <th>!</th>\n",
       "      <td>-0.000215</td>\n",
       "      <td>-0.028009</td>\n",
       "      <td>0.069308</td>\n",
       "      <td>-0.012367</td>\n",
       "      <td>0.027250</td>\n",
       "      <td>0.006584</td>\n",
       "      <td>-0.005510</td>\n",
       "      <td>-0.012485</td>\n",
       "      <td>0.005671</td>\n",
       "      <td>0.031979</td>\n",
       "      <td>...</td>\n",
       "      <td>-0.004705</td>\n",
       "      <td>0.005880</td>\n",
       "      <td>0.040689</td>\n",
       "      <td>-0.007998</td>\n",
       "      <td>-0.005694</td>\n",
       "      <td>0.004880</td>\n",
       "      <td>0.015501</td>\n",
       "      <td>-0.099708</td>\n",
       "      <td>0.017512</td>\n",
       "      <td>-0.002584</td>\n",
       "    </tr>\n",
       "    <tr>\n",
       "      <th>#</th>\n",
       "      <td>-0.026788</td>\n",
       "      <td>-0.002110</td>\n",
       "      <td>-0.041773</td>\n",
       "      <td>-0.004902</td>\n",
       "      <td>-0.138086</td>\n",
       "      <td>0.000371</td>\n",
       "      <td>0.057222</td>\n",
       "      <td>0.162533</td>\n",
       "      <td>-0.045136</td>\n",
       "      <td>-0.018490</td>\n",
       "      <td>...</td>\n",
       "      <td>-0.004105</td>\n",
       "      <td>0.004208</td>\n",
       "      <td>-0.009173</td>\n",
       "      <td>0.148669</td>\n",
       "      <td>0.016375</td>\n",
       "      <td>0.008752</td>\n",
       "      <td>0.073840</td>\n",
       "      <td>-0.024549</td>\n",
       "      <td>-0.009477</td>\n",
       "      <td>-0.046669</td>\n",
       "    </tr>\n",
       "    <tr>\n",
       "      <th>(</th>\n",
       "      <td>0.009980</td>\n",
       "      <td>0.001658</td>\n",
       "      <td>-0.005084</td>\n",
       "      <td>-0.003779</td>\n",
       "      <td>-0.000960</td>\n",
       "      <td>-0.008138</td>\n",
       "      <td>0.005857</td>\n",
       "      <td>0.002487</td>\n",
       "      <td>0.003108</td>\n",
       "      <td>0.009023</td>\n",
       "      <td>...</td>\n",
       "      <td>-0.003466</td>\n",
       "      <td>0.019231</td>\n",
       "      <td>-0.005709</td>\n",
       "      <td>-0.010344</td>\n",
       "      <td>0.024103</td>\n",
       "      <td>-0.019262</td>\n",
       "      <td>-0.007681</td>\n",
       "      <td>0.007575</td>\n",
       "      <td>-0.010308</td>\n",
       "      <td>0.002380</td>\n",
       "    </tr>\n",
       "    <tr>\n",
       "      <th>)</th>\n",
       "      <td>0.009457</td>\n",
       "      <td>0.002567</td>\n",
       "      <td>-0.007181</td>\n",
       "      <td>-0.003442</td>\n",
       "      <td>-0.000990</td>\n",
       "      <td>-0.007352</td>\n",
       "      <td>0.006455</td>\n",
       "      <td>0.002440</td>\n",
       "      <td>0.000307</td>\n",
       "      <td>0.011456</td>\n",
       "      <td>...</td>\n",
       "      <td>-0.003445</td>\n",
       "      <td>0.019595</td>\n",
       "      <td>-0.003775</td>\n",
       "      <td>-0.012069</td>\n",
       "      <td>0.025084</td>\n",
       "      <td>-0.019438</td>\n",
       "      <td>-0.009729</td>\n",
       "      <td>0.007487</td>\n",
       "      <td>-0.010582</td>\n",
       "      <td>0.003470</td>\n",
       "    </tr>\n",
       "    <tr>\n",
       "      <th>,</th>\n",
       "      <td>-0.003856</td>\n",
       "      <td>-0.025203</td>\n",
       "      <td>0.016064</td>\n",
       "      <td>-0.004951</td>\n",
       "      <td>-0.012929</td>\n",
       "      <td>-0.060205</td>\n",
       "      <td>0.039796</td>\n",
       "      <td>0.026823</td>\n",
       "      <td>-0.025298</td>\n",
       "      <td>0.059966</td>\n",
       "      <td>...</td>\n",
       "      <td>-0.049025</td>\n",
       "      <td>-0.015454</td>\n",
       "      <td>-0.033636</td>\n",
       "      <td>-0.024679</td>\n",
       "      <td>0.023781</td>\n",
       "      <td>-0.005671</td>\n",
       "      <td>0.028907</td>\n",
       "      <td>0.022011</td>\n",
       "      <td>0.033071</td>\n",
       "      <td>0.015441</td>\n",
       "    </tr>\n",
       "    <tr>\n",
       "      <th>...</th>\n",
       "      <td>...</td>\n",
       "      <td>...</td>\n",
       "      <td>...</td>\n",
       "      <td>...</td>\n",
       "      <td>...</td>\n",
       "      <td>...</td>\n",
       "      <td>...</td>\n",
       "      <td>...</td>\n",
       "      <td>...</td>\n",
       "      <td>...</td>\n",
       "      <td>...</td>\n",
       "      <td>...</td>\n",
       "      <td>...</td>\n",
       "      <td>...</td>\n",
       "      <td>...</td>\n",
       "      <td>...</td>\n",
       "      <td>...</td>\n",
       "      <td>...</td>\n",
       "      <td>...</td>\n",
       "      <td>...</td>\n",
       "      <td>...</td>\n",
       "    </tr>\n",
       "    <tr>\n",
       "      <th>‘</th>\n",
       "      <td>-0.000269</td>\n",
       "      <td>0.025750</td>\n",
       "      <td>0.013155</td>\n",
       "      <td>-0.009237</td>\n",
       "      <td>-0.069262</td>\n",
       "      <td>-0.108464</td>\n",
       "      <td>0.013854</td>\n",
       "      <td>-0.025395</td>\n",
       "      <td>-0.016499</td>\n",
       "      <td>0.009229</td>\n",
       "      <td>...</td>\n",
       "      <td>-0.025758</td>\n",
       "      <td>-0.001542</td>\n",
       "      <td>-0.039638</td>\n",
       "      <td>0.019609</td>\n",
       "      <td>-0.000037</td>\n",
       "      <td>0.049015</td>\n",
       "      <td>0.014032</td>\n",
       "      <td>0.231895</td>\n",
       "      <td>0.001020</td>\n",
       "      <td>-0.003277</td>\n",
       "    </tr>\n",
       "    <tr>\n",
       "      <th>’</th>\n",
       "      <td>0.007391</td>\n",
       "      <td>-0.025889</td>\n",
       "      <td>0.111517</td>\n",
       "      <td>-0.034123</td>\n",
       "      <td>-0.047024</td>\n",
       "      <td>-0.065181</td>\n",
       "      <td>0.157244</td>\n",
       "      <td>-0.002996</td>\n",
       "      <td>-0.038731</td>\n",
       "      <td>0.057782</td>\n",
       "      <td>...</td>\n",
       "      <td>-0.006096</td>\n",
       "      <td>-0.037366</td>\n",
       "      <td>0.008522</td>\n",
       "      <td>0.011822</td>\n",
       "      <td>-0.015720</td>\n",
       "      <td>-0.001807</td>\n",
       "      <td>0.075906</td>\n",
       "      <td>0.101595</td>\n",
       "      <td>-0.009382</td>\n",
       "      <td>-0.041095</td>\n",
       "    </tr>\n",
       "    <tr>\n",
       "      <th>“</th>\n",
       "      <td>0.002908</td>\n",
       "      <td>-0.004608</td>\n",
       "      <td>0.157987</td>\n",
       "      <td>-0.045937</td>\n",
       "      <td>0.019553</td>\n",
       "      <td>0.033921</td>\n",
       "      <td>0.004174</td>\n",
       "      <td>-0.040245</td>\n",
       "      <td>-0.009852</td>\n",
       "      <td>0.001788</td>\n",
       "      <td>...</td>\n",
       "      <td>0.003196</td>\n",
       "      <td>0.030753</td>\n",
       "      <td>0.033212</td>\n",
       "      <td>0.011899</td>\n",
       "      <td>0.084522</td>\n",
       "      <td>-0.013463</td>\n",
       "      <td>0.003842</td>\n",
       "      <td>0.005870</td>\n",
       "      <td>-0.007176</td>\n",
       "      <td>-0.005843</td>\n",
       "    </tr>\n",
       "    <tr>\n",
       "      <th>”</th>\n",
       "      <td>0.007084</td>\n",
       "      <td>0.002994</td>\n",
       "      <td>0.021547</td>\n",
       "      <td>-0.060470</td>\n",
       "      <td>0.014092</td>\n",
       "      <td>0.029186</td>\n",
       "      <td>0.008700</td>\n",
       "      <td>-0.024110</td>\n",
       "      <td>-0.006365</td>\n",
       "      <td>0.008955</td>\n",
       "      <td>...</td>\n",
       "      <td>-0.000852</td>\n",
       "      <td>-0.008774</td>\n",
       "      <td>0.015574</td>\n",
       "      <td>0.024263</td>\n",
       "      <td>0.023272</td>\n",
       "      <td>-0.009959</td>\n",
       "      <td>0.015672</td>\n",
       "      <td>-0.020474</td>\n",
       "      <td>-0.000301</td>\n",
       "      <td>-0.011556</td>\n",
       "    </tr>\n",
       "    <tr>\n",
       "      <th>❝real</th>\n",
       "      <td>-0.003021</td>\n",
       "      <td>-0.003069</td>\n",
       "      <td>-0.005688</td>\n",
       "      <td>0.001052</td>\n",
       "      <td>0.007776</td>\n",
       "      <td>0.003272</td>\n",
       "      <td>0.003408</td>\n",
       "      <td>-0.004515</td>\n",
       "      <td>-0.006728</td>\n",
       "      <td>0.002286</td>\n",
       "      <td>...</td>\n",
       "      <td>0.005636</td>\n",
       "      <td>0.006886</td>\n",
       "      <td>0.004440</td>\n",
       "      <td>0.001215</td>\n",
       "      <td>-0.003627</td>\n",
       "      <td>-0.001310</td>\n",
       "      <td>0.002710</td>\n",
       "      <td>-0.007236</td>\n",
       "      <td>0.003437</td>\n",
       "      <td>0.001320</td>\n",
       "    </tr>\n",
       "  </tbody>\n",
       "</table>\n",
       "<p>2327 rows × 100 columns</p>\n",
       "</div>"
      ],
      "text/plain": [
       "         Comp 1    Comp 2    Comp 3    Comp 4    Comp 5    Comp 6    Comp 7  \\\n",
       "!     -0.000215 -0.028009  0.069308 -0.012367  0.027250  0.006584 -0.005510   \n",
       "#     -0.026788 -0.002110 -0.041773 -0.004902 -0.138086  0.000371  0.057222   \n",
       "(      0.009980  0.001658 -0.005084 -0.003779 -0.000960 -0.008138  0.005857   \n",
       ")      0.009457  0.002567 -0.007181 -0.003442 -0.000990 -0.007352  0.006455   \n",
       ",     -0.003856 -0.025203  0.016064 -0.004951 -0.012929 -0.060205  0.039796   \n",
       "...         ...       ...       ...       ...       ...       ...       ...   \n",
       "‘     -0.000269  0.025750  0.013155 -0.009237 -0.069262 -0.108464  0.013854   \n",
       "’      0.007391 -0.025889  0.111517 -0.034123 -0.047024 -0.065181  0.157244   \n",
       "“      0.002908 -0.004608  0.157987 -0.045937  0.019553  0.033921  0.004174   \n",
       "”      0.007084  0.002994  0.021547 -0.060470  0.014092  0.029186  0.008700   \n",
       "❝real -0.003021 -0.003069 -0.005688  0.001052  0.007776  0.003272  0.003408   \n",
       "\n",
       "         Comp 8    Comp 9   Comp 10  ...   Comp 91   Comp 92   Comp 93  \\\n",
       "!     -0.012485  0.005671  0.031979  ... -0.004705  0.005880  0.040689   \n",
       "#      0.162533 -0.045136 -0.018490  ... -0.004105  0.004208 -0.009173   \n",
       "(      0.002487  0.003108  0.009023  ... -0.003466  0.019231 -0.005709   \n",
       ")      0.002440  0.000307  0.011456  ... -0.003445  0.019595 -0.003775   \n",
       ",      0.026823 -0.025298  0.059966  ... -0.049025 -0.015454 -0.033636   \n",
       "...         ...       ...       ...  ...       ...       ...       ...   \n",
       "‘     -0.025395 -0.016499  0.009229  ... -0.025758 -0.001542 -0.039638   \n",
       "’     -0.002996 -0.038731  0.057782  ... -0.006096 -0.037366  0.008522   \n",
       "“     -0.040245 -0.009852  0.001788  ...  0.003196  0.030753  0.033212   \n",
       "”     -0.024110 -0.006365  0.008955  ... -0.000852 -0.008774  0.015574   \n",
       "❝real -0.004515 -0.006728  0.002286  ...  0.005636  0.006886  0.004440   \n",
       "\n",
       "        Comp 94   Comp 95   Comp 96   Comp 97   Comp 98   Comp 99  Comp 100  \n",
       "!     -0.007998 -0.005694  0.004880  0.015501 -0.099708  0.017512 -0.002584  \n",
       "#      0.148669  0.016375  0.008752  0.073840 -0.024549 -0.009477 -0.046669  \n",
       "(     -0.010344  0.024103 -0.019262 -0.007681  0.007575 -0.010308  0.002380  \n",
       ")     -0.012069  0.025084 -0.019438 -0.009729  0.007487 -0.010582  0.003470  \n",
       ",     -0.024679  0.023781 -0.005671  0.028907  0.022011  0.033071  0.015441  \n",
       "...         ...       ...       ...       ...       ...       ...       ...  \n",
       "‘      0.019609 -0.000037  0.049015  0.014032  0.231895  0.001020 -0.003277  \n",
       "’      0.011822 -0.015720 -0.001807  0.075906  0.101595 -0.009382 -0.041095  \n",
       "“      0.011899  0.084522 -0.013463  0.003842  0.005870 -0.007176 -0.005843  \n",
       "”      0.024263  0.023272 -0.009959  0.015672 -0.020474 -0.000301 -0.011556  \n",
       "❝real  0.001215 -0.003627 -0.001310  0.002710 -0.007236  0.003437  0.001320  \n",
       "\n",
       "[2327 rows x 100 columns]"
      ]
     },
     "execution_count": 7,
     "metadata": {},
     "output_type": "execute_result"
    }
   ],
   "source": [
    "embeddings = pd.read_csv('word_embed_100.csv', index_col = 0)\n",
    "embeddings"
   ]
  },
  {
   "cell_type": "code",
   "execution_count": 8,
   "metadata": {},
   "outputs": [],
   "source": [
    "# to convert contractions picked up by word_tokenize() into full words\n",
    "contractions = {\n",
    "    \"n't\": 'not',\n",
    "    \"'ve\": 'have',\n",
    "    \"'s\": 'is', # note that this will include possessive nouns\n",
    "    'gonna': 'going to',\n",
    "    'gotta': 'got to',\n",
    "    \"'d\": 'would',\n",
    "    \"'ll\": 'will',\n",
    "    \"'re\": 'are',\n",
    "    \"'m\": 'am',\n",
    "    'wanna': 'want to'\n",
    "}\n",
    "\n",
    "# to convert nltk_pos tags to wordnet-compatible PoS tags\n",
    "def convert_pos_wordnet(tag):\n",
    "    tag_abbr = tag[0].upper()\n",
    "    tag_dict = {\n",
    "        'J': wordnet.ADJ,\n",
    "        'N': wordnet.NOUN,\n",
    "        'V': wordnet.VERB,\n",
    "        'R': wordnet.ADV\n",
    "    }\n",
    "                \n",
    "    if tag_abbr in tag_dict:\n",
    "        return tag_dict[tag_abbr]"
   ]
  },
  {
   "cell_type": "code",
   "execution_count": 9,
   "metadata": {},
   "outputs": [],
   "source": [
    "def get_text_vectors(word_embeddings, # pandas dataframe with row index = vocabulary\n",
    "                     text_list, # list of strings\n",
    "                     remove_stopwords = True,\n",
    "                     lowercase = True,\n",
    "                     lemmatize = True,\n",
    "                     add_start_end_tokens = True):\n",
    "    \n",
    "    lemmatizer = WordNetLemmatizer()\n",
    "    \n",
    "    for k in range(len(text_list)):\n",
    "        text = text_list[k]\n",
    "        text = re.sub(r'[_~`@$%^&*[\\]+=\\|}{\\\"\\'<>/]+', '', text)\n",
    "        text_vec = np.zeros(word_embeddings.shape[1])\n",
    "        words = word_tokenize(text)\n",
    "        tracker = 0 # to track whether we've encountered a word for which we have an embedding (in each tweet)\n",
    "        \n",
    "        if remove_stopwords:\n",
    "            clean_words = []\n",
    "            for word in words:\n",
    "                if word.lower() not in set(stopwords.words('english')):\n",
    "                    clean_words.append(word)\n",
    "            words = clean_words\n",
    "\n",
    "        if lowercase:\n",
    "            clean_words = []\n",
    "            for word in words:\n",
    "                clean_words.append(word.lower())\n",
    "\n",
    "            words = clean_words\n",
    "\n",
    "        if lemmatize:\n",
    "            clean_words = []\n",
    "            for word in words:\n",
    "                PoS_tag = pos_tag([word])[0][1]\n",
    "\n",
    "                # to change contractions to full word form\n",
    "                if word in contractions:\n",
    "                    word = contractions[word]\n",
    "\n",
    "                if PoS_tag[0].upper() in 'JNVR':\n",
    "                    word = lemmatizer.lemmatize(word, convert_pos_wordnet(PoS_tag))\n",
    "                else:\n",
    "                    word = lemmatizer.lemmatize(word)\n",
    "\n",
    "                clean_words.append(word)\n",
    "\n",
    "            words = clean_words\n",
    "\n",
    "        if add_start_end_tokens:\n",
    "            words = ['<START>'] + words + ['<END>']\n",
    "        \n",
    "        for i in range(len(words)):\n",
    "            word = words[i]\n",
    "            if word in word_embeddings.index.tolist():\n",
    "                word_embed_vec = word_embeddings.loc[word].values\n",
    "                if tracker == 0:\n",
    "                    text_matrix = word_embed_vec\n",
    "                else:\n",
    "                    text_matrix = np.vstack((text_matrix, word_embed_vec))\n",
    "                    \n",
    "                # only increment if we have come across a word in the embeddings dictionary\n",
    "                tracker += 1\n",
    "                    \n",
    "        for j in range(len(text_vec)):\n",
    "            text_vec[j] = text_matrix[:,j].mean()\n",
    "            \n",
    "        if k == 0:\n",
    "            full_matrix = text_vec\n",
    "        else:\n",
    "            full_matrix = np.vstack((full_matrix, text_vec))\n",
    "            \n",
    "    return full_matrix"
   ]
  },
  {
   "cell_type": "code",
   "execution_count": 10,
   "metadata": {},
   "outputs": [],
   "source": [
    "train_fold1_X = get_text_vectors(embeddings, train_fold1['Tweet'])\n",
    "train_fold1_y = train_fold1['outlier_target']\n",
    "\n",
    "tune_fold1_X = get_text_vectors(embeddings, tune_fold1['Tweet'])\n",
    "tune_fold1_y = tune_fold1['outlier_target']\n",
    "\n",
    "test_fold1_X = get_text_vectors(embeddings, test_fold1['Tweet'])\n",
    "test_fold1_y = test_fold1['outlier_target']\n",
    "\n",
    "train_fold2_X = get_text_vectors(embeddings, train_fold2['Tweet'])\n",
    "train_fold2_y = train_fold2['outlier_target']\n",
    "\n",
    "tune_fold2_X = get_text_vectors(embeddings, tune_fold2['Tweet'])\n",
    "tune_fold2_y = tune_fold2['outlier_target']\n",
    "\n",
    "test_fold2_X = get_text_vectors(embeddings, test_fold2['Tweet'])\n",
    "test_fold2_y = test_fold2['outlier_target']"
   ]
  },
  {
   "cell_type": "markdown",
   "metadata": {},
   "source": [
    "## Binary classification: two-fold CV"
   ]
  },
  {
   "cell_type": "code",
   "execution_count": 11,
   "metadata": {},
   "outputs": [],
   "source": [
    "from sklearn.svm import OneClassSVM\n",
    "from sklearn.metrics import roc_auc_score, accuracy_score, precision_score, recall_score, f1_score"
   ]
  },
  {
   "cell_type": "code",
   "execution_count": 12,
   "metadata": {},
   "outputs": [],
   "source": [
    "# SVC hyperparams to optimize\n",
    "kernel = ['rbf', 'linear', 'poly', 'sigmoid']"
   ]
  },
  {
   "cell_type": "markdown",
   "metadata": {},
   "source": [
    "### Fold 1"
   ]
  },
  {
   "cell_type": "code",
   "execution_count": 13,
   "metadata": {},
   "outputs": [
    {
     "data": {
      "text/plain": [
       "OneClassSVM(kernel='linear')"
      ]
     },
     "execution_count": 13,
     "metadata": {},
     "output_type": "execute_result"
    }
   ],
   "source": [
    "# training & tuning\n",
    "models = []\n",
    "tune_f1 = []\n",
    "for ker in kernel:\n",
    "    svc = OneClassSVM(kernel = ker)\n",
    "    svc.fit(train_fold1_X, train_fold1_y)\n",
    "    models.append(svc)\n",
    "    tune_predict = svc.predict(tune_fold1_X)\n",
    "    f1 = f1_score(tune_fold1_y, tune_predict, average = 'macro')\n",
    "    tune_f1.append(f1)\n",
    "        \n",
    "opt_model = models[tune_f1.index(max(tune_f1))]\n",
    "opt_model"
   ]
  },
  {
   "cell_type": "code",
   "execution_count": 14,
   "metadata": {},
   "outputs": [
    {
     "data": {
      "text/plain": [
       "[0.6303571428571428,\n",
       " 0.7690163281561131,\n",
       " 0.7465449804432855,\n",
       " 0.7458823529411764]"
      ]
     },
     "execution_count": 14,
     "metadata": {},
     "output_type": "execute_result"
    }
   ],
   "source": [
    "tune_f1"
   ]
  },
  {
   "cell_type": "code",
   "execution_count": 15,
   "metadata": {},
   "outputs": [
    {
     "data": {
      "text/plain": [
       "{'auc': [0.732295918367347],\n",
       " 'accuracy': [0.6428571428571429],\n",
       " 'recall': [0.6428571428571429],\n",
       " 'precision': [0.6942286348501665],\n",
       " 'f1': [0.6175699300699301]}"
      ]
     },
     "execution_count": 15,
     "metadata": {},
     "output_type": "execute_result"
    }
   ],
   "source": [
    "# testing\n",
    "test_scores = dict()\n",
    "test_predict = opt_model.predict(test_fold1_X)\n",
    "test_predict_proba = opt_model.decision_function(test_fold1_X)\n",
    "test_scores['auc'] = [roc_auc_score(test_fold1_y, test_predict_proba, average = 'macro')]\n",
    "test_scores['accuracy'] = [accuracy_score(test_fold1_y, test_predict)]\n",
    "test_scores['recall'] = [recall_score(test_fold1_y, test_predict, average = 'macro')]\n",
    "test_scores['precision'] = [precision_score(test_fold1_y, test_predict, average = 'macro')]\n",
    "test_scores['f1'] = [f1_score(test_fold1_y, test_predict, average = 'macro')]\n",
    "test_scores"
   ]
  },
  {
   "cell_type": "markdown",
   "metadata": {},
   "source": [
    "### Fold 2"
   ]
  },
  {
   "cell_type": "code",
   "execution_count": 16,
   "metadata": {},
   "outputs": [
    {
     "data": {
      "text/plain": [
       "OneClassSVM(kernel='sigmoid')"
      ]
     },
     "execution_count": 16,
     "metadata": {},
     "output_type": "execute_result"
    }
   ],
   "source": [
    "# training & tuning\n",
    "models = []\n",
    "tune_f1 = []\n",
    "for ker in kernel:\n",
    "    svc = OneClassSVM(kernel = ker)\n",
    "    svc.fit(train_fold2_X, train_fold2_y)\n",
    "    models.append(svc)\n",
    "    tune_predict = svc.predict(tune_fold2_X)\n",
    "    f1 = f1_score(tune_fold2_y, tune_predict, average = 'macro')\n",
    "    tune_f1.append(f1)\n",
    "        \n",
    "opt_model = models[tune_f1.index(max(tune_f1))]\n",
    "opt_model"
   ]
  },
  {
   "cell_type": "code",
   "execution_count": 17,
   "metadata": {},
   "outputs": [
    {
     "data": {
      "text/plain": [
       "[0.5407295407295407,\n",
       " 0.5747495747495748,\n",
       " 0.5726941115164148,\n",
       " 0.5952457436556376]"
      ]
     },
     "execution_count": 17,
     "metadata": {},
     "output_type": "execute_result"
    }
   ],
   "source": [
    "tune_f1"
   ]
  },
  {
   "cell_type": "code",
   "execution_count": 18,
   "metadata": {},
   "outputs": [
    {
     "data": {
      "text/plain": [
       "{'auc': [0.732295918367347, 0.7668877551020408],\n",
       " 'accuracy': [0.6428571428571429, 0.7],\n",
       " 'recall': [0.6428571428571429, 0.7],\n",
       " 'precision': [0.6942286348501665, 0.7242049874170671],\n",
       " 'f1': [0.6175699300699301, 0.641025641025641]}"
      ]
     },
     "execution_count": 18,
     "metadata": {},
     "output_type": "execute_result"
    }
   ],
   "source": [
    "# testing\n",
    "test_predict = opt_model.predict(test_fold2_X)\n",
    "test_predict_proba = opt_model.decision_function(test_fold2_X)\n",
    "test_scores['auc'].append(roc_auc_score(test_fold2_y, test_predict_proba, average = 'macro'))\n",
    "test_scores['accuracy'].append(accuracy_score(test_fold2_y, test_predict))\n",
    "test_scores['recall'].append(recall_score(test_fold2_y, test_predict, average = 'macro'))\n",
    "test_scores['precision'].append(precision_score(test_fold2_y, test_predict, average = 'macro'))\n",
    "test_scores['f1'].append(f1_score(test_fold2_y, test_predict))\n",
    "test_scores"
   ]
  },
  {
   "cell_type": "markdown",
   "metadata": {},
   "source": [
    "### Average results"
   ]
  },
  {
   "cell_type": "code",
   "execution_count": 19,
   "metadata": {},
   "outputs": [
    {
     "data": {
      "text/plain": [
       "0.7495918367346939"
      ]
     },
     "execution_count": 19,
     "metadata": {},
     "output_type": "execute_result"
    }
   ],
   "source": [
    "sum(test_scores['auc'])/2"
   ]
  },
  {
   "cell_type": "code",
   "execution_count": 20,
   "metadata": {},
   "outputs": [
    {
     "data": {
      "text/plain": [
       "0.6714285714285715"
      ]
     },
     "execution_count": 20,
     "metadata": {},
     "output_type": "execute_result"
    }
   ],
   "source": [
    "sum(test_scores['accuracy'])/2"
   ]
  },
  {
   "cell_type": "code",
   "execution_count": 21,
   "metadata": {},
   "outputs": [
    {
     "data": {
      "text/plain": [
       "0.6714285714285715"
      ]
     },
     "execution_count": 21,
     "metadata": {},
     "output_type": "execute_result"
    }
   ],
   "source": [
    "sum(test_scores['recall'])/2"
   ]
  },
  {
   "cell_type": "code",
   "execution_count": 22,
   "metadata": {},
   "outputs": [
    {
     "data": {
      "text/plain": [
       "0.7092168111336168"
      ]
     },
     "execution_count": 22,
     "metadata": {},
     "output_type": "execute_result"
    }
   ],
   "source": [
    "sum(test_scores['precision'])/2"
   ]
  },
  {
   "cell_type": "code",
   "execution_count": 23,
   "metadata": {},
   "outputs": [
    {
     "data": {
      "text/plain": [
       "0.6292977855477855"
      ]
     },
     "execution_count": 23,
     "metadata": {},
     "output_type": "execute_result"
    }
   ],
   "source": [
    "sum(test_scores['f1'])/2"
   ]
  },
  {
   "cell_type": "code",
   "execution_count": null,
   "metadata": {},
   "outputs": [],
   "source": []
  }
 ],
 "metadata": {
  "kernelspec": {
   "display_name": "Python 3",
   "language": "python",
   "name": "python3"
  },
  "language_info": {
   "codemirror_mode": {
    "name": "ipython",
    "version": 3
   },
   "file_extension": ".py",
   "mimetype": "text/x-python",
   "name": "python",
   "nbconvert_exporter": "python",
   "pygments_lexer": "ipython3",
   "version": "3.7.7"
  }
 },
 "nbformat": 4,
 "nbformat_minor": 4
}
