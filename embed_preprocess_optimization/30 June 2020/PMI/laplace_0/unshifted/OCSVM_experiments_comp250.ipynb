{
 "cells": [
  {
   "cell_type": "markdown",
   "metadata": {},
   "source": [
    "# One-Class Classification with Tweet Embeddings"
   ]
  },
  {
   "cell_type": "code",
   "execution_count": 1,
   "metadata": {},
   "outputs": [],
   "source": [
    "# import modules\n",
    "import numpy as np\n",
    "import pandas as pd\n",
    "from nltk import word_tokenize, pos_tag\n",
    "from nltk.corpus import stopwords, wordnet\n",
    "from nltk.tokenize.treebank import TreebankWordDetokenizer\n",
    "from sklearn.base import TransformerMixin\n",
    "from sklearn.decomposition import FastICA\n",
    "from sklearn.preprocessing import StandardScaler\n",
    "import re\n",
    "import matplotlib.pyplot as plt\n",
    "from nltk.stem import WordNetLemmatizer"
   ]
  },
  {
   "cell_type": "markdown",
   "metadata": {},
   "source": [
    "## Load data"
   ]
  },
  {
   "cell_type": "code",
   "execution_count": 2,
   "metadata": {},
   "outputs": [],
   "source": [
    "xls = pd.ExcelFile('../../../ForLastExpt.xlsx')"
   ]
  },
  {
   "cell_type": "code",
   "execution_count": 3,
   "metadata": {},
   "outputs": [],
   "source": [
    "class1_train = pd.read_excel(xls, 'Class=1 Training')\n",
    "class1_tune = pd.read_excel(xls, 'Class=1 Validation')\n",
    "class1_test_pt1 = pd.read_excel(xls, 'Class=1 Test Part-1')\n",
    "class1_test_pt2 = pd.read_excel(xls, 'Class=1 Test Part-2')\n",
    "class0_train = pd.read_excel(xls, 'Class=0 Training')\n",
    "class0_tune = pd.read_excel(xls, 'Class=0 Validation')\n",
    "class0_test_pt1 = pd.read_excel(xls, 'Class=0 Test Part-1')\n",
    "class0_test_pt2 = pd.read_excel(xls, 'Class=0 Test Part-2')"
   ]
  },
  {
   "cell_type": "code",
   "execution_count": 4,
   "metadata": {},
   "outputs": [],
   "source": [
    "# create outlier target values\n",
    "\n",
    "# class1_train\n",
    "outlier = []\n",
    "for i in class1_train['Is_Unreliable']:\n",
    "    if i == 0:\n",
    "        i = 1\n",
    "    else:\n",
    "        i = -1\n",
    "    outlier.append(i)\n",
    "class1_train['outlier_target'] = outlier\n",
    "\n",
    "# class1_tune\n",
    "outlier = []\n",
    "for i in class1_tune['Is_Unreliable']:\n",
    "    if i == 0:\n",
    "        i = 1\n",
    "    else:\n",
    "        i = -1\n",
    "    outlier.append(i)\n",
    "class1_tune['outlier_target'] = outlier\n",
    "\n",
    "# class1_test_pt1\n",
    "outlier = []\n",
    "for i in class1_test_pt1['Is_Unreliable']:\n",
    "    if i == 0:\n",
    "        i = 1\n",
    "    else:\n",
    "        i = -1\n",
    "    outlier.append(i)\n",
    "class1_test_pt1['outlier_target'] = outlier\n",
    "\n",
    "# class1_test_pt2\n",
    "outlier = []\n",
    "for i in class1_test_pt2['Is_Unreliable']:\n",
    "    if i == 0:\n",
    "        i = 1\n",
    "    else:\n",
    "        i = -1\n",
    "    outlier.append(i)\n",
    "class1_test_pt2['outlier_target'] = outlier\n",
    "\n",
    "# class0_train\n",
    "outlier = []\n",
    "for i in class0_train['Is_Unreliable']:\n",
    "    if i == 0:\n",
    "        i = 1\n",
    "    else:\n",
    "        i = -1\n",
    "    outlier.append(i)\n",
    "class0_train['outlier_target'] = outlier\n",
    "\n",
    "# class0_tune\n",
    "outlier = []\n",
    "for i in class0_tune['Is_Unreliable']:\n",
    "    if i == 0:\n",
    "        i = 1\n",
    "    else:\n",
    "        i = -1\n",
    "    outlier.append(i)\n",
    "class0_tune['outlier_target'] = outlier\n",
    "\n",
    "# class0_test_pt1\n",
    "outlier = []\n",
    "for i in class0_test_pt1['Is_Unreliable']:\n",
    "    if i == 0:\n",
    "        i = 1\n",
    "    else:\n",
    "        i = -1\n",
    "    outlier.append(i)\n",
    "class0_test_pt1['outlier_target'] = outlier\n",
    "\n",
    "# class0_test_pt2\n",
    "outlier = []\n",
    "for i in class0_test_pt2['Is_Unreliable']:\n",
    "    if i == 0:\n",
    "        i = 1\n",
    "    else:\n",
    "        i = -1\n",
    "    outlier.append(i)\n",
    "class0_test_pt2['outlier_target'] = outlier"
   ]
  },
  {
   "cell_type": "code",
   "execution_count": 5,
   "metadata": {},
   "outputs": [],
   "source": [
    "train_fold1 = class0_train\n",
    "tune_fold1 = pd.concat([class1_tune, class0_tune, class1_train], ignore_index = True)\n",
    "test_fold1 = pd.concat([class1_test_pt1, class1_test_pt2, class0_test_pt1, class0_test_pt2], ignore_index = True)\n",
    "\n",
    "train_fold2 = class0_test_pt1\n",
    "tune_fold2 = pd.concat([class1_test_pt2, class1_test_pt1, class0_test_pt2], ignore_index = True)\n",
    "test_fold2 = pd.concat([class1_tune, class0_tune, class1_train, class0_train], ignore_index = True)"
   ]
  },
  {
   "cell_type": "code",
   "execution_count": 6,
   "metadata": {},
   "outputs": [
    {
     "data": {
      "text/html": [
       "<div>\n",
       "<style scoped>\n",
       "    .dataframe tbody tr th:only-of-type {\n",
       "        vertical-align: middle;\n",
       "    }\n",
       "\n",
       "    .dataframe tbody tr th {\n",
       "        vertical-align: top;\n",
       "    }\n",
       "\n",
       "    .dataframe thead th {\n",
       "        text-align: right;\n",
       "    }\n",
       "</style>\n",
       "<table border=\"1\" class=\"dataframe\">\n",
       "  <thead>\n",
       "    <tr style=\"text-align: right;\">\n",
       "      <th></th>\n",
       "      <th>Is_Unreliable</th>\n",
       "      <th>Category</th>\n",
       "      <th>Tweet</th>\n",
       "      <th>outlier_target</th>\n",
       "    </tr>\n",
       "  </thead>\n",
       "  <tbody>\n",
       "    <tr>\n",
       "      <th>0</th>\n",
       "      <td>1</td>\n",
       "      <td>1, 3, 6, 9</td>\n",
       "      <td>We are living in scary times in Canada. Gov’t ...</td>\n",
       "      <td>-1</td>\n",
       "    </tr>\n",
       "    <tr>\n",
       "      <th>1</th>\n",
       "      <td>1</td>\n",
       "      <td>1, 6, 8, 9</td>\n",
       "      <td>Just as bad in Canada. In fact, our government...</td>\n",
       "      <td>-1</td>\n",
       "    </tr>\n",
       "    <tr>\n",
       "      <th>2</th>\n",
       "      <td>1</td>\n",
       "      <td>1, 4, 9</td>\n",
       "      <td>It was only a matter of time before the mainst...</td>\n",
       "      <td>-1</td>\n",
       "    </tr>\n",
       "    <tr>\n",
       "      <th>3</th>\n",
       "      <td>1</td>\n",
       "      <td>6, 8</td>\n",
       "      <td>Russia's taking no chances: Foreigners infecte...</td>\n",
       "      <td>-1</td>\n",
       "    </tr>\n",
       "    <tr>\n",
       "      <th>4</th>\n",
       "      <td>1</td>\n",
       "      <td>6, 8, 9</td>\n",
       "      <td>Although there is now a presumptive confirmed ...</td>\n",
       "      <td>-1</td>\n",
       "    </tr>\n",
       "    <tr>\n",
       "      <th>...</th>\n",
       "      <td>...</td>\n",
       "      <td>...</td>\n",
       "      <td>...</td>\n",
       "      <td>...</td>\n",
       "    </tr>\n",
       "    <tr>\n",
       "      <th>95</th>\n",
       "      <td>1</td>\n",
       "      <td>11, 10</td>\n",
       "      <td>EOIR has ordered immigration court staff to re...</td>\n",
       "      <td>-1</td>\n",
       "    </tr>\n",
       "    <tr>\n",
       "      <th>96</th>\n",
       "      <td>1</td>\n",
       "      <td>10</td>\n",
       "      <td>President - who said last night that #coronavi...</td>\n",
       "      <td>-1</td>\n",
       "    </tr>\n",
       "    <tr>\n",
       "      <th>97</th>\n",
       "      <td>1</td>\n",
       "      <td>11</td>\n",
       "      <td>Mashhad, NE #Iran Man collapses possibly due t...</td>\n",
       "      <td>-1</td>\n",
       "    </tr>\n",
       "    <tr>\n",
       "      <th>98</th>\n",
       "      <td>1</td>\n",
       "      <td>10, 11</td>\n",
       "      <td>Pence caught in lies about insurance covering ...</td>\n",
       "      <td>-1</td>\n",
       "    </tr>\n",
       "    <tr>\n",
       "      <th>99</th>\n",
       "      <td>1</td>\n",
       "      <td>9, 2, 14</td>\n",
       "      <td>and that's a no from me… Videos show Iranians ...</td>\n",
       "      <td>-1</td>\n",
       "    </tr>\n",
       "  </tbody>\n",
       "</table>\n",
       "<p>100 rows × 4 columns</p>\n",
       "</div>"
      ],
      "text/plain": [
       "    Is_Unreliable    Category  \\\n",
       "0               1  1, 3, 6, 9   \n",
       "1               1  1, 6, 8, 9   \n",
       "2               1     1, 4, 9   \n",
       "3               1        6, 8   \n",
       "4               1     6, 8, 9   \n",
       "..            ...         ...   \n",
       "95              1      11, 10   \n",
       "96              1          10   \n",
       "97              1          11   \n",
       "98              1      10, 11   \n",
       "99              1    9, 2, 14   \n",
       "\n",
       "                                                Tweet  outlier_target  \n",
       "0   We are living in scary times in Canada. Gov’t ...              -1  \n",
       "1   Just as bad in Canada. In fact, our government...              -1  \n",
       "2   It was only a matter of time before the mainst...              -1  \n",
       "3   Russia's taking no chances: Foreigners infecte...              -1  \n",
       "4   Although there is now a presumptive confirmed ...              -1  \n",
       "..                                                ...             ...  \n",
       "95  EOIR has ordered immigration court staff to re...              -1  \n",
       "96  President - who said last night that #coronavi...              -1  \n",
       "97  Mashhad, NE #Iran Man collapses possibly due t...              -1  \n",
       "98  Pence caught in lies about insurance covering ...              -1  \n",
       "99  and that's a no from me… Videos show Iranians ...              -1  \n",
       "\n",
       "[100 rows x 4 columns]"
      ]
     },
     "execution_count": 6,
     "metadata": {},
     "output_type": "execute_result"
    }
   ],
   "source": [
    "class1_train"
   ]
  },
  {
   "cell_type": "markdown",
   "metadata": {},
   "source": [
    "## Derive text vectors from word embeddings"
   ]
  },
  {
   "cell_type": "code",
   "execution_count": 7,
   "metadata": {},
   "outputs": [
    {
     "data": {
      "text/html": [
       "<div>\n",
       "<style scoped>\n",
       "    .dataframe tbody tr th:only-of-type {\n",
       "        vertical-align: middle;\n",
       "    }\n",
       "\n",
       "    .dataframe tbody tr th {\n",
       "        vertical-align: top;\n",
       "    }\n",
       "\n",
       "    .dataframe thead th {\n",
       "        text-align: right;\n",
       "    }\n",
       "</style>\n",
       "<table border=\"1\" class=\"dataframe\">\n",
       "  <thead>\n",
       "    <tr style=\"text-align: right;\">\n",
       "      <th></th>\n",
       "      <th>Comp 1</th>\n",
       "      <th>Comp 2</th>\n",
       "      <th>Comp 3</th>\n",
       "      <th>Comp 4</th>\n",
       "      <th>Comp 5</th>\n",
       "      <th>Comp 6</th>\n",
       "      <th>Comp 7</th>\n",
       "      <th>Comp 8</th>\n",
       "      <th>Comp 9</th>\n",
       "      <th>Comp 10</th>\n",
       "      <th>...</th>\n",
       "      <th>Comp 241</th>\n",
       "      <th>Comp 242</th>\n",
       "      <th>Comp 243</th>\n",
       "      <th>Comp 244</th>\n",
       "      <th>Comp 245</th>\n",
       "      <th>Comp 246</th>\n",
       "      <th>Comp 247</th>\n",
       "      <th>Comp 248</th>\n",
       "      <th>Comp 249</th>\n",
       "      <th>Comp 250</th>\n",
       "    </tr>\n",
       "  </thead>\n",
       "  <tbody>\n",
       "    <tr>\n",
       "      <th>!</th>\n",
       "      <td>-0.018764</td>\n",
       "      <td>0.032525</td>\n",
       "      <td>0.015407</td>\n",
       "      <td>0.009157</td>\n",
       "      <td>0.014125</td>\n",
       "      <td>0.030538</td>\n",
       "      <td>0.043033</td>\n",
       "      <td>-0.021040</td>\n",
       "      <td>-0.004332</td>\n",
       "      <td>-0.008598</td>\n",
       "      <td>...</td>\n",
       "      <td>0.010041</td>\n",
       "      <td>0.009298</td>\n",
       "      <td>0.035440</td>\n",
       "      <td>-0.000282</td>\n",
       "      <td>-0.217032</td>\n",
       "      <td>-0.135531</td>\n",
       "      <td>-0.014149</td>\n",
       "      <td>-0.002041</td>\n",
       "      <td>0.023375</td>\n",
       "      <td>0.012812</td>\n",
       "    </tr>\n",
       "    <tr>\n",
       "      <th>#</th>\n",
       "      <td>-0.001960</td>\n",
       "      <td>0.038517</td>\n",
       "      <td>0.010817</td>\n",
       "      <td>-0.079002</td>\n",
       "      <td>0.010372</td>\n",
       "      <td>0.080606</td>\n",
       "      <td>-0.004860</td>\n",
       "      <td>0.002473</td>\n",
       "      <td>-0.005619</td>\n",
       "      <td>-0.001717</td>\n",
       "      <td>...</td>\n",
       "      <td>-0.005194</td>\n",
       "      <td>-0.037717</td>\n",
       "      <td>0.029850</td>\n",
       "      <td>-0.002985</td>\n",
       "      <td>-0.000654</td>\n",
       "      <td>-0.010842</td>\n",
       "      <td>-0.116837</td>\n",
       "      <td>0.022335</td>\n",
       "      <td>-0.002944</td>\n",
       "      <td>0.012674</td>\n",
       "    </tr>\n",
       "    <tr>\n",
       "      <th>(</th>\n",
       "      <td>-0.005236</td>\n",
       "      <td>0.007737</td>\n",
       "      <td>0.004173</td>\n",
       "      <td>0.003378</td>\n",
       "      <td>0.009708</td>\n",
       "      <td>-0.197379</td>\n",
       "      <td>0.064630</td>\n",
       "      <td>-0.008035</td>\n",
       "      <td>-0.000175</td>\n",
       "      <td>0.007928</td>\n",
       "      <td>...</td>\n",
       "      <td>-0.000881</td>\n",
       "      <td>-0.011962</td>\n",
       "      <td>-0.038069</td>\n",
       "      <td>-0.006983</td>\n",
       "      <td>0.003293</td>\n",
       "      <td>-0.003806</td>\n",
       "      <td>0.024025</td>\n",
       "      <td>0.011904</td>\n",
       "      <td>-0.000179</td>\n",
       "      <td>0.012640</td>\n",
       "    </tr>\n",
       "    <tr>\n",
       "      <th>)</th>\n",
       "      <td>-0.005141</td>\n",
       "      <td>0.009326</td>\n",
       "      <td>0.004000</td>\n",
       "      <td>0.003023</td>\n",
       "      <td>0.009742</td>\n",
       "      <td>-0.192747</td>\n",
       "      <td>0.107004</td>\n",
       "      <td>-0.008387</td>\n",
       "      <td>-0.001618</td>\n",
       "      <td>0.008576</td>\n",
       "      <td>...</td>\n",
       "      <td>-0.000223</td>\n",
       "      <td>-0.010377</td>\n",
       "      <td>-0.035645</td>\n",
       "      <td>-0.006858</td>\n",
       "      <td>0.002913</td>\n",
       "      <td>-0.002493</td>\n",
       "      <td>0.023433</td>\n",
       "      <td>0.010823</td>\n",
       "      <td>-0.000285</td>\n",
       "      <td>0.013780</td>\n",
       "    </tr>\n",
       "    <tr>\n",
       "      <th>,</th>\n",
       "      <td>0.005696</td>\n",
       "      <td>-0.020444</td>\n",
       "      <td>0.010301</td>\n",
       "      <td>-0.009947</td>\n",
       "      <td>-0.015616</td>\n",
       "      <td>-0.028876</td>\n",
       "      <td>0.068807</td>\n",
       "      <td>0.029133</td>\n",
       "      <td>0.008748</td>\n",
       "      <td>0.002209</td>\n",
       "      <td>...</td>\n",
       "      <td>0.007283</td>\n",
       "      <td>0.044907</td>\n",
       "      <td>0.005122</td>\n",
       "      <td>-0.045353</td>\n",
       "      <td>-0.001367</td>\n",
       "      <td>0.013397</td>\n",
       "      <td>-0.012996</td>\n",
       "      <td>-0.016318</td>\n",
       "      <td>-0.005606</td>\n",
       "      <td>-0.005031</td>\n",
       "    </tr>\n",
       "    <tr>\n",
       "      <th>...</th>\n",
       "      <td>...</td>\n",
       "      <td>...</td>\n",
       "      <td>...</td>\n",
       "      <td>...</td>\n",
       "      <td>...</td>\n",
       "      <td>...</td>\n",
       "      <td>...</td>\n",
       "      <td>...</td>\n",
       "      <td>...</td>\n",
       "      <td>...</td>\n",
       "      <td>...</td>\n",
       "      <td>...</td>\n",
       "      <td>...</td>\n",
       "      <td>...</td>\n",
       "      <td>...</td>\n",
       "      <td>...</td>\n",
       "      <td>...</td>\n",
       "      <td>...</td>\n",
       "      <td>...</td>\n",
       "      <td>...</td>\n",
       "      <td>...</td>\n",
       "    </tr>\n",
       "    <tr>\n",
       "      <th>‘</th>\n",
       "      <td>-0.004653</td>\n",
       "      <td>-0.000871</td>\n",
       "      <td>-0.004893</td>\n",
       "      <td>-0.007177</td>\n",
       "      <td>0.005050</td>\n",
       "      <td>0.013345</td>\n",
       "      <td>0.005497</td>\n",
       "      <td>0.009252</td>\n",
       "      <td>-0.004917</td>\n",
       "      <td>-0.001666</td>\n",
       "      <td>...</td>\n",
       "      <td>0.009270</td>\n",
       "      <td>-0.002894</td>\n",
       "      <td>0.001317</td>\n",
       "      <td>-0.014909</td>\n",
       "      <td>-0.002056</td>\n",
       "      <td>-0.000942</td>\n",
       "      <td>0.000207</td>\n",
       "      <td>0.021728</td>\n",
       "      <td>-0.004728</td>\n",
       "      <td>0.004189</td>\n",
       "    </tr>\n",
       "    <tr>\n",
       "      <th>’</th>\n",
       "      <td>-0.020318</td>\n",
       "      <td>-0.011916</td>\n",
       "      <td>-0.010054</td>\n",
       "      <td>-0.007211</td>\n",
       "      <td>-0.018799</td>\n",
       "      <td>-0.010868</td>\n",
       "      <td>-0.004023</td>\n",
       "      <td>-0.022962</td>\n",
       "      <td>0.064756</td>\n",
       "      <td>0.031455</td>\n",
       "      <td>...</td>\n",
       "      <td>-0.058205</td>\n",
       "      <td>0.035277</td>\n",
       "      <td>0.006492</td>\n",
       "      <td>0.009137</td>\n",
       "      <td>0.016892</td>\n",
       "      <td>0.062706</td>\n",
       "      <td>0.021387</td>\n",
       "      <td>-0.002337</td>\n",
       "      <td>0.006014</td>\n",
       "      <td>-0.014130</td>\n",
       "    </tr>\n",
       "    <tr>\n",
       "      <th>“</th>\n",
       "      <td>0.138389</td>\n",
       "      <td>0.008750</td>\n",
       "      <td>0.022160</td>\n",
       "      <td>-0.000766</td>\n",
       "      <td>-0.023548</td>\n",
       "      <td>0.028208</td>\n",
       "      <td>-0.003127</td>\n",
       "      <td>-0.011791</td>\n",
       "      <td>-0.004823</td>\n",
       "      <td>0.008236</td>\n",
       "      <td>...</td>\n",
       "      <td>0.000869</td>\n",
       "      <td>-0.001796</td>\n",
       "      <td>-0.037675</td>\n",
       "      <td>0.006247</td>\n",
       "      <td>-0.001588</td>\n",
       "      <td>-0.002131</td>\n",
       "      <td>0.013262</td>\n",
       "      <td>-0.025095</td>\n",
       "      <td>-0.006124</td>\n",
       "      <td>0.008645</td>\n",
       "    </tr>\n",
       "    <tr>\n",
       "      <th>”</th>\n",
       "      <td>0.174268</td>\n",
       "      <td>0.012348</td>\n",
       "      <td>0.001448</td>\n",
       "      <td>-0.005890</td>\n",
       "      <td>-0.014411</td>\n",
       "      <td>0.006477</td>\n",
       "      <td>0.000497</td>\n",
       "      <td>-0.009226</td>\n",
       "      <td>-0.003290</td>\n",
       "      <td>0.012056</td>\n",
       "      <td>...</td>\n",
       "      <td>-0.000187</td>\n",
       "      <td>-0.003730</td>\n",
       "      <td>-0.002160</td>\n",
       "      <td>0.009387</td>\n",
       "      <td>0.002483</td>\n",
       "      <td>-0.008567</td>\n",
       "      <td>0.014139</td>\n",
       "      <td>-0.018222</td>\n",
       "      <td>-0.002453</td>\n",
       "      <td>-0.000633</td>\n",
       "    </tr>\n",
       "    <tr>\n",
       "      <th>❝real</th>\n",
       "      <td>-0.000317</td>\n",
       "      <td>-0.000586</td>\n",
       "      <td>0.007038</td>\n",
       "      <td>0.005559</td>\n",
       "      <td>-0.003566</td>\n",
       "      <td>0.003684</td>\n",
       "      <td>0.000755</td>\n",
       "      <td>-0.000864</td>\n",
       "      <td>0.000018</td>\n",
       "      <td>-0.000540</td>\n",
       "      <td>...</td>\n",
       "      <td>0.015331</td>\n",
       "      <td>-0.002538</td>\n",
       "      <td>0.005514</td>\n",
       "      <td>-0.000456</td>\n",
       "      <td>0.003420</td>\n",
       "      <td>0.004669</td>\n",
       "      <td>0.003199</td>\n",
       "      <td>0.002913</td>\n",
       "      <td>0.002568</td>\n",
       "      <td>0.000691</td>\n",
       "    </tr>\n",
       "  </tbody>\n",
       "</table>\n",
       "<p>2327 rows × 250 columns</p>\n",
       "</div>"
      ],
      "text/plain": [
       "         Comp 1    Comp 2    Comp 3    Comp 4    Comp 5    Comp 6    Comp 7  \\\n",
       "!     -0.018764  0.032525  0.015407  0.009157  0.014125  0.030538  0.043033   \n",
       "#     -0.001960  0.038517  0.010817 -0.079002  0.010372  0.080606 -0.004860   \n",
       "(     -0.005236  0.007737  0.004173  0.003378  0.009708 -0.197379  0.064630   \n",
       ")     -0.005141  0.009326  0.004000  0.003023  0.009742 -0.192747  0.107004   \n",
       ",      0.005696 -0.020444  0.010301 -0.009947 -0.015616 -0.028876  0.068807   \n",
       "...         ...       ...       ...       ...       ...       ...       ...   \n",
       "‘     -0.004653 -0.000871 -0.004893 -0.007177  0.005050  0.013345  0.005497   \n",
       "’     -0.020318 -0.011916 -0.010054 -0.007211 -0.018799 -0.010868 -0.004023   \n",
       "“      0.138389  0.008750  0.022160 -0.000766 -0.023548  0.028208 -0.003127   \n",
       "”      0.174268  0.012348  0.001448 -0.005890 -0.014411  0.006477  0.000497   \n",
       "❝real -0.000317 -0.000586  0.007038  0.005559 -0.003566  0.003684  0.000755   \n",
       "\n",
       "         Comp 8    Comp 9   Comp 10  ...  Comp 241  Comp 242  Comp 243  \\\n",
       "!     -0.021040 -0.004332 -0.008598  ...  0.010041  0.009298  0.035440   \n",
       "#      0.002473 -0.005619 -0.001717  ... -0.005194 -0.037717  0.029850   \n",
       "(     -0.008035 -0.000175  0.007928  ... -0.000881 -0.011962 -0.038069   \n",
       ")     -0.008387 -0.001618  0.008576  ... -0.000223 -0.010377 -0.035645   \n",
       ",      0.029133  0.008748  0.002209  ...  0.007283  0.044907  0.005122   \n",
       "...         ...       ...       ...  ...       ...       ...       ...   \n",
       "‘      0.009252 -0.004917 -0.001666  ...  0.009270 -0.002894  0.001317   \n",
       "’     -0.022962  0.064756  0.031455  ... -0.058205  0.035277  0.006492   \n",
       "“     -0.011791 -0.004823  0.008236  ...  0.000869 -0.001796 -0.037675   \n",
       "”     -0.009226 -0.003290  0.012056  ... -0.000187 -0.003730 -0.002160   \n",
       "❝real -0.000864  0.000018 -0.000540  ...  0.015331 -0.002538  0.005514   \n",
       "\n",
       "       Comp 244  Comp 245  Comp 246  Comp 247  Comp 248  Comp 249  Comp 250  \n",
       "!     -0.000282 -0.217032 -0.135531 -0.014149 -0.002041  0.023375  0.012812  \n",
       "#     -0.002985 -0.000654 -0.010842 -0.116837  0.022335 -0.002944  0.012674  \n",
       "(     -0.006983  0.003293 -0.003806  0.024025  0.011904 -0.000179  0.012640  \n",
       ")     -0.006858  0.002913 -0.002493  0.023433  0.010823 -0.000285  0.013780  \n",
       ",     -0.045353 -0.001367  0.013397 -0.012996 -0.016318 -0.005606 -0.005031  \n",
       "...         ...       ...       ...       ...       ...       ...       ...  \n",
       "‘     -0.014909 -0.002056 -0.000942  0.000207  0.021728 -0.004728  0.004189  \n",
       "’      0.009137  0.016892  0.062706  0.021387 -0.002337  0.006014 -0.014130  \n",
       "“      0.006247 -0.001588 -0.002131  0.013262 -0.025095 -0.006124  0.008645  \n",
       "”      0.009387  0.002483 -0.008567  0.014139 -0.018222 -0.002453 -0.000633  \n",
       "❝real -0.000456  0.003420  0.004669  0.003199  0.002913  0.002568  0.000691  \n",
       "\n",
       "[2327 rows x 250 columns]"
      ]
     },
     "execution_count": 7,
     "metadata": {},
     "output_type": "execute_result"
    }
   ],
   "source": [
    "embeddings = pd.read_csv('word_embed_250.csv', index_col = 0)\n",
    "embeddings"
   ]
  },
  {
   "cell_type": "code",
   "execution_count": 8,
   "metadata": {},
   "outputs": [],
   "source": [
    "# to convert contractions picked up by word_tokenize() into full words\n",
    "contractions = {\n",
    "    \"n't\": 'not',\n",
    "    \"'ve\": 'have',\n",
    "    \"'s\": 'is', # note that this will include possessive nouns\n",
    "    'gonna': 'going to',\n",
    "    'gotta': 'got to',\n",
    "    \"'d\": 'would',\n",
    "    \"'ll\": 'will',\n",
    "    \"'re\": 'are',\n",
    "    \"'m\": 'am',\n",
    "    'wanna': 'want to'\n",
    "}\n",
    "\n",
    "# to convert nltk_pos tags to wordnet-compatible PoS tags\n",
    "def convert_pos_wordnet(tag):\n",
    "    tag_abbr = tag[0].upper()\n",
    "    tag_dict = {\n",
    "        'J': wordnet.ADJ,\n",
    "        'N': wordnet.NOUN,\n",
    "        'V': wordnet.VERB,\n",
    "        'R': wordnet.ADV\n",
    "    }\n",
    "                \n",
    "    if tag_abbr in tag_dict:\n",
    "        return tag_dict[tag_abbr]"
   ]
  },
  {
   "cell_type": "code",
   "execution_count": 9,
   "metadata": {},
   "outputs": [],
   "source": [
    "def get_text_vectors(word_embeddings, # pandas dataframe with row index = vocabulary\n",
    "                     text_list, # list of strings\n",
    "                     remove_stopwords = True,\n",
    "                     lowercase = True,\n",
    "                     lemmatize = True,\n",
    "                     add_start_end_tokens = True):\n",
    "    \n",
    "    lemmatizer = WordNetLemmatizer()\n",
    "    \n",
    "    for k in range(len(text_list)):\n",
    "        text = text_list[k]\n",
    "        text = re.sub(r'[_~`@$%^&*[\\]+=\\|}{\\\"\\'<>/]+', '', text)\n",
    "        text_vec = np.zeros(word_embeddings.shape[1])\n",
    "        words = word_tokenize(text)\n",
    "        tracker = 0 # to track whether we've encountered a word for which we have an embedding (in each tweet)\n",
    "        \n",
    "        if remove_stopwords:\n",
    "            clean_words = []\n",
    "            for word in words:\n",
    "                if word.lower() not in set(stopwords.words('english')):\n",
    "                    clean_words.append(word)\n",
    "            words = clean_words\n",
    "\n",
    "        if lowercase:\n",
    "            clean_words = []\n",
    "            for word in words:\n",
    "                clean_words.append(word.lower())\n",
    "\n",
    "            words = clean_words\n",
    "\n",
    "        if lemmatize:\n",
    "            clean_words = []\n",
    "            for word in words:\n",
    "                PoS_tag = pos_tag([word])[0][1]\n",
    "\n",
    "                # to change contractions to full word form\n",
    "                if word in contractions:\n",
    "                    word = contractions[word]\n",
    "\n",
    "                if PoS_tag[0].upper() in 'JNVR':\n",
    "                    word = lemmatizer.lemmatize(word, convert_pos_wordnet(PoS_tag))\n",
    "                else:\n",
    "                    word = lemmatizer.lemmatize(word)\n",
    "\n",
    "                clean_words.append(word)\n",
    "\n",
    "            words = clean_words\n",
    "\n",
    "        if add_start_end_tokens:\n",
    "            words = ['<START>'] + words + ['<END>']\n",
    "        \n",
    "        for i in range(len(words)):\n",
    "            word = words[i]\n",
    "            if word in word_embeddings.index.tolist():\n",
    "                word_embed_vec = word_embeddings.loc[word].values\n",
    "                if tracker == 0:\n",
    "                    text_matrix = word_embed_vec\n",
    "                else:\n",
    "                    text_matrix = np.vstack((text_matrix, word_embed_vec))\n",
    "                    \n",
    "                # only increment if we have come across a word in the embeddings dictionary\n",
    "                tracker += 1\n",
    "                    \n",
    "        for j in range(len(text_vec)):\n",
    "            text_vec[j] = text_matrix[:,j].mean()\n",
    "            \n",
    "        if k == 0:\n",
    "            full_matrix = text_vec\n",
    "        else:\n",
    "            full_matrix = np.vstack((full_matrix, text_vec))\n",
    "            \n",
    "    return full_matrix"
   ]
  },
  {
   "cell_type": "code",
   "execution_count": 10,
   "metadata": {},
   "outputs": [],
   "source": [
    "train_fold1_X = get_text_vectors(embeddings, train_fold1['Tweet'])\n",
    "train_fold1_y = train_fold1['outlier_target']\n",
    "\n",
    "tune_fold1_X = get_text_vectors(embeddings, tune_fold1['Tweet'])\n",
    "tune_fold1_y = tune_fold1['outlier_target']\n",
    "\n",
    "test_fold1_X = get_text_vectors(embeddings, test_fold1['Tweet'])\n",
    "test_fold1_y = test_fold1['outlier_target']\n",
    "\n",
    "train_fold2_X = get_text_vectors(embeddings, train_fold2['Tweet'])\n",
    "train_fold2_y = train_fold2['outlier_target']\n",
    "\n",
    "tune_fold2_X = get_text_vectors(embeddings, tune_fold2['Tweet'])\n",
    "tune_fold2_y = tune_fold2['outlier_target']\n",
    "\n",
    "test_fold2_X = get_text_vectors(embeddings, test_fold2['Tweet'])\n",
    "test_fold2_y = test_fold2['outlier_target']"
   ]
  },
  {
   "cell_type": "markdown",
   "metadata": {},
   "source": [
    "## Binary classification: two-fold CV"
   ]
  },
  {
   "cell_type": "code",
   "execution_count": 11,
   "metadata": {},
   "outputs": [],
   "source": [
    "from sklearn.svm import OneClassSVM\n",
    "from sklearn.metrics import roc_auc_score, accuracy_score, precision_score, recall_score, f1_score"
   ]
  },
  {
   "cell_type": "code",
   "execution_count": 12,
   "metadata": {},
   "outputs": [],
   "source": [
    "# SVC hyperparams to optimize\n",
    "kernel = ['rbf', 'linear', 'poly', 'sigmoid']"
   ]
  },
  {
   "cell_type": "markdown",
   "metadata": {},
   "source": [
    "### Fold 1"
   ]
  },
  {
   "cell_type": "code",
   "execution_count": 13,
   "metadata": {},
   "outputs": [
    {
     "data": {
      "text/plain": [
       "OneClassSVM(kernel='linear')"
      ]
     },
     "execution_count": 13,
     "metadata": {},
     "output_type": "execute_result"
    }
   ],
   "source": [
    "# training & tuning\n",
    "models = []\n",
    "tune_f1 = []\n",
    "for ker in kernel:\n",
    "    svc = OneClassSVM(kernel = ker)\n",
    "    svc.fit(train_fold1_X, train_fold1_y)\n",
    "    models.append(svc)\n",
    "    tune_predict = svc.predict(tune_fold1_X)\n",
    "    f1 = f1_score(tune_fold1_y, tune_predict, average = 'macro')\n",
    "    tune_f1.append(f1)\n",
    "        \n",
    "opt_model = models[tune_f1.index(max(tune_f1))]\n",
    "opt_model"
   ]
  },
  {
   "cell_type": "code",
   "execution_count": 14,
   "metadata": {},
   "outputs": [
    {
     "data": {
      "text/plain": [
       "[0.6946631290504981,\n",
       " 0.7204968944099378,\n",
       " 0.6459016393442623,\n",
       " 0.7150802139037433]"
      ]
     },
     "execution_count": 14,
     "metadata": {},
     "output_type": "execute_result"
    }
   ],
   "source": [
    "tune_f1"
   ]
  },
  {
   "cell_type": "code",
   "execution_count": 15,
   "metadata": {},
   "outputs": [
    {
     "data": {
      "text/plain": [
       "{'auc': [0.7151530612244897],\n",
       " 'accuracy': [0.6178571428571429],\n",
       " 'recall': [0.6178571428571429],\n",
       " 'precision': [0.6477832512315271],\n",
       " 'f1': [0.597479544813317]}"
      ]
     },
     "execution_count": 15,
     "metadata": {},
     "output_type": "execute_result"
    }
   ],
   "source": [
    "# testing\n",
    "test_scores = dict()\n",
    "test_predict = opt_model.predict(test_fold1_X)\n",
    "test_predict_proba = opt_model.decision_function(test_fold1_X)\n",
    "test_scores['auc'] = [roc_auc_score(test_fold1_y, test_predict_proba, average = 'macro')]\n",
    "test_scores['accuracy'] = [accuracy_score(test_fold1_y, test_predict)]\n",
    "test_scores['recall'] = [recall_score(test_fold1_y, test_predict, average = 'macro')]\n",
    "test_scores['precision'] = [precision_score(test_fold1_y, test_predict, average = 'macro')]\n",
    "test_scores['f1'] = [f1_score(test_fold1_y, test_predict, average = 'macro')]\n",
    "test_scores"
   ]
  },
  {
   "cell_type": "markdown",
   "metadata": {},
   "source": [
    "### Fold 2"
   ]
  },
  {
   "cell_type": "code",
   "execution_count": 16,
   "metadata": {},
   "outputs": [
    {
     "data": {
      "text/plain": [
       "OneClassSVM(kernel='sigmoid')"
      ]
     },
     "execution_count": 16,
     "metadata": {},
     "output_type": "execute_result"
    }
   ],
   "source": [
    "# training & tuning\n",
    "models = []\n",
    "tune_f1 = []\n",
    "for ker in kernel:\n",
    "    svc = OneClassSVM(kernel = ker)\n",
    "    svc.fit(train_fold2_X, train_fold2_y)\n",
    "    models.append(svc)\n",
    "    tune_predict = svc.predict(tune_fold2_X)\n",
    "    f1 = f1_score(tune_fold2_y, tune_predict, average = 'macro')\n",
    "    tune_f1.append(f1)\n",
    "        \n",
    "opt_model = models[tune_f1.index(max(tune_f1))]\n",
    "opt_model"
   ]
  },
  {
   "cell_type": "code",
   "execution_count": 17,
   "metadata": {},
   "outputs": [
    {
     "data": {
      "text/plain": [
       "[0.5652173913043478, 0.564867042707494, 0.5264469675990031, 0.5701544909595984]"
      ]
     },
     "execution_count": 17,
     "metadata": {},
     "output_type": "execute_result"
    }
   ],
   "source": [
    "tune_f1"
   ]
  },
  {
   "cell_type": "code",
   "execution_count": 18,
   "metadata": {},
   "outputs": [
    {
     "data": {
      "text/plain": [
       "{'auc': [0.7151530612244897, 0.7465816326530612],\n",
       " 'accuracy': [0.6178571428571429, 0.6785714285714286],\n",
       " 'recall': [0.6178571428571429, 0.6785714285714286],\n",
       " 'precision': [0.6477832512315271, 0.7337072649572649],\n",
       " 'f1': [0.597479544813317, 0.5754716981132076]}"
      ]
     },
     "execution_count": 18,
     "metadata": {},
     "output_type": "execute_result"
    }
   ],
   "source": [
    "# testing\n",
    "test_predict = opt_model.predict(test_fold2_X)\n",
    "test_predict_proba = opt_model.decision_function(test_fold2_X)\n",
    "test_scores['auc'].append(roc_auc_score(test_fold2_y, test_predict_proba, average = 'macro'))\n",
    "test_scores['accuracy'].append(accuracy_score(test_fold2_y, test_predict))\n",
    "test_scores['recall'].append(recall_score(test_fold2_y, test_predict, average = 'macro'))\n",
    "test_scores['precision'].append(precision_score(test_fold2_y, test_predict, average = 'macro'))\n",
    "test_scores['f1'].append(f1_score(test_fold2_y, test_predict))\n",
    "test_scores"
   ]
  },
  {
   "cell_type": "markdown",
   "metadata": {},
   "source": [
    "### Average results"
   ]
  },
  {
   "cell_type": "code",
   "execution_count": 19,
   "metadata": {},
   "outputs": [
    {
     "data": {
      "text/plain": [
       "0.7308673469387754"
      ]
     },
     "execution_count": 19,
     "metadata": {},
     "output_type": "execute_result"
    }
   ],
   "source": [
    "sum(test_scores['auc'])/2"
   ]
  },
  {
   "cell_type": "code",
   "execution_count": 20,
   "metadata": {},
   "outputs": [
    {
     "data": {
      "text/plain": [
       "0.6482142857142857"
      ]
     },
     "execution_count": 20,
     "metadata": {},
     "output_type": "execute_result"
    }
   ],
   "source": [
    "sum(test_scores['accuracy'])/2"
   ]
  },
  {
   "cell_type": "code",
   "execution_count": 21,
   "metadata": {},
   "outputs": [
    {
     "data": {
      "text/plain": [
       "0.6482142857142857"
      ]
     },
     "execution_count": 21,
     "metadata": {},
     "output_type": "execute_result"
    }
   ],
   "source": [
    "sum(test_scores['recall'])/2"
   ]
  },
  {
   "cell_type": "code",
   "execution_count": 22,
   "metadata": {},
   "outputs": [
    {
     "data": {
      "text/plain": [
       "0.690745258094396"
      ]
     },
     "execution_count": 22,
     "metadata": {},
     "output_type": "execute_result"
    }
   ],
   "source": [
    "sum(test_scores['precision'])/2"
   ]
  },
  {
   "cell_type": "code",
   "execution_count": 23,
   "metadata": {},
   "outputs": [
    {
     "data": {
      "text/plain": [
       "0.5864756214632623"
      ]
     },
     "execution_count": 23,
     "metadata": {},
     "output_type": "execute_result"
    }
   ],
   "source": [
    "sum(test_scores['f1'])/2"
   ]
  },
  {
   "cell_type": "code",
   "execution_count": null,
   "metadata": {},
   "outputs": [],
   "source": []
  }
 ],
 "metadata": {
  "kernelspec": {
   "display_name": "Python 3",
   "language": "python",
   "name": "python3"
  },
  "language_info": {
   "codemirror_mode": {
    "name": "ipython",
    "version": 3
   },
   "file_extension": ".py",
   "mimetype": "text/x-python",
   "name": "python",
   "nbconvert_exporter": "python",
   "pygments_lexer": "ipython3",
   "version": "3.7.7"
  }
 },
 "nbformat": 4,
 "nbformat_minor": 4
}
