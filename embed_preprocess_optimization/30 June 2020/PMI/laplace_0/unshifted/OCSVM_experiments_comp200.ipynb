{
 "cells": [
  {
   "cell_type": "markdown",
   "metadata": {},
   "source": [
    "# One-Class Classification with Tweet Embeddings"
   ]
  },
  {
   "cell_type": "code",
   "execution_count": 1,
   "metadata": {},
   "outputs": [],
   "source": [
    "# import modules\n",
    "import numpy as np\n",
    "import pandas as pd\n",
    "from nltk import word_tokenize, pos_tag\n",
    "from nltk.corpus import stopwords, wordnet\n",
    "from nltk.tokenize.treebank import TreebankWordDetokenizer\n",
    "from sklearn.base import TransformerMixin\n",
    "from sklearn.decomposition import FastICA\n",
    "from sklearn.preprocessing import StandardScaler\n",
    "import re\n",
    "import matplotlib.pyplot as plt\n",
    "from nltk.stem import WordNetLemmatizer"
   ]
  },
  {
   "cell_type": "markdown",
   "metadata": {},
   "source": [
    "## Load data"
   ]
  },
  {
   "cell_type": "code",
   "execution_count": 2,
   "metadata": {},
   "outputs": [],
   "source": [
    "xls = pd.ExcelFile('../../../ForLastExpt.xlsx')"
   ]
  },
  {
   "cell_type": "code",
   "execution_count": 3,
   "metadata": {},
   "outputs": [],
   "source": [
    "class1_train = pd.read_excel(xls, 'Class=1 Training')\n",
    "class1_tune = pd.read_excel(xls, 'Class=1 Validation')\n",
    "class1_test_pt1 = pd.read_excel(xls, 'Class=1 Test Part-1')\n",
    "class1_test_pt2 = pd.read_excel(xls, 'Class=1 Test Part-2')\n",
    "class0_train = pd.read_excel(xls, 'Class=0 Training')\n",
    "class0_tune = pd.read_excel(xls, 'Class=0 Validation')\n",
    "class0_test_pt1 = pd.read_excel(xls, 'Class=0 Test Part-1')\n",
    "class0_test_pt2 = pd.read_excel(xls, 'Class=0 Test Part-2')"
   ]
  },
  {
   "cell_type": "code",
   "execution_count": 4,
   "metadata": {},
   "outputs": [],
   "source": [
    "# create outlier target values\n",
    "\n",
    "# class1_train\n",
    "outlier = []\n",
    "for i in class1_train['Is_Unreliable']:\n",
    "    if i == 0:\n",
    "        i = 1\n",
    "    else:\n",
    "        i = -1\n",
    "    outlier.append(i)\n",
    "class1_train['outlier_target'] = outlier\n",
    "\n",
    "# class1_tune\n",
    "outlier = []\n",
    "for i in class1_tune['Is_Unreliable']:\n",
    "    if i == 0:\n",
    "        i = 1\n",
    "    else:\n",
    "        i = -1\n",
    "    outlier.append(i)\n",
    "class1_tune['outlier_target'] = outlier\n",
    "\n",
    "# class1_test_pt1\n",
    "outlier = []\n",
    "for i in class1_test_pt1['Is_Unreliable']:\n",
    "    if i == 0:\n",
    "        i = 1\n",
    "    else:\n",
    "        i = -1\n",
    "    outlier.append(i)\n",
    "class1_test_pt1['outlier_target'] = outlier\n",
    "\n",
    "# class1_test_pt2\n",
    "outlier = []\n",
    "for i in class1_test_pt2['Is_Unreliable']:\n",
    "    if i == 0:\n",
    "        i = 1\n",
    "    else:\n",
    "        i = -1\n",
    "    outlier.append(i)\n",
    "class1_test_pt2['outlier_target'] = outlier\n",
    "\n",
    "# class0_train\n",
    "outlier = []\n",
    "for i in class0_train['Is_Unreliable']:\n",
    "    if i == 0:\n",
    "        i = 1\n",
    "    else:\n",
    "        i = -1\n",
    "    outlier.append(i)\n",
    "class0_train['outlier_target'] = outlier\n",
    "\n",
    "# class0_tune\n",
    "outlier = []\n",
    "for i in class0_tune['Is_Unreliable']:\n",
    "    if i == 0:\n",
    "        i = 1\n",
    "    else:\n",
    "        i = -1\n",
    "    outlier.append(i)\n",
    "class0_tune['outlier_target'] = outlier\n",
    "\n",
    "# class0_test_pt1\n",
    "outlier = []\n",
    "for i in class0_test_pt1['Is_Unreliable']:\n",
    "    if i == 0:\n",
    "        i = 1\n",
    "    else:\n",
    "        i = -1\n",
    "    outlier.append(i)\n",
    "class0_test_pt1['outlier_target'] = outlier\n",
    "\n",
    "# class0_test_pt2\n",
    "outlier = []\n",
    "for i in class0_test_pt2['Is_Unreliable']:\n",
    "    if i == 0:\n",
    "        i = 1\n",
    "    else:\n",
    "        i = -1\n",
    "    outlier.append(i)\n",
    "class0_test_pt2['outlier_target'] = outlier"
   ]
  },
  {
   "cell_type": "code",
   "execution_count": 5,
   "metadata": {},
   "outputs": [],
   "source": [
    "train_fold1 = class0_train\n",
    "tune_fold1 = pd.concat([class1_tune, class0_tune, class1_train], ignore_index = True)\n",
    "test_fold1 = pd.concat([class1_test_pt1, class1_test_pt2, class0_test_pt1, class0_test_pt2], ignore_index = True)\n",
    "\n",
    "train_fold2 = class0_test_pt1\n",
    "tune_fold2 = pd.concat([class1_test_pt2, class1_test_pt1, class0_test_pt2], ignore_index = True)\n",
    "test_fold2 = pd.concat([class1_tune, class0_tune, class1_train, class0_train], ignore_index = True)"
   ]
  },
  {
   "cell_type": "code",
   "execution_count": 6,
   "metadata": {},
   "outputs": [
    {
     "data": {
      "text/html": [
       "<div>\n",
       "<style scoped>\n",
       "    .dataframe tbody tr th:only-of-type {\n",
       "        vertical-align: middle;\n",
       "    }\n",
       "\n",
       "    .dataframe tbody tr th {\n",
       "        vertical-align: top;\n",
       "    }\n",
       "\n",
       "    .dataframe thead th {\n",
       "        text-align: right;\n",
       "    }\n",
       "</style>\n",
       "<table border=\"1\" class=\"dataframe\">\n",
       "  <thead>\n",
       "    <tr style=\"text-align: right;\">\n",
       "      <th></th>\n",
       "      <th>Is_Unreliable</th>\n",
       "      <th>Category</th>\n",
       "      <th>Tweet</th>\n",
       "      <th>outlier_target</th>\n",
       "    </tr>\n",
       "  </thead>\n",
       "  <tbody>\n",
       "    <tr>\n",
       "      <th>0</th>\n",
       "      <td>1</td>\n",
       "      <td>1, 3, 6, 9</td>\n",
       "      <td>We are living in scary times in Canada. Gov’t ...</td>\n",
       "      <td>-1</td>\n",
       "    </tr>\n",
       "    <tr>\n",
       "      <th>1</th>\n",
       "      <td>1</td>\n",
       "      <td>1, 6, 8, 9</td>\n",
       "      <td>Just as bad in Canada. In fact, our government...</td>\n",
       "      <td>-1</td>\n",
       "    </tr>\n",
       "    <tr>\n",
       "      <th>2</th>\n",
       "      <td>1</td>\n",
       "      <td>1, 4, 9</td>\n",
       "      <td>It was only a matter of time before the mainst...</td>\n",
       "      <td>-1</td>\n",
       "    </tr>\n",
       "    <tr>\n",
       "      <th>3</th>\n",
       "      <td>1</td>\n",
       "      <td>6, 8</td>\n",
       "      <td>Russia's taking no chances: Foreigners infecte...</td>\n",
       "      <td>-1</td>\n",
       "    </tr>\n",
       "    <tr>\n",
       "      <th>4</th>\n",
       "      <td>1</td>\n",
       "      <td>6, 8, 9</td>\n",
       "      <td>Although there is now a presumptive confirmed ...</td>\n",
       "      <td>-1</td>\n",
       "    </tr>\n",
       "    <tr>\n",
       "      <th>...</th>\n",
       "      <td>...</td>\n",
       "      <td>...</td>\n",
       "      <td>...</td>\n",
       "      <td>...</td>\n",
       "    </tr>\n",
       "    <tr>\n",
       "      <th>95</th>\n",
       "      <td>1</td>\n",
       "      <td>11, 10</td>\n",
       "      <td>EOIR has ordered immigration court staff to re...</td>\n",
       "      <td>-1</td>\n",
       "    </tr>\n",
       "    <tr>\n",
       "      <th>96</th>\n",
       "      <td>1</td>\n",
       "      <td>10</td>\n",
       "      <td>President - who said last night that #coronavi...</td>\n",
       "      <td>-1</td>\n",
       "    </tr>\n",
       "    <tr>\n",
       "      <th>97</th>\n",
       "      <td>1</td>\n",
       "      <td>11</td>\n",
       "      <td>Mashhad, NE #Iran Man collapses possibly due t...</td>\n",
       "      <td>-1</td>\n",
       "    </tr>\n",
       "    <tr>\n",
       "      <th>98</th>\n",
       "      <td>1</td>\n",
       "      <td>10, 11</td>\n",
       "      <td>Pence caught in lies about insurance covering ...</td>\n",
       "      <td>-1</td>\n",
       "    </tr>\n",
       "    <tr>\n",
       "      <th>99</th>\n",
       "      <td>1</td>\n",
       "      <td>9, 2, 14</td>\n",
       "      <td>and that's a no from me… Videos show Iranians ...</td>\n",
       "      <td>-1</td>\n",
       "    </tr>\n",
       "  </tbody>\n",
       "</table>\n",
       "<p>100 rows × 4 columns</p>\n",
       "</div>"
      ],
      "text/plain": [
       "    Is_Unreliable    Category  \\\n",
       "0               1  1, 3, 6, 9   \n",
       "1               1  1, 6, 8, 9   \n",
       "2               1     1, 4, 9   \n",
       "3               1        6, 8   \n",
       "4               1     6, 8, 9   \n",
       "..            ...         ...   \n",
       "95              1      11, 10   \n",
       "96              1          10   \n",
       "97              1          11   \n",
       "98              1      10, 11   \n",
       "99              1    9, 2, 14   \n",
       "\n",
       "                                                Tweet  outlier_target  \n",
       "0   We are living in scary times in Canada. Gov’t ...              -1  \n",
       "1   Just as bad in Canada. In fact, our government...              -1  \n",
       "2   It was only a matter of time before the mainst...              -1  \n",
       "3   Russia's taking no chances: Foreigners infecte...              -1  \n",
       "4   Although there is now a presumptive confirmed ...              -1  \n",
       "..                                                ...             ...  \n",
       "95  EOIR has ordered immigration court staff to re...              -1  \n",
       "96  President - who said last night that #coronavi...              -1  \n",
       "97  Mashhad, NE #Iran Man collapses possibly due t...              -1  \n",
       "98  Pence caught in lies about insurance covering ...              -1  \n",
       "99  and that's a no from me… Videos show Iranians ...              -1  \n",
       "\n",
       "[100 rows x 4 columns]"
      ]
     },
     "execution_count": 6,
     "metadata": {},
     "output_type": "execute_result"
    }
   ],
   "source": [
    "class1_train"
   ]
  },
  {
   "cell_type": "markdown",
   "metadata": {},
   "source": [
    "## Derive text vectors from word embeddings"
   ]
  },
  {
   "cell_type": "code",
   "execution_count": 7,
   "metadata": {},
   "outputs": [
    {
     "data": {
      "text/html": [
       "<div>\n",
       "<style scoped>\n",
       "    .dataframe tbody tr th:only-of-type {\n",
       "        vertical-align: middle;\n",
       "    }\n",
       "\n",
       "    .dataframe tbody tr th {\n",
       "        vertical-align: top;\n",
       "    }\n",
       "\n",
       "    .dataframe thead th {\n",
       "        text-align: right;\n",
       "    }\n",
       "</style>\n",
       "<table border=\"1\" class=\"dataframe\">\n",
       "  <thead>\n",
       "    <tr style=\"text-align: right;\">\n",
       "      <th></th>\n",
       "      <th>Comp 1</th>\n",
       "      <th>Comp 2</th>\n",
       "      <th>Comp 3</th>\n",
       "      <th>Comp 4</th>\n",
       "      <th>Comp 5</th>\n",
       "      <th>Comp 6</th>\n",
       "      <th>Comp 7</th>\n",
       "      <th>Comp 8</th>\n",
       "      <th>Comp 9</th>\n",
       "      <th>Comp 10</th>\n",
       "      <th>...</th>\n",
       "      <th>Comp 191</th>\n",
       "      <th>Comp 192</th>\n",
       "      <th>Comp 193</th>\n",
       "      <th>Comp 194</th>\n",
       "      <th>Comp 195</th>\n",
       "      <th>Comp 196</th>\n",
       "      <th>Comp 197</th>\n",
       "      <th>Comp 198</th>\n",
       "      <th>Comp 199</th>\n",
       "      <th>Comp 200</th>\n",
       "    </tr>\n",
       "  </thead>\n",
       "  <tbody>\n",
       "    <tr>\n",
       "      <th>!</th>\n",
       "      <td>-0.077554</td>\n",
       "      <td>0.006986</td>\n",
       "      <td>-0.005566</td>\n",
       "      <td>0.195925</td>\n",
       "      <td>-0.006489</td>\n",
       "      <td>0.008977</td>\n",
       "      <td>-0.025328</td>\n",
       "      <td>0.003412</td>\n",
       "      <td>0.030968</td>\n",
       "      <td>-0.001780</td>\n",
       "      <td>...</td>\n",
       "      <td>-0.009669</td>\n",
       "      <td>-0.005765</td>\n",
       "      <td>0.018759</td>\n",
       "      <td>-0.012996</td>\n",
       "      <td>0.077412</td>\n",
       "      <td>0.060371</td>\n",
       "      <td>-0.011091</td>\n",
       "      <td>0.016174</td>\n",
       "      <td>0.021291</td>\n",
       "      <td>0.023571</td>\n",
       "    </tr>\n",
       "    <tr>\n",
       "      <th>#</th>\n",
       "      <td>0.004049</td>\n",
       "      <td>0.009183</td>\n",
       "      <td>-0.010720</td>\n",
       "      <td>-0.009511</td>\n",
       "      <td>0.007453</td>\n",
       "      <td>0.013060</td>\n",
       "      <td>0.098670</td>\n",
       "      <td>-0.111893</td>\n",
       "      <td>0.093713</td>\n",
       "      <td>0.059246</td>\n",
       "      <td>...</td>\n",
       "      <td>-0.012267</td>\n",
       "      <td>0.072462</td>\n",
       "      <td>-0.031580</td>\n",
       "      <td>-0.116399</td>\n",
       "      <td>0.046066</td>\n",
       "      <td>0.004517</td>\n",
       "      <td>0.033987</td>\n",
       "      <td>0.021501</td>\n",
       "      <td>-0.004720</td>\n",
       "      <td>0.011885</td>\n",
       "    </tr>\n",
       "    <tr>\n",
       "      <th>(</th>\n",
       "      <td>0.003044</td>\n",
       "      <td>0.001874</td>\n",
       "      <td>-0.001419</td>\n",
       "      <td>0.005195</td>\n",
       "      <td>-0.002063</td>\n",
       "      <td>0.006873</td>\n",
       "      <td>-0.012548</td>\n",
       "      <td>-0.001870</td>\n",
       "      <td>0.132534</td>\n",
       "      <td>-0.003723</td>\n",
       "      <td>...</td>\n",
       "      <td>0.014768</td>\n",
       "      <td>-0.007464</td>\n",
       "      <td>0.004578</td>\n",
       "      <td>0.000272</td>\n",
       "      <td>-0.000800</td>\n",
       "      <td>-0.001234</td>\n",
       "      <td>-0.002638</td>\n",
       "      <td>-0.003062</td>\n",
       "      <td>-0.002358</td>\n",
       "      <td>-0.047591</td>\n",
       "    </tr>\n",
       "    <tr>\n",
       "      <th>)</th>\n",
       "      <td>0.003185</td>\n",
       "      <td>0.001803</td>\n",
       "      <td>-0.002098</td>\n",
       "      <td>0.004620</td>\n",
       "      <td>0.001116</td>\n",
       "      <td>0.002982</td>\n",
       "      <td>-0.010911</td>\n",
       "      <td>-0.001564</td>\n",
       "      <td>0.129014</td>\n",
       "      <td>-0.004393</td>\n",
       "      <td>...</td>\n",
       "      <td>0.014090</td>\n",
       "      <td>-0.010107</td>\n",
       "      <td>0.004463</td>\n",
       "      <td>-0.000072</td>\n",
       "      <td>-0.003387</td>\n",
       "      <td>-0.001160</td>\n",
       "      <td>-0.001538</td>\n",
       "      <td>-0.004001</td>\n",
       "      <td>-0.003649</td>\n",
       "      <td>-0.045334</td>\n",
       "    </tr>\n",
       "    <tr>\n",
       "      <th>,</th>\n",
       "      <td>0.015205</td>\n",
       "      <td>-0.001904</td>\n",
       "      <td>-0.068191</td>\n",
       "      <td>0.004286</td>\n",
       "      <td>0.002792</td>\n",
       "      <td>-0.025610</td>\n",
       "      <td>0.014181</td>\n",
       "      <td>0.008562</td>\n",
       "      <td>0.012129</td>\n",
       "      <td>0.014582</td>\n",
       "      <td>...</td>\n",
       "      <td>-0.004581</td>\n",
       "      <td>-0.013963</td>\n",
       "      <td>-0.017132</td>\n",
       "      <td>0.005200</td>\n",
       "      <td>0.004285</td>\n",
       "      <td>-0.014109</td>\n",
       "      <td>-0.049064</td>\n",
       "      <td>-0.011679</td>\n",
       "      <td>0.000203</td>\n",
       "      <td>-0.042912</td>\n",
       "    </tr>\n",
       "    <tr>\n",
       "      <th>...</th>\n",
       "      <td>...</td>\n",
       "      <td>...</td>\n",
       "      <td>...</td>\n",
       "      <td>...</td>\n",
       "      <td>...</td>\n",
       "      <td>...</td>\n",
       "      <td>...</td>\n",
       "      <td>...</td>\n",
       "      <td>...</td>\n",
       "      <td>...</td>\n",
       "      <td>...</td>\n",
       "      <td>...</td>\n",
       "      <td>...</td>\n",
       "      <td>...</td>\n",
       "      <td>...</td>\n",
       "      <td>...</td>\n",
       "      <td>...</td>\n",
       "      <td>...</td>\n",
       "      <td>...</td>\n",
       "      <td>...</td>\n",
       "      <td>...</td>\n",
       "    </tr>\n",
       "    <tr>\n",
       "      <th>‘</th>\n",
       "      <td>0.007165</td>\n",
       "      <td>0.005194</td>\n",
       "      <td>0.004869</td>\n",
       "      <td>-0.010028</td>\n",
       "      <td>-0.003646</td>\n",
       "      <td>0.004282</td>\n",
       "      <td>-0.001500</td>\n",
       "      <td>0.003406</td>\n",
       "      <td>0.022023</td>\n",
       "      <td>0.019322</td>\n",
       "      <td>...</td>\n",
       "      <td>-0.002299</td>\n",
       "      <td>-0.003853</td>\n",
       "      <td>-0.019770</td>\n",
       "      <td>0.002834</td>\n",
       "      <td>-0.009548</td>\n",
       "      <td>0.000589</td>\n",
       "      <td>0.001937</td>\n",
       "      <td>0.003771</td>\n",
       "      <td>-0.009534</td>\n",
       "      <td>-0.038129</td>\n",
       "    </tr>\n",
       "    <tr>\n",
       "      <th>’</th>\n",
       "      <td>-0.027974</td>\n",
       "      <td>-0.032274</td>\n",
       "      <td>-0.016724</td>\n",
       "      <td>-0.001911</td>\n",
       "      <td>0.004506</td>\n",
       "      <td>-0.046463</td>\n",
       "      <td>-0.027457</td>\n",
       "      <td>0.002444</td>\n",
       "      <td>0.074184</td>\n",
       "      <td>-0.012653</td>\n",
       "      <td>...</td>\n",
       "      <td>0.058504</td>\n",
       "      <td>0.151645</td>\n",
       "      <td>-0.045055</td>\n",
       "      <td>-0.022999</td>\n",
       "      <td>0.048420</td>\n",
       "      <td>-0.041583</td>\n",
       "      <td>-0.089284</td>\n",
       "      <td>-0.111791</td>\n",
       "      <td>-0.000088</td>\n",
       "      <td>-0.073473</td>\n",
       "    </tr>\n",
       "    <tr>\n",
       "      <th>“</th>\n",
       "      <td>0.020937</td>\n",
       "      <td>-0.131990</td>\n",
       "      <td>-0.002269</td>\n",
       "      <td>-0.009477</td>\n",
       "      <td>0.005191</td>\n",
       "      <td>-0.002185</td>\n",
       "      <td>-0.005547</td>\n",
       "      <td>-0.007363</td>\n",
       "      <td>-0.001933</td>\n",
       "      <td>-0.117314</td>\n",
       "      <td>...</td>\n",
       "      <td>-0.003534</td>\n",
       "      <td>-0.000764</td>\n",
       "      <td>-0.006710</td>\n",
       "      <td>0.019835</td>\n",
       "      <td>-0.007802</td>\n",
       "      <td>0.035731</td>\n",
       "      <td>0.040043</td>\n",
       "      <td>0.005504</td>\n",
       "      <td>0.006534</td>\n",
       "      <td>-0.024838</td>\n",
       "    </tr>\n",
       "    <tr>\n",
       "      <th>”</th>\n",
       "      <td>0.016580</td>\n",
       "      <td>-0.160023</td>\n",
       "      <td>-0.001208</td>\n",
       "      <td>-0.027099</td>\n",
       "      <td>0.000514</td>\n",
       "      <td>-0.000027</td>\n",
       "      <td>-0.004056</td>\n",
       "      <td>-0.004871</td>\n",
       "      <td>-0.013033</td>\n",
       "      <td>-0.101235</td>\n",
       "      <td>...</td>\n",
       "      <td>0.000357</td>\n",
       "      <td>-0.011640</td>\n",
       "      <td>0.001187</td>\n",
       "      <td>0.004925</td>\n",
       "      <td>0.000401</td>\n",
       "      <td>-0.010947</td>\n",
       "      <td>0.025346</td>\n",
       "      <td>0.004597</td>\n",
       "      <td>0.012214</td>\n",
       "      <td>-0.023057</td>\n",
       "    </tr>\n",
       "    <tr>\n",
       "      <th>❝real</th>\n",
       "      <td>-0.222105</td>\n",
       "      <td>0.003837</td>\n",
       "      <td>0.002402</td>\n",
       "      <td>-0.004844</td>\n",
       "      <td>0.000873</td>\n",
       "      <td>0.000279</td>\n",
       "      <td>-0.005042</td>\n",
       "      <td>0.000484</td>\n",
       "      <td>-0.005577</td>\n",
       "      <td>0.000671</td>\n",
       "      <td>...</td>\n",
       "      <td>-0.001330</td>\n",
       "      <td>-0.001268</td>\n",
       "      <td>-0.006307</td>\n",
       "      <td>0.002523</td>\n",
       "      <td>-0.000670</td>\n",
       "      <td>-0.002009</td>\n",
       "      <td>0.003312</td>\n",
       "      <td>-0.002422</td>\n",
       "      <td>0.000905</td>\n",
       "      <td>-0.005595</td>\n",
       "    </tr>\n",
       "  </tbody>\n",
       "</table>\n",
       "<p>2327 rows × 200 columns</p>\n",
       "</div>"
      ],
      "text/plain": [
       "         Comp 1    Comp 2    Comp 3    Comp 4    Comp 5    Comp 6    Comp 7  \\\n",
       "!     -0.077554  0.006986 -0.005566  0.195925 -0.006489  0.008977 -0.025328   \n",
       "#      0.004049  0.009183 -0.010720 -0.009511  0.007453  0.013060  0.098670   \n",
       "(      0.003044  0.001874 -0.001419  0.005195 -0.002063  0.006873 -0.012548   \n",
       ")      0.003185  0.001803 -0.002098  0.004620  0.001116  0.002982 -0.010911   \n",
       ",      0.015205 -0.001904 -0.068191  0.004286  0.002792 -0.025610  0.014181   \n",
       "...         ...       ...       ...       ...       ...       ...       ...   \n",
       "‘      0.007165  0.005194  0.004869 -0.010028 -0.003646  0.004282 -0.001500   \n",
       "’     -0.027974 -0.032274 -0.016724 -0.001911  0.004506 -0.046463 -0.027457   \n",
       "“      0.020937 -0.131990 -0.002269 -0.009477  0.005191 -0.002185 -0.005547   \n",
       "”      0.016580 -0.160023 -0.001208 -0.027099  0.000514 -0.000027 -0.004056   \n",
       "❝real -0.222105  0.003837  0.002402 -0.004844  0.000873  0.000279 -0.005042   \n",
       "\n",
       "         Comp 8    Comp 9   Comp 10  ...  Comp 191  Comp 192  Comp 193  \\\n",
       "!      0.003412  0.030968 -0.001780  ... -0.009669 -0.005765  0.018759   \n",
       "#     -0.111893  0.093713  0.059246  ... -0.012267  0.072462 -0.031580   \n",
       "(     -0.001870  0.132534 -0.003723  ...  0.014768 -0.007464  0.004578   \n",
       ")     -0.001564  0.129014 -0.004393  ...  0.014090 -0.010107  0.004463   \n",
       ",      0.008562  0.012129  0.014582  ... -0.004581 -0.013963 -0.017132   \n",
       "...         ...       ...       ...  ...       ...       ...       ...   \n",
       "‘      0.003406  0.022023  0.019322  ... -0.002299 -0.003853 -0.019770   \n",
       "’      0.002444  0.074184 -0.012653  ...  0.058504  0.151645 -0.045055   \n",
       "“     -0.007363 -0.001933 -0.117314  ... -0.003534 -0.000764 -0.006710   \n",
       "”     -0.004871 -0.013033 -0.101235  ...  0.000357 -0.011640  0.001187   \n",
       "❝real  0.000484 -0.005577  0.000671  ... -0.001330 -0.001268 -0.006307   \n",
       "\n",
       "       Comp 194  Comp 195  Comp 196  Comp 197  Comp 198  Comp 199  Comp 200  \n",
       "!     -0.012996  0.077412  0.060371 -0.011091  0.016174  0.021291  0.023571  \n",
       "#     -0.116399  0.046066  0.004517  0.033987  0.021501 -0.004720  0.011885  \n",
       "(      0.000272 -0.000800 -0.001234 -0.002638 -0.003062 -0.002358 -0.047591  \n",
       ")     -0.000072 -0.003387 -0.001160 -0.001538 -0.004001 -0.003649 -0.045334  \n",
       ",      0.005200  0.004285 -0.014109 -0.049064 -0.011679  0.000203 -0.042912  \n",
       "...         ...       ...       ...       ...       ...       ...       ...  \n",
       "‘      0.002834 -0.009548  0.000589  0.001937  0.003771 -0.009534 -0.038129  \n",
       "’     -0.022999  0.048420 -0.041583 -0.089284 -0.111791 -0.000088 -0.073473  \n",
       "“      0.019835 -0.007802  0.035731  0.040043  0.005504  0.006534 -0.024838  \n",
       "”      0.004925  0.000401 -0.010947  0.025346  0.004597  0.012214 -0.023057  \n",
       "❝real  0.002523 -0.000670 -0.002009  0.003312 -0.002422  0.000905 -0.005595  \n",
       "\n",
       "[2327 rows x 200 columns]"
      ]
     },
     "execution_count": 7,
     "metadata": {},
     "output_type": "execute_result"
    }
   ],
   "source": [
    "embeddings = pd.read_csv('word_embed_200.csv', index_col = 0)\n",
    "embeddings"
   ]
  },
  {
   "cell_type": "code",
   "execution_count": 8,
   "metadata": {},
   "outputs": [],
   "source": [
    "# to convert contractions picked up by word_tokenize() into full words\n",
    "contractions = {\n",
    "    \"n't\": 'not',\n",
    "    \"'ve\": 'have',\n",
    "    \"'s\": 'is', # note that this will include possessive nouns\n",
    "    'gonna': 'going to',\n",
    "    'gotta': 'got to',\n",
    "    \"'d\": 'would',\n",
    "    \"'ll\": 'will',\n",
    "    \"'re\": 'are',\n",
    "    \"'m\": 'am',\n",
    "    'wanna': 'want to'\n",
    "}\n",
    "\n",
    "# to convert nltk_pos tags to wordnet-compatible PoS tags\n",
    "def convert_pos_wordnet(tag):\n",
    "    tag_abbr = tag[0].upper()\n",
    "    tag_dict = {\n",
    "        'J': wordnet.ADJ,\n",
    "        'N': wordnet.NOUN,\n",
    "        'V': wordnet.VERB,\n",
    "        'R': wordnet.ADV\n",
    "    }\n",
    "                \n",
    "    if tag_abbr in tag_dict:\n",
    "        return tag_dict[tag_abbr]"
   ]
  },
  {
   "cell_type": "code",
   "execution_count": 9,
   "metadata": {},
   "outputs": [],
   "source": [
    "def get_text_vectors(word_embeddings, # pandas dataframe with row index = vocabulary\n",
    "                     text_list, # list of strings\n",
    "                     remove_stopwords = True,\n",
    "                     lowercase = True,\n",
    "                     lemmatize = True,\n",
    "                     add_start_end_tokens = True):\n",
    "    \n",
    "    lemmatizer = WordNetLemmatizer()\n",
    "    \n",
    "    for k in range(len(text_list)):\n",
    "        text = text_list[k]\n",
    "        text = re.sub(r'[_~`@$%^&*[\\]+=\\|}{\\\"\\'<>/]+', '', text)\n",
    "        text_vec = np.zeros(word_embeddings.shape[1])\n",
    "        words = word_tokenize(text)\n",
    "        tracker = 0 # to track whether we've encountered a word for which we have an embedding (in each tweet)\n",
    "        \n",
    "        if remove_stopwords:\n",
    "            clean_words = []\n",
    "            for word in words:\n",
    "                if word.lower() not in set(stopwords.words('english')):\n",
    "                    clean_words.append(word)\n",
    "            words = clean_words\n",
    "\n",
    "        if lowercase:\n",
    "            clean_words = []\n",
    "            for word in words:\n",
    "                clean_words.append(word.lower())\n",
    "\n",
    "            words = clean_words\n",
    "\n",
    "        if lemmatize:\n",
    "            clean_words = []\n",
    "            for word in words:\n",
    "                PoS_tag = pos_tag([word])[0][1]\n",
    "\n",
    "                # to change contractions to full word form\n",
    "                if word in contractions:\n",
    "                    word = contractions[word]\n",
    "\n",
    "                if PoS_tag[0].upper() in 'JNVR':\n",
    "                    word = lemmatizer.lemmatize(word, convert_pos_wordnet(PoS_tag))\n",
    "                else:\n",
    "                    word = lemmatizer.lemmatize(word)\n",
    "\n",
    "                clean_words.append(word)\n",
    "\n",
    "            words = clean_words\n",
    "\n",
    "        if add_start_end_tokens:\n",
    "            words = ['<START>'] + words + ['<END>']\n",
    "        \n",
    "        for i in range(len(words)):\n",
    "            word = words[i]\n",
    "            if word in word_embeddings.index.tolist():\n",
    "                word_embed_vec = word_embeddings.loc[word].values\n",
    "                if tracker == 0:\n",
    "                    text_matrix = word_embed_vec\n",
    "                else:\n",
    "                    text_matrix = np.vstack((text_matrix, word_embed_vec))\n",
    "                    \n",
    "                # only increment if we have come across a word in the embeddings dictionary\n",
    "                tracker += 1\n",
    "                    \n",
    "        for j in range(len(text_vec)):\n",
    "            text_vec[j] = text_matrix[:,j].mean()\n",
    "            \n",
    "        if k == 0:\n",
    "            full_matrix = text_vec\n",
    "        else:\n",
    "            full_matrix = np.vstack((full_matrix, text_vec))\n",
    "            \n",
    "    return full_matrix"
   ]
  },
  {
   "cell_type": "code",
   "execution_count": 10,
   "metadata": {},
   "outputs": [],
   "source": [
    "train_fold1_X = get_text_vectors(embeddings, train_fold1['Tweet'])\n",
    "train_fold1_y = train_fold1['outlier_target']\n",
    "\n",
    "tune_fold1_X = get_text_vectors(embeddings, tune_fold1['Tweet'])\n",
    "tune_fold1_y = tune_fold1['outlier_target']\n",
    "\n",
    "test_fold1_X = get_text_vectors(embeddings, test_fold1['Tweet'])\n",
    "test_fold1_y = test_fold1['outlier_target']\n",
    "\n",
    "train_fold2_X = get_text_vectors(embeddings, train_fold2['Tweet'])\n",
    "train_fold2_y = train_fold2['outlier_target']\n",
    "\n",
    "tune_fold2_X = get_text_vectors(embeddings, tune_fold2['Tweet'])\n",
    "tune_fold2_y = tune_fold2['outlier_target']\n",
    "\n",
    "test_fold2_X = get_text_vectors(embeddings, test_fold2['Tweet'])\n",
    "test_fold2_y = test_fold2['outlier_target']"
   ]
  },
  {
   "cell_type": "markdown",
   "metadata": {},
   "source": [
    "## Binary classification: two-fold CV"
   ]
  },
  {
   "cell_type": "code",
   "execution_count": 11,
   "metadata": {},
   "outputs": [],
   "source": [
    "from sklearn.svm import OneClassSVM\n",
    "from sklearn.metrics import roc_auc_score, accuracy_score, precision_score, recall_score, f1_score"
   ]
  },
  {
   "cell_type": "code",
   "execution_count": 12,
   "metadata": {},
   "outputs": [],
   "source": [
    "# SVC hyperparams to optimize\n",
    "kernel = ['rbf', 'linear', 'poly', 'sigmoid']"
   ]
  },
  {
   "cell_type": "markdown",
   "metadata": {},
   "source": [
    "### Fold 1"
   ]
  },
  {
   "cell_type": "code",
   "execution_count": 13,
   "metadata": {},
   "outputs": [
    {
     "data": {
      "text/plain": [
       "OneClassSVM(kernel='sigmoid')"
      ]
     },
     "execution_count": 13,
     "metadata": {},
     "output_type": "execute_result"
    }
   ],
   "source": [
    "# training & tuning\n",
    "models = []\n",
    "tune_f1 = []\n",
    "for ker in kernel:\n",
    "    svc = OneClassSVM(kernel = ker)\n",
    "    svc.fit(train_fold1_X, train_fold1_y)\n",
    "    models.append(svc)\n",
    "    tune_predict = svc.predict(tune_fold1_X)\n",
    "    f1 = f1_score(tune_fold1_y, tune_predict, average = 'macro')\n",
    "    tune_f1.append(f1)\n",
    "        \n",
    "opt_model = models[tune_f1.index(max(tune_f1))]\n",
    "opt_model"
   ]
  },
  {
   "cell_type": "code",
   "execution_count": 14,
   "metadata": {},
   "outputs": [
    {
     "data": {
      "text/plain": [
       "[0.6683628706790665,\n",
       " 0.6946631290504981,\n",
       " 0.6616541353383458,\n",
       " 0.7044334975369457]"
      ]
     },
     "execution_count": 14,
     "metadata": {},
     "output_type": "execute_result"
    }
   ],
   "source": [
    "tune_f1"
   ]
  },
  {
   "cell_type": "code",
   "execution_count": 15,
   "metadata": {},
   "outputs": [
    {
     "data": {
      "text/plain": [
       "{'auc': [0.7068877551020408],\n",
       " 'accuracy': [0.6107142857142858],\n",
       " 'recall': [0.6107142857142858],\n",
       " 'precision': [0.6366584797531332],\n",
       " 'f1': [0.5913175055905944]}"
      ]
     },
     "execution_count": 15,
     "metadata": {},
     "output_type": "execute_result"
    }
   ],
   "source": [
    "# testing\n",
    "test_scores = dict()\n",
    "test_predict = opt_model.predict(test_fold1_X)\n",
    "test_predict_proba = opt_model.decision_function(test_fold1_X)\n",
    "test_scores['auc'] = [roc_auc_score(test_fold1_y, test_predict_proba, average = 'macro')]\n",
    "test_scores['accuracy'] = [accuracy_score(test_fold1_y, test_predict)]\n",
    "test_scores['recall'] = [recall_score(test_fold1_y, test_predict, average = 'macro')]\n",
    "test_scores['precision'] = [precision_score(test_fold1_y, test_predict, average = 'macro')]\n",
    "test_scores['f1'] = [f1_score(test_fold1_y, test_predict, average = 'macro')]\n",
    "test_scores"
   ]
  },
  {
   "cell_type": "markdown",
   "metadata": {},
   "source": [
    "### Fold 2"
   ]
  },
  {
   "cell_type": "code",
   "execution_count": 16,
   "metadata": {},
   "outputs": [
    {
     "data": {
      "text/plain": [
       "OneClassSVM(kernel='linear')"
      ]
     },
     "execution_count": 16,
     "metadata": {},
     "output_type": "execute_result"
    }
   ],
   "source": [
    "# training & tuning\n",
    "models = []\n",
    "tune_f1 = []\n",
    "for ker in kernel:\n",
    "    svc = OneClassSVM(kernel = ker)\n",
    "    svc.fit(train_fold2_X, train_fold2_y)\n",
    "    models.append(svc)\n",
    "    tune_predict = svc.predict(tune_fold2_X)\n",
    "    f1 = f1_score(tune_fold2_y, tune_predict, average = 'macro')\n",
    "    tune_f1.append(f1)\n",
    "        \n",
    "opt_model = models[tune_f1.index(max(tune_f1))]\n",
    "opt_model"
   ]
  },
  {
   "cell_type": "code",
   "execution_count": 17,
   "metadata": {},
   "outputs": [
    {
     "data": {
      "text/plain": [
       "[0.5291634160892111,\n",
       " 0.5833333333333333,\n",
       " 0.5157162543473981,\n",
       " 0.5830244625648628]"
      ]
     },
     "execution_count": 17,
     "metadata": {},
     "output_type": "execute_result"
    }
   ],
   "source": [
    "tune_f1"
   ]
  },
  {
   "cell_type": "code",
   "execution_count": 18,
   "metadata": {},
   "outputs": [
    {
     "data": {
      "text/plain": [
       "{'auc': [0.7068877551020408, 0.7427040816326531],\n",
       " 'accuracy': [0.6107142857142858, 0.6607142857142857],\n",
       " 'recall': [0.6107142857142858, 0.6607142857142857],\n",
       " 'precision': [0.6366584797531332, 0.6983752125448706],\n",
       " 'f1': [0.5913175055905944, 0.5662100456621004]}"
      ]
     },
     "execution_count": 18,
     "metadata": {},
     "output_type": "execute_result"
    }
   ],
   "source": [
    "# testing\n",
    "test_predict = opt_model.predict(test_fold2_X)\n",
    "test_predict_proba = opt_model.decision_function(test_fold2_X)\n",
    "test_scores['auc'].append(roc_auc_score(test_fold2_y, test_predict_proba, average = 'macro'))\n",
    "test_scores['accuracy'].append(accuracy_score(test_fold2_y, test_predict))\n",
    "test_scores['recall'].append(recall_score(test_fold2_y, test_predict, average = 'macro'))\n",
    "test_scores['precision'].append(precision_score(test_fold2_y, test_predict, average = 'macro'))\n",
    "test_scores['f1'].append(f1_score(test_fold2_y, test_predict))\n",
    "test_scores"
   ]
  },
  {
   "cell_type": "markdown",
   "metadata": {},
   "source": [
    "### Average results"
   ]
  },
  {
   "cell_type": "code",
   "execution_count": 19,
   "metadata": {},
   "outputs": [
    {
     "data": {
      "text/plain": [
       "0.7247959183673469"
      ]
     },
     "execution_count": 19,
     "metadata": {},
     "output_type": "execute_result"
    }
   ],
   "source": [
    "sum(test_scores['auc'])/2"
   ]
  },
  {
   "cell_type": "code",
   "execution_count": 20,
   "metadata": {},
   "outputs": [
    {
     "data": {
      "text/plain": [
       "0.6357142857142857"
      ]
     },
     "execution_count": 20,
     "metadata": {},
     "output_type": "execute_result"
    }
   ],
   "source": [
    "sum(test_scores['accuracy'])/2"
   ]
  },
  {
   "cell_type": "code",
   "execution_count": 21,
   "metadata": {},
   "outputs": [
    {
     "data": {
      "text/plain": [
       "0.6357142857142857"
      ]
     },
     "execution_count": 21,
     "metadata": {},
     "output_type": "execute_result"
    }
   ],
   "source": [
    "sum(test_scores['recall'])/2"
   ]
  },
  {
   "cell_type": "code",
   "execution_count": 22,
   "metadata": {},
   "outputs": [
    {
     "data": {
      "text/plain": [
       "0.6675168461490019"
      ]
     },
     "execution_count": 22,
     "metadata": {},
     "output_type": "execute_result"
    }
   ],
   "source": [
    "sum(test_scores['precision'])/2"
   ]
  },
  {
   "cell_type": "code",
   "execution_count": 23,
   "metadata": {},
   "outputs": [
    {
     "data": {
      "text/plain": [
       "0.5787637756263474"
      ]
     },
     "execution_count": 23,
     "metadata": {},
     "output_type": "execute_result"
    }
   ],
   "source": [
    "sum(test_scores['f1'])/2"
   ]
  },
  {
   "cell_type": "code",
   "execution_count": null,
   "metadata": {},
   "outputs": [],
   "source": []
  }
 ],
 "metadata": {
  "kernelspec": {
   "display_name": "Python 3",
   "language": "python",
   "name": "python3"
  },
  "language_info": {
   "codemirror_mode": {
    "name": "ipython",
    "version": 3
   },
   "file_extension": ".py",
   "mimetype": "text/x-python",
   "name": "python",
   "nbconvert_exporter": "python",
   "pygments_lexer": "ipython3",
   "version": "3.7.7"
  }
 },
 "nbformat": 4,
 "nbformat_minor": 4
}
