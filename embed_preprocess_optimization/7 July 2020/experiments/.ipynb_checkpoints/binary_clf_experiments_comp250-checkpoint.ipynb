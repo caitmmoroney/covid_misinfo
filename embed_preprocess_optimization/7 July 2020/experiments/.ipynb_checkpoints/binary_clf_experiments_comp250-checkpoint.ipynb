{
 "cells": [
  {
   "cell_type": "markdown",
   "metadata": {},
   "source": [
    "# Binary Classification with Tweet Embeddings"
   ]
  },
  {
   "cell_type": "code",
   "execution_count": 1,
   "metadata": {},
   "outputs": [],
   "source": [
    "# import modules\n",
    "import numpy as np\n",
    "import pandas as pd\n",
    "from sklearn.preprocessing import StandardScaler"
   ]
  },
  {
   "cell_type": "markdown",
   "metadata": {},
   "source": [
    "## Load data"
   ]
  },
  {
   "cell_type": "code",
   "execution_count": 2,
   "metadata": {},
   "outputs": [],
   "source": [
    "class1_train_indices = list(range(100))\n",
    "class1_tune_indices = list(range(100,140))\n",
    "class1_test_pt1_indices = list(range(140,240))\n",
    "class1_test_pt2_indices = list(range(240,280))\n",
    "class0_train_indices = list(range(280,380))\n",
    "class0_tune_indices = list(range(380,420))\n",
    "class0_test_pt1_indices = list(range(420,520))\n",
    "class0_test_pt2_indices = list(range(520,560))"
   ]
  },
  {
   "cell_type": "code",
   "execution_count": 3,
   "metadata": {},
   "outputs": [
    {
     "data": {
      "text/plain": [
       "array([[-0.00448299,  0.01827452, -0.00187211, ...,  0.00711912,\n",
       "        -0.01379659,  0.00315301],\n",
       "       [-0.00912592, -0.00560592, -0.0038466 , ...,  0.00752772,\n",
       "        -0.00832159,  0.00503022],\n",
       "       [-0.00103838,  0.01104937, -0.00787435, ...,  0.00973806,\n",
       "        -0.00132974,  0.00159357],\n",
       "       ...,\n",
       "       [-0.0032521 ,  0.01050532,  0.01424049, ...,  0.00640552,\n",
       "        -0.01221106, -0.00418963],\n",
       "       [-0.00364014,  0.0061394 ,  0.00616415, ...,  0.00794342,\n",
       "        -0.00125844,  0.00397816],\n",
       "       [ 0.00254795,  0.00633778,  0.00547869, ...,  0.00541811,\n",
       "        -0.00373036,  0.00213037]])"
      ]
     },
     "execution_count": 3,
     "metadata": {},
     "output_type": "execute_result"
    }
   ],
   "source": [
    "# load array of tweet embeddings according to index of original tweet file\n",
    "num_embed = 250\n",
    "fname = '../tweet_embeddings/tweet_embed_{}.npy'.format(num_embed)\n",
    "tweet_embeddings = np.load(fname)\n",
    "tweet_embeddings"
   ]
  },
  {
   "cell_type": "code",
   "execution_count": 4,
   "metadata": {},
   "outputs": [
    {
     "data": {
      "text/plain": [
       "array([[ 0.00535308,  0.0034574 ,  0.00726551, ..., -0.00041058,\n",
       "        -0.00596488, -0.0008041 ],\n",
       "       [-0.00671662,  0.01341865,  0.00987666, ...,  0.00402134,\n",
       "        -0.00413588, -0.01807066],\n",
       "       [-0.00229121,  0.00853273,  0.00939611, ..., -0.01098966,\n",
       "        -0.00649302,  0.00242957],\n",
       "       ...,\n",
       "       [-0.00350634,  0.00274706,  0.00933622, ...,  0.0117901 ,\n",
       "        -0.00333024, -0.00169415],\n",
       "       [-0.00316775,  0.01304326,  0.01624512, ...,  0.01267831,\n",
       "         0.00066741,  0.00192733],\n",
       "       [-0.00554315,  0.00917482,  0.02088506, ...,  0.00894483,\n",
       "        -0.00261615, -0.01814533]])"
      ]
     },
     "execution_count": 4,
     "metadata": {},
     "output_type": "execute_result"
    }
   ],
   "source": [
    "tweet_embeddings[class0_train_indices,:]"
   ]
  },
  {
   "cell_type": "markdown",
   "metadata": {},
   "source": [
    "## Derive text vectors from word embeddings"
   ]
  },
  {
   "cell_type": "code",
   "execution_count": 5,
   "metadata": {},
   "outputs": [],
   "source": [
    "forty_ones = [1]*40\n",
    "forty_zeros = [0]*40\n",
    "\n",
    "hundred_ones = [1]*100\n",
    "hundred_zeros = [0]*100"
   ]
  },
  {
   "cell_type": "code",
   "execution_count": 6,
   "metadata": {},
   "outputs": [],
   "source": [
    "train_fold1_X = tweet_embeddings[[class1_train_indices + class0_train_indices],:][0]\n",
    "train_fold1_y = hundred_ones + hundred_zeros\n",
    "\n",
    "tune_fold1_X = tweet_embeddings[[class1_tune_indices + class0_tune_indices],:][0]\n",
    "tune_fold1_y = forty_ones + forty_zeros\n",
    "\n",
    "test_fold1_X = tweet_embeddings[[class1_test_pt1_indices + class1_test_pt2_indices + class0_test_pt1_indices + class0_test_pt2_indices],:][0]\n",
    "test_fold1_y = hundred_ones + forty_ones + hundred_zeros + forty_zeros\n",
    "\n",
    "\n",
    "train_fold2_X = tweet_embeddings[[class1_test_pt1_indices + class0_test_pt1_indices],:][0]\n",
    "train_fold2_y = hundred_ones + hundred_zeros\n",
    "\n",
    "tune_fold2_X = tweet_embeddings[[class1_test_pt2_indices + class0_test_pt2_indices],:][0]\n",
    "tune_fold2_y = forty_ones + forty_zeros\n",
    "\n",
    "test_fold2_X = tweet_embeddings[[class1_train_indices + class1_tune_indices + class0_train_indices + class0_tune_indices],:][0]\n",
    "test_fold2_y = hundred_ones + forty_ones + hundred_zeros + forty_zeros"
   ]
  },
  {
   "cell_type": "code",
   "execution_count": 7,
   "metadata": {},
   "outputs": [
    {
     "data": {
      "text/plain": [
       "(200, 250)"
      ]
     },
     "execution_count": 7,
     "metadata": {},
     "output_type": "execute_result"
    }
   ],
   "source": [
    "train_fold1_X.shape"
   ]
  },
  {
   "cell_type": "markdown",
   "metadata": {},
   "source": [
    "## Binary classification: two-fold CV"
   ]
  },
  {
   "cell_type": "code",
   "execution_count": 8,
   "metadata": {},
   "outputs": [],
   "source": [
    "from sklearn.svm import SVC\n",
    "from sklearn.metrics import roc_auc_score, accuracy_score, precision_score, recall_score, f1_score"
   ]
  },
  {
   "cell_type": "code",
   "execution_count": 9,
   "metadata": {},
   "outputs": [],
   "source": [
    "# SVC hyperparams to optimize\n",
    "kernel = ['rbf', 'linear', 'poly', 'sigmoid']\n",
    "C = [0.001, 0.01, 0.1, 1, 10]"
   ]
  },
  {
   "cell_type": "markdown",
   "metadata": {},
   "source": [
    "### Fold 1"
   ]
  },
  {
   "cell_type": "code",
   "execution_count": 10,
   "metadata": {},
   "outputs": [
    {
     "data": {
      "text/plain": [
       "SVC(C=1, probability=True)"
      ]
     },
     "execution_count": 10,
     "metadata": {},
     "output_type": "execute_result"
    }
   ],
   "source": [
    "# training & tuning\n",
    "models = []\n",
    "tune_auc = []\n",
    "for ker in kernel:\n",
    "    for el in C:\n",
    "        svc = SVC(C = el, kernel = ker, probability = True)\n",
    "        svc.fit(train_fold1_X, train_fold1_y)\n",
    "        models.append(svc)\n",
    "        tune_predict = svc.predict_proba(tune_fold1_X)[:,1]\n",
    "        auc = roc_auc_score(tune_fold1_y, tune_predict)\n",
    "        tune_auc.append(auc)\n",
    "        \n",
    "opt_model = models[tune_auc.index(max(tune_auc))]\n",
    "opt_model"
   ]
  },
  {
   "cell_type": "code",
   "execution_count": 11,
   "metadata": {},
   "outputs": [
    {
     "data": {
      "text/plain": [
       "[0.07437499999999998,\n",
       " 0.5,\n",
       " 0.9196874999999999,\n",
       " 0.9337500000000001,\n",
       " 0.9237500000000001,\n",
       " 0.07999999999999999,\n",
       " 0.07999999999999999,\n",
       " 0.07999999999999999,\n",
       " 0.9199999999999999,\n",
       " 0.9293750000000001,\n",
       " 0.08437499999999999,\n",
       " 0.08437499999999999,\n",
       " 0.1409375,\n",
       " 0.9125,\n",
       " 0.905,\n",
       " 0.5,\n",
       " 0.07937499999999999,\n",
       " 0.9199999999999999,\n",
       " 0.928125,\n",
       " 0.8293750000000001]"
      ]
     },
     "execution_count": 11,
     "metadata": {},
     "output_type": "execute_result"
    }
   ],
   "source": [
    "tune_auc"
   ]
  },
  {
   "cell_type": "code",
   "execution_count": 12,
   "metadata": {},
   "outputs": [
    {
     "data": {
      "text/plain": [
       "{'auc': [0.8986989795918369],\n",
       " 'accuracy': [0.7821428571428571],\n",
       " 'recall': [0.7821428571428571],\n",
       " 'precision': [0.8215303215303216],\n",
       " 'f1': [0.7752602007921157]}"
      ]
     },
     "execution_count": 12,
     "metadata": {},
     "output_type": "execute_result"
    }
   ],
   "source": [
    "# testing\n",
    "test_scores = dict()\n",
    "test_predict = opt_model.predict(test_fold1_X)\n",
    "test_predict_proba = opt_model.predict_proba(test_fold1_X)[:,1]\n",
    "test_scores['auc'] = [roc_auc_score(test_fold1_y, test_predict_proba)]\n",
    "test_scores['accuracy'] = [accuracy_score(test_fold1_y, test_predict)]\n",
    "test_scores['recall'] = [recall_score(test_fold1_y, test_predict, average = 'macro')]\n",
    "test_scores['precision'] = [precision_score(test_fold1_y, test_predict, average = 'macro')]\n",
    "test_scores['f1'] = [f1_score(test_fold1_y, test_predict, average = 'macro')]\n",
    "test_scores"
   ]
  },
  {
   "cell_type": "markdown",
   "metadata": {},
   "source": [
    "### Fold 2"
   ]
  },
  {
   "cell_type": "code",
   "execution_count": 13,
   "metadata": {},
   "outputs": [
    {
     "data": {
      "text/plain": [
       "SVC(C=1, kernel='sigmoid', probability=True)"
      ]
     },
     "execution_count": 13,
     "metadata": {},
     "output_type": "execute_result"
    }
   ],
   "source": [
    "# training & tuning\n",
    "models = []\n",
    "tune_auc = []\n",
    "for ker in kernel:\n",
    "    for el in C:\n",
    "        svc = SVC(C = el, kernel = ker, probability = True)\n",
    "        svc.fit(train_fold2_X, train_fold2_y)\n",
    "        models.append(svc)\n",
    "        tune_predict = svc.predict_proba(tune_fold2_X)[:,1]\n",
    "        auc = roc_auc_score(tune_fold2_y, tune_predict)\n",
    "        tune_auc.append(auc)\n",
    "        \n",
    "opt_model = models[tune_auc.index(max(tune_auc))]\n",
    "opt_model"
   ]
  },
  {
   "cell_type": "code",
   "execution_count": 14,
   "metadata": {},
   "outputs": [
    {
     "data": {
      "text/plain": [
       "[0.10125000000000002,\n",
       " 0.10125000000000002,\n",
       " 0.5,\n",
       " 0.894375,\n",
       " 0.8890625,\n",
       " 0.09062500000000001,\n",
       " 0.5,\n",
       " 0.09062500000000001,\n",
       " 0.414375,\n",
       " 0.90375,\n",
       " 0.5,\n",
       " 0.15250000000000002,\n",
       " 0.15250000000000002,\n",
       " 0.8806250000000001,\n",
       " 0.8718750000000001,\n",
       " 0.5,\n",
       " 0.08687500000000001,\n",
       " 0.25,\n",
       " 0.906875,\n",
       " 0.820625]"
      ]
     },
     "execution_count": 14,
     "metadata": {},
     "output_type": "execute_result"
    }
   ],
   "source": [
    "tune_auc"
   ]
  },
  {
   "cell_type": "code",
   "execution_count": 15,
   "metadata": {},
   "outputs": [
    {
     "data": {
      "text/plain": [
       "{'auc': [0.8986989795918369, 0.9089030612244898],\n",
       " 'accuracy': [0.7821428571428571, 0.8321428571428572],\n",
       " 'recall': [0.7821428571428571, 0.8321428571428571],\n",
       " 'precision': [0.8215303215303216, 0.8322954417844929],\n",
       " 'f1': [0.7752602007921157, 0.8321235856156958]}"
      ]
     },
     "execution_count": 15,
     "metadata": {},
     "output_type": "execute_result"
    }
   ],
   "source": [
    "# testing\n",
    "test_predict = opt_model.predict(test_fold2_X)\n",
    "test_predict_proba = opt_model.predict_proba(test_fold2_X)[:,1]\n",
    "test_scores['auc'].append(roc_auc_score(test_fold2_y, test_predict_proba))\n",
    "test_scores['accuracy'].append(accuracy_score(test_fold2_y, test_predict))\n",
    "test_scores['recall'].append(recall_score(test_fold2_y, test_predict, average = 'macro'))\n",
    "test_scores['precision'].append(precision_score(test_fold2_y, test_predict, average = 'macro'))\n",
    "test_scores['f1'].append(f1_score(test_fold2_y, test_predict, average = 'macro'))\n",
    "test_scores"
   ]
  },
  {
   "cell_type": "markdown",
   "metadata": {},
   "source": [
    "### Average results"
   ]
  },
  {
   "cell_type": "code",
   "execution_count": 16,
   "metadata": {},
   "outputs": [
    {
     "data": {
      "text/plain": [
       "0.9038010204081633"
      ]
     },
     "execution_count": 16,
     "metadata": {},
     "output_type": "execute_result"
    }
   ],
   "source": [
    "sum(test_scores['auc'])/2"
   ]
  },
  {
   "cell_type": "code",
   "execution_count": 17,
   "metadata": {},
   "outputs": [
    {
     "data": {
      "text/plain": [
       "0.8071428571428572"
      ]
     },
     "execution_count": 17,
     "metadata": {},
     "output_type": "execute_result"
    }
   ],
   "source": [
    "sum(test_scores['accuracy'])/2"
   ]
  },
  {
   "cell_type": "code",
   "execution_count": 18,
   "metadata": {},
   "outputs": [
    {
     "data": {
      "text/plain": [
       "0.8071428571428572"
      ]
     },
     "execution_count": 18,
     "metadata": {},
     "output_type": "execute_result"
    }
   ],
   "source": [
    "sum(test_scores['recall'])/2"
   ]
  },
  {
   "cell_type": "code",
   "execution_count": 19,
   "metadata": {},
   "outputs": [
    {
     "data": {
      "text/plain": [
       "0.8269128816574072"
      ]
     },
     "execution_count": 19,
     "metadata": {},
     "output_type": "execute_result"
    }
   ],
   "source": [
    "sum(test_scores['precision'])/2"
   ]
  },
  {
   "cell_type": "code",
   "execution_count": 20,
   "metadata": {},
   "outputs": [
    {
     "data": {
      "text/plain": [
       "0.8036918932039057"
      ]
     },
     "execution_count": 20,
     "metadata": {},
     "output_type": "execute_result"
    }
   ],
   "source": [
    "sum(test_scores['f1'])/2"
   ]
  },
  {
   "cell_type": "code",
   "execution_count": null,
   "metadata": {},
   "outputs": [],
   "source": []
  }
 ],
 "metadata": {
  "kernelspec": {
   "display_name": "Python 3",
   "language": "python",
   "name": "python3"
  },
  "language_info": {
   "codemirror_mode": {
    "name": "ipython",
    "version": 3
   },
   "file_extension": ".py",
   "mimetype": "text/x-python",
   "name": "python",
   "nbconvert_exporter": "python",
   "pygments_lexer": "ipython3",
   "version": "3.7.7"
  }
 },
 "nbformat": 4,
 "nbformat_minor": 4
}
