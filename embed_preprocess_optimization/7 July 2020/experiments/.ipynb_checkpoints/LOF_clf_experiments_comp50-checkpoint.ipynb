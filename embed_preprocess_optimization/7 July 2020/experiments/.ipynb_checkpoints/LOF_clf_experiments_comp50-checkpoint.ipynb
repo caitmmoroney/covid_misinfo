{
 "cells": [
  {
   "cell_type": "markdown",
   "metadata": {},
   "source": [
    "# One-Class Classification with Tweet Embeddings"
   ]
  },
  {
   "cell_type": "code",
   "execution_count": 1,
   "metadata": {},
   "outputs": [],
   "source": [
    "# import modules\n",
    "import numpy as np\n",
    "import pandas as pd\n",
    "from sklearn.preprocessing import StandardScaler"
   ]
  },
  {
   "cell_type": "markdown",
   "metadata": {},
   "source": [
    "## Load data"
   ]
  },
  {
   "cell_type": "code",
   "execution_count": 2,
   "metadata": {},
   "outputs": [],
   "source": [
    "class1_train_indices = list(range(100))\n",
    "class1_tune_indices = list(range(100,140))\n",
    "class1_test_pt1_indices = list(range(140,240))\n",
    "class1_test_pt2_indices = list(range(240,280))\n",
    "class0_train_indices = list(range(280,380))\n",
    "class0_tune_indices = list(range(380,420))\n",
    "class0_test_pt1_indices = list(range(420,520))\n",
    "class0_test_pt2_indices = list(range(520,560))"
   ]
  },
  {
   "cell_type": "code",
   "execution_count": 3,
   "metadata": {},
   "outputs": [
    {
     "data": {
      "text/plain": [
       "array([[ 0.01146046, -0.00980788, -0.00348107, ..., -0.00476732,\n",
       "        -0.01194476, -0.00044156],\n",
       "       [-0.01185302,  0.00024324, -0.00193302, ...,  0.0006507 ,\n",
       "         0.01100352, -0.03758368],\n",
       "       [ 0.01069235, -0.00452488, -0.00111287, ...,  0.00412279,\n",
       "         0.00766316, -0.00623108],\n",
       "       ...,\n",
       "       [ 0.0113962 ,  0.04311243, -0.00607535, ..., -0.00030466,\n",
       "        -0.00242989, -0.00460007],\n",
       "       [-0.00795724,  0.00508589, -0.01722243, ...,  0.00747138,\n",
       "        -0.01616859,  0.00494901],\n",
       "       [-0.00644933,  0.01898255, -0.00928065, ..., -0.00893929,\n",
       "        -0.00649221,  0.00804033]])"
      ]
     },
     "execution_count": 3,
     "metadata": {},
     "output_type": "execute_result"
    }
   ],
   "source": [
    "# load array of tweet embeddings according to index of original tweet file\n",
    "num_embed = 50\n",
    "fname = '../tweet_embeddings/tweet_embed_{}.npy'.format(num_embed)\n",
    "tweet_embeddings = np.load(fname)\n",
    "tweet_embeddings"
   ]
  },
  {
   "cell_type": "code",
   "execution_count": 4,
   "metadata": {},
   "outputs": [
    {
     "data": {
      "text/plain": [
       "array([[-0.00081836,  0.0095811 , -0.01219118, ..., -0.0113321 ,\n",
       "         0.01639527, -0.00660402],\n",
       "       [ 0.00744777, -0.0082387 , -0.01601555, ...,  0.00292288,\n",
       "         0.00114954, -0.00612495],\n",
       "       [ 0.0024187 ,  0.00743154, -0.02747008, ...,  0.00425115,\n",
       "         0.01041603, -0.01676211],\n",
       "       ...,\n",
       "       [ 0.00372119,  0.03413759, -0.01510179, ...,  0.00366161,\n",
       "         0.01330451, -0.01607014],\n",
       "       [ 0.00392228,  0.00847829, -0.01420422, ...,  0.00481193,\n",
       "         0.00151808, -0.00122399],\n",
       "       [ 0.01299121,  0.01500013,  0.00419219, ..., -0.00039166,\n",
       "         0.00239743, -0.01001406]])"
      ]
     },
     "execution_count": 4,
     "metadata": {},
     "output_type": "execute_result"
    }
   ],
   "source": [
    "tweet_embeddings[class0_train_indices,:]"
   ]
  },
  {
   "cell_type": "markdown",
   "metadata": {},
   "source": [
    "## Set up train/tune/test sets"
   ]
  },
  {
   "cell_type": "code",
   "execution_count": 5,
   "metadata": {},
   "outputs": [],
   "source": [
    "forty_ones = [1]*40\n",
    "forty_neg_ones = [-1]*40\n",
    "\n",
    "hundred_ones = [1]*100\n",
    "hundred_neg_ones = [-1]*100"
   ]
  },
  {
   "cell_type": "code",
   "execution_count": 6,
   "metadata": {},
   "outputs": [],
   "source": [
    "train_fold1_X = tweet_embeddings[[class0_train_indices],:][0]\n",
    "train_fold1_y = hundred_ones\n",
    "\n",
    "tune_fold1_X = tweet_embeddings[[class1_train_indices + class1_tune_indices + class0_tune_indices],:][0]\n",
    "tune_fold1_y = hundred_neg_ones + forty_neg_ones + forty_ones\n",
    "\n",
    "test_fold1_X = tweet_embeddings[[class1_test_pt1_indices + class1_test_pt2_indices + class0_test_pt1_indices + class0_test_pt2_indices],:][0]\n",
    "test_fold1_y = hundred_neg_ones + forty_neg_ones + hundred_ones + forty_ones\n",
    "\n",
    "\n",
    "train_fold2_X = tweet_embeddings[[class0_test_pt1_indices],:][0]\n",
    "train_fold2_y = hundred_ones + hundred_neg_ones\n",
    "\n",
    "tune_fold2_X = tweet_embeddings[[class1_test_pt1_indices + class1_test_pt2_indices + class0_test_pt2_indices],:][0]\n",
    "tune_fold2_y = hundred_neg_ones + forty_neg_ones + forty_ones\n",
    "\n",
    "test_fold2_X = tweet_embeddings[[class1_train_indices + class1_tune_indices + class0_train_indices + class0_tune_indices],:][0]\n",
    "test_fold2_y = hundred_neg_ones + forty_neg_ones + hundred_ones + forty_ones"
   ]
  },
  {
   "cell_type": "code",
   "execution_count": 7,
   "metadata": {},
   "outputs": [
    {
     "data": {
      "text/plain": [
       "(100, 50)"
      ]
     },
     "execution_count": 7,
     "metadata": {},
     "output_type": "execute_result"
    }
   ],
   "source": [
    "train_fold1_X.shape"
   ]
  },
  {
   "cell_type": "markdown",
   "metadata": {},
   "source": [
    "## One-class classification: two-fold CV"
   ]
  },
  {
   "cell_type": "code",
   "execution_count": 8,
   "metadata": {},
   "outputs": [],
   "source": [
    "from sklearn.neighbors import LocalOutlierFactor\n",
    "from sklearn.metrics import roc_auc_score, accuracy_score, precision_score, recall_score, f1_score"
   ]
  },
  {
   "cell_type": "code",
   "execution_count": 9,
   "metadata": {},
   "outputs": [],
   "source": [
    "# LOF hyperparams to optimize\n",
    "n_neighbors = [1, 2, 5, 10, 25, 50, 100]"
   ]
  },
  {
   "cell_type": "markdown",
   "metadata": {},
   "source": [
    "### Fold 1"
   ]
  },
  {
   "cell_type": "code",
   "execution_count": 10,
   "metadata": {},
   "outputs": [
    {
     "data": {
      "text/plain": [
       "LocalOutlierFactor(n_neighbors=1, novelty=True)"
      ]
     },
     "execution_count": 10,
     "metadata": {},
     "output_type": "execute_result"
    }
   ],
   "source": [
    "# training & tuning\n",
    "models = []\n",
    "tune_f1 = []\n",
    "for neighbors in n_neighbors:\n",
    "    lof = LocalOutlierFactor(n_neighbors = neighbors, novelty = True)\n",
    "    lof.fit(train_fold1_X, train_fold1_y)\n",
    "    models.append(lof)\n",
    "    tune_predict = lof.predict(tune_fold1_X)\n",
    "    f1 = f1_score(tune_fold1_y, tune_predict, average = 'macro')\n",
    "    tune_f1.append(f1)\n",
    "        \n",
    "opt_model = models[tune_f1.index(max(tune_f1))]\n",
    "opt_model"
   ]
  },
  {
   "cell_type": "code",
   "execution_count": 11,
   "metadata": {},
   "outputs": [
    {
     "data": {
      "text/plain": [
       "[0.27601809954751133,\n",
       " 0.22391491807990802,\n",
       " 0.208981555733761,\n",
       " 0.208981555733761,\n",
       " 0.208981555733761,\n",
       " 0.1859413360899341,\n",
       " 0.1818181818181818]"
      ]
     },
     "execution_count": 11,
     "metadata": {},
     "output_type": "execute_result"
    }
   ],
   "source": [
    "tune_f1"
   ]
  },
  {
   "cell_type": "code",
   "execution_count": 12,
   "metadata": {},
   "outputs": [
    {
     "data": {
      "text/plain": [
       "{'auc': [0.6527551020408163],\n",
       " 'accuracy': [0.5321428571428571],\n",
       " 'recall': [0.5321428571428571],\n",
       " 'precision': [0.5988235294117648],\n",
       " 'f1': [0.43720751822017645]}"
      ]
     },
     "execution_count": 12,
     "metadata": {},
     "output_type": "execute_result"
    }
   ],
   "source": [
    "# testing\n",
    "test_scores = dict()\n",
    "test_predict = opt_model.predict(test_fold1_X)\n",
    "test_predict_proba = opt_model.decision_function(test_fold1_X)\n",
    "test_scores['auc'] = [roc_auc_score(test_fold1_y, test_predict_proba, average = 'macro')]\n",
    "test_scores['accuracy'] = [accuracy_score(test_fold1_y, test_predict)]\n",
    "test_scores['recall'] = [recall_score(test_fold1_y, test_predict, average = 'macro')]\n",
    "test_scores['precision'] = [precision_score(test_fold1_y, test_predict, average = 'macro')]\n",
    "test_scores['f1'] = [f1_score(test_fold1_y, test_predict, average = 'macro')]\n",
    "test_scores"
   ]
  },
  {
   "cell_type": "markdown",
   "metadata": {},
   "source": [
    "### Fold 2"
   ]
  },
  {
   "cell_type": "code",
   "execution_count": 13,
   "metadata": {},
   "outputs": [
    {
     "data": {
      "text/plain": [
       "LocalOutlierFactor(n_neighbors=1, novelty=True)"
      ]
     },
     "execution_count": 13,
     "metadata": {},
     "output_type": "execute_result"
    }
   ],
   "source": [
    "# training & tuning\n",
    "models = []\n",
    "tune_f1 = []\n",
    "for neighbors in n_neighbors:\n",
    "    lof = LocalOutlierFactor(n_neighbors = neighbors, novelty = True)\n",
    "    lof.fit(train_fold2_X, train_fold2_y)\n",
    "    models.append(lof)\n",
    "    tune_predict = lof.predict(tune_fold2_X)\n",
    "    f1 = f1_score(tune_fold2_y, tune_predict, average = 'macro')\n",
    "    tune_f1.append(f1)\n",
    "        \n",
    "opt_model = models[tune_f1.index(max(tune_f1))]\n",
    "opt_model"
   ]
  },
  {
   "cell_type": "code",
   "execution_count": 14,
   "metadata": {},
   "outputs": [
    {
     "data": {
      "text/plain": [
       "[0.4538699690402477,\n",
       " 0.3577611616145946,\n",
       " 0.2959729653618699,\n",
       " 0.252828036376311,\n",
       " 0.1975707455743636,\n",
       " 0.1897406004080443,\n",
       " 0.1818181818181818]"
      ]
     },
     "execution_count": 14,
     "metadata": {},
     "output_type": "execute_result"
    }
   ],
   "source": [
    "tune_f1"
   ]
  },
  {
   "cell_type": "code",
   "execution_count": 15,
   "metadata": {},
   "outputs": [
    {
     "data": {
      "text/plain": [
       "{'auc': [0.6527551020408163, 0.6636734693877551],\n",
       " 'accuracy': [0.5321428571428571, 0.5464285714285714],\n",
       " 'recall': [0.5321428571428571, 0.5464285714285715],\n",
       " 'precision': [0.5988235294117648, 0.5968188105117566],\n",
       " 'f1': [0.43720751822017645, 0.6666666666666667]}"
      ]
     },
     "execution_count": 15,
     "metadata": {},
     "output_type": "execute_result"
    }
   ],
   "source": [
    "# testing\n",
    "test_predict = opt_model.predict(test_fold2_X)\n",
    "test_predict_proba = opt_model.decision_function(test_fold2_X)\n",
    "test_scores['auc'].append(roc_auc_score(test_fold2_y, test_predict_proba, average = 'macro'))\n",
    "test_scores['accuracy'].append(accuracy_score(test_fold2_y, test_predict))\n",
    "test_scores['recall'].append(recall_score(test_fold2_y, test_predict, average = 'macro'))\n",
    "test_scores['precision'].append(precision_score(test_fold2_y, test_predict, average = 'macro'))\n",
    "test_scores['f1'].append(f1_score(test_fold2_y, test_predict))\n",
    "test_scores"
   ]
  },
  {
   "cell_type": "markdown",
   "metadata": {},
   "source": [
    "### Average results"
   ]
  },
  {
   "cell_type": "code",
   "execution_count": 16,
   "metadata": {},
   "outputs": [
    {
     "data": {
      "text/plain": [
       "0.6582142857142856"
      ]
     },
     "execution_count": 16,
     "metadata": {},
     "output_type": "execute_result"
    }
   ],
   "source": [
    "sum(test_scores['auc'])/2"
   ]
  },
  {
   "cell_type": "code",
   "execution_count": 17,
   "metadata": {},
   "outputs": [
    {
     "data": {
      "text/plain": [
       "0.5392857142857143"
      ]
     },
     "execution_count": 17,
     "metadata": {},
     "output_type": "execute_result"
    }
   ],
   "source": [
    "sum(test_scores['accuracy'])/2"
   ]
  },
  {
   "cell_type": "code",
   "execution_count": 18,
   "metadata": {},
   "outputs": [
    {
     "data": {
      "text/plain": [
       "0.5392857142857144"
      ]
     },
     "execution_count": 18,
     "metadata": {},
     "output_type": "execute_result"
    }
   ],
   "source": [
    "sum(test_scores['recall'])/2"
   ]
  },
  {
   "cell_type": "code",
   "execution_count": 19,
   "metadata": {},
   "outputs": [
    {
     "data": {
      "text/plain": [
       "0.5978211699617606"
      ]
     },
     "execution_count": 19,
     "metadata": {},
     "output_type": "execute_result"
    }
   ],
   "source": [
    "sum(test_scores['precision'])/2"
   ]
  },
  {
   "cell_type": "code",
   "execution_count": 20,
   "metadata": {},
   "outputs": [
    {
     "data": {
      "text/plain": [
       "0.5519370924434216"
      ]
     },
     "execution_count": 20,
     "metadata": {},
     "output_type": "execute_result"
    }
   ],
   "source": [
    "sum(test_scores['f1'])/2"
   ]
  },
  {
   "cell_type": "code",
   "execution_count": null,
   "metadata": {},
   "outputs": [],
   "source": []
  }
 ],
 "metadata": {
  "kernelspec": {
   "display_name": "Python 3",
   "language": "python",
   "name": "python3"
  },
  "language_info": {
   "codemirror_mode": {
    "name": "ipython",
    "version": 3
   },
   "file_extension": ".py",
   "mimetype": "text/x-python",
   "name": "python",
   "nbconvert_exporter": "python",
   "pygments_lexer": "ipython3",
   "version": "3.7.7"
  }
 },
 "nbformat": 4,
 "nbformat_minor": 4
}
