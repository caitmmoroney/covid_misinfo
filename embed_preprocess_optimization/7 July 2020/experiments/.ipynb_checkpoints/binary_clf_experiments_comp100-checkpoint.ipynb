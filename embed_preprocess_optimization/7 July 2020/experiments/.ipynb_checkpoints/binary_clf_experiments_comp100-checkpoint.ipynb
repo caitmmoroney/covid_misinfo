{
 "cells": [
  {
   "cell_type": "markdown",
   "metadata": {},
   "source": [
    "# Binary Classification with Tweet Embeddings"
   ]
  },
  {
   "cell_type": "code",
   "execution_count": 1,
   "metadata": {},
   "outputs": [],
   "source": [
    "# import modules\n",
    "import numpy as np\n",
    "import pandas as pd\n",
    "from sklearn.preprocessing import StandardScaler"
   ]
  },
  {
   "cell_type": "markdown",
   "metadata": {},
   "source": [
    "## Load data"
   ]
  },
  {
   "cell_type": "code",
   "execution_count": 2,
   "metadata": {},
   "outputs": [],
   "source": [
    "class1_train_indices = list(range(100))\n",
    "class1_tune_indices = list(range(100,140))\n",
    "class1_test_pt1_indices = list(range(140,240))\n",
    "class1_test_pt2_indices = list(range(240,280))\n",
    "class0_train_indices = list(range(280,380))\n",
    "class0_tune_indices = list(range(380,420))\n",
    "class0_test_pt1_indices = list(range(420,520))\n",
    "class0_test_pt2_indices = list(range(520,560))"
   ]
  },
  {
   "cell_type": "code",
   "execution_count": 3,
   "metadata": {},
   "outputs": [
    {
     "data": {
      "text/plain": [
       "array([[ 2.14904746e-03,  2.45077669e-02,  2.47014707e-02, ...,\n",
       "        -7.25606271e-04,  2.67015765e-03,  4.03673065e-03],\n",
       "       [-9.46452087e-04,  4.87960232e-03,  4.47070048e-02, ...,\n",
       "        -7.95188148e-03,  7.33467039e-04, -1.57167224e-03],\n",
       "       [-8.54947205e-04, -2.91345826e-03,  3.21994375e-03, ...,\n",
       "        -7.52294886e-03,  4.42561397e-03, -4.54045879e-03],\n",
       "       ...,\n",
       "       [ 9.93205735e-04, -7.32190760e-03,  9.56053944e-03, ...,\n",
       "         7.96010609e-03, -5.14358391e-03, -1.66861473e-02],\n",
       "       [ 6.52102690e-03, -1.42260668e-03, -1.53443495e-02, ...,\n",
       "        -1.39974437e-02,  6.00576922e-03, -1.51548927e-02],\n",
       "       [ 2.71978112e-03,  4.16686129e-04, -8.77459056e-05, ...,\n",
       "        -1.76468980e-03,  4.27055557e-04,  5.15986099e-03]])"
      ]
     },
     "execution_count": 3,
     "metadata": {},
     "output_type": "execute_result"
    }
   ],
   "source": [
    "# load array of tweet embeddings according to index of original tweet file\n",
    "num_embed = 100\n",
    "fname = '../tweet_embeddings/tweet_embed_{}.npy'.format(num_embed)\n",
    "tweet_embeddings = np.load(fname)\n",
    "tweet_embeddings"
   ]
  },
  {
   "cell_type": "code",
   "execution_count": 4,
   "metadata": {},
   "outputs": [
    {
     "data": {
      "text/plain": [
       "array([[ 2.39348722e-04, -2.46133933e-03,  1.11936424e-03, ...,\n",
       "        -8.21334638e-03,  3.44486518e-03,  1.86145575e-02],\n",
       "       [ 3.00271422e-03, -9.77105527e-03,  4.60251036e-04, ...,\n",
       "        -2.60485232e-04, -8.52634432e-03,  6.42468966e-03],\n",
       "       [ 1.58959762e-03, -4.21894793e-03, -5.41214795e-03, ...,\n",
       "         6.52759229e-03, -3.11762314e-02, -1.05364188e-02],\n",
       "       ...,\n",
       "       [-7.33872639e-03,  2.52321950e-02, -1.46316556e-02, ...,\n",
       "        -1.52138813e-05, -3.44659406e-02, -1.61631449e-02],\n",
       "       [-8.87662151e-03,  2.47644495e-02, -1.65147756e-02, ...,\n",
       "        -6.06074517e-03, -2.04247780e-02, -1.82096387e-02],\n",
       "       [-1.67504883e-04,  3.54172567e-03,  1.11666813e-02, ...,\n",
       "        -4.59883172e-03, -8.77279082e-03, -1.43644654e-02]])"
      ]
     },
     "execution_count": 4,
     "metadata": {},
     "output_type": "execute_result"
    }
   ],
   "source": [
    "tweet_embeddings[class0_train_indices,:]"
   ]
  },
  {
   "cell_type": "markdown",
   "metadata": {},
   "source": [
    "## Derive text vectors from word embeddings"
   ]
  },
  {
   "cell_type": "code",
   "execution_count": 5,
   "metadata": {},
   "outputs": [],
   "source": [
    "forty_ones = [1]*40\n",
    "forty_zeros = [0]*40\n",
    "\n",
    "hundred_ones = [1]*100\n",
    "hundred_zeros = [0]*100"
   ]
  },
  {
   "cell_type": "code",
   "execution_count": 6,
   "metadata": {},
   "outputs": [],
   "source": [
    "train_fold1_X = tweet_embeddings[[class1_train_indices + class0_train_indices],:][0]\n",
    "train_fold1_y = hundred_ones + hundred_zeros\n",
    "\n",
    "tune_fold1_X = tweet_embeddings[[class1_tune_indices + class0_tune_indices],:][0]\n",
    "tune_fold1_y = forty_ones + forty_zeros\n",
    "\n",
    "test_fold1_X = tweet_embeddings[[class1_test_pt1_indices + class1_test_pt2_indices + class0_test_pt1_indices + class0_test_pt2_indices],:][0]\n",
    "test_fold1_y = hundred_ones + forty_ones + hundred_zeros + forty_zeros\n",
    "\n",
    "\n",
    "train_fold2_X = tweet_embeddings[[class1_test_pt1_indices + class0_test_pt1_indices],:][0]\n",
    "train_fold2_y = hundred_ones + hundred_zeros\n",
    "\n",
    "tune_fold2_X = tweet_embeddings[[class1_test_pt2_indices + class0_test_pt2_indices],:][0]\n",
    "tune_fold2_y = forty_ones + forty_zeros\n",
    "\n",
    "test_fold2_X = tweet_embeddings[[class1_train_indices + class1_tune_indices + class0_train_indices + class0_tune_indices],:][0]\n",
    "test_fold2_y = hundred_ones + forty_ones + hundred_zeros + forty_zeros"
   ]
  },
  {
   "cell_type": "code",
   "execution_count": 7,
   "metadata": {},
   "outputs": [
    {
     "data": {
      "text/plain": [
       "(200, 100)"
      ]
     },
     "execution_count": 7,
     "metadata": {},
     "output_type": "execute_result"
    }
   ],
   "source": [
    "train_fold1_X.shape"
   ]
  },
  {
   "cell_type": "markdown",
   "metadata": {},
   "source": [
    "## Binary classification: two-fold CV"
   ]
  },
  {
   "cell_type": "code",
   "execution_count": 8,
   "metadata": {},
   "outputs": [],
   "source": [
    "from sklearn.svm import SVC\n",
    "from sklearn.metrics import roc_auc_score, accuracy_score, precision_score, recall_score, f1_score"
   ]
  },
  {
   "cell_type": "code",
   "execution_count": 9,
   "metadata": {},
   "outputs": [],
   "source": [
    "# SVC hyperparams to optimize\n",
    "kernel = ['rbf', 'linear', 'poly', 'sigmoid']\n",
    "C = [0.001, 0.01, 0.1, 1, 10]"
   ]
  },
  {
   "cell_type": "markdown",
   "metadata": {},
   "source": [
    "### Fold 1"
   ]
  },
  {
   "cell_type": "code",
   "execution_count": 10,
   "metadata": {},
   "outputs": [
    {
     "data": {
      "text/plain": [
       "SVC(C=10, kernel='linear', probability=True)"
      ]
     },
     "execution_count": 10,
     "metadata": {},
     "output_type": "execute_result"
    }
   ],
   "source": [
    "# training & tuning\n",
    "models = []\n",
    "tune_auc = []\n",
    "for ker in kernel:\n",
    "    for el in C:\n",
    "        svc = SVC(C = el, kernel = ker, probability = True)\n",
    "        svc.fit(train_fold1_X, train_fold1_y)\n",
    "        models.append(svc)\n",
    "        tune_predict = svc.predict_proba(tune_fold1_X)[:,1]\n",
    "        auc = roc_auc_score(tune_fold1_y, tune_predict)\n",
    "        tune_auc.append(auc)\n",
    "        \n",
    "opt_model = models[tune_auc.index(max(tune_auc))]\n",
    "opt_model"
   ]
  },
  {
   "cell_type": "code",
   "execution_count": 11,
   "metadata": {},
   "outputs": [
    {
     "data": {
      "text/plain": [
       "[0.06687500000000002,\n",
       " 0.06687500000000002,\n",
       " 0.933125,\n",
       " 0.94125,\n",
       " 0.9275,\n",
       " 0.06437500000000002,\n",
       " 0.5,\n",
       " 0.06437500000000002,\n",
       " 0.2625,\n",
       " 0.9562499999999999,\n",
       " 0.5,\n",
       " 0.10437500000000002,\n",
       " 0.914375,\n",
       " 0.9281249999999999,\n",
       " 0.9103125,\n",
       " 0.06625,\n",
       " 0.06625,\n",
       " 0.93375,\n",
       " 0.95,\n",
       " 0.8975]"
      ]
     },
     "execution_count": 11,
     "metadata": {},
     "output_type": "execute_result"
    }
   ],
   "source": [
    "tune_auc"
   ]
  },
  {
   "cell_type": "code",
   "execution_count": 12,
   "metadata": {},
   "outputs": [
    {
     "data": {
      "text/plain": [
       "{'auc': [0.9173979591836734],\n",
       " 'accuracy': [0.7928571428571428],\n",
       " 'recall': [0.7928571428571429],\n",
       " 'precision': [0.8283001601464196],\n",
       " 'f1': [0.7871113208536522]}"
      ]
     },
     "execution_count": 12,
     "metadata": {},
     "output_type": "execute_result"
    }
   ],
   "source": [
    "# testing\n",
    "test_scores = dict()\n",
    "test_predict = opt_model.predict(test_fold1_X)\n",
    "test_predict_proba = opt_model.predict_proba(test_fold1_X)[:,1]\n",
    "test_scores['auc'] = [roc_auc_score(test_fold1_y, test_predict_proba)]\n",
    "test_scores['accuracy'] = [accuracy_score(test_fold1_y, test_predict)]\n",
    "test_scores['recall'] = [recall_score(test_fold1_y, test_predict, average = 'macro')]\n",
    "test_scores['precision'] = [precision_score(test_fold1_y, test_predict, average = 'macro')]\n",
    "test_scores['f1'] = [f1_score(test_fold1_y, test_predict, average = 'macro')]\n",
    "test_scores"
   ]
  },
  {
   "cell_type": "markdown",
   "metadata": {},
   "source": [
    "### Fold 2"
   ]
  },
  {
   "cell_type": "code",
   "execution_count": 13,
   "metadata": {},
   "outputs": [
    {
     "data": {
      "text/plain": [
       "SVC(C=0.1, kernel='sigmoid', probability=True)"
      ]
     },
     "execution_count": 13,
     "metadata": {},
     "output_type": "execute_result"
    }
   ],
   "source": [
    "# training & tuning\n",
    "models = []\n",
    "tune_auc = []\n",
    "for ker in kernel:\n",
    "    for el in C:\n",
    "        svc = SVC(C = el, kernel = ker, probability = True)\n",
    "        svc.fit(train_fold2_X, train_fold2_y)\n",
    "        models.append(svc)\n",
    "        tune_predict = svc.predict_proba(tune_fold2_X)[:,1]\n",
    "        auc = roc_auc_score(tune_fold2_y, tune_predict)\n",
    "        tune_auc.append(auc)\n",
    "        \n",
    "opt_model = models[tune_auc.index(max(tune_auc))]\n",
    "opt_model"
   ]
  },
  {
   "cell_type": "code",
   "execution_count": 14,
   "metadata": {},
   "outputs": [
    {
     "data": {
      "text/plain": [
       "[0.09875000000000002,\n",
       " 0.09875000000000002,\n",
       " 0.90125,\n",
       " 0.9175,\n",
       " 0.891875,\n",
       " 0.06,\n",
       " 0.06,\n",
       " 0.5,\n",
       " 0.15,\n",
       " 0.93375,\n",
       " 0.5,\n",
       " 0.10125,\n",
       " 0.89875,\n",
       " 0.9125,\n",
       " 0.8468749999999999,\n",
       " 0.5,\n",
       " 0.5,\n",
       " 0.9437500000000001,\n",
       " 0.9400000000000001,\n",
       " 0.868125]"
      ]
     },
     "execution_count": 14,
     "metadata": {},
     "output_type": "execute_result"
    }
   ],
   "source": [
    "tune_auc"
   ]
  },
  {
   "cell_type": "code",
   "execution_count": 15,
   "metadata": {},
   "outputs": [
    {
     "data": {
      "text/plain": [
       "{'auc': [0.9173979591836734, 0.9037244897959185],\n",
       " 'accuracy': [0.7928571428571428, 0.8],\n",
       " 'recall': [0.7928571428571429, 0.8],\n",
       " 'precision': [0.8283001601464196, 0.8050425399460469],\n",
       " 'f1': [0.7871113208536522, 0.7991700394487422]}"
      ]
     },
     "execution_count": 15,
     "metadata": {},
     "output_type": "execute_result"
    }
   ],
   "source": [
    "# testing\n",
    "test_predict = opt_model.predict(test_fold2_X)\n",
    "test_predict_proba = opt_model.predict_proba(test_fold2_X)[:,1]\n",
    "test_scores['auc'].append(roc_auc_score(test_fold2_y, test_predict_proba))\n",
    "test_scores['accuracy'].append(accuracy_score(test_fold2_y, test_predict))\n",
    "test_scores['recall'].append(recall_score(test_fold2_y, test_predict, average = 'macro'))\n",
    "test_scores['precision'].append(precision_score(test_fold2_y, test_predict, average = 'macro'))\n",
    "test_scores['f1'].append(f1_score(test_fold2_y, test_predict, average = 'macro'))\n",
    "test_scores"
   ]
  },
  {
   "cell_type": "markdown",
   "metadata": {},
   "source": [
    "### Average results"
   ]
  },
  {
   "cell_type": "code",
   "execution_count": 16,
   "metadata": {},
   "outputs": [
    {
     "data": {
      "text/plain": [
       "0.9105612244897959"
      ]
     },
     "execution_count": 16,
     "metadata": {},
     "output_type": "execute_result"
    }
   ],
   "source": [
    "sum(test_scores['auc'])/2"
   ]
  },
  {
   "cell_type": "code",
   "execution_count": 17,
   "metadata": {},
   "outputs": [
    {
     "data": {
      "text/plain": [
       "0.7964285714285715"
      ]
     },
     "execution_count": 17,
     "metadata": {},
     "output_type": "execute_result"
    }
   ],
   "source": [
    "sum(test_scores['accuracy'])/2"
   ]
  },
  {
   "cell_type": "code",
   "execution_count": 18,
   "metadata": {},
   "outputs": [
    {
     "data": {
      "text/plain": [
       "0.7964285714285715"
      ]
     },
     "execution_count": 18,
     "metadata": {},
     "output_type": "execute_result"
    }
   ],
   "source": [
    "sum(test_scores['recall'])/2"
   ]
  },
  {
   "cell_type": "code",
   "execution_count": 19,
   "metadata": {},
   "outputs": [
    {
     "data": {
      "text/plain": [
       "0.8166713500462333"
      ]
     },
     "execution_count": 19,
     "metadata": {},
     "output_type": "execute_result"
    }
   ],
   "source": [
    "sum(test_scores['precision'])/2"
   ]
  },
  {
   "cell_type": "code",
   "execution_count": 20,
   "metadata": {},
   "outputs": [
    {
     "data": {
      "text/plain": [
       "0.7931406801511972"
      ]
     },
     "execution_count": 20,
     "metadata": {},
     "output_type": "execute_result"
    }
   ],
   "source": [
    "sum(test_scores['f1'])/2"
   ]
  },
  {
   "cell_type": "code",
   "execution_count": null,
   "metadata": {},
   "outputs": [],
   "source": []
  }
 ],
 "metadata": {
  "kernelspec": {
   "display_name": "Python 3",
   "language": "python",
   "name": "python3"
  },
  "language_info": {
   "codemirror_mode": {
    "name": "ipython",
    "version": 3
   },
   "file_extension": ".py",
   "mimetype": "text/x-python",
   "name": "python",
   "nbconvert_exporter": "python",
   "pygments_lexer": "ipython3",
   "version": "3.7.7"
  }
 },
 "nbformat": 4,
 "nbformat_minor": 4
}
