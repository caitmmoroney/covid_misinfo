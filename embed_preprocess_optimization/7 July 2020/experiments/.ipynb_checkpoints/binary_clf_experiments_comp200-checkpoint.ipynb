{
 "cells": [
  {
   "cell_type": "markdown",
   "metadata": {},
   "source": [
    "# Binary Classification with Tweet Embeddings"
   ]
  },
  {
   "cell_type": "code",
   "execution_count": 1,
   "metadata": {},
   "outputs": [],
   "source": [
    "# import modules\n",
    "import numpy as np\n",
    "import pandas as pd\n",
    "from sklearn.preprocessing import StandardScaler"
   ]
  },
  {
   "cell_type": "markdown",
   "metadata": {},
   "source": [
    "## Load data"
   ]
  },
  {
   "cell_type": "code",
   "execution_count": 2,
   "metadata": {},
   "outputs": [],
   "source": [
    "class1_train_indices = list(range(100))\n",
    "class1_tune_indices = list(range(100,140))\n",
    "class1_test_pt1_indices = list(range(140,240))\n",
    "class1_test_pt2_indices = list(range(240,280))\n",
    "class0_train_indices = list(range(280,380))\n",
    "class0_tune_indices = list(range(380,420))\n",
    "class0_test_pt1_indices = list(range(420,520))\n",
    "class0_test_pt2_indices = list(range(520,560))"
   ]
  },
  {
   "cell_type": "code",
   "execution_count": 3,
   "metadata": {},
   "outputs": [
    {
     "data": {
      "text/plain": [
       "array([[ 0.00593588,  0.00939591, -0.00662292, ..., -0.01922544,\n",
       "         0.01135051, -0.01881703],\n",
       "       [ 0.00667498, -0.01665263, -0.00706223, ..., -0.00810334,\n",
       "         0.00158554, -0.00864557],\n",
       "       [ 0.00702469, -0.00557805, -0.00507662, ..., -0.00726061,\n",
       "         0.00634164, -0.02551629],\n",
       "       ...,\n",
       "       [ 0.00263419,  0.00553107, -0.0111273 , ..., -0.03626432,\n",
       "        -0.00115585, -0.06540261],\n",
       "       [ 0.00715289,  0.00460695, -0.00207928, ...,  0.0028719 ,\n",
       "         0.00146786, -0.00983326],\n",
       "       [ 0.00281343, -0.00274252, -0.00334287, ..., -0.00280212,\n",
       "         0.0042161 , -0.0038069 ]])"
      ]
     },
     "execution_count": 3,
     "metadata": {},
     "output_type": "execute_result"
    }
   ],
   "source": [
    "# load array of tweet embeddings according to index of original tweet file\n",
    "num_embed = 200\n",
    "fname = '../tweet_embeddings/tweet_embed_{}.npy'.format(num_embed)\n",
    "tweet_embeddings = np.load(fname)\n",
    "tweet_embeddings"
   ]
  },
  {
   "cell_type": "code",
   "execution_count": 4,
   "metadata": {},
   "outputs": [
    {
     "data": {
      "text/plain": [
       "array([[ 0.00574072,  0.00465161, -0.01033126, ..., -0.00891994,\n",
       "         0.00185855, -0.01406886],\n",
       "       [ 0.00783427,  0.00525873, -0.01145834, ...,  0.0015645 ,\n",
       "         0.00276725, -0.00392904],\n",
       "       [-0.01308348, -0.00039047, -0.00901186, ...,  0.00098442,\n",
       "         0.00340062, -0.01465853],\n",
       "       ...,\n",
       "       [-0.00392546,  0.00928786, -0.00503153, ..., -0.00533025,\n",
       "        -0.00054813, -0.0027769 ],\n",
       "       [ 0.00814459,  0.00579188, -0.00407937, ..., -0.00582345,\n",
       "         0.0059936 ,  0.00379572],\n",
       "       [-0.00411265,  0.00691   , -0.005913  , ..., -0.0213258 ,\n",
       "        -0.00173161, -0.04867859]])"
      ]
     },
     "execution_count": 4,
     "metadata": {},
     "output_type": "execute_result"
    }
   ],
   "source": [
    "tweet_embeddings[class0_train_indices,:]"
   ]
  },
  {
   "cell_type": "markdown",
   "metadata": {},
   "source": [
    "## Derive text vectors from word embeddings"
   ]
  },
  {
   "cell_type": "code",
   "execution_count": 5,
   "metadata": {},
   "outputs": [],
   "source": [
    "forty_ones = [1]*40\n",
    "forty_zeros = [0]*40\n",
    "\n",
    "hundred_ones = [1]*100\n",
    "hundred_zeros = [0]*100"
   ]
  },
  {
   "cell_type": "code",
   "execution_count": 6,
   "metadata": {},
   "outputs": [],
   "source": [
    "train_fold1_X = tweet_embeddings[[class1_train_indices + class0_train_indices],:][0]\n",
    "train_fold1_y = hundred_ones + hundred_zeros\n",
    "\n",
    "tune_fold1_X = tweet_embeddings[[class1_tune_indices + class0_tune_indices],:][0]\n",
    "tune_fold1_y = forty_ones + forty_zeros\n",
    "\n",
    "test_fold1_X = tweet_embeddings[[class1_test_pt1_indices + class1_test_pt2_indices + class0_test_pt1_indices + class0_test_pt2_indices],:][0]\n",
    "test_fold1_y = hundred_ones + forty_ones + hundred_zeros + forty_zeros\n",
    "\n",
    "\n",
    "train_fold2_X = tweet_embeddings[[class1_test_pt1_indices + class0_test_pt1_indices],:][0]\n",
    "train_fold2_y = hundred_ones + hundred_zeros\n",
    "\n",
    "tune_fold2_X = tweet_embeddings[[class1_test_pt2_indices + class0_test_pt2_indices],:][0]\n",
    "tune_fold2_y = forty_ones + forty_zeros\n",
    "\n",
    "test_fold2_X = tweet_embeddings[[class1_train_indices + class1_tune_indices + class0_train_indices + class0_tune_indices],:][0]\n",
    "test_fold2_y = hundred_ones + forty_ones + hundred_zeros + forty_zeros"
   ]
  },
  {
   "cell_type": "code",
   "execution_count": 7,
   "metadata": {},
   "outputs": [
    {
     "data": {
      "text/plain": [
       "(200, 200)"
      ]
     },
     "execution_count": 7,
     "metadata": {},
     "output_type": "execute_result"
    }
   ],
   "source": [
    "train_fold1_X.shape"
   ]
  },
  {
   "cell_type": "markdown",
   "metadata": {},
   "source": [
    "## Binary classification: two-fold CV"
   ]
  },
  {
   "cell_type": "code",
   "execution_count": 8,
   "metadata": {},
   "outputs": [],
   "source": [
    "from sklearn.svm import SVC\n",
    "from sklearn.metrics import roc_auc_score, accuracy_score, precision_score, recall_score, f1_score"
   ]
  },
  {
   "cell_type": "code",
   "execution_count": 9,
   "metadata": {},
   "outputs": [],
   "source": [
    "# SVC hyperparams to optimize\n",
    "kernel = ['rbf', 'linear', 'poly', 'sigmoid']\n",
    "C = [0.001, 0.01, 0.1, 1, 10]"
   ]
  },
  {
   "cell_type": "markdown",
   "metadata": {},
   "source": [
    "### Fold 1"
   ]
  },
  {
   "cell_type": "code",
   "execution_count": 10,
   "metadata": {},
   "outputs": [
    {
     "data": {
      "text/plain": [
       "SVC(C=1, probability=True)"
      ]
     },
     "execution_count": 10,
     "metadata": {},
     "output_type": "execute_result"
    }
   ],
   "source": [
    "# training & tuning\n",
    "models = []\n",
    "tune_auc = []\n",
    "for ker in kernel:\n",
    "    for el in C:\n",
    "        svc = SVC(C = el, kernel = ker, probability = True)\n",
    "        svc.fit(train_fold1_X, train_fold1_y)\n",
    "        models.append(svc)\n",
    "        tune_predict = svc.predict_proba(tune_fold1_X)[:,1]\n",
    "        auc = roc_auc_score(tune_fold1_y, tune_predict)\n",
    "        tune_auc.append(auc)\n",
    "        \n",
    "opt_model = models[tune_auc.index(max(tune_auc))]\n",
    "opt_model"
   ]
  },
  {
   "cell_type": "code",
   "execution_count": 11,
   "metadata": {},
   "outputs": [
    {
     "data": {
      "text/plain": [
       "[0.07312500000000002,\n",
       " 0.5,\n",
       " 0.1875,\n",
       " 0.9356249999999999,\n",
       " 0.925625,\n",
       " 0.084375,\n",
       " 0.5,\n",
       " 0.5,\n",
       " 0.5,\n",
       " 0.930625,\n",
       " 0.09125000000000001,\n",
       " 0.09125000000000001,\n",
       " 0.90875,\n",
       " 0.90875,\n",
       " 0.9009375,\n",
       " 0.08374999999999999,\n",
       " 0.5,\n",
       " 0.91625,\n",
       " 0.929375,\n",
       " 0.84125]"
      ]
     },
     "execution_count": 11,
     "metadata": {},
     "output_type": "execute_result"
    }
   ],
   "source": [
    "tune_auc"
   ]
  },
  {
   "cell_type": "code",
   "execution_count": 12,
   "metadata": {},
   "outputs": [
    {
     "data": {
      "text/plain": [
       "{'auc': [0.9038265306122449],\n",
       " 'accuracy': [0.7928571428571428],\n",
       " 'recall': [0.7928571428571429],\n",
       " 'precision': [0.8218210361067504],\n",
       " 'f1': [0.7880891487029595]}"
      ]
     },
     "execution_count": 12,
     "metadata": {},
     "output_type": "execute_result"
    }
   ],
   "source": [
    "# testing\n",
    "test_scores = dict()\n",
    "test_predict = opt_model.predict(test_fold1_X)\n",
    "test_predict_proba = opt_model.predict_proba(test_fold1_X)[:,1]\n",
    "test_scores['auc'] = [roc_auc_score(test_fold1_y, test_predict_proba)]\n",
    "test_scores['accuracy'] = [accuracy_score(test_fold1_y, test_predict)]\n",
    "test_scores['recall'] = [recall_score(test_fold1_y, test_predict, average = 'macro')]\n",
    "test_scores['precision'] = [precision_score(test_fold1_y, test_predict, average = 'macro')]\n",
    "test_scores['f1'] = [f1_score(test_fold1_y, test_predict, average = 'macro')]\n",
    "test_scores"
   ]
  },
  {
   "cell_type": "markdown",
   "metadata": {},
   "source": [
    "### Fold 2"
   ]
  },
  {
   "cell_type": "code",
   "execution_count": 13,
   "metadata": {},
   "outputs": [
    {
     "data": {
      "text/plain": [
       "SVC(C=10, kernel='linear', probability=True)"
      ]
     },
     "execution_count": 13,
     "metadata": {},
     "output_type": "execute_result"
    }
   ],
   "source": [
    "# training & tuning\n",
    "models = []\n",
    "tune_auc = []\n",
    "for ker in kernel:\n",
    "    for el in C:\n",
    "        svc = SVC(C = el, kernel = ker, probability = True)\n",
    "        svc.fit(train_fold2_X, train_fold2_y)\n",
    "        models.append(svc)\n",
    "        tune_predict = svc.predict_proba(tune_fold2_X)[:,1]\n",
    "        auc = roc_auc_score(tune_fold2_y, tune_predict)\n",
    "        tune_auc.append(auc)\n",
    "        \n",
    "opt_model = models[tune_auc.index(max(tune_auc))]\n",
    "opt_model"
   ]
  },
  {
   "cell_type": "code",
   "execution_count": 14,
   "metadata": {},
   "outputs": [
    {
     "data": {
      "text/plain": [
       "[0.5,\n",
       " 0.10562500000000001,\n",
       " 0.425,\n",
       " 0.89625,\n",
       " 0.895625,\n",
       " 0.085,\n",
       " 0.5,\n",
       " 0.085,\n",
       " 0.0821875,\n",
       " 0.910625,\n",
       " 0.15000000000000002,\n",
       " 0.15000000000000002,\n",
       " 0.525,\n",
       " 0.8784375,\n",
       " 0.8725,\n",
       " 0.5,\n",
       " 0.5,\n",
       " 0.738125,\n",
       " 0.9081250000000001,\n",
       " 0.8318749999999999]"
      ]
     },
     "execution_count": 14,
     "metadata": {},
     "output_type": "execute_result"
    }
   ],
   "source": [
    "tune_auc"
   ]
  },
  {
   "cell_type": "code",
   "execution_count": 15,
   "metadata": {},
   "outputs": [
    {
     "data": {
      "text/plain": [
       "{'auc': [0.9038265306122449, 0.8990816326530613],\n",
       " 'accuracy': [0.7928571428571428, 0.8071428571428572],\n",
       " 'recall': [0.7928571428571429, 0.8071428571428572],\n",
       " 'precision': [0.8218210361067504, 0.8081490581490582],\n",
       " 'f1': [0.7880891487029595, 0.8069852941176471]}"
      ]
     },
     "execution_count": 15,
     "metadata": {},
     "output_type": "execute_result"
    }
   ],
   "source": [
    "# testing\n",
    "test_predict = opt_model.predict(test_fold2_X)\n",
    "test_predict_proba = opt_model.predict_proba(test_fold2_X)[:,1]\n",
    "test_scores['auc'].append(roc_auc_score(test_fold2_y, test_predict_proba))\n",
    "test_scores['accuracy'].append(accuracy_score(test_fold2_y, test_predict))\n",
    "test_scores['recall'].append(recall_score(test_fold2_y, test_predict, average = 'macro'))\n",
    "test_scores['precision'].append(precision_score(test_fold2_y, test_predict, average = 'macro'))\n",
    "test_scores['f1'].append(f1_score(test_fold2_y, test_predict, average = 'macro'))\n",
    "test_scores"
   ]
  },
  {
   "cell_type": "markdown",
   "metadata": {},
   "source": [
    "### Average results"
   ]
  },
  {
   "cell_type": "code",
   "execution_count": 16,
   "metadata": {},
   "outputs": [
    {
     "data": {
      "text/plain": [
       "0.9014540816326531"
      ]
     },
     "execution_count": 16,
     "metadata": {},
     "output_type": "execute_result"
    }
   ],
   "source": [
    "sum(test_scores['auc'])/2"
   ]
  },
  {
   "cell_type": "code",
   "execution_count": 17,
   "metadata": {},
   "outputs": [
    {
     "data": {
      "text/plain": [
       "0.8"
      ]
     },
     "execution_count": 17,
     "metadata": {},
     "output_type": "execute_result"
    }
   ],
   "source": [
    "sum(test_scores['accuracy'])/2"
   ]
  },
  {
   "cell_type": "code",
   "execution_count": 18,
   "metadata": {},
   "outputs": [
    {
     "data": {
      "text/plain": [
       "0.8"
      ]
     },
     "execution_count": 18,
     "metadata": {},
     "output_type": "execute_result"
    }
   ],
   "source": [
    "sum(test_scores['recall'])/2"
   ]
  },
  {
   "cell_type": "code",
   "execution_count": 19,
   "metadata": {},
   "outputs": [
    {
     "data": {
      "text/plain": [
       "0.8149850471279043"
      ]
     },
     "execution_count": 19,
     "metadata": {},
     "output_type": "execute_result"
    }
   ],
   "source": [
    "sum(test_scores['precision'])/2"
   ]
  },
  {
   "cell_type": "code",
   "execution_count": 20,
   "metadata": {},
   "outputs": [
    {
     "data": {
      "text/plain": [
       "0.7975372214103034"
      ]
     },
     "execution_count": 20,
     "metadata": {},
     "output_type": "execute_result"
    }
   ],
   "source": [
    "sum(test_scores['f1'])/2"
   ]
  },
  {
   "cell_type": "code",
   "execution_count": null,
   "metadata": {},
   "outputs": [],
   "source": []
  }
 ],
 "metadata": {
  "kernelspec": {
   "display_name": "Python 3",
   "language": "python",
   "name": "python3"
  },
  "language_info": {
   "codemirror_mode": {
    "name": "ipython",
    "version": 3
   },
   "file_extension": ".py",
   "mimetype": "text/x-python",
   "name": "python",
   "nbconvert_exporter": "python",
   "pygments_lexer": "ipython3",
   "version": "3.7.7"
  }
 },
 "nbformat": 4,
 "nbformat_minor": 4
}
