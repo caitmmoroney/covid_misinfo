{
 "cells": [
  {
   "cell_type": "markdown",
   "metadata": {},
   "source": [
    "# Binary Classification with Tweet Embeddings"
   ]
  },
  {
   "cell_type": "code",
   "execution_count": 1,
   "metadata": {},
   "outputs": [],
   "source": [
    "# import modules\n",
    "import numpy as np\n",
    "import pandas as pd\n",
    "from sklearn.preprocessing import StandardScaler"
   ]
  },
  {
   "cell_type": "markdown",
   "metadata": {},
   "source": [
    "## Load data"
   ]
  },
  {
   "cell_type": "code",
   "execution_count": 2,
   "metadata": {},
   "outputs": [],
   "source": [
    "class1_train_indices = list(range(100))\n",
    "class1_tune_indices = list(range(100,140))\n",
    "class1_test_pt1_indices = list(range(140,240))\n",
    "class1_test_pt2_indices = list(range(240,280))\n",
    "class0_train_indices = list(range(280,380))\n",
    "class0_tune_indices = list(range(380,420))\n",
    "class0_test_pt1_indices = list(range(420,520))\n",
    "class0_test_pt2_indices = list(range(520,560))"
   ]
  },
  {
   "cell_type": "code",
   "execution_count": 3,
   "metadata": {},
   "outputs": [
    {
     "data": {
      "text/plain": [
       "array([[-0.00354477, -0.00215981, -0.00191002, ...,  0.00391414,\n",
       "         0.00166403,  0.01324248],\n",
       "       [-0.00296756, -0.00414907, -0.0029761 , ...,  0.00191059,\n",
       "         0.00211693, -0.00103907],\n",
       "       [-0.0025717 , -0.0033901 , -0.00370144, ...,  0.00282674,\n",
       "         0.00194122,  0.00399626],\n",
       "       ...,\n",
       "       [-0.00143696, -0.00132692, -0.0021579 , ...,  0.00317285,\n",
       "        -0.00236608,  0.01905248],\n",
       "       [-0.00256621, -0.00164586, -0.00146364, ..., -0.00216716,\n",
       "         0.00028311,  0.00383734],\n",
       "       [-0.00139214, -0.00330151, -0.00095572, ..., -0.00303369,\n",
       "         0.00858005,  0.00300258]])"
      ]
     },
     "execution_count": 3,
     "metadata": {},
     "output_type": "execute_result"
    }
   ],
   "source": [
    "# load array of tweet embeddings according to index of original tweet file\n",
    "num_embed = 500\n",
    "fname = '../tweet_embeddings/tweet_embed_{}.npy'.format(num_embed)\n",
    "tweet_embeddings = np.load(fname)\n",
    "tweet_embeddings"
   ]
  },
  {
   "cell_type": "code",
   "execution_count": 4,
   "metadata": {},
   "outputs": [
    {
     "data": {
      "text/plain": [
       "array([[-0.00095106, -0.0036389 , -0.0021154 , ...,  0.00070693,\n",
       "         0.00157908,  0.00390358],\n",
       "       [-0.00064968, -0.00345125, -0.00151379, ...,  0.00115335,\n",
       "         0.00278355,  0.00376189],\n",
       "       [-0.00315136, -0.0067061 , -0.00094254, ..., -0.00178109,\n",
       "         0.00448061,  0.00450257],\n",
       "       ...,\n",
       "       [-0.00080168,  0.0012146 ,  0.00035715, ...,  0.00061424,\n",
       "        -0.00353658,  0.00038339],\n",
       "       [-0.00183575, -0.01003218, -0.00118522, ..., -0.01033933,\n",
       "         0.00869172,  0.00329064],\n",
       "       [-0.00232136, -0.00077835, -0.00245735, ...,  0.00233888,\n",
       "        -0.00163723,  0.01819277]])"
      ]
     },
     "execution_count": 4,
     "metadata": {},
     "output_type": "execute_result"
    }
   ],
   "source": [
    "tweet_embeddings[class0_train_indices,:]"
   ]
  },
  {
   "cell_type": "markdown",
   "metadata": {},
   "source": [
    "## Derive text vectors from word embeddings"
   ]
  },
  {
   "cell_type": "code",
   "execution_count": 5,
   "metadata": {},
   "outputs": [],
   "source": [
    "forty_ones = [1]*40\n",
    "forty_zeros = [0]*40\n",
    "\n",
    "hundred_ones = [1]*100\n",
    "hundred_zeros = [0]*100"
   ]
  },
  {
   "cell_type": "code",
   "execution_count": 6,
   "metadata": {},
   "outputs": [],
   "source": [
    "train_fold1_X = tweet_embeddings[[class1_train_indices + class0_train_indices],:][0]\n",
    "train_fold1_y = hundred_ones + hundred_zeros\n",
    "\n",
    "tune_fold1_X = tweet_embeddings[[class1_tune_indices + class0_tune_indices],:][0]\n",
    "tune_fold1_y = forty_ones + forty_zeros\n",
    "\n",
    "test_fold1_X = tweet_embeddings[[class1_test_pt1_indices + class1_test_pt2_indices + class0_test_pt1_indices + class0_test_pt2_indices],:][0]\n",
    "test_fold1_y = hundred_ones + forty_ones + hundred_zeros + forty_zeros\n",
    "\n",
    "\n",
    "train_fold2_X = tweet_embeddings[[class1_test_pt1_indices + class0_test_pt1_indices],:][0]\n",
    "train_fold2_y = hundred_ones + hundred_zeros\n",
    "\n",
    "tune_fold2_X = tweet_embeddings[[class1_test_pt2_indices + class0_test_pt2_indices],:][0]\n",
    "tune_fold2_y = forty_ones + forty_zeros\n",
    "\n",
    "test_fold2_X = tweet_embeddings[[class1_train_indices + class1_tune_indices + class0_train_indices + class0_tune_indices],:][0]\n",
    "test_fold2_y = hundred_ones + forty_ones + hundred_zeros + forty_zeros"
   ]
  },
  {
   "cell_type": "code",
   "execution_count": 7,
   "metadata": {},
   "outputs": [
    {
     "data": {
      "text/plain": [
       "(200, 500)"
      ]
     },
     "execution_count": 7,
     "metadata": {},
     "output_type": "execute_result"
    }
   ],
   "source": [
    "train_fold1_X.shape"
   ]
  },
  {
   "cell_type": "markdown",
   "metadata": {},
   "source": [
    "## Binary classification: two-fold CV"
   ]
  },
  {
   "cell_type": "code",
   "execution_count": 8,
   "metadata": {},
   "outputs": [],
   "source": [
    "from sklearn.svm import SVC\n",
    "from sklearn.metrics import roc_auc_score, accuracy_score, precision_score, recall_score, f1_score"
   ]
  },
  {
   "cell_type": "code",
   "execution_count": 9,
   "metadata": {},
   "outputs": [],
   "source": [
    "# SVC hyperparams to optimize\n",
    "kernel = ['rbf', 'linear', 'poly', 'sigmoid']\n",
    "C = [0.001, 0.01, 0.1, 1, 10]"
   ]
  },
  {
   "cell_type": "markdown",
   "metadata": {},
   "source": [
    "### Fold 1"
   ]
  },
  {
   "cell_type": "code",
   "execution_count": 10,
   "metadata": {},
   "outputs": [
    {
     "data": {
      "text/plain": [
       "SVC(C=10, kernel='linear', probability=True)"
      ]
     },
     "execution_count": 10,
     "metadata": {},
     "output_type": "execute_result"
    }
   ],
   "source": [
    "# training & tuning\n",
    "models = []\n",
    "tune_auc = []\n",
    "for ker in kernel:\n",
    "    for el in C:\n",
    "        svc = SVC(C = el, kernel = ker, probability = True)\n",
    "        svc.fit(train_fold1_X, train_fold1_y)\n",
    "        models.append(svc)\n",
    "        tune_predict = svc.predict_proba(tune_fold1_X)[:,1]\n",
    "        auc = roc_auc_score(tune_fold1_y, tune_predict)\n",
    "        tune_auc.append(auc)\n",
    "        \n",
    "opt_model = models[tune_auc.index(max(tune_auc))]\n",
    "opt_model"
   ]
  },
  {
   "cell_type": "code",
   "execution_count": 11,
   "metadata": {},
   "outputs": [
    {
     "data": {
      "text/plain": [
       "[0.0725,\n",
       " 0.0725,\n",
       " 0.06625,\n",
       " 0.931875,\n",
       " 0.931875,\n",
       " 0.5,\n",
       " 0.5,\n",
       " 0.088125,\n",
       " 0.8984375,\n",
       " 0.94375,\n",
       " 0.09437499999999999,\n",
       " 0.5,\n",
       " 0.09437499999999999,\n",
       " 0.915,\n",
       " 0.91875,\n",
       " 0.09062500000000001,\n",
       " 0.09062500000000001,\n",
       " 0.909375,\n",
       " 0.936875,\n",
       " 0.88125]"
      ]
     },
     "execution_count": 11,
     "metadata": {},
     "output_type": "execute_result"
    }
   ],
   "source": [
    "tune_auc"
   ]
  },
  {
   "cell_type": "code",
   "execution_count": 12,
   "metadata": {},
   "outputs": [
    {
     "data": {
      "text/plain": [
       "{'auc': [0.9082653061224489],\n",
       " 'accuracy': [0.7678571428571429],\n",
       " 'recall': [0.7678571428571428],\n",
       " 'precision': [0.8167420814479638],\n",
       " 'f1': [0.7585406301824212]}"
      ]
     },
     "execution_count": 12,
     "metadata": {},
     "output_type": "execute_result"
    }
   ],
   "source": [
    "# testing\n",
    "test_scores = dict()\n",
    "test_predict = opt_model.predict(test_fold1_X)\n",
    "test_predict_proba = opt_model.predict_proba(test_fold1_X)[:,1]\n",
    "test_scores['auc'] = [roc_auc_score(test_fold1_y, test_predict_proba)]\n",
    "test_scores['accuracy'] = [accuracy_score(test_fold1_y, test_predict)]\n",
    "test_scores['recall'] = [recall_score(test_fold1_y, test_predict, average = 'macro')]\n",
    "test_scores['precision'] = [precision_score(test_fold1_y, test_predict, average = 'macro')]\n",
    "test_scores['f1'] = [f1_score(test_fold1_y, test_predict, average = 'macro')]\n",
    "test_scores"
   ]
  },
  {
   "cell_type": "markdown",
   "metadata": {},
   "source": [
    "### Fold 2"
   ]
  },
  {
   "cell_type": "code",
   "execution_count": 13,
   "metadata": {},
   "outputs": [
    {
     "data": {
      "text/plain": [
       "SVC(C=10, probability=True)"
      ]
     },
     "execution_count": 13,
     "metadata": {},
     "output_type": "execute_result"
    }
   ],
   "source": [
    "# training & tuning\n",
    "models = []\n",
    "tune_auc = []\n",
    "for ker in kernel:\n",
    "    for el in C:\n",
    "        svc = SVC(C = el, kernel = ker, probability = True)\n",
    "        svc.fit(train_fold2_X, train_fold2_y)\n",
    "        models.append(svc)\n",
    "        tune_predict = svc.predict_proba(tune_fold2_X)[:,1]\n",
    "        auc = roc_auc_score(tune_fold2_y, tune_predict)\n",
    "        tune_auc.append(auc)\n",
    "        \n",
    "opt_model = models[tune_auc.index(max(tune_auc))]\n",
    "opt_model"
   ]
  },
  {
   "cell_type": "code",
   "execution_count": 14,
   "metadata": {},
   "outputs": [
    {
     "data": {
      "text/plain": [
       "[0.5,\n",
       " 0.10875,\n",
       " 0.5,\n",
       " 0.90625,\n",
       " 0.9231249999999999,\n",
       " 0.1125,\n",
       " 0.1125,\n",
       " 0.12499999999999999,\n",
       " 0.223125,\n",
       " 0.888125,\n",
       " 0.218125,\n",
       " 0.5,\n",
       " 0.2128125,\n",
       " 0.8281249999999999,\n",
       " 0.87,\n",
       " 0.5,\n",
       " 0.5,\n",
       " 0.18156250000000002,\n",
       " 0.89625,\n",
       " 0.86]"
      ]
     },
     "execution_count": 14,
     "metadata": {},
     "output_type": "execute_result"
    }
   ],
   "source": [
    "tune_auc"
   ]
  },
  {
   "cell_type": "code",
   "execution_count": 15,
   "metadata": {},
   "outputs": [
    {
     "data": {
      "text/plain": [
       "{'auc': [0.9082653061224489, 0.9070408163265306],\n",
       " 'accuracy': [0.7678571428571429, 0.8107142857142857],\n",
       " 'recall': [0.7678571428571428, 0.8107142857142857],\n",
       " 'precision': [0.8167420814479638, 0.8111111111111111],\n",
       " 'f1': [0.7585406301824212, 0.8106539074960128]}"
      ]
     },
     "execution_count": 15,
     "metadata": {},
     "output_type": "execute_result"
    }
   ],
   "source": [
    "# testing\n",
    "test_predict = opt_model.predict(test_fold2_X)\n",
    "test_predict_proba = opt_model.predict_proba(test_fold2_X)[:,1]\n",
    "test_scores['auc'].append(roc_auc_score(test_fold2_y, test_predict_proba))\n",
    "test_scores['accuracy'].append(accuracy_score(test_fold2_y, test_predict))\n",
    "test_scores['recall'].append(recall_score(test_fold2_y, test_predict, average = 'macro'))\n",
    "test_scores['precision'].append(precision_score(test_fold2_y, test_predict, average = 'macro'))\n",
    "test_scores['f1'].append(f1_score(test_fold2_y, test_predict, average = 'macro'))\n",
    "test_scores"
   ]
  },
  {
   "cell_type": "markdown",
   "metadata": {},
   "source": [
    "### Average results"
   ]
  },
  {
   "cell_type": "code",
   "execution_count": 16,
   "metadata": {},
   "outputs": [
    {
     "data": {
      "text/plain": [
       "0.9076530612244897"
      ]
     },
     "execution_count": 16,
     "metadata": {},
     "output_type": "execute_result"
    }
   ],
   "source": [
    "sum(test_scores['auc'])/2"
   ]
  },
  {
   "cell_type": "code",
   "execution_count": 17,
   "metadata": {},
   "outputs": [
    {
     "data": {
      "text/plain": [
       "0.7892857142857144"
      ]
     },
     "execution_count": 17,
     "metadata": {},
     "output_type": "execute_result"
    }
   ],
   "source": [
    "sum(test_scores['accuracy'])/2"
   ]
  },
  {
   "cell_type": "code",
   "execution_count": 18,
   "metadata": {},
   "outputs": [
    {
     "data": {
      "text/plain": [
       "0.7892857142857143"
      ]
     },
     "execution_count": 18,
     "metadata": {},
     "output_type": "execute_result"
    }
   ],
   "source": [
    "sum(test_scores['recall'])/2"
   ]
  },
  {
   "cell_type": "code",
   "execution_count": 19,
   "metadata": {},
   "outputs": [
    {
     "data": {
      "text/plain": [
       "0.8139265962795375"
      ]
     },
     "execution_count": 19,
     "metadata": {},
     "output_type": "execute_result"
    }
   ],
   "source": [
    "sum(test_scores['precision'])/2"
   ]
  },
  {
   "cell_type": "code",
   "execution_count": 20,
   "metadata": {},
   "outputs": [
    {
     "data": {
      "text/plain": [
       "0.7845972688392171"
      ]
     },
     "execution_count": 20,
     "metadata": {},
     "output_type": "execute_result"
    }
   ],
   "source": [
    "sum(test_scores['f1'])/2"
   ]
  },
  {
   "cell_type": "code",
   "execution_count": null,
   "metadata": {},
   "outputs": [],
   "source": []
  }
 ],
 "metadata": {
  "kernelspec": {
   "display_name": "Python 3",
   "language": "python",
   "name": "python3"
  },
  "language_info": {
   "codemirror_mode": {
    "name": "ipython",
    "version": 3
   },
   "file_extension": ".py",
   "mimetype": "text/x-python",
   "name": "python",
   "nbconvert_exporter": "python",
   "pygments_lexer": "ipython3",
   "version": "3.7.7"
  }
 },
 "nbformat": 4,
 "nbformat_minor": 4
}
